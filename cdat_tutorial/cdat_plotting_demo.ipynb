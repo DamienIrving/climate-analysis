{
 "metadata": {
  "name": "cdat_plotting_demo"
 },
 "nbformat": 3,
 "nbformat_minor": 0,
 "worksheets": [
  {
   "cells": [
    {
     "cell_type": "heading",
     "level": 1,
     "metadata": {},
     "source": [
      "Plotting with CDAT"
     ]
    },
    {
     "cell_type": "heading",
     "level": 3,
     "metadata": {},
     "source": [
      "Import the necessary modules"
     ]
    },
    {
     "cell_type": "code",
     "collapsed": false,
     "input": [
      "import cdms2\n",
      "import numpy\n",
      "import matplotlib.pyplot as plt\n",
      "from mpl_toolkits.basemap import Basemap, shiftgrid\n"
     ],
     "language": "python",
     "metadata": {},
     "outputs": [],
     "prompt_number": 19
    },
    {
     "cell_type": "code",
     "collapsed": false,
     "input": [
      "#%pylab inline"
     ],
     "language": "python",
     "metadata": {},
     "outputs": [],
     "prompt_number": 33
    },
    {
     "cell_type": "heading",
     "level": 3,
     "metadata": {},
     "source": [
      "Read in the data"
     ]
    },
    {
     "cell_type": "code",
     "collapsed": false,
     "input": [
      "fin = cdms2.open('/home/dbirving/Downloads/Data/wsp.nc')\n",
      "wsp = fin('wsp')"
     ],
     "language": "python",
     "metadata": {},
     "outputs": [],
     "prompt_number": 45
    },
    {
     "cell_type": "heading",
     "level": 3,
     "metadata": {},
     "source": [
      "Create a cylindrical basemap"
     ]
    },
    {
     "cell_type": "code",
     "collapsed": false,
     "input": [
      "# make cylindrical basemap \n",
      "m = Basemap(llcrnrlon=-180, llcrnrlat=-90,  \n",
      "            urcrnrlon=180, urcrnrlat=90,\n",
      "\t        resolution='c', projection='cyl')\n",
      "\n",
      "# shift the longitude grid to be -180 to 180\n",
      "datout, lon_axis = shiftgrid(180., wsp[0, ::], wsp.getLongitude()[:], start=False)\n",
      "lat_axis = wsp.getLatitude()[:]\n",
      "\n",
      "# create figure, add axes\n",
      "fig1 = plt.figure(figsize=(8,10))\n",
      "ax = fig1.add_axes([0.1,0.1,0.8,0.8])\n",
      "\n",
      "# make 2-d grid of lons, lats\n",
      "# compute native x,y coordinates of grid\n",
      "lons, lats = numpy.meshgrid(lon_axis, lat_axis)\n",
      "x, y = m(lons, lats)\n",
      "\n",
      "# set desired contour levels.\n",
      "clevs = numpy.arange(0, 78, 6)\n",
      "parallels = numpy.arange(-90., 90, 30.)\n",
      "meridians = numpy.arange(0., 360., 30.)\n",
      "\n",
      "# create the contour plot\n",
      "cs1 = m.contourf(x, y, datout, clevs)\n",
      "\n",
      "# draw coastlines, parallels, meridians.\n",
      "m.drawcoastlines(linewidth=1.5)\n",
      "labels = [0, 1, 0, 1] #designate sides for labels\n",
      "m.drawparallels(parallels, labels=labels, fontsize=8, linewidth=0.5)\n",
      "m.drawmeridians(meridians, labels=labels, fontsize=8, linewidth=0.5)\n",
      "\n",
      "# add colorbar\n",
      "cb = m.colorbar(cs1, \"bottom\", pad=\"10%\")\n",
      "cb.set_label('m s-1')\n",
      "\n",
      "# add title\n",
      "ax.set_title('250 hPa wind speed, January 1979')\n",
      "\n",
      "plt.show()"
     ],
     "language": "python",
     "metadata": {},
     "outputs": [],
     "prompt_number": 46
    },
    {
     "cell_type": "code",
     "collapsed": false,
     "input": [],
     "language": "python",
     "metadata": {},
     "outputs": []
    }
   ],
   "metadata": {}
  }
 ]
}