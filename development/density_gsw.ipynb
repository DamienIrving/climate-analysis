{
 "cells": [
  {
   "cell_type": "markdown",
   "metadata": {},
   "source": [
    "## Calculating density\n",
    "\n",
    "The following functions will be useful:\n",
    "\n",
    "0. `gsw.p_from_z(z, lat)`  (i.e. if needed)\n",
    "1. `gsw.SA_from_SP(SP, p, lon, lat)`\n",
    "2. `gsw.CT_from_pt(SA, pt)`\n",
    "3. `gsw.rho(SA, CT, p)`\n",
    "\n",
    "SP = practical salinity, SA = absolute salinity, p = pressure (dbar), CT = conservative temperature, pt = potential temperature."
   ]
  },
  {
   "cell_type": "code",
   "execution_count": 1,
   "metadata": {
    "collapsed": true
   },
   "outputs": [],
   "source": [
    "import numpy\n",
    "import gsw"
   ]
  },
  {
   "cell_type": "markdown",
   "metadata": {},
   "source": [
    "### Broadcasting and gsw"
   ]
  },
  {
   "cell_type": "code",
   "execution_count": 6,
   "metadata": {
    "collapsed": false
   },
   "outputs": [
    {
     "data": {
      "text/plain": [
       "array([   10.05572704,    50.28354425,   125.73185732,   251.54028663,\n",
       "         604.2099135 ,  1007.9900587 ])"
      ]
     },
     "execution_count": 6,
     "metadata": {},
     "output_type": "execute_result"
    }
   ],
   "source": [
    "z = [-10., -50., -125., -250., -600., -1000.]\n",
    "lat = 4.\n",
    "gsw.p_from_z(z, lat)"
   ]
  },
  {
   "cell_type": "code",
   "execution_count": 7,
   "metadata": {
    "collapsed": false
   },
   "outputs": [
    {
     "data": {
      "text/plain": [
       "array([   10.05572704,    50.28354425,   125.73185732,   251.54028663,\n",
       "         604.2099135 ,  1007.9900587 ])"
      ]
     },
     "execution_count": 7,
     "metadata": {},
     "output_type": "execute_result"
    }
   ],
   "source": [
    "z = [-10., -50., -125., -250., -600., -1000.]\n",
    "lat = [4., 4., 4., 4., 4., 4.]\n",
    "gsw.p_from_z(z, lat)"
   ]
  },
  {
   "cell_type": "code",
   "execution_count": 11,
   "metadata": {
    "collapsed": false
   },
   "outputs": [
    {
     "data": {
      "text/plain": [
       "array([[-1.00552148, -1.00552148, -1.00552148, -1.00552148],\n",
       "       [-1.00552148, -1.00552148, -1.00552148, -1.00552148],\n",
       "       [-1.00552148, -1.00552148, -1.00552148, -1.00552148]])"
      ]
     },
     "execution_count": 11,
     "metadata": {},
     "output_type": "execute_result"
    }
   ],
   "source": [
    "z = numpy.ones((3,4))\n",
    "lat = numpy.ones((3,4))\n",
    "gsw.p_from_z(z, lat)"
   ]
  },
  {
   "cell_type": "code",
   "execution_count": null,
   "metadata": {
    "collapsed": true
   },
   "outputs": [],
   "source": []
  }
 ],
 "metadata": {
  "kernelspec": {
   "display_name": "Python 2",
   "language": "python",
   "name": "python2"
  },
  "language_info": {
   "codemirror_mode": {
    "name": "ipython",
    "version": 2
   },
   "file_extension": ".py",
   "mimetype": "text/x-python",
   "name": "python",
   "nbconvert_exporter": "python",
   "pygments_lexer": "ipython2",
   "version": "2.7.12"
  }
 },
 "nbformat": 4,
 "nbformat_minor": 0
}
