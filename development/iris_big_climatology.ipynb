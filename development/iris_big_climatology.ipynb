{
 "cells": [
  {
   "cell_type": "code",
   "execution_count": 1,
   "metadata": {
    "collapsed": true
   },
   "outputs": [],
   "source": [
    "import iris\n",
    "import iris.coord_categorisation\n",
    "from iris.experimental.equalise_cubes import equalise_attributes\n",
    "import copy"
   ]
  },
  {
   "cell_type": "code",
   "execution_count": 2,
   "metadata": {
    "collapsed": true
   },
   "outputs": [],
   "source": [
    "path = '/g/data1/r87/drstree/CMIP5/GCM/CSIRO-QCCCE/CSIRO-Mk3-6-0/piControl/mon/ocean/thetao/r1i1p1/'\n",
    "control_files_all = path+'thetao_Omon_CSIRO-Mk3-6-0_piControl_r1i1p1_*.nc'"
   ]
  },
  {
   "cell_type": "code",
   "execution_count": 3,
   "metadata": {
    "collapsed": false
   },
   "outputs": [
    {
     "name": "stderr",
     "output_type": "stream",
     "text": [
      "/g/data/r87/dbi599/miniconda2/envs/default/lib/python2.7/site-packages/iris/fileformats/cf.py:794: UserWarning: Missing CF-netCDF measure variable u'areacello', referenced by netCDF variable u'thetao'\n",
      "  warnings.warn(message % (variable_name, nc_var_name))\n",
      "/g/data/r87/dbi599/miniconda2/envs/default/lib/python2.7/site-packages/iris/fileformats/cf.py:794: UserWarning: Missing CF-netCDF measure variable u'volcello', referenced by netCDF variable u'thetao'\n",
      "  warnings.warn(message % (variable_name, nc_var_name))\n",
      "/g/data/r87/dbi599/miniconda2/envs/default/lib/python2.7/site-packages/iris/fileformats/cf.py:1139: UserWarning: NetCDF default loading behaviour currently does not expose variables which define reference surfaces for dimensionless vertical coordinates as independent Cubes. This behaviour is deprecated in favour of automatic promotion to Cubes. To switch to the new behaviour, set iris.FUTURE.netcdf_promote to True.\n",
      "  warnings.warn(msg)\n"
     ]
    }
   ],
   "source": [
    "cube = iris.load(control_files_all, 'sea_water_potential_temperature')\n",
    "equalise_attributes(cube)\n",
    "cube = cube.concatenate_cube()"
   ]
  },
  {
   "cell_type": "code",
   "execution_count": 4,
   "metadata": {
    "collapsed": false
   },
   "outputs": [
    {
     "name": "stdout",
     "output_type": "stream",
     "text": [
      "sea_water_potential_temperature / (K) (time: 6000; depth: 31; latitude: 189; longitude: 192)\n",
      "     Dimension coordinates:\n",
      "          time                             x            -             -               -\n",
      "          depth                            -            x             -               -\n",
      "          latitude                         -            -             x               -\n",
      "          longitude                        -            -             -               x\n",
      "     Attributes:\n",
      "          Conventions: CF-1.4\n",
      "          associated_files: baseURL: http://cmip-pcmdi.llnl.gov/CMIP5/dataLocation gridspecFile: gridspec_ocean_fx_CSIRO-Mk3-6-0_piControl_r0i0p0.nc...\n",
      "          branch_time: 0.0\n",
      "          cmor_version: 2.5.9\n",
      "          comment: Data is stored on the native ocean T-grid on which the data was generated....\n",
      "          contact: Project leaders: Stephen Jeffrey (Stephen.Jeffrey@qld.gov.au) & Leon Rotstayn...\n",
      "          experiment: pre-industrial control\n",
      "          experiment_id: piControl\n",
      "          forcing: N/A (Pre-industrial conditions with all forcings fixed at 1850 levels)\n",
      "          frequency: mon\n",
      "          initialization_method: 1\n",
      "          institute_id: CSIRO-QCCCE\n",
      "          institution: Australian Commonwealth Scientific and Industrial Research Organization...\n",
      "          model_id: CSIRO-Mk3-6-0\n",
      "          modeling_realm: ocean\n",
      "          original_name: Temp\n",
      "          original_units: celsius\n",
      "          parent_experiment: N/A\n",
      "          parent_experiment_id: N/A\n",
      "          parent_experiment_rip: N/A\n",
      "          physics_version: 1\n",
      "          product: output\n",
      "          project_id: CMIP5\n",
      "          realization: 1\n",
      "          references: a) Rotstayn, L., Collier, M., Dix, M., Feng, Y., Gordon, H., O\\'Farrell,...\n",
      "          source: CSIRO-Mk3-6-0 2010 atmosphere: AGCM v7.3.4 (T63 spectral, 1.875 degrees...\n",
      "          table_id: Table Omon (27 April 2011) 9e1a53e4873bf6f26879903e165fe4a0\n",
      "          title: CSIRO-Mk3-6-0 model output prepared for CMIP5 pre-industrial control\n",
      "          version_number: v20110518\n",
      "     Cell methods:\n",
      "          mean: time\n"
     ]
    }
   ],
   "source": [
    "print cube"
   ]
  },
  {
   "cell_type": "markdown",
   "metadata": {},
   "source": [
    "### Annual climatology"
   ]
  },
  {
   "cell_type": "code",
   "execution_count": 4,
   "metadata": {
    "collapsed": true
   },
   "outputs": [],
   "source": [
    "annual_climatology = cube.collapsed('time', iris.analysis.MEAN)"
   ]
  },
  {
   "cell_type": "code",
   "execution_count": 5,
   "metadata": {
    "collapsed": false
   },
   "outputs": [
    {
     "name": "stdout",
     "output_type": "stream",
     "text": [
      "sea_water_potential_temperature / (K) (depth: 31; latitude: 189; longitude: 192)\n",
      "     Dimension coordinates:\n",
      "          depth                             x             -               -\n",
      "          latitude                          -             x               -\n",
      "          longitude                         -             -               x\n",
      "     Scalar coordinates:\n",
      "          time:  251-01-01 00:00:00, bound=(   1-01-01 00:00:00,  501-01-01 00:00:00)\n",
      "     Attributes:\n",
      "          Conventions: CF-1.4\n",
      "          associated_files: baseURL: http://cmip-pcmdi.llnl.gov/CMIP5/dataLocation gridspecFile: gridspec_ocean_fx_CSIRO-Mk3-6-0_piControl_r0i0p0.nc...\n",
      "          branch_time: 0.0\n",
      "          cmor_version: 2.5.9\n",
      "          comment: Data is stored on the native ocean T-grid on which the data was generated....\n",
      "          contact: Project leaders: Stephen Jeffrey (Stephen.Jeffrey@qld.gov.au) & Leon Rotstayn...\n",
      "          experiment: pre-industrial control\n",
      "          experiment_id: piControl\n",
      "          forcing: N/A (Pre-industrial conditions with all forcings fixed at 1850 levels)\n",
      "          frequency: mon\n",
      "          initialization_method: 1\n",
      "          institute_id: CSIRO-QCCCE\n",
      "          institution: Australian Commonwealth Scientific and Industrial Research Organization...\n",
      "          model_id: CSIRO-Mk3-6-0\n",
      "          modeling_realm: ocean\n",
      "          original_name: Temp\n",
      "          original_units: celsius\n",
      "          parent_experiment: N/A\n",
      "          parent_experiment_id: N/A\n",
      "          parent_experiment_rip: N/A\n",
      "          physics_version: 1\n",
      "          product: output\n",
      "          project_id: CMIP5\n",
      "          realization: 1\n",
      "          references: a) Rotstayn, L., Collier, M., Dix, M., Feng, Y., Gordon, H., O\\'Farrell,...\n",
      "          source: CSIRO-Mk3-6-0 2010 atmosphere: AGCM v7.3.4 (T63 spectral, 1.875 degrees...\n",
      "          table_id: Table Omon (27 April 2011) 9e1a53e4873bf6f26879903e165fe4a0\n",
      "          title: CSIRO-Mk3-6-0 model output prepared for CMIP5 pre-industrial control\n",
      "          version_number: v20110518\n",
      "     Cell methods:\n",
      "          mean: time\n",
      "          mean: time\n"
     ]
    }
   ],
   "source": [
    "print annual_climatology"
   ]
  },
  {
   "cell_type": "markdown",
   "metadata": {},
   "source": [
    "### Monthly climatology"
   ]
  },
  {
   "cell_type": "code",
   "execution_count": 7,
   "metadata": {
    "collapsed": false
   },
   "outputs": [],
   "source": [
    "iris.coord_categorisation.add_month(cube, 'time', name='month')"
   ]
  },
  {
   "cell_type": "code",
   "execution_count": 8,
   "metadata": {
    "collapsed": false
   },
   "outputs": [
    {
     "name": "stdout",
     "output_type": "stream",
     "text": [
      "sea_water_potential_temperature / (K) (time: 6000; depth: 31; latitude: 189; longitude: 192)\n",
      "     Dimension coordinates:\n",
      "          time                             x            -             -               -\n",
      "          depth                            -            x             -               -\n",
      "          latitude                         -            -             x               -\n",
      "          longitude                        -            -             -               x\n",
      "     Auxiliary coordinates:\n",
      "          month                            x            -             -               -\n",
      "     Attributes:\n",
      "          Conventions: CF-1.4\n",
      "          associated_files: baseURL: http://cmip-pcmdi.llnl.gov/CMIP5/dataLocation gridspecFile: gridspec_ocean_fx_CSIRO-Mk3-6-0_piControl_r0i0p0.nc...\n",
      "          branch_time: 0.0\n",
      "          cmor_version: 2.5.9\n",
      "          comment: Data is stored on the native ocean T-grid on which the data was generated....\n",
      "          contact: Project leaders: Stephen Jeffrey (Stephen.Jeffrey@qld.gov.au) & Leon Rotstayn...\n",
      "          experiment: pre-industrial control\n",
      "          experiment_id: piControl\n",
      "          forcing: N/A (Pre-industrial conditions with all forcings fixed at 1850 levels)\n",
      "          frequency: mon\n",
      "          initialization_method: 1\n",
      "          institute_id: CSIRO-QCCCE\n",
      "          institution: Australian Commonwealth Scientific and Industrial Research Organization...\n",
      "          model_id: CSIRO-Mk3-6-0\n",
      "          modeling_realm: ocean\n",
      "          original_name: Temp\n",
      "          original_units: celsius\n",
      "          parent_experiment: N/A\n",
      "          parent_experiment_id: N/A\n",
      "          parent_experiment_rip: N/A\n",
      "          physics_version: 1\n",
      "          product: output\n",
      "          project_id: CMIP5\n",
      "          realization: 1\n",
      "          references: a) Rotstayn, L., Collier, M., Dix, M., Feng, Y., Gordon, H., O\\'Farrell,...\n",
      "          source: CSIRO-Mk3-6-0 2010 atmosphere: AGCM v7.3.4 (T63 spectral, 1.875 degrees...\n",
      "          table_id: Table Omon (27 April 2011) 9e1a53e4873bf6f26879903e165fe4a0\n",
      "          title: CSIRO-Mk3-6-0 model output prepared for CMIP5 pre-industrial control\n",
      "          version_number: v20110518\n",
      "     Cell methods:\n",
      "          mean: time\n"
     ]
    }
   ],
   "source": [
    "print cube"
   ]
  },
  {
   "cell_type": "code",
   "execution_count": 9,
   "metadata": {
    "collapsed": false
   },
   "outputs": [
    {
     "name": "stderr",
     "output_type": "stream",
     "text": [
      "/g/data/r87/dbi599/miniconda2/envs/default/lib/python2.7/site-packages/iris/coords.py:495: VisibleDeprecationWarning: an index can only have a single Ellipsis (`...`); replace all but one with slices (`:`).\n",
      "  bounds = bounds[keys + (Ellipsis, )]\n"
     ]
    },
    {
     "ename": "MemoryError",
     "evalue": "Failed to create the cube's data as there was not enough memory available.\nThe array shape would have been (6000, 31, 189, 192) and the data type float32.\nConsider freeing up variables or indexing the cube before getting its data.",
     "output_type": "error",
     "traceback": [
      "\u001b[1;31m---------------------------------------------------------------------------\u001b[0m",
      "\u001b[1;31mMemoryError\u001b[0m                               Traceback (most recent call last)",
      "\u001b[1;32m<ipython-input-9-b1a1f8bc655f>\u001b[0m in \u001b[0;36m<module>\u001b[1;34m()\u001b[0m\n\u001b[1;32m----> 1\u001b[1;33m \u001b[0mmonthly_climatology\u001b[0m \u001b[1;33m=\u001b[0m \u001b[0mcube\u001b[0m\u001b[1;33m.\u001b[0m\u001b[0maggregated_by\u001b[0m\u001b[1;33m(\u001b[0m\u001b[1;33m[\u001b[0m\u001b[1;34m'month'\u001b[0m\u001b[1;33m]\u001b[0m\u001b[1;33m,\u001b[0m \u001b[0miris\u001b[0m\u001b[1;33m.\u001b[0m\u001b[0manalysis\u001b[0m\u001b[1;33m.\u001b[0m\u001b[0mMEAN\u001b[0m\u001b[1;33m)\u001b[0m\u001b[1;33m\u001b[0m\u001b[0m\n\u001b[0m",
      "\u001b[1;32m/g/data/r87/dbi599/miniconda2/envs/default/lib/python2.7/site-packages/iris/cube.pyc\u001b[0m in \u001b[0;36maggregated_by\u001b[1;34m(self, coords, aggregator, **kwargs)\u001b[0m\n\u001b[0;32m   3220\u001b[0m             \u001b[1;31m# data on first pass.\u001b[0m\u001b[1;33m\u001b[0m\u001b[1;33m\u001b[0m\u001b[0m\n\u001b[0;32m   3221\u001b[0m             \u001b[1;32mif\u001b[0m \u001b[0mi\u001b[0m \u001b[1;33m==\u001b[0m \u001b[1;36m0\u001b[0m\u001b[1;33m:\u001b[0m\u001b[1;33m\u001b[0m\u001b[0m\n\u001b[1;32m-> 3222\u001b[1;33m                 \u001b[1;32mif\u001b[0m \u001b[0misinstance\u001b[0m\u001b[1;33m(\u001b[0m\u001b[0mself\u001b[0m\u001b[1;33m.\u001b[0m\u001b[0mdata\u001b[0m\u001b[1;33m,\u001b[0m \u001b[0mma\u001b[0m\u001b[1;33m.\u001b[0m\u001b[0mMaskedArray\u001b[0m\u001b[1;33m)\u001b[0m\u001b[1;33m:\u001b[0m\u001b[1;33m\u001b[0m\u001b[0m\n\u001b[0m\u001b[0;32m   3223\u001b[0m                     \u001b[0maggregateby_data\u001b[0m \u001b[1;33m=\u001b[0m \u001b[0mma\u001b[0m\u001b[1;33m.\u001b[0m\u001b[0mzeros\u001b[0m\u001b[1;33m(\u001b[0m\u001b[0mdata_shape\u001b[0m\u001b[1;33m,\u001b[0m \u001b[0mdtype\u001b[0m\u001b[1;33m=\u001b[0m\u001b[0mresult\u001b[0m\u001b[1;33m.\u001b[0m\u001b[0mdtype\u001b[0m\u001b[1;33m)\u001b[0m\u001b[1;33m\u001b[0m\u001b[0m\n\u001b[0;32m   3224\u001b[0m                 \u001b[1;32melse\u001b[0m\u001b[1;33m:\u001b[0m\u001b[1;33m\u001b[0m\u001b[0m\n",
      "\u001b[1;32m/g/data/r87/dbi599/miniconda2/envs/default/lib/python2.7/site-packages/iris/cube.pyc\u001b[0m in \u001b[0;36mdata\u001b[1;34m(self)\u001b[0m\n\u001b[0;32m   1508\u001b[0m                       \u001b[1;34m\" before getting its data.\"\u001b[0m\u001b[1;33m\u001b[0m\u001b[0m\n\u001b[0;32m   1509\u001b[0m                 \u001b[0mmsg\u001b[0m \u001b[1;33m=\u001b[0m \u001b[0mmsg\u001b[0m\u001b[1;33m.\u001b[0m\u001b[0mformat\u001b[0m\u001b[1;33m(\u001b[0m\u001b[0mself\u001b[0m\u001b[1;33m.\u001b[0m\u001b[0mshape\u001b[0m\u001b[1;33m,\u001b[0m \u001b[0mdata\u001b[0m\u001b[1;33m.\u001b[0m\u001b[0mdtype\u001b[0m\u001b[1;33m)\u001b[0m\u001b[1;33m\u001b[0m\u001b[0m\n\u001b[1;32m-> 1510\u001b[1;33m                 \u001b[1;32mraise\u001b[0m \u001b[0mMemoryError\u001b[0m\u001b[1;33m(\u001b[0m\u001b[0mmsg\u001b[0m\u001b[1;33m)\u001b[0m\u001b[1;33m\u001b[0m\u001b[0m\n\u001b[0m\u001b[0;32m   1511\u001b[0m             \u001b[1;31m# Unmask the array only if it is filled.\u001b[0m\u001b[1;33m\u001b[0m\u001b[1;33m\u001b[0m\u001b[0m\n\u001b[0;32m   1512\u001b[0m             \u001b[1;32mif\u001b[0m \u001b[0mma\u001b[0m\u001b[1;33m.\u001b[0m\u001b[0mcount_masked\u001b[0m\u001b[1;33m(\u001b[0m\u001b[0mdata\u001b[0m\u001b[1;33m)\u001b[0m \u001b[1;33m==\u001b[0m \u001b[1;36m0\u001b[0m\u001b[1;33m:\u001b[0m\u001b[1;33m\u001b[0m\u001b[0m\n",
      "\u001b[1;31mMemoryError\u001b[0m: Failed to create the cube's data as there was not enough memory available.\nThe array shape would have been (6000, 31, 189, 192) and the data type float32.\nConsider freeing up variables or indexing the cube before getting its data."
     ]
    }
   ],
   "source": [
    "monthly_climatology = cube.aggregated_by(['month'], iris.analysis.MEAN)"
   ]
  },
  {
   "cell_type": "code",
   "execution_count": 11,
   "metadata": {
    "collapsed": false
   },
   "outputs": [
    {
     "name": "stdout",
     "output_type": "stream",
     "text": [
      "[u'time', u'depth', u'latitude', u'longitude']\n"
     ]
    }
   ],
   "source": [
    "coord_names = [coord.name() for coord in cube.coords(dim_coords=True)]\n",
    "print coord_names"
   ]
  },
  {
   "cell_type": "code",
   "execution_count": 13,
   "metadata": {
    "collapsed": true
   },
   "outputs": [],
   "source": [
    "if 'depth' in coord_names:\n",
    "    slice_dims = copy.copy(coord_names)\n",
    "    slice_dims.remove('depth')\n",
    "    cube_list = []\n",
    "    for i, x_slice in enumerate(cube.slices(slice_dims)):\n",
    "        monthly_climatology = x_slice.aggregated_by(['month'], iris.analysis.MEAN)\n",
    "        cube_list.append(monthly_climatology)"
   ]
  },
  {
   "cell_type": "code",
   "execution_count": 16,
   "metadata": {
    "collapsed": false
   },
   "outputs": [
    {
     "name": "stdout",
     "output_type": "stream",
     "text": [
      "sea_water_potential_temperature / (K) (time: 12; latitude: 189; longitude: 192)\n",
      "     Dimension coordinates:\n",
      "          time                             x             -               -\n",
      "          latitude                         -             x               -\n",
      "          longitude                        -             -               x\n",
      "     Auxiliary coordinates:\n",
      "          month                            x             -               -\n",
      "     Scalar coordinates:\n",
      "          depth: 15.0 m, bound=(10.0, 21.6242351532) m\n",
      "     Attributes:\n",
      "          Conventions: CF-1.4\n",
      "          associated_files: baseURL: http://cmip-pcmdi.llnl.gov/CMIP5/dataLocation gridspecFile: gridspec_ocean_fx_CSIRO-Mk3-6-0_piControl_r0i0p0.nc...\n",
      "          branch_time: 0.0\n",
      "          cmor_version: 2.5.9\n",
      "          comment: Data is stored on the native ocean T-grid on which the data was generated....\n",
      "          contact: Project leaders: Stephen Jeffrey (Stephen.Jeffrey@qld.gov.au) & Leon Rotstayn...\n",
      "          experiment: pre-industrial control\n",
      "          experiment_id: piControl\n",
      "          forcing: N/A (Pre-industrial conditions with all forcings fixed at 1850 levels)\n",
      "          frequency: mon\n",
      "          initialization_method: 1\n",
      "          institute_id: CSIRO-QCCCE\n",
      "          institution: Australian Commonwealth Scientific and Industrial Research Organization...\n",
      "          model_id: CSIRO-Mk3-6-0\n",
      "          modeling_realm: ocean\n",
      "          original_name: Temp\n",
      "          original_units: celsius\n",
      "          parent_experiment: N/A\n",
      "          parent_experiment_id: N/A\n",
      "          parent_experiment_rip: N/A\n",
      "          physics_version: 1\n",
      "          product: output\n",
      "          project_id: CMIP5\n",
      "          realization: 1\n",
      "          references: a) Rotstayn, L., Collier, M., Dix, M., Feng, Y., Gordon, H., O\\'Farrell,...\n",
      "          source: CSIRO-Mk3-6-0 2010 atmosphere: AGCM v7.3.4 (T63 spectral, 1.875 degrees...\n",
      "          table_id: Table Omon (27 April 2011) 9e1a53e4873bf6f26879903e165fe4a0\n",
      "          title: CSIRO-Mk3-6-0 model output prepared for CMIP5 pre-industrial control\n",
      "          version_number: v20110518\n",
      "     Cell methods:\n",
      "          mean: time\n",
      "          mean: month\n"
     ]
    }
   ],
   "source": [
    "print cube_list[1]"
   ]
  },
  {
   "cell_type": "code",
   "execution_count": 17,
   "metadata": {
    "collapsed": true
   },
   "outputs": [],
   "source": [
    "new_cube = iris.cube.CubeList(cube_list)"
   ]
  },
  {
   "cell_type": "code",
   "execution_count": 19,
   "metadata": {
    "collapsed": false
   },
   "outputs": [],
   "source": [
    "new_cube = new_cube.merge_cube()"
   ]
  },
  {
   "cell_type": "code",
   "execution_count": 20,
   "metadata": {
    "collapsed": false
   },
   "outputs": [
    {
     "name": "stdout",
     "output_type": "stream",
     "text": [
      "sea_water_potential_temperature / (K) (depth: 31; time: 12; latitude: 189; longitude: 192)\n",
      "     Dimension coordinates:\n",
      "          depth                             x         -             -               -\n",
      "          time                              -         x             -               -\n",
      "          latitude                          -         -             x               -\n",
      "          longitude                         -         -             -               x\n",
      "     Auxiliary coordinates:\n",
      "          month                             -         x             -               -\n",
      "     Attributes:\n",
      "          Conventions: CF-1.4\n",
      "          associated_files: baseURL: http://cmip-pcmdi.llnl.gov/CMIP5/dataLocation gridspecFile: gridspec_ocean_fx_CSIRO-Mk3-6-0_piControl_r0i0p0.nc...\n",
      "          branch_time: 0.0\n",
      "          cmor_version: 2.5.9\n",
      "          comment: Data is stored on the native ocean T-grid on which the data was generated....\n",
      "          contact: Project leaders: Stephen Jeffrey (Stephen.Jeffrey@qld.gov.au) & Leon Rotstayn...\n",
      "          experiment: pre-industrial control\n",
      "          experiment_id: piControl\n",
      "          forcing: N/A (Pre-industrial conditions with all forcings fixed at 1850 levels)\n",
      "          frequency: mon\n",
      "          initialization_method: 1\n",
      "          institute_id: CSIRO-QCCCE\n",
      "          institution: Australian Commonwealth Scientific and Industrial Research Organization...\n",
      "          model_id: CSIRO-Mk3-6-0\n",
      "          modeling_realm: ocean\n",
      "          original_name: Temp\n",
      "          original_units: celsius\n",
      "          parent_experiment: N/A\n",
      "          parent_experiment_id: N/A\n",
      "          parent_experiment_rip: N/A\n",
      "          physics_version: 1\n",
      "          product: output\n",
      "          project_id: CMIP5\n",
      "          realization: 1\n",
      "          references: a) Rotstayn, L., Collier, M., Dix, M., Feng, Y., Gordon, H., O\\'Farrell,...\n",
      "          source: CSIRO-Mk3-6-0 2010 atmosphere: AGCM v7.3.4 (T63 spectral, 1.875 degrees...\n",
      "          table_id: Table Omon (27 April 2011) 9e1a53e4873bf6f26879903e165fe4a0\n",
      "          title: CSIRO-Mk3-6-0 model output prepared for CMIP5 pre-industrial control\n",
      "          version_number: v20110518\n",
      "     Cell methods:\n",
      "          mean: time\n",
      "          mean: month\n"
     ]
    }
   ],
   "source": [
    "print new_cube"
   ]
  },
  {
   "cell_type": "markdown",
   "metadata": {},
   "source": [
    "How do I change the order of the dimesions so that depth is second??"
   ]
  },
  {
   "cell_type": "code",
   "execution_count": 21,
   "metadata": {
    "collapsed": true
   },
   "outputs": [],
   "source": [
    "new_cube.transpose([1,0,2,3])"
   ]
  },
  {
   "cell_type": "code",
   "execution_count": 22,
   "metadata": {
    "collapsed": false
   },
   "outputs": [
    {
     "name": "stdout",
     "output_type": "stream",
     "text": [
      "sea_water_potential_temperature / (K) (time: 12; depth: 31; latitude: 189; longitude: 192)\n",
      "     Dimension coordinates:\n",
      "          time                             x          -             -               -\n",
      "          depth                            -          x             -               -\n",
      "          latitude                         -          -             x               -\n",
      "          longitude                        -          -             -               x\n",
      "     Auxiliary coordinates:\n",
      "          month                            x          -             -               -\n",
      "     Attributes:\n",
      "          Conventions: CF-1.4\n",
      "          associated_files: baseURL: http://cmip-pcmdi.llnl.gov/CMIP5/dataLocation gridspecFile: gridspec_ocean_fx_CSIRO-Mk3-6-0_piControl_r0i0p0.nc...\n",
      "          branch_time: 0.0\n",
      "          cmor_version: 2.5.9\n",
      "          comment: Data is stored on the native ocean T-grid on which the data was generated....\n",
      "          contact: Project leaders: Stephen Jeffrey (Stephen.Jeffrey@qld.gov.au) & Leon Rotstayn...\n",
      "          experiment: pre-industrial control\n",
      "          experiment_id: piControl\n",
      "          forcing: N/A (Pre-industrial conditions with all forcings fixed at 1850 levels)\n",
      "          frequency: mon\n",
      "          initialization_method: 1\n",
      "          institute_id: CSIRO-QCCCE\n",
      "          institution: Australian Commonwealth Scientific and Industrial Research Organization...\n",
      "          model_id: CSIRO-Mk3-6-0\n",
      "          modeling_realm: ocean\n",
      "          original_name: Temp\n",
      "          original_units: celsius\n",
      "          parent_experiment: N/A\n",
      "          parent_experiment_id: N/A\n",
      "          parent_experiment_rip: N/A\n",
      "          physics_version: 1\n",
      "          product: output\n",
      "          project_id: CMIP5\n",
      "          realization: 1\n",
      "          references: a) Rotstayn, L., Collier, M., Dix, M., Feng, Y., Gordon, H., O\\'Farrell,...\n",
      "          source: CSIRO-Mk3-6-0 2010 atmosphere: AGCM v7.3.4 (T63 spectral, 1.875 degrees...\n",
      "          table_id: Table Omon (27 April 2011) 9e1a53e4873bf6f26879903e165fe4a0\n",
      "          title: CSIRO-Mk3-6-0 model output prepared for CMIP5 pre-industrial control\n",
      "          version_number: v20110518\n",
      "     Cell methods:\n",
      "          mean: time\n",
      "          mean: month\n"
     ]
    }
   ],
   "source": [
    "print new_cube"
   ]
  },
  {
   "cell_type": "code",
   "execution_count": 24,
   "metadata": {
    "collapsed": false
   },
   "outputs": [
    {
     "name": "stdout",
     "output_type": "stream",
     "text": [
      "[1, 0, 2, 3]\n"
     ]
    }
   ],
   "source": [
    "dims = range(0,4)\n",
    "dims[0] = 1\n",
    "dims[1] = 0\n",
    "print dims"
   ]
  },
  {
   "cell_type": "code",
   "execution_count": null,
   "metadata": {
    "collapsed": true
   },
   "outputs": [],
   "source": []
  }
 ],
 "metadata": {
  "kernelspec": {
   "display_name": "Python 2",
   "language": "python",
   "name": "python2"
  },
  "language_info": {
   "codemirror_mode": {
    "name": "ipython",
    "version": 2
   },
   "file_extension": ".py",
   "mimetype": "text/x-python",
   "name": "python",
   "nbconvert_exporter": "python",
   "pygments_lexer": "ipython2",
   "version": "2.7.11"
  }
 },
 "nbformat": 4,
 "nbformat_minor": 0
}
