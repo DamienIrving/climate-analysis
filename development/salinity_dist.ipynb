{
 "cells": [
  {
   "cell_type": "code",
   "execution_count": 30,
   "metadata": {
    "collapsed": true
   },
   "outputs": [],
   "source": [
    "import iris\n",
    "import numpy\n",
    "import glob\n",
    "import re\n",
    "from iris.experimental.equalise_cubes import equalise_attributes\n",
    "\n",
    "import matplotlib.pyplot as plt\n",
    "import seaborn"
   ]
  },
  {
   "cell_type": "code",
   "execution_count": 31,
   "metadata": {
    "collapsed": true
   },
   "outputs": [],
   "source": [
    "%matplotlib inline"
   ]
  },
  {
   "cell_type": "code",
   "execution_count": 45,
   "metadata": {
    "collapsed": true
   },
   "outputs": [],
   "source": [
    "infiles = glob.glob(\"/g/data/r87/dbi599/drstree/CMIP5/GCM/CCCMA/CanESM2/historicalGHG/yr/ocean/so/r1i1p1/dedrifted/so_Oyr_CanESM2_historicalGHG_r1i1p1_*.nc\")"
   ]
  },
  {
   "cell_type": "code",
   "execution_count": 46,
   "metadata": {
    "collapsed": false
   },
   "outputs": [
    {
     "name": "stdout",
     "output_type": "stream",
     "text": [
      "['/g/data/r87/dbi599/drstree/CMIP5/GCM/CCCMA/CanESM2/historicalGHG/yr/ocean/so/r1i1p1/dedrifted/so_Oyr_CanESM2_historicalGHG_r1i1p1_187101-188012.nc', '/g/data/r87/dbi599/drstree/CMIP5/GCM/CCCMA/CanESM2/historicalGHG/yr/ocean/so/r1i1p1/dedrifted/so_Oyr_CanESM2_historicalGHG_r1i1p1_193101-194012.nc', '/g/data/r87/dbi599/drstree/CMIP5/GCM/CCCMA/CanESM2/historicalGHG/yr/ocean/so/r1i1p1/dedrifted/so_Oyr_CanESM2_historicalGHG_r1i1p1_195101-196012.nc', '/g/data/r87/dbi599/drstree/CMIP5/GCM/CCCMA/CanESM2/historicalGHG/yr/ocean/so/r1i1p1/dedrifted/so_Oyr_CanESM2_historicalGHG_r1i1p1_200601-201212.nc', '/g/data/r87/dbi599/drstree/CMIP5/GCM/CCCMA/CanESM2/historicalGHG/yr/ocean/so/r1i1p1/dedrifted/so_Oyr_CanESM2_historicalGHG_r1i1p1_200101-200512.nc', '/g/data/r87/dbi599/drstree/CMIP5/GCM/CCCMA/CanESM2/historicalGHG/yr/ocean/so/r1i1p1/dedrifted/so_Oyr_CanESM2_historicalGHG_r1i1p1_185001-186012.nc', '/g/data/r87/dbi599/drstree/CMIP5/GCM/CCCMA/CanESM2/historicalGHG/yr/ocean/so/r1i1p1/dedrifted/so_Oyr_CanESM2_historicalGHG_r1i1p1_188101-189012.nc', '/g/data/r87/dbi599/drstree/CMIP5/GCM/CCCMA/CanESM2/historicalGHG/yr/ocean/so/r1i1p1/dedrifted/so_Oyr_CanESM2_historicalGHG_r1i1p1_192101-193012.nc', '/g/data/r87/dbi599/drstree/CMIP5/GCM/CCCMA/CanESM2/historicalGHG/yr/ocean/so/r1i1p1/dedrifted/so_Oyr_CanESM2_historicalGHG_r1i1p1_197101-198012.nc', '/g/data/r87/dbi599/drstree/CMIP5/GCM/CCCMA/CanESM2/historicalGHG/yr/ocean/so/r1i1p1/dedrifted/so_Oyr_CanESM2_historicalGHG_r1i1p1_190101-191012.nc', '/g/data/r87/dbi599/drstree/CMIP5/GCM/CCCMA/CanESM2/historicalGHG/yr/ocean/so/r1i1p1/dedrifted/so_Oyr_CanESM2_historicalGHG_r1i1p1_194101-195012.nc', '/g/data/r87/dbi599/drstree/CMIP5/GCM/CCCMA/CanESM2/historicalGHG/yr/ocean/so/r1i1p1/dedrifted/so_Oyr_CanESM2_historicalGHG_r1i1p1_199101-200012.nc', '/g/data/r87/dbi599/drstree/CMIP5/GCM/CCCMA/CanESM2/historicalGHG/yr/ocean/so/r1i1p1/dedrifted/so_Oyr_CanESM2_historicalGHG_r1i1p1_198101-199012.nc', '/g/data/r87/dbi599/drstree/CMIP5/GCM/CCCMA/CanESM2/historicalGHG/yr/ocean/so/r1i1p1/dedrifted/so_Oyr_CanESM2_historicalGHG_r1i1p1_189101-190012.nc', '/g/data/r87/dbi599/drstree/CMIP5/GCM/CCCMA/CanESM2/historicalGHG/yr/ocean/so/r1i1p1/dedrifted/so_Oyr_CanESM2_historicalGHG_r1i1p1_196101-197012.nc', '/g/data/r87/dbi599/drstree/CMIP5/GCM/CCCMA/CanESM2/historicalGHG/yr/ocean/so/r1i1p1/dedrifted/so_Oyr_CanESM2_historicalGHG_r1i1p1_191101-192012.nc', '/g/data/r87/dbi599/drstree/CMIP5/GCM/CCCMA/CanESM2/historicalGHG/yr/ocean/so/r1i1p1/dedrifted/so_Oyr_CanESM2_historicalGHG_r1i1p1_186101-187012.nc']\n"
     ]
    }
   ],
   "source": [
    "print infiles"
   ]
  },
  {
   "cell_type": "code",
   "execution_count": 47,
   "metadata": {
    "collapsed": true
   },
   "outputs": [],
   "source": [
    "def get_time_constraint(time_list):\n",
    "    \"\"\"Get the time constraint used for reading an iris cube.\"\"\"\n",
    "    \n",
    "    start_date, end_date = time_list\n",
    "\n",
    "    date_pattern = '([0-9]{4})-([0-9]{1,2})-([0-9]{1,2})'\n",
    "    assert re.search(date_pattern, start_date)\n",
    "    assert re.search(date_pattern, end_date)\n",
    "\n",
    "    if (start_date == end_date):\n",
    "        year, month, day = start_date.split('-')    \n",
    "        time_constraint = iris.Constraint(time=iris.time.PartialDateTime(year=int(year), month=int(month), day=int(day)))\n",
    "    else:  \n",
    "        start_year, start_month, start_day = start_date.split('-') \n",
    "        end_year, end_month, end_day = end_date.split('-')\n",
    "        time_constraint = iris.Constraint(time=lambda t: iris.time.PartialDateTime(year=int(start_year), month=int(start_month), day=int(start_day)) <= t.point <= iris.time.PartialDateTime(year=int(end_year), month=int(end_month), day=int(end_day)))\n",
    "\n",
    "    return time_constraint"
   ]
  },
  {
   "cell_type": "code",
   "execution_count": 48,
   "metadata": {
    "collapsed": false
   },
   "outputs": [],
   "source": [
    "time_constraint = get_time_constraint(['1986-01-01', '2005-12-31'])"
   ]
  },
  {
   "cell_type": "code",
   "execution_count": 50,
   "metadata": {
    "collapsed": false
   },
   "outputs": [],
   "source": [
    "with iris.FUTURE.context(cell_datetime_objects=True):\n",
    "    cube = iris.load(infiles, 'sea_water_salinity' & time_constraint)"
   ]
  },
  {
   "cell_type": "code",
   "execution_count": 51,
   "metadata": {
    "collapsed": false
   },
   "outputs": [
    {
     "name": "stdout",
     "output_type": "stream",
     "text": [
      "0: sea_water_salinity / (g/kg)         (time: 5; depth: 40; latitude: 192; longitude: 256)\n",
      "1: sea_water_salinity / (g/kg)         (time: 5; depth: 40; latitude: 192; longitude: 256)\n",
      "2: sea_water_salinity / (g/kg)         (time: 10; depth: 40; latitude: 192; longitude: 256)\n"
     ]
    }
   ],
   "source": [
    "print cube"
   ]
  },
  {
   "cell_type": "code",
   "execution_count": 52,
   "metadata": {
    "collapsed": true
   },
   "outputs": [],
   "source": [
    "equalise_attributes(cube)\n",
    "iris.util.unify_time_units(cube)\n",
    "cube = cube.concatenate_cube()"
   ]
  },
  {
   "cell_type": "code",
   "execution_count": 53,
   "metadata": {
    "collapsed": false
   },
   "outputs": [
    {
     "name": "stdout",
     "output_type": "stream",
     "text": [
      "sea_water_salinity / (g/kg)         (time: 20; depth: 40; latitude: 192; longitude: 256)\n",
      "     Dimension coordinates:\n",
      "          time                           x          -             -               -\n",
      "          depth                          -          x             -               -\n",
      "          latitude                       -          -             x               -\n",
      "          longitude                      -          -             -               x\n",
      "     Attributes:\n",
      "          CCCma_data_licence: 1) GRANT OF LICENCE - The Government of Canada (Environment Canada) is...\n",
      "          CCCma_parent_runid: IGA\n",
      "          CCCma_runid: IBU\n",
      "          Conventions: CF-1.5\n",
      "          associated_files: baseURL: http://cmip-pcmdi.llnl.gov/CMIP5/dataLocation gridspecFile: gridspec_ocean_fx_CanESM2_historicalGHG_r0i0p0.nc...\n",
      "          branch_time: 171915.0\n",
      "          branch_time_YMDH: 2321:01:01:00\n",
      "          cmor_version: 2.5.4\n",
      "          contact: cccma_info@ec.gc.ca\n",
      "          drift_removal: Masked 0 of 1966080 points because cubic fit was poor\n",
      "          experiment: GHG-only\n",
      "          experiment_id: historicalGHG\n",
      "          forcing: GHG (GHG includes CO2,CH4,N2O,CFC11,effective CFC12)\n",
      "          frequency: mon\n",
      "          initialization_method: 1\n",
      "          institute_id: CCCma\n",
      "          institution: CCCma (Canadian Centre for Climate Modelling and Analysis, Victoria, BC,...\n",
      "          invalid_units: psu\n",
      "          model_id: CanESM2\n",
      "          modeling_realm: ocean\n",
      "          original_name: SALT\n",
      "          parent_experiment: pre-industrial control\n",
      "          parent_experiment_id: piControl\n",
      "          parent_experiment_rip: r1i1p1\n",
      "          physics_version: 1\n",
      "          product: output\n",
      "          project_id: CMIP5\n",
      "          realization: 1\n",
      "          references: http://www.cccma.ec.gc.ca/models\n",
      "          source: CanESM2 2010 atmosphere: CanAM4 (AGCM15i, T63L35) ocean: CanOM4 (OGCM4.0,...\n",
      "          table_id: Table Omon (31 January 2011) d2d6beec2b8fea5bbed33920a6e08bbe\n",
      "          title: CanESM2 model output prepared for CMIP5 GHG-only\n",
      "     Cell methods:\n",
      "          mean: time (20 minutes)\n",
      "          mean: year\n"
     ]
    }
   ],
   "source": [
    "print cube"
   ]
  },
  {
   "cell_type": "code",
   "execution_count": 54,
   "metadata": {
    "collapsed": true
   },
   "outputs": [],
   "source": [
    "mean_field = cube.collapsed('time', iris.analysis.MEAN)"
   ]
  },
  {
   "cell_type": "code",
   "execution_count": 55,
   "metadata": {
    "collapsed": false
   },
   "outputs": [
    {
     "name": "stdout",
     "output_type": "stream",
     "text": [
      "sea_water_salinity / (g/kg)         (depth: 40; latitude: 192; longitude: 256)\n",
      "     Dimension coordinates:\n",
      "          depth                           x             -               -\n",
      "          latitude                        -             x               -\n",
      "          longitude                       -             -               x\n",
      "     Scalar coordinates:\n",
      "          time: 1996-01-01 00:00:00, bound=(1986-01-01 00:00:00, 2006-01-01 00:00:00)\n",
      "     Attributes:\n",
      "          CCCma_data_licence: 1) GRANT OF LICENCE - The Government of Canada (Environment Canada) is...\n",
      "          CCCma_parent_runid: IGA\n",
      "          CCCma_runid: IBU\n",
      "          Conventions: CF-1.5\n",
      "          associated_files: baseURL: http://cmip-pcmdi.llnl.gov/CMIP5/dataLocation gridspecFile: gridspec_ocean_fx_CanESM2_historicalGHG_r0i0p0.nc...\n",
      "          branch_time: 171915.0\n",
      "          branch_time_YMDH: 2321:01:01:00\n",
      "          cmor_version: 2.5.4\n",
      "          contact: cccma_info@ec.gc.ca\n",
      "          drift_removal: Masked 0 of 1966080 points because cubic fit was poor\n",
      "          experiment: GHG-only\n",
      "          experiment_id: historicalGHG\n",
      "          forcing: GHG (GHG includes CO2,CH4,N2O,CFC11,effective CFC12)\n",
      "          frequency: mon\n",
      "          initialization_method: 1\n",
      "          institute_id: CCCma\n",
      "          institution: CCCma (Canadian Centre for Climate Modelling and Analysis, Victoria, BC,...\n",
      "          invalid_units: psu\n",
      "          model_id: CanESM2\n",
      "          modeling_realm: ocean\n",
      "          original_name: SALT\n",
      "          parent_experiment: pre-industrial control\n",
      "          parent_experiment_id: piControl\n",
      "          parent_experiment_rip: r1i1p1\n",
      "          physics_version: 1\n",
      "          product: output\n",
      "          project_id: CMIP5\n",
      "          realization: 1\n",
      "          references: http://www.cccma.ec.gc.ca/models\n",
      "          source: CanESM2 2010 atmosphere: CanAM4 (AGCM15i, T63L35) ocean: CanOM4 (OGCM4.0,...\n",
      "          table_id: Table Omon (31 January 2011) d2d6beec2b8fea5bbed33920a6e08bbe\n",
      "          title: CanESM2 model output prepared for CMIP5 GHG-only\n",
      "     Cell methods:\n",
      "          mean: time (20 minutes)\n",
      "          mean: year\n",
      "          mean: time\n"
     ]
    }
   ],
   "source": [
    "print mean_field"
   ]
  },
  {
   "cell_type": "code",
   "execution_count": 56,
   "metadata": {
    "collapsed": true
   },
   "outputs": [],
   "source": [
    "volcello = '/g/data/ua6/drstree/CMIP5/GCM/CCCMA/CanESM2/historicalGHG/fx/ocean/volcello/r0i0p0/volcello_fx_CanESM2_historicalGHG_r0i0p0.nc'\n",
    "volume = iris.load_cube(volcello)"
   ]
  },
  {
   "cell_type": "code",
   "execution_count": 57,
   "metadata": {
    "collapsed": false
   },
   "outputs": [
    {
     "name": "stdout",
     "output_type": "stream",
     "text": [
      "ocean_volume / (m3)                 (depth: 40; latitude: 192; longitude: 256)\n",
      "     Dimension coordinates:\n",
      "          depth                           x             -               -\n",
      "          latitude                        -             x               -\n",
      "          longitude                       -             -               x\n",
      "     Attributes:\n",
      "          CCCma_data_licence: 1) GRANT OF LICENCE - The Government of Canada (Environment Canada) is...\n",
      "          CCCma_parent_runid: IGA\n",
      "          CCCma_runid: IGS\n",
      "          Conventions: CF-1.4\n",
      "          associated_files: baseURL: http://cmip-pcmdi.llnl.gov/CMIP5/dataLocation gridspecFile: g...\n",
      "          branch_time: 135415.0\n",
      "          branch_time_YMDH: 2221:01:01:00\n",
      "          cmor_version: 2.5.4\n",
      "          comment: grid-cell volume ca. 2000.\n",
      "          contact: cccma_info@ec.gc.ca\n",
      "          creation_date: 2011-05-04T17:19:42Z\n",
      "          experiment: GHG-only\n",
      "          experiment_id: historicalGHG\n",
      "          forcing: GHG (GHG includes CO2,CH4,N2O,CFC11,effective CFC12)\n",
      "          frequency: fx\n",
      "          history: 2011-05-04T17:19:42Z altered by CMOR: replaced missing value flag (1e+38)...\n",
      "          initialization_method: 0\n",
      "          institute_id: CCCma\n",
      "          institution: CCCma (Canadian Centre for Climate Modelling and Analysis, Victoria, BC,...\n",
      "          model_id: CanESM2\n",
      "          modeling_realm: ocean\n",
      "          original_name: DATA_DESCRIPTION\n",
      "          parent_experiment: pre-industrial control\n",
      "          parent_experiment_id: piControl\n",
      "          parent_experiment_rip: r1i1p1\n",
      "          physics_version: 0\n",
      "          product: output\n",
      "          project_id: CMIP5\n",
      "          realization: 0\n",
      "          references: http://www.cccma.ec.gc.ca/models\n",
      "          source: CanESM2 2010 atmosphere: CanAM4 (AGCM15i, T63L35) ocean: CanOM4 (OGCM4.0,...\n",
      "          table_id: Table fx (28 March 2011) c046d0887aeb2bb7ed34d63897d7de8f\n",
      "          title: CanESM2 model output prepared for CMIP5 GHG-only\n",
      "          tracking_id: 672cf703-eabe-4bc4-bf15-2d6f7151804f\n"
     ]
    }
   ],
   "source": [
    "print volume"
   ]
  },
  {
   "cell_type": "code",
   "execution_count": 58,
   "metadata": {
    "collapsed": false
   },
   "outputs": [
    {
     "data": {
      "image/png": "[encoded data removed]",
      "text/plain": [
       "<matplotlib.figure.Figure at 0x7f7745fd53d0>"
      ]
     },
     "metadata": {},
     "output_type": "display_data"
    }
   ],
   "source": [
    "#matplotlib.pyplot.hist(x, bins=None, range=None, normed=False, weights=None, cumulative=False, bottom=None, histtype='bar', align='mid', orientation='vertical', rwidth=None, log=False, color=None, label=None, stacked=False, hold=None, data=None, **kwargs)\n",
    "\n",
    "plt.hist(mean_field.data.compressed(), weights=volume.data.compressed(), normed=True)\n",
    "plt.show()"
   ]
  },
  {
   "cell_type": "code",
   "execution_count": 35,
   "metadata": {
    "collapsed": false
   },
   "outputs": [
    {
     "name": "stdout",
     "output_type": "stream",
     "text": [
      "(40, 192, 256)\n"
     ]
    }
   ],
   "source": [
    "print mean_field.data.shape"
   ]
  },
  {
   "cell_type": "code",
   "execution_count": 40,
   "metadata": {
    "collapsed": false
   },
   "outputs": [
    {
     "data": {
      "text/plain": [
       "(1075296,)"
      ]
     },
     "execution_count": 40,
     "metadata": {},
     "output_type": "execute_result"
    }
   ],
   "source": [
    "mean_field.data.compressed().shape"
   ]
  },
  {
   "cell_type": "code",
   "execution_count": 41,
   "metadata": {
    "collapsed": false
   },
   "outputs": [
    {
     "data": {
      "text/plain": [
       "1966080"
      ]
     },
     "execution_count": 41,
     "metadata": {},
     "output_type": "execute_result"
    }
   ],
   "source": [
    "40 * 192 * 256"
   ]
  },
  {
   "cell_type": "code",
   "execution_count": null,
   "metadata": {
    "collapsed": true
   },
   "outputs": [],
   "source": []
  }
 ],
 "metadata": {
  "kernelspec": {
   "display_name": "Python 2",
   "language": "python",
   "name": "python2"
  },
  "language_info": {
   "codemirror_mode": {
    "name": "ipython",
    "version": 2
   },
   "file_extension": ".py",
   "mimetype": "text/x-python",
   "name": "python",
   "nbconvert_exporter": "python",
   "pygments_lexer": "ipython2",
   "version": "2.7.12"
  }
 },
 "nbformat": 4,
 "nbformat_minor": 1
}
