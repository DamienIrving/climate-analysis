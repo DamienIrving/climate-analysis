{
 "cells": [
  {
   "cell_type": "code",
   "execution_count": 9,
   "metadata": {
    "collapsed": true
   },
   "outputs": [],
   "source": [
    "import numpy, re\n",
    "\n",
    "import iris\n",
    "from iris.util import rolling_window\n",
    "from scipy import stats"
   ]
  },
  {
   "cell_type": "code",
   "execution_count": 10,
   "metadata": {
    "collapsed": true
   },
   "outputs": [],
   "source": [
    "infile = '/g/data/r87/dbi599/data_argo/ohc-metrics-globe60equiv_Omon_ArgoRoemmich_2004-2015.nc'"
   ]
  },
  {
   "cell_type": "code",
   "execution_count": 11,
   "metadata": {
    "collapsed": true
   },
   "outputs": [],
   "source": [
    "def calc_diff_trends(sthext_cube, notsthext_cube, window=120):\n",
    "    \"\"\"Calculate trends in difference between southern extratropics and rest of globe.\n",
    "\n",
    "    A window of 120 matches the length of the Argo record \n",
    "      (i.e. 10 years of annually smoothed monthly data)\n",
    "\n",
    "    \"\"\"\n",
    "\n",
    "    diff = sthext_cube - notsthext_cube\n",
    "    diff_windows = rolling_window(diff.data, window=window, axis=0)    \n",
    "    x_axis_windows = rolling_window(diff.coord('time').points, window=window, axis=0)\n",
    "\n",
    "    ntimes = diff_windows.shape[0]\n",
    "    trends = numpy.zeros(ntimes)\n",
    "    for i in range(0, ntimes):\n",
    "        x = x_axis_windows[i, :]\n",
    "        y = diff_windows[i, :]\n",
    "        slope, intercept, r_value, p_value, std_err = stats.linregress(x, y)\n",
    "        trends[i] = slope\n",
    "\n",
    "    # convert units from J/month to J/s so can be expressed as Watts (1 J = W.s)\n",
    "    assert 'days' in str(diff.coord('time').units)\n",
    "    hours_in_day = 24\n",
    "    minutes_in_hour = 60\n",
    "    seconds_in_minute = 60\n",
    "\n",
    "    trends = trends / (hours_in_day * minutes_in_hour * seconds_in_minute)\n",
    "\n",
    "    return trends"
   ]
  },
  {
   "cell_type": "code",
   "execution_count": 12,
   "metadata": {
    "collapsed": true
   },
   "outputs": [],
   "source": [
    "def get_time_constraint(time_list):\n",
    "    \"\"\"Get the time constraint used for reading an iris cube.\"\"\"\n",
    "    \n",
    "    start_date, end_date = time_list\n",
    "\n",
    "    date_pattern = '([0-9]{4})-([0-9]{1,2})-([0-9]{1,2})'\n",
    "    assert re.search(date_pattern, start_date)\n",
    "    assert re.search(date_pattern, end_date)\n",
    "\n",
    "    if (start_date == end_date):\n",
    "        year, month, day = start_date.split('-')    \n",
    "        time_constraint = iris.Constraint(time=iris.time.PartialDateTime(year=int(year), month=int(month), day=int(day)))\n",
    "    else:  \n",
    "        start_year, start_month, start_day = start_date.split('-') \n",
    "        end_year, end_month, end_day = end_date.split('-')\n",
    "        time_constraint = iris.Constraint(time=lambda t: iris.time.PartialDateTime(year=int(start_year), month=int(start_month), day=int(start_day)) <= t.point <= iris.time.PartialDateTime(year=int(end_year), month=int(end_month), day=int(end_day)))\n",
    "\n",
    "    return time_constraint"
   ]
  },
  {
   "cell_type": "code",
   "execution_count": 14,
   "metadata": {
    "collapsed": false
   },
   "outputs": [],
   "source": [
    "time_constraint = get_time_constraint(['2006-01-01', '2015-12-31'])\n",
    "\n",
    "with iris.FUTURE.context(cell_datetime_objects=True):\n",
    "    cube_sthext = iris.load_cube(infile, 'ocean heat content southern extratropics60' & time_constraint)\n",
    "    cube_notsthext = iris.load_cube(infile, 'ocean heat content northern extratropics60' & time_constraint)"
   ]
  },
  {
   "cell_type": "code",
   "execution_count": 15,
   "metadata": {
    "collapsed": false
   },
   "outputs": [
    {
     "name": "stdout",
     "output_type": "stream",
     "text": [
      "ocean heat content southern extratropics60 / (10^22 J) (time: 120)\n",
      "     Dimension coordinates:\n",
      "          time                                              x\n",
      "     Attributes:\n",
      "          Conventions: CF-1.5\n",
      "          comment: ARGO TEMPERATURE ANOMALY defined by Jan 2004 - Dec 2014 (11.0 year) RG...\n",
      "          depth_bounds: ohc integrated over input data surface (2.500000) down to 2000.000000\n",
      "          history: Thu Jun 09 10:26:12 2016: /g/data/r87/dbi599/miniconda2/envs/default/bin/python...\n",
      "          invalid_standard_name: ocean_heat_content_southern_extratropics60\n"
     ]
    }
   ],
   "source": [
    "print cube_sthext"
   ]
  },
  {
   "cell_type": "code",
   "execution_count": 16,
   "metadata": {
    "collapsed": true
   },
   "outputs": [],
   "source": [
    "cube_sthext = cube_sthext.rolling_window('time', iris.analysis.MEAN, 12)\n",
    "cube_notsthext = cube_notsthext.rolling_window('time', iris.analysis.MEAN, 12)"
   ]
  },
  {
   "cell_type": "code",
   "execution_count": 17,
   "metadata": {
    "collapsed": false
   },
   "outputs": [
    {
     "name": "stdout",
     "output_type": "stream",
     "text": [
      "ocean heat content southern extratropics60 / (10^22 J) (time: 109)\n",
      "     Dimension coordinates:\n",
      "          time                                              x\n",
      "     Attributes:\n",
      "          Conventions: CF-1.5\n",
      "          comment: ARGO TEMPERATURE ANOMALY defined by Jan 2004 - Dec 2014 (11.0 year) RG...\n",
      "          depth_bounds: ohc integrated over input data surface (2.500000) down to 2000.000000\n",
      "          history: Thu Jun 09 10:26:12 2016: /g/data/r87/dbi599/miniconda2/envs/default/bin/python...\n",
      "          invalid_standard_name: ocean_heat_content_southern_extratropics60\n",
      "     Cell methods:\n",
      "          mean: time\n"
     ]
    }
   ],
   "source": [
    "print cube_sthext"
   ]
  },
  {
   "cell_type": "code",
   "execution_count": 18,
   "metadata": {
    "collapsed": true
   },
   "outputs": [],
   "source": [
    "diff_trend = calc_diff_trends(cube_sthext, cube_notsthext, window=109)"
   ]
  },
  {
   "cell_type": "code",
   "execution_count": 20,
   "metadata": {
    "collapsed": false
   },
   "outputs": [
    {
     "name": "stdout",
     "output_type": "stream",
     "text": [
      "[ 4.13817064]\n"
     ]
    }
   ],
   "source": [
    "print diff_trend * 1e8"
   ]
  },
  {
   "cell_type": "code",
   "execution_count": null,
   "metadata": {
    "collapsed": true
   },
   "outputs": [],
   "source": []
  }
 ],
 "metadata": {
  "kernelspec": {
   "display_name": "Python 2",
   "language": "python",
   "name": "python2"
  },
  "language_info": {
   "codemirror_mode": {
    "name": "ipython",
    "version": 2
   },
   "file_extension": ".py",
   "mimetype": "text/x-python",
   "name": "python",
   "nbconvert_exporter": "python",
   "pygments_lexer": "ipython2",
   "version": "2.7.11"
  }
 },
 "nbformat": 4,
 "nbformat_minor": 0
}
