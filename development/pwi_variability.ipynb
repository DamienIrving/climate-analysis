{
 "metadata": {
  "name": "",
  "signature": "sha256:f54e38ed6f759716727ce115329deb08caf9d382632de2b8c9f9f100af5fe8bf"
 },
 "nbformat": 3,
 "nbformat_minor": 0,
 "worksheets": [
  {
   "cells": [
    {
     "cell_type": "heading",
     "level": 1,
     "metadata": {},
     "source": [
      "Planetary wave variability"
     ]
    },
    {
     "cell_type": "code",
     "collapsed": false,
     "input": [
      "def read_dates(infile):\n",
      "    \"\"\"Read a date file into a Python list.\"\"\"\n",
      "\n",
      "    with open(infile) as f:\n",
      "        lines = f.read().splitlines()\n",
      "        \n",
      "    return lines"
     ],
     "language": "python",
     "metadata": {},
     "outputs": [],
     "prompt_number": 6
    },
    {
     "cell_type": "code",
     "collapsed": false,
     "input": [
      "# Read data\n",
      "\n",
      "pwi_dates = read_dates('dates_zw_ampmedian90pct-w19_env-va_ERAInterim_500hPa_030day-runmean_native-mermax.txt')\n",
      "pwi_sam_pos_dates = read_dates('dates_samgt75pct-ampmedian90pct_tos_ERAInterim_surface_030day-runmean_native.txt')\n",
      "pwi_sam_neg_dates = read_dates('dates_samlt25pct-ampmedian90pct_tos_ERAInterim_surface_030day-runmean_native.txt')\n",
      "pwi_elnino_dates = read_dates('dates_nino34elnino-ampmedian90pct_tos_ERAInterim_surface_030day-runmean_native.txt')\n",
      "pwi_lanina_dates = read_dates('dates_nino34lanina-ampmedian90pct_tos_ERAInterim_surface_030day-runmean_native.txt')"
     ],
     "language": "python",
     "metadata": {},
     "outputs": [],
     "prompt_number": 8
    },
    {
     "cell_type": "code",
     "collapsed": false,
     "input": [
      "# Check distribution of regular SAM and Nino events\n",
      "\n",
      "sam_pos_dates = read_dates('dates_samgt75pct_psl_ERAInterim_surface_030day-runmean_native.txt')\n",
      "sam_neg_dates = read_dates('dates_samlt25pct_psl_ERAInterim_surface_030day-runmean_native.txt')\n",
      "elnino_dates = read_dates('dates_nino34elnino_tos_ERAInterim_surface_030day-runmean_native.txt')\n",
      "lanina_dates = read_dates('dates_nino34lanina_tos_ERAInterim_surface_030day-runmean_native.txt')\n",
      "\n",
      "print 'El Nino days:', len(elnino_dates)\n",
      "print 'La Nina days:', len(lanina_dates)\n",
      "print 'SAM positive days:', len(sam_pos_dates)\n",
      "print 'SAM negative days:', len(sam_neg_dates)"
     ],
     "language": "python",
     "metadata": {},
     "outputs": [
      {
       "output_type": "stream",
       "stream": "stdout",
       "text": [
        "El Nino days: 3089\n",
        "La Nina days: 3433\n",
        "SAM positive days: 3280\n",
        "SAM negative days: 3280\n"
       ]
      }
     ],
     "prompt_number": 20
    },
    {
     "cell_type": "code",
     "collapsed": false,
     "input": [
      "def summary_stats(pwi_dates, pos_subset_dates, neg_subset_dates, index_name, season):\n",
      "    \"\"\"Summary statistics for a given index and season.\"\"\" \n",
      "\n",
      "    n_pwi_days = len(pwi_dates)\n",
      "    print 'Number of PWI days:', n_pwi_days\n",
      "\n",
      "    print 'Number of PWI + '+index_name+' positive days:', len(pos_subset_dates)\n",
      "    print 'Number of PWI + '+index_name+' negative days:', len(neg_subset_dates)\n",
      "    print 'Expected number of PWI + index days:', int(n_pwi_days * 0.25) "
     ],
     "language": "python",
     "metadata": {},
     "outputs": [],
     "prompt_number": 17
    },
    {
     "cell_type": "code",
     "collapsed": false,
     "input": [
      "summary_stats(pwi_dates, pwi_sam_pos_dates, pwi_sam_neg_dates, 'SAM', 'JJA')"
     ],
     "language": "python",
     "metadata": {},
     "outputs": [
      {
       "output_type": "stream",
       "stream": "stdout",
       "text": [
        "Number of PWI days: 1291\n",
        "Number of PWI + SAM positive days: 168\n",
        "Number of PWI + SAM negative days: 499\n",
        "Expected number of PWI + index days: 322\n"
       ]
      }
     ],
     "prompt_number": 18
    },
    {
     "cell_type": "code",
     "collapsed": false,
     "input": [
      "summary_stats(pwi_dates, pwi_elnino_dates, pwi_lanina_dates, 'NINO', 'JJA')"
     ],
     "language": "python",
     "metadata": {},
     "outputs": [
      {
       "output_type": "stream",
       "stream": "stdout",
       "text": [
        "Number of PWI days: 1291\n",
        "Number of PWI + NINO positive days: 283\n",
        "Number of PWI + NINO negative days: 177\n",
        "Expected number of PWI + index days: 322\n"
       ]
      }
     ],
     "prompt_number": 19
    },
    {
     "cell_type": "heading",
     "level": 2,
     "metadata": {},
     "source": [
      "Seasonal breakdown"
     ]
    },
    {
     "cell_type": "code",
     "collapsed": false,
     "input": [
      "def split_dt(dt):\n",
      "    \"\"\"Split YYYY-MM-DD into year, month and day parts.\"\"\"\n",
      "    date = str(dt).split()[0]\n",
      "    year, month, day = date.split('-')\n",
      "    return (int(year), int(month), int(day))"
     ],
     "language": "python",
     "metadata": {},
     "outputs": [],
     "prompt_number": 22
    },
    {
     "cell_type": "code",
     "collapsed": false,
     "input": [
      "dates_split = map(split_dt, dates)\n",
      "time_axis_split = map(split_dt, time_axis)\n",
      "matches_indexes = []\n",
      "matches_dates = []\n",
      "misses_indexes = range(0, len(time_axis))\n",
      "misses_dates = time_axis[:] # creates a shallow copy\n",
      "for date in dates_split:\n",
      "try:\n",
      "index = time_axis_split.index(date)\n",
      "if invert_matching:\n",
      "misses_dates.remove(time_axis[index])\n",
      "misses_indexes.remove(index)\n",
      "else:\n",
      "matches_dates.append(time_axis[index])\n",
      "matches_indexes.append(index)\n",
      "except ValueError:\n",
      "pass\n"
     ],
     "language": "python",
     "metadata": {},
     "outputs": []
    }
   ],
   "metadata": {}
  }
 ]
}