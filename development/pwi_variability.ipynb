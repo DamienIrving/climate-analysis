{
 "metadata": {
  "name": "",
  "signature": "sha256:bc360315cdb11f4c9c85dfa5a706c616311bac330978182a26ede7800527d9d8"
 },
 "nbformat": 3,
 "nbformat_minor": 0,
 "worksheets": [
  {
   "cells": [
    {
     "cell_type": "heading",
     "level": 1,
     "metadata": {},
     "source": [
      "Planetary wave variability"
     ]
    },
    {
     "cell_type": "heading",
     "level": 3,
     "metadata": {},
     "source": [
      "Define key functions"
     ]
    },
    {
     "cell_type": "code",
     "collapsed": false,
     "input": [
      "def read_dates(infile):\n",
      "    \"\"\"Read a date file into a Python list.\"\"\"\n",
      "\n",
      "    with open(infile) as f:\n",
      "        lines = f.read().splitlines()\n",
      "        \n",
      "    return lines\n",
      "\n",
      "\n",
      "def filter_dates(date_list, months):\n",
      "    \"\"\"Filter a list of dates to just keep the months of interest.\"\"\"\n",
      "    \n",
      "    new_list = []\n",
      "    for date in date_list:\n",
      "        month = date.split('-')[1]\n",
      "        if int(month) in months:\n",
      "            new_list.append(date)\n",
      "            \n",
      "    return new_list"
     ],
     "language": "python",
     "metadata": {},
     "outputs": [],
     "prompt_number": 14
    },
    {
     "cell_type": "code",
     "collapsed": false,
     "input": [
      "def summary_stats(pwi_dates, pos_subset_dates, neg_subset_dates, index_name, season=None):\n",
      "    \"\"\"Summary statistics for a given index and season.\"\"\" \n",
      "\n",
      "    season_definitions = {'DJF': (12, 1, 2),\n",
      "                          'MAM': (3, 4, 5),\n",
      "                          'JJA': (6, 7, 8),\n",
      "                          'SON': (9, 10, 11)}\n",
      "    \n",
      "    print season\n",
      "    \n",
      "    if season in season_definitions.keys():\n",
      "        pwi_dates = filter_dates(pwi_dates, season_definitions[season])\n",
      "        pos_subset_dates = filter_dates(pos_subset_dates, season_definitions[season])\n",
      "        neg_subset_dates = filter_dates(neg_subset_dates, season_definitions[season])\n",
      "    \n",
      "    n_pwi_days = len(pwi_dates)\n",
      "    print 'Number of PWI days:', n_pwi_days\n",
      "\n",
      "    print 'Number of PWI + '+index_name+' positive days:', len(pos_subset_dates)\n",
      "    print 'Number of PWI + '+index_name+' negative days:', len(neg_subset_dates)\n",
      "    print 'Expected number of PWI + index days:', int(n_pwi_days * 0.25) "
     ],
     "language": "python",
     "metadata": {},
     "outputs": [],
     "prompt_number": 24
    },
    {
     "cell_type": "heading",
     "level": 3,
     "metadata": {},
     "source": [
      "Read data"
     ]
    },
    {
     "cell_type": "code",
     "collapsed": false,
     "input": [
      "# Read data\n",
      "pwi_dates = read_dates('dates_zw_ampmedian90pct-w19_env-va_ERAInterim_500hPa_030day-runmean_native-mermax.txt')\n",
      "pwi_sam_pos_dates = read_dates('dates_samgt75pct-ampmedian90pct_tos_ERAInterim_surface_030day-runmean_native.txt')\n",
      "pwi_sam_neg_dates = read_dates('dates_samlt25pct-ampmedian90pct_tos_ERAInterim_surface_030day-runmean_native.txt')\n",
      "pwi_elnino_dates = read_dates('dates_nino34elnino-ampmedian90pct_tos_ERAInterim_surface_030day-runmean_native.txt')\n",
      "pwi_lanina_dates = read_dates('dates_nino34lanina-ampmedian90pct_tos_ERAInterim_surface_030day-runmean_native.txt')"
     ],
     "language": "python",
     "metadata": {},
     "outputs": [],
     "prompt_number": 15
    },
    {
     "cell_type": "code",
     "collapsed": false,
     "input": [
      "# Check distribution of regular SAM and Nino events\n",
      "sam_pos_dates = read_dates('dates_samgt75pct_psl_ERAInterim_surface_030day-runmean_native.txt')\n",
      "sam_neg_dates = read_dates('dates_samlt25pct_psl_ERAInterim_surface_030day-runmean_native.txt')\n",
      "elnino_dates = read_dates('dates_nino34elnino_tos_ERAInterim_surface_030day-runmean_native.txt')\n",
      "lanina_dates = read_dates('dates_nino34lanina_tos_ERAInterim_surface_030day-runmean_native.txt')\n",
      "\n",
      "print 'El Nino days:', len(elnino_dates)\n",
      "print 'La Nina days:', len(lanina_dates)\n",
      "print 'SAM positive days:', len(sam_pos_dates)\n",
      "print 'SAM negative days:', len(sam_neg_dates)"
     ],
     "language": "python",
     "metadata": {},
     "outputs": [
      {
       "output_type": "stream",
       "stream": "stdout",
       "text": [
        "El Nino days: 3089\n",
        "La Nina days: 3433\n",
        "SAM positive days: 3280\n",
        "SAM negative days: 3280\n"
       ]
      }
     ],
     "prompt_number": 16
    },
    {
     "cell_type": "heading",
     "level": 3,
     "metadata": {},
     "source": [
      "Summary statistics"
     ]
    },
    {
     "cell_type": "code",
     "collapsed": false,
     "input": [
      "seasons = ['annual', 'DJF', 'MAM', 'JJA', 'SON']"
     ],
     "language": "python",
     "metadata": {},
     "outputs": [],
     "prompt_number": 26
    },
    {
     "cell_type": "heading",
     "level": 5,
     "metadata": {},
     "source": [
      "SAM"
     ]
    },
    {
     "cell_type": "code",
     "collapsed": false,
     "input": [
      "for season in seasons:\n",
      "    summary_stats(pwi_dates, pwi_sam_pos_dates, pwi_sam_neg_dates, 'SAM', season=season)"
     ],
     "language": "python",
     "metadata": {},
     "outputs": [
      {
       "output_type": "stream",
       "stream": "stdout",
       "text": [
        "annual\n",
        "Number of PWI days: 1291\n",
        "Number of PWI + SAM positive days: 168\n",
        "Number of PWI + SAM negative days: 499\n",
        "Expected number of PWI + index days: 322\n",
        "DJF\n",
        "Number of PWI days: 110\n",
        "Number of PWI + SAM positive days: 30\n",
        "Number of PWI + SAM negative days: 55\n",
        "Expected number of PWI + index days: 27\n",
        "MAM\n",
        "Number of PWI days: 368\n",
        "Number of PWI + SAM positive days: 44\n",
        "Number of PWI + SAM negative days: 118\n",
        "Expected number of PWI + index days: 92\n",
        "JJA\n",
        "Number of PWI days: 613\n",
        "Number of PWI + SAM positive days: 44\n",
        "Number of PWI + SAM negative days: 290\n",
        "Expected number of PWI + index days: 153\n",
        "SON\n",
        "Number of PWI days: 200\n",
        "Number of PWI + SAM positive days: 50\n",
        "Number of PWI + SAM negative days: 36\n",
        "Expected number of PWI + index days: 50\n"
       ]
      }
     ],
     "prompt_number": 27
    },
    {
     "cell_type": "heading",
     "level": 5,
     "metadata": {},
     "source": [
      "ENSO"
     ]
    },
    {
     "cell_type": "code",
     "collapsed": false,
     "input": [
      "for season in seasons:\n",
      "    summary_stats(pwi_dates, pwi_elnino_dates, pwi_lanina_dates, 'NINO', season=season)"
     ],
     "language": "python",
     "metadata": {},
     "outputs": [
      {
       "output_type": "stream",
       "stream": "stdout",
       "text": [
        "annual\n",
        "Number of PWI days: 1291\n",
        "Number of PWI + NINO positive days: 283\n",
        "Number of PWI + NINO negative days: 177\n",
        "Expected number of PWI + index days: 322\n",
        "DJF\n",
        "Number of PWI days: 110\n",
        "Number of PWI + NINO positive days: 38\n",
        "Number of PWI + NINO negative days: 24\n",
        "Expected number of PWI + index days: 27\n",
        "MAM\n",
        "Number of PWI days: 368\n",
        "Number of PWI + NINO positive days: 51\n",
        "Number of PWI + NINO negative days: 26\n",
        "Expected number of PWI + index days: 92\n",
        "JJA\n",
        "Number of PWI days: 613\n",
        "Number of PWI + NINO positive days: 147\n",
        "Number of PWI + NINO negative days: 82\n",
        "Expected number of PWI + index days: 153\n",
        "SON\n",
        "Number of PWI days: 200\n",
        "Number of PWI + NINO positive days: 47\n",
        "Number of PWI + NINO negative days: 45\n",
        "Expected number of PWI + index days: 50\n"
       ]
      }
     ],
     "prompt_number": 28
    },
    {
     "cell_type": "code",
     "collapsed": false,
     "input": [],
     "language": "python",
     "metadata": {},
     "outputs": []
    }
   ],
   "metadata": {}
  }
 ]
}