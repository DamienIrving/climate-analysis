{
 "cells": [
  {
   "cell_type": "markdown",
   "metadata": {},
   "source": [
    "## De-drifting"
   ]
  },
  {
   "cell_type": "markdown",
   "metadata": {},
   "source": [
    "### Read the data"
   ]
  },
  {
   "cell_type": "code",
   "execution_count": 94,
   "metadata": {
    "collapsed": true
   },
   "outputs": [],
   "source": [
    "control_files = '/g/data1/r87/drstree/CMIP5/GCM/CSIRO-QCCCE/CSIRO-Mk3-6-0/piControl/mon/ocean/thetao/r1i1p1/thetao_Omon_CSIRO-Mk3-6-0_piControl_r1i1p1_*.nc'"
   ]
  },
  {
   "cell_type": "code",
   "execution_count": 95,
   "metadata": {
    "collapsed": true
   },
   "outputs": [],
   "source": [
    "import xarray"
   ]
  },
  {
   "cell_type": "code",
   "execution_count": 96,
   "metadata": {
    "collapsed": false
   },
   "outputs": [],
   "source": [
    "ds = xarray.open_mfdataset(control_files, decode_cf=False)"
   ]
  },
  {
   "cell_type": "markdown",
   "metadata": {},
   "source": [
    "The `decode_cf` option turns off the automatic conversion of the time axis to `numpy.datetime64` objects, which fails for the control runs because their time values don't make sense:\n",
    "```\n",
    "/g/data/r87/dbi599/miniconda2/envs/default/lib/python2.7/site-packages/xarray/conventions.py:382: RuntimeWarning: Unable to decode time axis into full numpy.datetime64 objects, continuing using dummy netCDF4.datetime objects instead, reason: dates out of range\n",
    "  result = decode_cf_datetime(example_value, units, calendar)\n",
    "\n",
    "```"
   ]
  },
  {
   "cell_type": "code",
   "execution_count": 97,
   "metadata": {
    "collapsed": false
   },
   "outputs": [
    {
     "name": "stdout",
     "output_type": "stream",
     "text": [
      "<xarray.Dataset>\n",
      "Dimensions:    (bnds: 2, lat: 189, lev: 31, lon: 192, time: 6000)\n",
      "Coordinates:\n",
      "  * lev        (lev) float64 5.0 15.0 28.25 42.02 59.66 78.54 102.1 127.9 ...\n",
      "  * lat        (lat) float64 -88.2 -87.24 -86.3 -85.36 -84.42 -83.49 -82.55 ...\n",
      "  * lon        (lon) float64 0.0 1.875 3.75 5.625 7.5 9.375 11.25 13.12 15.0 ...\n",
      "  * bnds       (bnds) int64 0 1\n",
      "  * time       (time) float64 15.5 45.0 74.5 105.0 135.5 166.0 196.5 227.5 ...\n",
      "Data variables:\n",
      "    time_bnds  (time, bnds) float64 0.0 31.0 31.0 59.0 59.0 90.0 90.0 120.0 ...\n",
      "    lat_bnds   (time, lat, bnds) float64 -90.0 -87.71 -87.71 -86.77 -86.77 ...\n",
      "    lon_bnds   (time, lon, bnds) float64 -0.9375 0.9375 0.9375 2.812 2.812 ...\n",
      "    lev_bnds   (time, lev, bnds) float64 0.0 10.0 10.0 21.62 21.62 35.14 ...\n",
      "    thetao     (time, lev, lat, lon) float32 1e+20 1e+20 1e+20 1e+20 1e+20 ...\n",
      "Attributes:\n",
      "    institution: Australian Commonwealth Scientific and Industrial Research Organization (CSIRO) Marine and Atmospheric Research (Melbourne, Australia) in collaboration with the Queensland Climate Change Centre of Excellence (QCCCE) (Brisbane, Australia)\n",
      "    institute_id: CSIRO-QCCCE\n",
      "    experiment_id: piControl\n",
      "    source: CSIRO-Mk3-6-0 2010 atmosphere: AGCM v7.3.4 (T63 spectral, 1.875 degrees EW x approx. 1.875 degrees NS, 18 levels); ocean: GFDL MOM2.2 (1.875 degrees EW x approx. 0.9375 degrees NS, 31 levels)\n",
      "    model_id: CSIRO-Mk3-6-0\n",
      "    forcing: N/A (Pre-industrial conditions with all forcings fixed at 1850 levels)\n",
      "    parent_experiment_id: N/A\n",
      "    parent_experiment_rip: N/A\n",
      "    branch_time: 0.0\n",
      "    contact: Project leaders: Stephen Jeffrey (Stephen.Jeffrey@qld.gov.au) & Leon Rotstayn (Leon.Rotstayn@csiro.au). Project team: Mark Collier (Mark.Collier@csiro.au: diagnostics & post-processing), Stacey Dravitzki (Stacey.Dravitzki@csiro.au: post-processing), Carlo Hamalainen (Carlo.Hamalainen@qld.gov.au: post-processing), Steve Jeffrey (Stephen.Jeffrey@qld.gov.au: modeling & post-processing), Chris Moeseneder (Chris.Moeseneder@csiro.au: post-processing), Leon Rotstayn (Leon.Rotstayn@csiro.au: modeling...\n",
      "    comment: Model output post-processed by the CSIRO-QCCCE CMIP5 Data post-processor for the IPCC Fifth Assessment. Dataset version: 1.0\n",
      "    references: a) Rotstayn, L., Collier, M., Dix, M., Feng, Y., Gordon, H., O\\'Farrell, S., Smith, I. and Syktus, J. 2010. Improved simulation of Australian climate and ENSO-related climate variability in a GCM with an interactive aerosol treatment. Int. J. Climatology, vol 30(7), pp1067-1088, DOI 10.1002/joc.1952 b) Please refer to online documentation at: http://cmip-pcmdi.llnl.gov/cmip5/\n",
      "    initialization_method: 1\n",
      "    physics_version: 1\n",
      "    tracking_id: f860767a-a5a5-42ab-b140-895aa308a4f0\n",
      "    product: output\n",
      "    experiment: pre-industrial control\n",
      "    frequency: mon\n",
      "    creation_date: 2011-05-11T07:04:01Z\n",
      "    history: Minor changes were made to the model physics between years 1-160. Data for years 1-160 were subsequently discarded, and data for years 161-660 were remapped to years 1-500. 2011-05-11T07:04:01Z CMOR rewrote data to comply with CF standards and CMIP5 requirements.\n",
      "    Conventions: CF-1.4\n",
      "    project_id: CMIP5\n",
      "    table_id: Table Omon (27 April 2011) 9e1a53e4873bf6f26879903e165fe4a0\n",
      "    title: CSIRO-Mk3-6-0 model output prepared for CMIP5 pre-industrial control\n",
      "    parent_experiment: N/A\n",
      "    modeling_realm: ocean\n",
      "    realization: 1\n",
      "    cmor_version: 2.5.9\n",
      "    version_number: v20110518\n"
     ]
    }
   ],
   "source": [
    "print ds"
   ]
  },
  {
   "cell_type": "code",
   "execution_count": 98,
   "metadata": {
    "collapsed": false
   },
   "outputs": [
    {
     "name": "stdout",
     "output_type": "stream",
     "text": [
      "15.5\n",
      "182484.5\n"
     ]
    }
   ],
   "source": [
    "print ds.time.values[0]\n",
    "print ds.time.values[-1]"
   ]
  },
  {
   "cell_type": "code",
   "execution_count": 99,
   "metadata": {
    "collapsed": false
   },
   "outputs": [
    {
     "data": {
      "text/plain": [
       "25.181073054671288"
      ]
     },
     "execution_count": 99,
     "metadata": {},
     "output_type": "execute_result"
    }
   ],
   "source": [
    "ds.nbytes * (2 ** -30)"
   ]
  },
  {
   "cell_type": "markdown",
   "metadata": {},
   "source": [
    "So there is 25.2 GB of data, according to the conversion that Stephan Hoyer does at [this blog post](https://www.continuum.io/content/xray-dask-out-core-labeled-arrays-python). Interestingly, if the time axis is converted to `numpy.datetime64` objects then the size blows out to 50.3 GB."
   ]
  },
  {
   "cell_type": "code",
   "execution_count": 100,
   "metadata": {
    "collapsed": false
   },
   "outputs": [
    {
     "data": {
      "text/plain": [
       "Frozen(SortedKeysDict({u'lat': (189,), u'bnds': (2,), u'lon': (192,), u'lev': (31,), u'time': (120, 120, 120, 120, 120, 120, 120, 120, 120, 120, 120, 120, 120, 120, 120, 120, 120, 120, 120, 120, 120, 120, 120, 120, 120, 120, 120, 120, 120, 120, 120, 120, 120, 120, 120, 120, 120, 120, 120, 120, 120, 120, 120, 120, 120, 120, 120, 120, 120, 120)}))"
      ]
     },
     "execution_count": 100,
     "metadata": {},
     "output_type": "execute_result"
    }
   ],
   "source": [
    "ds.chunks"
   ]
  },
  {
   "cell_type": "markdown",
   "metadata": {},
   "source": [
    "According to [this post](http://stackoverflow.com/questions/23849097/numpy-np-apply-along-axis-function-speed-up), `numpy.apply_along_axis()` is not for speed. It gives some other more difficult options for speeding things up, but I'm thinking dask map_blocks will work if I can rechuck such that there is a chunk for every grid point..."
   ]
  },
  {
   "cell_type": "code",
   "execution_count": null,
   "metadata": {
    "collapsed": false
   },
   "outputs": [],
   "source": [
    "rechunked = ds.chunk({'time':6000, 'lev':1, 'lat':1, 'lon':1})\n",
    "print rechunked.chunks"
   ]
  },
  {
   "cell_type": "markdown",
   "metadata": {},
   "source": [
    "### Figure out how the coefficient calculation works"
   ]
  },
  {
   "cell_type": "markdown",
   "metadata": {},
   "source": [
    "#### Fake data"
   ]
  },
  {
   "cell_type": "code",
   "execution_count": 21,
   "metadata": {
    "collapsed": true
   },
   "outputs": [],
   "source": [
    "import numpy\n",
    "import matplotlib.pyplot as plt"
   ]
  },
  {
   "cell_type": "code",
   "execution_count": 22,
   "metadata": {
    "collapsed": true
   },
   "outputs": [],
   "source": [
    "% matplotlib inline"
   ]
  },
  {
   "cell_type": "code",
   "execution_count": 23,
   "metadata": {
    "collapsed": false
   },
   "outputs": [
    {
     "name": "stdout",
     "output_type": "stream",
     "text": [
      "[-0.03663771 -0.09944278 -0.28178298 -0.53596979]\n"
     ]
    }
   ],
   "source": [
    "x = [2.53240, 1.91110, 1.18430, 0.95784, 0.33158,\n",
    "     -0.19506, -0.82144, -1.64770, -1.87450, -2.2010]\n",
    "\n",
    "y = [-2.50400, -1.62600, -1.17600, -0.87400, -0.64900,\n",
    "     -0.477000, -0.33400, -0.20600, -0.10100, -0.00600]\n",
    "\n",
    "coefficients = numpy.polyfit(x, y, 3)\n",
    "\n",
    "print coefficients"
   ]
  },
  {
   "cell_type": "code",
   "execution_count": 24,
   "metadata": {
    "collapsed": false
   },
   "outputs": [
    {
     "data": {
      "image/png": "[encoded data removed]",
      "text/plain": [
       "<matplotlib.figure.Figure at 0x7fb00151a2d0>"
      ]
     },
     "metadata": {},
     "output_type": "display_data"
    }
   ],
   "source": [
    "polynomial = numpy.poly1d(coefficients)\n",
    "xs = numpy.arange(-2.2, 2.6, 0.1)\n",
    "ys = polynomial(xs)\n",
    "\n",
    "plt.plot(x, y, 'o')\n",
    "plt.plot(xs, ys)\n",
    "plt.ylabel('y')\n",
    "plt.xlabel('x')\n",
    "plt.show()"
   ]
  },
  {
   "cell_type": "markdown",
   "metadata": {},
   "source": [
    "#### Single grid point"
   ]
  },
  {
   "cell_type": "code",
   "execution_count": 82,
   "metadata": {
    "collapsed": false
   },
   "outputs": [],
   "source": [
    "darray = ds['thetao']\n",
    "subset_dict = dict(lon=150, lat=-50, lev=15.0, method='nearest')\n",
    "grid_point_data = darray.sel(**subset_dict)"
   ]
  },
  {
   "cell_type": "code",
   "execution_count": 83,
   "metadata": {
    "collapsed": false
   },
   "outputs": [
    {
     "name": "stdout",
     "output_type": "stream",
     "text": [
      "(6000,)\n",
      "<class 'xarray.core.dataarray.DataArray'>\n"
     ]
    }
   ],
   "source": [
    "print grid_point_data.shape\n",
    "print type(grid_point_data)"
   ]
  },
  {
   "cell_type": "code",
   "execution_count": 84,
   "metadata": {
    "collapsed": false
   },
   "outputs": [
    {
     "name": "stdout",
     "output_type": "stream",
     "text": [
      "[  1.55000000e+01   4.50000000e+01   7.45000000e+01 ...,   1.82423500e+05\n",
      "   1.82454000e+05   1.82484500e+05]\n"
     ]
    }
   ],
   "source": [
    "print grid_point_data.time.values"
   ]
  },
  {
   "cell_type": "code",
   "execution_count": 87,
   "metadata": {
    "collapsed": true
   },
   "outputs": [],
   "source": [
    "x = grid_point_data.time.values\n",
    "y = grid_point_data.values\n",
    " \n",
    "a, b, c, d = numpy.polyfit(x, y, 3)\n",
    "#a, b, c, d = numpy.polynomial.polynomial.polyfit(x, y, 3)"
   ]
  },
  {
   "cell_type": "code",
   "execution_count": 86,
   "metadata": {
    "collapsed": false
   },
   "outputs": [
    {
     "name": "stdout",
     "output_type": "stream",
     "text": [
      "281.36891698 2.89929102902e-06 -1.94524448455e-11 3.03710384894e-17\n"
     ]
    }
   ],
   "source": [
    "print a, b, c, d"
   ]
  },
  {
   "cell_type": "markdown",
   "metadata": {},
   "source": [
    "For the expression $ax^3 + bx^2 + cx + d$, `numpy.polyfit` returns a, b, c, d, while `numpy.polynomial.polynomial.polyfit` returns d, c, b, a. I read that the polynomial one is more recent, but it doesn't seem to be any faster."
   ]
  },
  {
   "cell_type": "code",
   "execution_count": 56,
   "metadata": {
    "collapsed": false
   },
   "outputs": [
    {
     "data": {
      "image/png": "[encoded data removed]",
      "text/plain": [
       "<matplotlib.figure.Figure at 0x7fb0002d1dd0>"
      ]
     },
     "metadata": {},
     "output_type": "display_data"
    }
   ],
   "source": [
    "polynomial = numpy.poly1d([a, b, c, d])\n",
    "#xs = numpy.arange(ds.time.values[0], ds.time.values[-1], 50)\n",
    "xs = numpy.arange(15, 500, 50)\n",
    "ys = polynomial(xs)\n",
    "\n",
    "plt.plot(x[0:20], y[0:20], 'o')\n",
    "plt.plot(xs, ys)\n",
    "plt.ylabel('y')\n",
    "plt.xlabel('x')\n",
    "plt.show()"
   ]
  },
  {
   "cell_type": "markdown",
   "metadata": {},
   "source": [
    "#### Multiple grid points"
   ]
  },
  {
   "cell_type": "code",
   "execution_count": 77,
   "metadata": {
    "collapsed": true
   },
   "outputs": [],
   "source": [
    "def my_polyfit(data):\n",
    "    \n",
    "    return numpy.polyfit(data, my_time_axis, 3)"
   ]
  },
  {
   "cell_type": "code",
   "execution_count": 88,
   "metadata": {
    "collapsed": false
   },
   "outputs": [],
   "source": [
    "subset_dict = dict(lon=150, lat=slice(-50, -48), lev=15.0)\n",
    "multi_point_data = darray.sel(**subset_dict)"
   ]
  },
  {
   "cell_type": "code",
   "execution_count": 89,
   "metadata": {
    "collapsed": false
   },
   "outputs": [
    {
     "name": "stdout",
     "output_type": "stream",
     "text": [
      "<xarray.DataArray 'thetao' (time: 6000, lat: 3)>\n",
      "dask.array<getitem..., shape=(6000, 3), dtype=float32, chunksize=(120, 3)>\n",
      "Coordinates:\n",
      "    lev      float64 15.0\n",
      "  * lat      (lat) float64 -49.9 -48.97 -48.03\n",
      "    lon      float64 150.0\n",
      "  * time     (time) float64 15.5 45.0 74.5 105.0 135.5 166.0 196.5 227.5 ...\n",
      "Attributes:\n",
      "    standard_name: sea_water_potential_temperature\n",
      "    long_name: Sea Water Potential Temperature\n",
      "    units: K\n",
      "    original_name: Temp\n",
      "    comment: Data is stored on the native ocean T-grid on which the data was generated. (MOM2 uses a rectangular staggered grid with T cells and U cells.)\n",
      "    original_units: celsius\n",
      "    cell_methods: time: mean\n",
      "    cell_measures: area: areacello volume: volcello\n",
      "    missing_value: 1e+20\n",
      "    _FillValue: 1e+20\n",
      "    associated_files: baseURL: http://cmip-pcmdi.llnl.gov/CMIP5/dataLocation gridspecFile: gridspec_ocean_fx_CSIRO-Mk3-6-0_piControl_r0i0p0.nc areacello: areacello_fx_CSIRO-Mk3-6-0_piControl_r0i0p0.nc volcello: volcello_fx_CSIRO-Mk3-6-0_piControl_r0i0p0.nc\n"
     ]
    }
   ],
   "source": [
    "print multi_point_data"
   ]
  },
  {
   "cell_type": "code",
   "execution_count": null,
   "metadata": {
    "collapsed": true
   },
   "outputs": [],
   "source": [
    "rechunked = ds.chunk({'time': 1956, 'lev': 1})"
   ]
  },
  {
   "cell_type": "code",
   "execution_count": 80,
   "metadata": {
    "collapsed": false
   },
   "outputs": [],
   "source": [
    "my_time_axis = multi_point_data.time.values\n",
    "y = multi_point_data.values\n",
    "#x = x[..., numpy.newaxis]\n",
    "\n",
    "hello = numpy.apply_along_axis(my_polyfit, 0, x)"
   ]
  },
  {
   "cell_type": "code",
   "execution_count": 81,
   "metadata": {
    "collapsed": false
   },
   "outputs": [
    {
     "name": "stdout",
     "output_type": "stream",
     "text": [
      "(4, 1)\n"
     ]
    }
   ],
   "source": [
    "print hello.shape"
   ]
  },
  {
   "cell_type": "code",
   "execution_count": 69,
   "metadata": {
    "collapsed": false
   },
   "outputs": [
    {
     "data": {
      "text/plain": [
       "(6000, 1)"
      ]
     },
     "execution_count": 69,
     "metadata": {},
     "output_type": "execute_result"
    }
   ],
   "source": [
    "x[..., numpy.newaxis].shape"
   ]
  },
  {
   "cell_type": "code",
   "execution_count": null,
   "metadata": {
    "collapsed": true
   },
   "outputs": [],
   "source": []
  }
 ],
 "metadata": {
  "kernelspec": {
   "display_name": "Python 2",
   "language": "python",
   "name": "python2"
  },
  "language_info": {
   "codemirror_mode": {
    "name": "ipython",
    "version": 2
   },
   "file_extension": ".py",
   "mimetype": "text/x-python",
   "name": "python",
   "nbconvert_exporter": "python",
   "pygments_lexer": "ipython2",
   "version": "2.7.11"
  }
 },
 "nbformat": 4,
 "nbformat_minor": 0
}
