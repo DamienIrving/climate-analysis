{
 "metadata": {
  "name": "",
  "signature": "sha256:592116790dab42b0b5187fe42b991dfec43800eb47df631491065cc47d7ea321"
 },
 "nbformat": 3,
 "nbformat_minor": 0,
 "worksheets": [
  {
   "cells": [
    {
     "cell_type": "heading",
     "level": 1,
     "metadata": {},
     "source": [
      "Calculating the Amundsen Sea Low index"
     ]
    },
    {
     "cell_type": "code",
     "collapsed": false,
     "input": [
      "import numpy"
     ],
     "language": "python",
     "metadata": {},
     "outputs": [],
     "prompt_number": 1
    },
    {
     "cell_type": "code",
     "collapsed": false,
     "input": [
      "test_array = numpy.random.rand(5, 3, 4)\n",
      "print test_array"
     ],
     "language": "python",
     "metadata": {},
     "outputs": [
      {
       "output_type": "stream",
       "stream": "stdout",
       "text": [
        "[[[ 0.74993416  0.30661774  0.69070826  0.70982623]\n",
        "  [ 0.97459126  0.79713497  0.49568625  0.50532579]\n",
        "  [ 0.93348481  0.37680674  0.01634814  0.2028124 ]]\n",
        "\n",
        " [[ 0.16857139  0.61698818  0.23559264  0.15037761]\n",
        "  [ 0.77999115  0.49462404  0.5860626   0.10206889]\n",
        "  [ 0.59482508  0.35151554  0.48809803  0.12228361]]\n",
        "\n",
        " [[ 0.1245353   0.29351466  0.44738036  0.60100297]\n",
        "  [ 0.14127843  0.65147151  0.08537051  0.84373545]\n",
        "  [ 0.32196195  0.77964156  0.79171204  0.59849744]]\n",
        "\n",
        " [[ 0.6855915   0.1720992   0.3510368   0.30034586]\n",
        "  [ 0.3319248   0.68522836  0.5864285   0.97966235]\n",
        "  [ 0.36012417  0.44569807  0.74377535  0.60472897]]\n",
        "\n",
        " [[ 0.50640757  0.91894353  0.30055504  0.75255388]\n",
        "  [ 0.91563969  0.16470364  0.84558491  0.68670995]\n",
        "  [ 0.30607754  0.82193778  0.76897862  0.01995287]]]\n"
       ]
      }
     ],
     "prompt_number": 2
    },
    {
     "cell_type": "heading",
     "level": 3,
     "metadata": {},
     "source": [
      "Searching for the index of the minimum value along the 0th axis doesn't work..."
     ]
    },
    {
     "cell_type": "code",
     "collapsed": false,
     "input": [
      "min_indexes = numpy.argmin(test_array, axis=0)\n",
      "print min_indexes.shape\n",
      "print min_indexes"
     ],
     "language": "python",
     "metadata": {},
     "outputs": [
      {
       "output_type": "stream",
       "stream": "stdout",
       "text": [
        "(3, 4)\n",
        "[[2 3 1 1]\n",
        " [2 4 2 1]\n",
        " [4 1 0 4]]\n"
       ]
      }
     ],
     "prompt_number": 3
    },
    {
     "cell_type": "code",
     "collapsed": false,
     "input": [
      "print \n",
      "print min_indexes[0,0]"
     ],
     "language": "python",
     "metadata": {},
     "outputs": [
      {
       "output_type": "stream",
       "stream": "stdout",
       "text": [
        "\n",
        "2\n"
       ]
      }
     ],
     "prompt_number": 4
    },
    {
     "cell_type": "code",
     "collapsed": false,
     "input": [
      "numpy.apply_along_axis(numpy.argmin, 0, test_array)"
     ],
     "language": "python",
     "metadata": {},
     "outputs": [
      {
       "metadata": {},
       "output_type": "pyout",
       "prompt_number": 5,
       "text": [
        "array([[2, 3, 1, 1],\n",
        "       [2, 4, 2, 1],\n",
        "       [4, 1, 0, 4]])"
       ]
      }
     ],
     "prompt_number": 5
    },
    {
     "cell_type": "heading",
     "level": 3,
     "metadata": {},
     "source": [
      "But I can use `numpy.reshape` to flatten the lat/lon dimensions..."
     ]
    },
    {
     "cell_type": "code",
     "collapsed": false,
     "input": [
      "test_array_reshaped = numpy.reshape(test_array, (5,12))\n",
      "print test_array_reshaped.shape\n",
      "print test_array[2,:]\n",
      "print \"minimum_values\"\n",
      "print numpy.amin(test_array_reshaped, axis=1)"
     ],
     "language": "python",
     "metadata": {},
     "outputs": [
      {
       "output_type": "stream",
       "stream": "stdout",
       "text": [
        "(5, 12)\n",
        "[[ 0.1245353   0.29351466  0.44738036  0.60100297]\n",
        " [ 0.14127843  0.65147151  0.08537051  0.84373545]\n",
        " [ 0.32196195  0.77964156  0.79171204  0.59849744]]\n",
        "minimum_values\n",
        "[ 0.01634814  0.10206889  0.08537051  0.1720992   0.01995287]\n"
       ]
      }
     ],
     "prompt_number": 33
    },
    {
     "cell_type": "code",
     "collapsed": false,
     "input": [
      "print test_array[2,:,:]"
     ],
     "language": "python",
     "metadata": {},
     "outputs": [
      {
       "output_type": "stream",
       "stream": "stdout",
       "text": [
        "[[ 0.1245353   0.29351466  0.44738036  0.60100297]\n",
        " [ 0.14127843  0.65147151  0.08537051  0.84373545]\n",
        " [ 0.32196195  0.77964156  0.79171204  0.59849744]]\n"
       ]
      }
     ],
     "prompt_number": 7
    },
    {
     "cell_type": "code",
     "collapsed": false,
     "input": [
      "indexes = numpy.argmin(test_array_reshaped, axis=1)\n",
      "print indexes"
     ],
     "language": "python",
     "metadata": {},
     "outputs": [
      {
       "output_type": "stream",
       "stream": "stdout",
       "text": [
        "[10  7  6  1 11]\n"
       ]
      }
     ],
     "prompt_number": 20
    },
    {
     "cell_type": "code",
     "collapsed": false,
     "input": [
      "#numpy.unravel_index(4, (5,3,4))"
     ],
     "language": "python",
     "metadata": {},
     "outputs": [],
     "prompt_number": 9
    },
    {
     "cell_type": "code",
     "collapsed": false,
     "input": [
      "print test_array_reshaped[0,:]\n",
      "print test_array_reshaped[0,10]\n",
      "\n",
      "print test_array_reshaped[1,:]\n",
      "print test_array_reshaped[1,7]\n",
      "\n",
      "print test_array_reshaped[3,:]\n",
      "print test_array_reshaped[3,1]"
     ],
     "language": "python",
     "metadata": {},
     "outputs": [
      {
       "output_type": "stream",
       "stream": "stdout",
       "text": [
        "[ 0.74993416  0.30661774  0.69070826  0.70982623  0.97459126  0.79713497\n",
        "  0.49568625  0.50532579  0.93348481  0.37680674  0.01634814  0.2028124 ]\n",
        "0.0163481391969\n",
        "[ 0.16857139  0.61698818  0.23559264  0.15037761  0.77999115  0.49462404\n",
        "  0.5860626   0.10206889  0.59482508  0.35151554  0.48809803  0.12228361]\n",
        "0.102068889629\n",
        "[ 0.6855915   0.1720992   0.3510368   0.30034586  0.3319248   0.68522836\n",
        "  0.5864285   0.97966235  0.36012417  0.44569807  0.74377535  0.60472897]\n",
        "0.172099202603\n"
       ]
      }
     ],
     "prompt_number": 29
    },
    {
     "cell_type": "heading",
     "level": 3,
     "metadata": {},
     "source": [
      "Then just need to find the corresponding lat/lon value"
     ]
    },
    {
     "cell_type": "code",
     "collapsed": false,
     "input": [
      "lat_axis = [-70, -65, -60]\n",
      "lon_axis = [180, 200, 220, 240]"
     ],
     "language": "python",
     "metadata": {},
     "outputs": [],
     "prompt_number": 13
    },
    {
     "cell_type": "code",
     "collapsed": false,
     "input": [
      "def coordinate_pairs(lat_axis, lon_axis):\n",
      "    \"\"\"Take the latitude and longitude values from given grid axes\n",
      "    and produce a flattened lat and lon array, with element-wise pairs\n",
      "    corresponding to every grid point.\"\"\"\n",
      "    lon_mesh, lat_mesh = numpy.meshgrid(lon_axis, lat_axis) # This is the correct order\n",
      "    return lat_mesh.flatten(), lon_mesh.flatten()"
     ],
     "language": "python",
     "metadata": {},
     "outputs": [],
     "prompt_number": 16
    },
    {
     "cell_type": "code",
     "collapsed": false,
     "input": [
      "lats, lons = coordinate_pairs(lat_axis, lon_axis)"
     ],
     "language": "python",
     "metadata": {},
     "outputs": [],
     "prompt_number": 17
    },
    {
     "cell_type": "code",
     "collapsed": false,
     "input": [
      "lats"
     ],
     "language": "python",
     "metadata": {},
     "outputs": [
      {
       "metadata": {},
       "output_type": "pyout",
       "prompt_number": 18,
       "text": [
        "array([-70, -70, -70, -70, -65, -65, -65, -65, -60, -60, -60, -60])"
       ]
      }
     ],
     "prompt_number": 18
    },
    {
     "cell_type": "code",
     "collapsed": false,
     "input": [
      "lons"
     ],
     "language": "python",
     "metadata": {},
     "outputs": [
      {
       "metadata": {},
       "output_type": "pyout",
       "prompt_number": 19,
       "text": [
        "array([180, 200, 220, 240, 180, 200, 220, 240, 180, 200, 220, 240])"
       ]
      }
     ],
     "prompt_number": 19
    },
    {
     "cell_type": "code",
     "collapsed": false,
     "input": [
      "numpy.take(lats, indexes)"
     ],
     "language": "python",
     "metadata": {},
     "outputs": [
      {
       "metadata": {},
       "output_type": "pyout",
       "prompt_number": 34,
       "text": [
        "array([-60, -65, -65, -70, -60])"
       ]
      }
     ],
     "prompt_number": 34
    },
    {
     "cell_type": "code",
     "collapsed": false,
     "input": [],
     "language": "python",
     "metadata": {},
     "outputs": []
    }
   ],
   "metadata": {}
  }
 ]
}