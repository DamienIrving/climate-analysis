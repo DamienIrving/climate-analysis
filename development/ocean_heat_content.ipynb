{
 "cells": [
  {
   "cell_type": "code",
   "execution_count": 1,
   "metadata": {
    "collapsed": true
   },
   "outputs": [],
   "source": [
    "import iris\n",
    "import numpy\n",
    "from pyproj import Proj\n",
    "from shapely.geometry import shape"
   ]
  },
  {
   "cell_type": "markdown",
   "metadata": {},
   "source": [
    "## Read the data"
   ]
  },
  {
   "cell_type": "markdown",
   "metadata": {},
   "source": [
    "The idea is to use iris so that the `cube.coord('latitude').guess_bounds()` method can be used if the bounds aren't supplied. (This can be done for latitude, longitude or level). The values held in an iris cube are `numpy.ma.core.MaskedArray`."
   ]
  },
  {
   "cell_type": "code",
   "execution_count": 2,
   "metadata": {
    "collapsed": true
   },
   "outputs": [],
   "source": [
    "infile = \"/Users/irv033/Downloads/data/thetao_Omon_CSIRO-Mk3-6-0_piControl_r1i1p1_000101-001012.nc\""
   ]
  },
  {
   "cell_type": "code",
   "execution_count": 3,
   "metadata": {
    "collapsed": true
   },
   "outputs": [],
   "source": [
    "def lat_subset(cell):\n",
    "    return -10 < cell < 10\n",
    "\n",
    "def lon_subset(cell):\n",
    "    return 30 < cell < 70\n",
    "\n",
    "lat_constraint = iris.Constraint(latitude=lat_subset)\n",
    "lon_constraint = iris.Constraint(longitude=lon_subset)"
   ]
  },
  {
   "cell_type": "code",
   "execution_count": 4,
   "metadata": {
    "collapsed": false
   },
   "outputs": [
    {
     "name": "stderr",
     "output_type": "stream",
     "text": [
      "/Users/irv033/miniconda2/envs/default/lib/python2.7/site-packages/iris/fileformats/cf.py:794: UserWarning: Missing CF-netCDF measure variable u'areacello', referenced by netCDF variable u'thetao'\n",
      "  warnings.warn(message % (variable_name, nc_var_name))\n",
      "/Users/irv033/miniconda2/envs/default/lib/python2.7/site-packages/iris/fileformats/cf.py:794: UserWarning: Missing CF-netCDF measure variable u'volcello', referenced by netCDF variable u'thetao'\n",
      "  warnings.warn(message % (variable_name, nc_var_name))\n",
      "/Users/irv033/miniconda2/envs/default/lib/python2.7/site-packages/iris/fileformats/cf.py:1139: UserWarning: NetCDF default loading behaviour currently does not expose variables which define reference surfaces for dimensionless vertical coordinates as independent Cubes. This behaviour is deprecated in favour of automatic promotion to Cubes. To switch to the new behaviour, set iris.FUTURE.netcdf_promote to True.\n",
      "  warnings.warn(msg)\n"
     ]
    }
   ],
   "source": [
    "with iris.FUTURE.context(cell_datetime_objects=True):\n",
    "    cube = iris.load_cube(infile, 'sea_water_potential_temperature' & lat_constraint & lon_constraint)"
   ]
  },
  {
   "cell_type": "code",
   "execution_count": 5,
   "metadata": {
    "collapsed": false
   },
   "outputs": [
    {
     "name": "stdout",
     "output_type": "stream",
     "text": [
      "sea_water_potential_temperature / (K) (time: 120; depth: 31; latitude: 20; longitude: 20)\n",
      "     Dimension coordinates:\n",
      "          time                             x           -             -              -\n",
      "          depth                            -           x             -              -\n",
      "          latitude                         -           -             x              -\n",
      "          longitude                        -           -             -              x\n",
      "     Attributes:\n",
      "          Conventions: CF-1.4\n",
      "          associated_files: baseURL: http://cmip-pcmdi.llnl.gov/CMIP5/dataLocation gridspecFile: gridspec_ocean_fx_CSIRO-Mk3-6-0_piControl_r0i0p0.nc...\n",
      "          branch_time: 0.0\n",
      "          cmor_version: 2.5.9\n",
      "          comment: Data is stored on the native ocean T-grid on which the data was generated....\n",
      "          contact: Project leaders: Stephen Jeffrey (Stephen.Jeffrey@qld.gov.au) & Leon Rotstayn...\n",
      "          creation_date: 2011-05-11T07:04:01Z\n",
      "          experiment: pre-industrial control\n",
      "          experiment_id: piControl\n",
      "          forcing: N/A (Pre-industrial conditions with all forcings fixed at 1850 levels)\n",
      "          frequency: mon\n",
      "          history: 2011-05-11T07:04:01Z altered by CMOR: Converted units from 'celsius' to...\n",
      "          initialization_method: 1\n",
      "          institute_id: CSIRO-QCCCE\n",
      "          institution: Australian Commonwealth Scientific and Industrial Research Organization...\n",
      "          model_id: CSIRO-Mk3-6-0\n",
      "          modeling_realm: ocean\n",
      "          original_name: Temp\n",
      "          original_units: celsius\n",
      "          parent_experiment: N/A\n",
      "          parent_experiment_id: N/A\n",
      "          parent_experiment_rip: N/A\n",
      "          physics_version: 1\n",
      "          product: output\n",
      "          project_id: CMIP5\n",
      "          realization: 1\n",
      "          references: a) Rotstayn, L., Collier, M., Dix, M., Feng, Y., Gordon, H., O\\'Farrell,...\n",
      "          source: CSIRO-Mk3-6-0 2010 atmosphere: AGCM v7.3.4 (T63 spectral, 1.875 degrees...\n",
      "          table_id: Table Omon (27 April 2011) 9e1a53e4873bf6f26879903e165fe4a0\n",
      "          title: CSIRO-Mk3-6-0 model output prepared for CMIP5 pre-industrial control\n",
      "          tracking_id: f860767a-a5a5-42ab-b140-895aa308a4f0\n",
      "          version_number: v20110518\n",
      "     Cell methods:\n",
      "          mean: time\n"
     ]
    }
   ],
   "source": [
    "print cube"
   ]
  },
  {
   "cell_type": "code",
   "execution_count": 6,
   "metadata": {
    "collapsed": false
   },
   "outputs": [
    {
     "name": "stdout",
     "output_type": "stream",
     "text": [
      "(20, 2)\n",
      "(20, 2)\n",
      "(31, 2)\n",
      "<type 'numpy.ndarray'>\n"
     ]
    }
   ],
   "source": [
    "lat_bounds = cube.coord('latitude').bounds\n",
    "lon_bounds = cube.coord('longitude').bounds\n",
    "lev_bounds = cube.coord('depth').bounds\n",
    "\n",
    "print lat_bounds.shape\n",
    "print lon_bounds.shape\n",
    "print lev_bounds.shape\n",
    "\n",
    "print type(lat_bounds)"
   ]
  },
  {
   "cell_type": "code",
   "execution_count": 7,
   "metadata": {
    "collapsed": false
   },
   "outputs": [],
   "source": [
    "lat_diffs = numpy.apply_along_axis(lambda x: x[1] - x[0], 1, lat_bounds)\n",
    "lon_diffs = numpy.apply_along_axis(lambda x: x[1] - x[0], 1, lon_bounds)\n",
    "lev_diffs = numpy.apply_along_axis(lambda x: x[1] - x[0], 1, lev_bounds)"
   ]
  },
  {
   "cell_type": "code",
   "execution_count": 8,
   "metadata": {
    "collapsed": false
   },
   "outputs": [
    {
     "name": "stdout",
     "output_type": "stream",
     "text": [
      "(20,)\n",
      "0.932671070099\n",
      "[-6.5287075  -5.59603643]\n"
     ]
    }
   ],
   "source": [
    "print lat_diffs.shape\n",
    "print lat_diffs[3]\n",
    "print lat_bounds[3,:]"
   ]
  },
  {
   "cell_type": "markdown",
   "metadata": {},
   "source": [
    "## Perform the integration"
   ]
  },
  {
   "cell_type": "markdown",
   "metadata": {},
   "source": [
    "Rather than use [`scipy.integrate.simps`](http://docs.scipy.org/doc/scipy-0.14.0/reference/generated/scipy.integrate.simps.html) or something similar, I think it's best to use the level bounds provided in the dataset to essentially define and calculate the area of a series of rectangles."
   ]
  },
  {
   "cell_type": "markdown",
   "metadata": {},
   "source": [
    "#### Single point"
   ]
  },
  {
   "cell_type": "code",
   "execution_count": 9,
   "metadata": {
    "collapsed": false
   },
   "outputs": [
    {
     "name": "stdout",
     "output_type": "stream",
     "text": [
      "[-- -- -- -- -- -- -- -- -- -- -- -- -- -- -- -- -- -- -- -- -- -- -- -- --\n",
      " -- -- -- -- -- --]\n",
      "<class 'numpy.ma.core.MaskedArray'>\n"
     ]
    }
   ],
   "source": [
    "test_point = cube.data[1, :, 1, 1]\n",
    "print test_point\n",
    "print type(test_point)"
   ]
  },
  {
   "cell_type": "code",
   "execution_count": 10,
   "metadata": {
    "collapsed": false
   },
   "outputs": [
    {
     "name": "stdout",
     "output_type": "stream",
     "text": [
      "[-- -- -- -- -- -- -- -- -- -- -- -- -- -- -- -- -- -- -- -- -- -- -- -- --\n",
      " -- -- -- -- -- --]\n",
      "--\n"
     ]
    }
   ],
   "source": [
    "areas = test_point * lev_diffs\n",
    "print areas\n",
    "print areas.sum()"
   ]
  },
  {
   "cell_type": "code",
   "execution_count": 11,
   "metadata": {
    "collapsed": false
   },
   "outputs": [
    {
     "name": "stdout",
     "output_type": "stream",
     "text": [
      "[-- -- -- -- -- -- -- -- -- -- -- -- -- -- -- -- -- -- -- -- -- -- -- -- --\n",
      " -- -- -- -- -- --]\n",
      "<class 'numpy.ma.core.MaskedArray'>\n"
     ]
    }
   ],
   "source": [
    "test_point = cube.data[1, :, 15, 1]\n",
    "print test_point\n",
    "print type(test_point)"
   ]
  },
  {
   "cell_type": "code",
   "execution_count": 12,
   "metadata": {
    "collapsed": false
   },
   "outputs": [
    {
     "name": "stdout",
     "output_type": "stream",
     "text": [
      "[-- -- -- -- -- -- -- -- -- -- -- -- -- -- -- -- -- -- -- -- -- -- -- -- --\n",
      " -- -- -- -- -- --]\n",
      "--\n"
     ]
    }
   ],
   "source": [
    "areas = test_point * lev_diffs\n",
    "print areas\n",
    "print areas.sum()"
   ]
  },
  {
   "cell_type": "markdown",
   "metadata": {},
   "source": [
    "#### Whole array"
   ]
  },
  {
   "cell_type": "code",
   "execution_count": 13,
   "metadata": {
    "collapsed": true
   },
   "outputs": [],
   "source": [
    "def simple_integration(vector, lev_steps):\n",
    "    \"\"\"Perform integration for a single vector (of length of level dimension)\"\"\"\n",
    "    \n",
    "    areas = vector * lev_steps\n",
    "    \n",
    "    return areas.sum()"
   ]
  },
  {
   "cell_type": "code",
   "execution_count": 14,
   "metadata": {
    "collapsed": true
   },
   "outputs": [],
   "source": [
    "OHC_per_m2 = numpy.ma.apply_along_axis(simple_integration, 1, cube.data, lev_diffs)"
   ]
  },
  {
   "cell_type": "code",
   "execution_count": 15,
   "metadata": {
    "collapsed": false
   },
   "outputs": [
    {
     "name": "stdout",
     "output_type": "stream",
     "text": [
      "(120, 20, 20)\n",
      "<class 'numpy.ma.core.MaskedArray'>\n",
      "--\n",
      "--\n"
     ]
    }
   ],
   "source": [
    "print OHC_per_m2.shape\n",
    "print type(OHC_per_m2)\n",
    "print OHC_per_m2[1, 1, 1]\n",
    "print OHC_per_m2[1, 15, 1]"
   ]
  },
  {
   "cell_type": "markdown",
   "metadata": {},
   "source": [
    "It is at this point that I might save the field to file (i.e. with units $J / m^2$). Spatial plots of OHC usually have these units."
   ]
  },
  {
   "cell_type": "markdown",
   "metadata": {},
   "source": [
    "## Integrating up: Multiply by the area"
   ]
  },
  {
   "cell_type": "markdown",
   "metadata": {},
   "source": [
    "### Example\n",
    "\n",
    "Following [this](http://stackoverflow.com/questions/4681737/how-to-calculate-the-area-of-a-polygon-on-the-earths-surface-using-python) Stack Overflow response..."
   ]
  },
  {
   "cell_type": "code",
   "execution_count": 18,
   "metadata": {
    "collapsed": true
   },
   "outputs": [],
   "source": [
    "co = {\"type\": \"Polygon\", \"coordinates\": [\n",
    "    [(-102.05, 41.0),\n",
    "     (-102.05, 37.0),\n",
    "     (-109.05, 37.0),\n",
    "     (-109.05, 41.0)]]}\n",
    "lon, lat = zip(*co['coordinates'][0])\n",
    "pa = Proj(\"+proj=aea +lat_1=37.0 +lat_2=41.0 +lat_0=39.0 +lon_0=-106.55\")"
   ]
  },
  {
   "cell_type": "code",
   "execution_count": 19,
   "metadata": {
    "collapsed": false
   },
   "outputs": [
    {
     "data": {
      "text/plain": [
       "268952044107.43454"
      ]
     },
     "execution_count": 19,
     "metadata": {},
     "output_type": "execute_result"
    }
   ],
   "source": [
    "x, y = pa(lon, lat)\n",
    "cop = {\"type\": \"Polygon\", \"coordinates\": [zip(x, y)]}\n",
    "shape(cop).area "
   ]
  },
  {
   "cell_type": "code",
   "execution_count": 20,
   "metadata": {
    "collapsed": false
   },
   "outputs": [
    {
     "data": {
      "text/plain": [
       "[(-102.05, 41.0), (-102.05, 37.0), (-109.05, 37.0), (-109.05, 41.0)]"
      ]
     },
     "execution_count": 20,
     "metadata": {},
     "output_type": "execute_result"
    }
   ],
   "source": [
    "co['coordinates'][0]"
   ]
  },
  {
   "cell_type": "code",
   "execution_count": 21,
   "metadata": {
    "collapsed": false
   },
   "outputs": [
    {
     "name": "stdout",
     "output_type": "stream",
     "text": [
      "(41.0, 37.0, 37.0, 41.0)\n",
      "(-102.05, -102.05, -109.05, -109.05)\n"
     ]
    }
   ],
   "source": [
    "print lat\n",
    "print lon"
   ]
  },
  {
   "cell_type": "markdown",
   "metadata": {},
   "source": [
    "### My data"
   ]
  },
  {
   "cell_type": "code",
   "execution_count": 22,
   "metadata": {
    "collapsed": false
   },
   "outputs": [
    {
     "name": "stdout",
     "output_type": "stream",
     "text": [
      "[-9.3267231  -8.39405155]\n",
      "[ 30.9375  32.8125]\n"
     ]
    }
   ],
   "source": [
    "eg_lat = lat_bounds[0, :]\n",
    "eg_lon = lon_bounds[0, :]\n",
    "\n",
    "print eg_lat\n",
    "print eg_lon"
   ]
  },
  {
   "cell_type": "code",
   "execution_count": 23,
   "metadata": {
    "collapsed": false
   },
   "outputs": [
    {
     "name": "stdout",
     "output_type": "stream",
     "text": [
      "[-9.3267231  -8.39405155 -9.3267231  -8.39405155]\n",
      "[ 30.9375  30.9375  32.8125  32.8125]\n"
     ]
    }
   ],
   "source": [
    "mesh_lat, mesh_lon = numpy.meshgrid(eg_lat, eg_lon)\n",
    "\n",
    "print mesh_lat.flatten()\n",
    "print mesh_lon.flatten()"
   ]
  },
  {
   "cell_type": "code",
   "execution_count": 38,
   "metadata": {
    "collapsed": true
   },
   "outputs": [],
   "source": [
    "def cell_area(lon_bnds, lat_bnds):\n",
    "    \"\"\"Grid cell area.\"\"\"\n",
    "    \n",
    "    lons = [lon_bnds[0], lon_bnds[0], lon_bnds[1], lon_bnds[1]]\n",
    "    lats = [lat_bnds[0], lat_bnds[1], lat_bnds[1], lat_bnds[0]]\n",
    "    \n",
    "    ave_lon = (lon_bnds[0] + lon_bnds[-1]) / 2.0\n",
    "    ave_lat = (lat_bnds[0] + lat_bnds[-1]) / 2.0\n",
    "    proj_syntax = \"+proj=aea +lat_1=%f +lat_2=%f +lat_0=%f +lon_0=%f\" %(lat_bnds[0], lat_bnds[-1], ave_lat, ave_lon)\n",
    "    \n",
    "    print proj_syntax\n",
    "    \n",
    "    pa = Proj(proj_syntax)\n",
    "    \n",
    "    x, y = pa(lons, lats)\n",
    "    cop = {\"type\": \"Polygon\", \"coordinates\": [zip(x, y)]}\n",
    "    \n",
    "    return shape(cop).area"
   ]
  },
  {
   "cell_type": "code",
   "execution_count": 39,
   "metadata": {
    "collapsed": false
   },
   "outputs": [
    {
     "name": "stdout",
     "output_type": "stream",
     "text": [
      "+proj=aea +lat_1=-9.326723 +lat_2=-8.394052 +lat_0=-8.860387 +lon_0=31.875000\n"
     ]
    },
    {
     "data": {
      "text/plain": [
       "21275166772.52099"
      ]
     },
     "execution_count": 39,
     "metadata": {},
     "output_type": "execute_result"
    }
   ],
   "source": [
    "cell_area(eg_lon, eg_lat)"
   ]
  },
  {
   "cell_type": "code",
   "execution_count": 40,
   "metadata": {
    "collapsed": true
   },
   "outputs": [],
   "source": [
    "lon_diff = eg_lon[-1] - eg_lon[0]\n",
    "lat_diff = eg_lat[-1] - eg_lat[0]"
   ]
  },
  {
   "cell_type": "code",
   "execution_count": 41,
   "metadata": {
    "collapsed": false
   },
   "outputs": [
    {
     "name": "stdout",
     "output_type": "stream",
     "text": [
      "1.875\n",
      "0.932671546936\n"
     ]
    }
   ],
   "source": [
    "print lon_diff\n",
    "print lat_diff"
   ]
  },
  {
   "cell_type": "markdown",
   "metadata": {},
   "source": [
    "Check the calculation with figures from [here](http://fas.org/news/reference/calc/degree.html)..."
   ]
  },
  {
   "cell_type": "code",
   "execution_count": 42,
   "metadata": {
    "collapsed": false
   },
   "outputs": [
    {
     "data": {
      "text/plain": [
       "21267472779.097378"
      ]
     },
     "execution_count": 42,
     "metadata": {},
     "output_type": "execute_result"
    }
   ],
   "source": [
    "deg_lat_m = 110601\n",
    "deg_lon_m = 109958\n",
    "\n",
    "(deg_lat_m * lat_diff) * (deg_lon_m * lon_diff)"
   ]
  },
  {
   "cell_type": "code",
   "execution_count": null,
   "metadata": {
    "collapsed": false
   },
   "outputs": [],
   "source": []
  },
  {
   "cell_type": "code",
   "execution_count": null,
   "metadata": {
    "collapsed": true
   },
   "outputs": [],
   "source": []
  }
 ],
 "metadata": {
  "kernelspec": {
   "display_name": "Python 2",
   "language": "python",
   "name": "python2"
  },
  "language_info": {
   "codemirror_mode": {
    "name": "ipython",
    "version": 2
   },
   "file_extension": ".py",
   "mimetype": "text/x-python",
   "name": "python",
   "nbconvert_exporter": "python",
   "pygments_lexer": "ipython2",
   "version": "2.7.11"
  }
 },
 "nbformat": 4,
 "nbformat_minor": 0
}
