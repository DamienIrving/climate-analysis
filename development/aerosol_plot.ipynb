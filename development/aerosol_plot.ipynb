{
 "cells": [
  {
   "cell_type": "markdown",
   "metadata": {},
   "source": [
    "# Plot aerosol optical depth"
   ]
  },
  {
   "cell_type": "code",
   "execution_count": 10,
   "metadata": {
    "collapsed": false
   },
   "outputs": [],
   "source": [
    "import numpy\n",
    "import iris\n",
    "\n",
    "import matplotlib.pyplot as plt\n",
    "from matplotlib import gridspec\n",
    "\n",
    "import cartopy.crs as ccrs\n",
    "from cartopy.mpl.ticker import LongitudeFormatter, LatitudeFormatter"
   ]
  },
  {
   "cell_type": "markdown",
   "metadata": {},
   "source": [
    "### Read data"
   ]
  },
  {
   "cell_type": "code",
   "execution_count": 4,
   "metadata": {
    "collapsed": true
   },
   "outputs": [],
   "source": [
    "infile = '/Users/irv033/Downloads/od550aer_aero_CSIRO-Mk3-6-0_historicalMisc_r1i1p4_185001-201212.nc'"
   ]
  },
  {
   "cell_type": "code",
   "execution_count": 6,
   "metadata": {
    "collapsed": false
   },
   "outputs": [
    {
     "name": "stdout",
     "output_type": "stream",
     "text": [
      "atmosphere_optical_thickness_due_to_ambient_aerosol / (1) (time: 1956; latitude: 96; longitude: 192)\n",
      "     Dimension coordinates:\n",
      "          time                                                 x               -              -\n",
      "          latitude                                             -               x              -\n",
      "          longitude                                            -               -              x\n",
      "     Attributes:\n",
      "          Conventions: CF-1.4\n",
      "          associated_files: baseURL: http://cmip-pcmdi.llnl.gov/CMIP5/dataLocation gridspecFile: gridspec_aerosol_fx_CSIRO-Mk3-6-0_historicalMisc_r0i0p4.nc...\n",
      "          branch_time: 29200.0\n",
      "          cmor_version: 2.6.0\n",
      "          comment: The raw model output has been divided by the fraction of time each pixel...\n",
      "          contact: Project leaders: Stephen Jeffrey (Stephen.Jeffrey@qld.gov.au) & Leon Rotstayn...\n",
      "          creation_date: 2011-10-09T02:34:23Z\n",
      "          experiment: other historical forcing\n",
      "          experiment_id: historicalMisc\n",
      "          forcing: AA (anthropogenic aerosols, including the indirect effect of aerosols on...\n",
      "          frequency: mon\n",
      "          history: 2011-10-09T02:34:23Z altered by CMOR: replaced missing value flag (-7.77778e+06)...\n",
      "          initialization_method: 1\n",
      "          institute_id: CSIRO-QCCCE\n",
      "          institution: Australian Commonwealth Scientific and Industrial Research Organization...\n",
      "          model_id: CSIRO-Mk3-6-0\n",
      "          modeling_realm: aerosol\n",
      "          original_name: ta5\n",
      "          parent_experiment: piControl\n",
      "          parent_experiment_id: piControl\n",
      "          parent_experiment_rip: r1i1p1\n",
      "          physics_version: 4\n",
      "          product: output\n",
      "          project_id: CMIP5\n",
      "          realization: 1\n",
      "          references: a) Rotstayn, L., Collier, M., Dix, M., Feng, Y., Gordon, H., O\\'Farrell,...\n",
      "          source: CSIRO-Mk3-6-0 2010 atmosphere: AGCM v7.3.5 (T63 spectral, 1.875 degrees...\n",
      "          table_id: Table aero (27 April 2011) 515efb11350437308d37d5ae80d7523f\n",
      "          title: CSIRO-Mk3-6-0 model output prepared for CMIP5 anthropogenic aerosols o...\n",
      "          tracking_id: 69dd8177-a70f-4791-a6a5-78fc8c702e77\n",
      "          version_number: v20110518\n",
      "     Cell methods:\n",
      "          mean: time\n"
     ]
    }
   ],
   "source": [
    "cube = iris.load_cube(infile, 'atmosphere_optical_thickness_due_to_ambient_aerosol') \n",
    "print cube"
   ]
  },
  {
   "cell_type": "code",
   "execution_count": 7,
   "metadata": {
    "collapsed": false
   },
   "outputs": [
    {
     "name": "stdout",
     "output_type": "stream",
     "text": [
      "atmosphere_optical_thickness_due_to_ambient_aerosol / (1) (time: 1956; latitude: 96)\n",
      "     Dimension coordinates:\n",
      "          time                                                 x               -\n",
      "          latitude                                             -               x\n",
      "     Scalar coordinates:\n",
      "          longitude: 179.0625 degrees, bound=(-0.9375, 359.0625) degrees\n",
      "     Attributes:\n",
      "          Conventions: CF-1.4\n",
      "          associated_files: baseURL: http://cmip-pcmdi.llnl.gov/CMIP5/dataLocation gridspecFile: gridspec_aerosol_fx_CSIRO-Mk3-6-0_historicalMisc_r0i0p4.nc...\n",
      "          branch_time: 29200.0\n",
      "          cmor_version: 2.6.0\n",
      "          comment: The raw model output has been divided by the fraction of time each pixel...\n",
      "          contact: Project leaders: Stephen Jeffrey (Stephen.Jeffrey@qld.gov.au) & Leon Rotstayn...\n",
      "          creation_date: 2011-10-09T02:34:23Z\n",
      "          experiment: other historical forcing\n",
      "          experiment_id: historicalMisc\n",
      "          forcing: AA (anthropogenic aerosols, including the indirect effect of aerosols on...\n",
      "          frequency: mon\n",
      "          history: 2011-10-09T02:34:23Z altered by CMOR: replaced missing value flag (-7.77778e+06)...\n",
      "          initialization_method: 1\n",
      "          institute_id: CSIRO-QCCCE\n",
      "          institution: Australian Commonwealth Scientific and Industrial Research Organization...\n",
      "          model_id: CSIRO-Mk3-6-0\n",
      "          modeling_realm: aerosol\n",
      "          original_name: ta5\n",
      "          parent_experiment: piControl\n",
      "          parent_experiment_id: piControl\n",
      "          parent_experiment_rip: r1i1p1\n",
      "          physics_version: 4\n",
      "          product: output\n",
      "          project_id: CMIP5\n",
      "          realization: 1\n",
      "          references: a) Rotstayn, L., Collier, M., Dix, M., Feng, Y., Gordon, H., O\\'Farrell,...\n",
      "          source: CSIRO-Mk3-6-0 2010 atmosphere: AGCM v7.3.5 (T63 spectral, 1.875 degrees...\n",
      "          table_id: Table aero (27 April 2011) 515efb11350437308d37d5ae80d7523f\n",
      "          title: CSIRO-Mk3-6-0 model output prepared for CMIP5 anthropogenic aerosols o...\n",
      "          tracking_id: 69dd8177-a70f-4791-a6a5-78fc8c702e77\n",
      "          version_number: v20110518\n",
      "     Cell methods:\n",
      "          mean: time\n",
      "          mean: longitude\n"
     ]
    }
   ],
   "source": [
    "zonal_mean_cube = cube.collapsed(['longitude'], iris.analysis.MEAN)\n",
    "print zonal_mean_cube"
   ]
  },
  {
   "cell_type": "markdown",
   "metadata": {},
   "source": [
    "### Plot trends"
   ]
  },
  {
   "cell_type": "code",
   "execution_count": 8,
   "metadata": {
    "collapsed": true
   },
   "outputs": [],
   "source": [
    "def calc_trend(cube, running_mean=True):\n",
    "    \"\"\"Calculate linear trend.\n",
    "    \n",
    "    A 12-month running mean can first be applied to the data.\n",
    "\n",
    "    \"\"\"\n",
    "\n",
    "    coord_names = [coord.name() for coord in cube.dim_coords]\n",
    "    assert coord_names[0] == 'time'\n",
    "\n",
    "    if running_mean:\n",
    "        cube = cube.rolling_window('time', iris.analysis.MEAN, 12)\n",
    "\n",
    "    time_axis = cube.coord('time')\n",
    "\n",
    "    trend = numpy.ma.apply_along_axis(linear_trend, 0, cube.data, time_axis.points)\n",
    "    trend = numpy.ma.masked_values(trend, cube.data.fill_value)\n",
    "\n",
    "    return trend\n",
    "\n",
    "\n",
    "def linear_trend(data, time_axis):\n",
    "    \"\"\"Calculate the linear trend.\n",
    "    polyfit returns [a, b] corresponding to y = a + bx\n",
    "    \"\"\"    \n",
    "\n",
    "    if data.mask[0]:\n",
    "        return data.fill_value\n",
    "    else:    \n",
    "        return numpy.polynomial.polynomial.polyfit(time_axis, data, 1)[-1]"
   ]
  },
  {
   "cell_type": "code",
   "execution_count": 9,
   "metadata": {
    "collapsed": false
   },
   "outputs": [
    {
     "name": "stderr",
     "output_type": "stream",
     "text": [
      "/Applications/anaconda/envs/default/lib/python2.7/site-packages/iris/cube.py:3381: UserWarning: The bounds of coordinate u'time' were ignored in the rolling window operation.\n",
      "  'the rolling window operation.' % coord_.name())\n"
     ]
    }
   ],
   "source": [
    "od_3D_trend = calc_trend(cube)\n",
    "od_2D_trend = calc_trend(zonal_mean_cube)"
   ]
  },
  {
   "cell_type": "markdown",
   "metadata": {},
   "source": [
    "### Plot trends"
   ]
  },
  {
   "cell_type": "code",
   "execution_count": 16,
   "metadata": {
    "collapsed": true
   },
   "outputs": [],
   "source": [
    "%matplotlib inline"
   ]
  },
  {
   "cell_type": "code",
   "execution_count": 25,
   "metadata": {
    "collapsed": true
   },
   "outputs": [],
   "source": [
    "def plot_2D_trend(trends, lats, gs):\n",
    "    \"\"\"Plot the zonally integrated trends (i.e. zonal heat gain)\"\"\"\n",
    "\n",
    "    ax = plt.subplot(gs[1])\n",
    "    plt.sca(ax)\n",
    "    ax.plot(trends * 10**6, lats)\n",
    "    ax.set_xlabel('Trend in zonal average ($10^6$)', fontsize='small')\n",
    "    ax.set_ylabel('Latitude', fontsize='small')\n",
    "    ax.axvline(0, color='0.7', linestyle='solid')\n",
    "    ax.set_yticks([-80, -60, -40, -20, 0, 20, 40, 60, 80])\n",
    "    ax.set_ylim([lats[0], lats[-1]])\n",
    "    "
   ]
  },
  {
   "cell_type": "code",
   "execution_count": 32,
   "metadata": {
    "collapsed": true
   },
   "outputs": [],
   "source": [
    "def plot_3D_trend(trends, lons, lats, gs):\n",
    "    \"\"\"Plot the trends.\"\"\"\n",
    "\n",
    "    ax = plt.subplot(gs[0], projection=ccrs.PlateCarree(central_longitude=180.0))\n",
    "    plt.sca(ax)\n",
    "\n",
    "    cmap = plt.cm.hot_r\n",
    "    ticks = numpy.arange(0, 12, 1)\n",
    "    cf = ax.contourf(lons, lats, trends * 10**6 , transform=ccrs.PlateCarree(),\n",
    "                     cmap=cmap, extend='both', levels=ticks)\n",
    "\n",
    "    ax.coastlines()\n",
    "    ax.set_yticks([-80, -60, -40, -20, 0, 20, 40, 60, 80], crs=ccrs.PlateCarree())\n",
    "    ax.set_xticks([0, 60, 120, 180, 240, 300, 360], crs=ccrs.PlateCarree())\n",
    "    lon_formatter = LongitudeFormatter(zero_direction_label=True)\n",
    "    lat_formatter = LatitudeFormatter()\n",
    "    ax.xaxis.set_major_formatter(lon_formatter)\n",
    "    ax.yaxis.set_major_formatter(lat_formatter)\n",
    "    ax.set_xlabel('Longitude', fontsize='small')\n",
    "    ax.set_ylabel('Latitude', fontsize='small')    \n",
    "\n",
    "    cbar = plt.colorbar(cf)\n",
    "    cbar.set_label('trend ($10^6$)')"
   ]
  },
  {
   "cell_type": "code",
   "execution_count": 33,
   "metadata": {
    "collapsed": false
   },
   "outputs": [
    {
     "data": {
      "image/png": "[encoded data removed]",
      "text/plain": [
       "<matplotlib.figure.Figure at 0x11b170b10>"
      ]
     },
     "metadata": {},
     "output_type": "display_data"
    }
   ],
   "source": [
    "fig = plt.figure(figsize=[15, 3])\n",
    "gs = gridspec.GridSpec(1, 2, width_ratios=[4, 1]) \n",
    "\n",
    "lons = cube.coord('longitude').points\n",
    "lats = cube.coord('latitude').points\n",
    "\n",
    "plot_3D_trend(od_3D_trend, lons, lats, gs)\n",
    "plot_2D_trend(od_2D_trend, lats, gs)\n",
    "\n",
    "plt.show()"
   ]
  },
  {
   "cell_type": "markdown",
   "metadata": {},
   "source": [
    "### Plot timeseries"
   ]
  },
  {
   "cell_type": "code",
   "execution_count": 34,
   "metadata": {
    "collapsed": true
   },
   "outputs": [],
   "source": [
    "regions = {'globe60': [-60, 60],\n",
    "           'tropics': [-20, 20],\n",
    "           'northern_extratropics60': [20, 60],\n",
    "           'southern_extratropics60': [-60, -20],\n",
    "          }"
   ]
  },
  {
   "cell_type": "code",
   "execution_count": 37,
   "metadata": {
    "collapsed": true
   },
   "outputs": [],
   "source": [
    "def region_mask(cube, south_bound, north_bound):\n",
    "    \"\"\"Create mask for excluding points not in region of interest.\n",
    "\n",
    "    False corresponds to points that are not masked.\n",
    "\n",
    "    Args:\n",
    "      cube (iris.cube.Cube): Data cube\n",
    "      south_bound (float): Southern boundary of region of interest\n",
    "      north_bound (float): Northern boundary of region of interest \n",
    "\n",
    "    \"\"\"\n",
    "\n",
    "    data_mask = cube.data.mask\n",
    "    dim_coord_names = [coord.name() for coord in cube.dim_coords]\n",
    "    aux_coord_names = [coord.name() for coord in cube.aux_coords]\n",
    "    \n",
    "    lat_coord = cube.coord('latitude')\n",
    "    \n",
    "    vin_flag = numpy.vectorize(in_flag)\n",
    "    in_region = vin_flag(lat_coord.points, south_bound, north_bound)\n",
    "\n",
    "    if 'latitude' in dim_coord_names:\n",
    "        lat_index = dim_coord_names.index('latitude')\n",
    "        in_region = uconv.broadcast_array(in_region, lat_index, cube.shape)\n",
    "    elif 'latitude' in aux_coord_names:\n",
    "        dim_diff = len(dim_coord_names) - len(aux_coord_names)\n",
    "        if dim_diff == 2:\n",
    "            assert 'time' in dim_coord_names[0:2], \"Last two axes must be spatial coordinates\"\n",
    "            assert 'depth' in dim_coord_names[0:2], \"Last two axes must be spatial coordinates\"\n",
    "        elif dim_diff == 1:\n",
    "            assert dim_coord_names[0] == 'depth', \"Last two axes must be spatial coordinates\"\n",
    "\n",
    "        while in_region.ndim < data_mask.ndim:\n",
    "            in_region = in_region[numpy.newaxis, ...]\n",
    "\n",
    "    mask = data_mask + in_region\n",
    "\n",
    "    return mask   \n",
    "\n",
    "\n",
    "def in_flag(lat_value, south_bound, north_bound):\n",
    "    \"\"\"Determine if a point is in the region of interest.\n",
    "   \n",
    "    Returns false for points that are included (because they don't need\n",
    "      to be masked)\n",
    "    \"\"\"\n",
    "\n",
    "    if lat_value < north_bound and lat_value > south_bound:\n",
    "        return False\n",
    "    else:\n",
    "        return True \n",
    "    \n",
    "\n",
    "def regional_average(cube_copy, mask):\n",
    "    \"\"\"Calculate the heat content for each timestep.\"\"\"\n",
    "\n",
    "    cube_copy.data.mask = mask\n",
    "    coord_names = [coord.name() for coord in cube_copy.coords()]\n",
    "    coord_names.remove('time')\n",
    "    ave = cube_copy.collapsed(coord_names, iris.analysis.MEAN)\n",
    "\n",
    "    return ave"
   ]
  },
  {
   "cell_type": "code",
   "execution_count": 38,
   "metadata": {
    "collapsed": false
   },
   "outputs": [
    {
     "ename": "NameError",
     "evalue": "global name 'uconv' is not defined",
     "output_type": "error",
     "traceback": [
      "\u001b[0;31m---------------------------------------------------------------------------\u001b[0m",
      "\u001b[0;31mNameError\u001b[0m                                 Traceback (most recent call last)",
      "\u001b[0;32m<ipython-input-38-b45bef0c94ee>\u001b[0m in \u001b[0;36m<module>\u001b[0;34m()\u001b[0m\n\u001b[1;32m      1\u001b[0m \u001b[0mregional_averages\u001b[0m \u001b[0;34m=\u001b[0m \u001b[0;34m{\u001b[0m\u001b[0;34m}\u001b[0m\u001b[0;34m\u001b[0m\u001b[0m\n\u001b[1;32m      2\u001b[0m \u001b[0;32mfor\u001b[0m \u001b[0mregion\u001b[0m\u001b[0;34m,\u001b[0m \u001b[0mbounds\u001b[0m \u001b[0;32min\u001b[0m \u001b[0mregions\u001b[0m\u001b[0;34m.\u001b[0m\u001b[0miteritems\u001b[0m\u001b[0;34m(\u001b[0m\u001b[0;34m)\u001b[0m\u001b[0;34m:\u001b[0m\u001b[0;34m\u001b[0m\u001b[0m\n\u001b[0;32m----> 3\u001b[0;31m     \u001b[0mdata_mask\u001b[0m \u001b[0;34m=\u001b[0m \u001b[0mregion_mask\u001b[0m\u001b[0;34m(\u001b[0m\u001b[0mcube\u001b[0m\u001b[0;34m,\u001b[0m \u001b[0mbounds\u001b[0m\u001b[0;34m[\u001b[0m\u001b[0;36m0\u001b[0m\u001b[0;34m]\u001b[0m\u001b[0;34m,\u001b[0m \u001b[0mbounds\u001b[0m\u001b[0;34m[\u001b[0m\u001b[0;34m-\u001b[0m\u001b[0;36m1\u001b[0m\u001b[0;34m]\u001b[0m\u001b[0;34m)\u001b[0m\u001b[0;34m\u001b[0m\u001b[0m\n\u001b[0m\u001b[1;32m      4\u001b[0m     \u001b[0mregional_averages\u001b[0m\u001b[0;34m[\u001b[0m\u001b[0mregion\u001b[0m\u001b[0;34m]\u001b[0m \u001b[0;34m=\u001b[0m \u001b[0mregional_average\u001b[0m\u001b[0;34m(\u001b[0m\u001b[0mcube\u001b[0m\u001b[0;34m.\u001b[0m\u001b[0mcopy\u001b[0m\u001b[0;34m(\u001b[0m\u001b[0;34m)\u001b[0m\u001b[0;34m,\u001b[0m \u001b[0mdata_mask\u001b[0m\u001b[0;34m)\u001b[0m\u001b[0;34m\u001b[0m\u001b[0m\n",
      "\u001b[0;32m<ipython-input-37-2a08ab7255d1>\u001b[0m in \u001b[0;36mregion_mask\u001b[0;34m(cube, south_bound, north_bound)\u001b[0m\n\u001b[1;32m     22\u001b[0m     \u001b[0;32mif\u001b[0m \u001b[0;34m'latitude'\u001b[0m \u001b[0;32min\u001b[0m \u001b[0mdim_coord_names\u001b[0m\u001b[0;34m:\u001b[0m\u001b[0;34m\u001b[0m\u001b[0m\n\u001b[1;32m     23\u001b[0m         \u001b[0mlat_index\u001b[0m \u001b[0;34m=\u001b[0m \u001b[0mdim_coord_names\u001b[0m\u001b[0;34m.\u001b[0m\u001b[0mindex\u001b[0m\u001b[0;34m(\u001b[0m\u001b[0;34m'latitude'\u001b[0m\u001b[0;34m)\u001b[0m\u001b[0;34m\u001b[0m\u001b[0m\n\u001b[0;32m---> 24\u001b[0;31m         \u001b[0min_region\u001b[0m \u001b[0;34m=\u001b[0m \u001b[0muconv\u001b[0m\u001b[0;34m.\u001b[0m\u001b[0mbroadcast_array\u001b[0m\u001b[0;34m(\u001b[0m\u001b[0min_region\u001b[0m\u001b[0;34m,\u001b[0m \u001b[0mlat_index\u001b[0m\u001b[0;34m,\u001b[0m \u001b[0mcube\u001b[0m\u001b[0;34m.\u001b[0m\u001b[0mshape\u001b[0m\u001b[0;34m)\u001b[0m\u001b[0;34m\u001b[0m\u001b[0m\n\u001b[0m\u001b[1;32m     25\u001b[0m     \u001b[0;32melif\u001b[0m \u001b[0;34m'latitude'\u001b[0m \u001b[0;32min\u001b[0m \u001b[0maux_coord_names\u001b[0m\u001b[0;34m:\u001b[0m\u001b[0;34m\u001b[0m\u001b[0m\n\u001b[1;32m     26\u001b[0m         \u001b[0mdim_diff\u001b[0m \u001b[0;34m=\u001b[0m \u001b[0mlen\u001b[0m\u001b[0;34m(\u001b[0m\u001b[0mdim_coord_names\u001b[0m\u001b[0;34m)\u001b[0m \u001b[0;34m-\u001b[0m \u001b[0mlen\u001b[0m\u001b[0;34m(\u001b[0m\u001b[0maux_coord_names\u001b[0m\u001b[0;34m)\u001b[0m\u001b[0;34m\u001b[0m\u001b[0m\n",
      "\u001b[0;31mNameError\u001b[0m: global name 'uconv' is not defined"
     ]
    }
   ],
   "source": [
    "regional_averages = {}\n",
    "for region, bounds in regions.iteritems():\n",
    "    data_mask = region_mask(cube, bounds[0], bounds[-1])\n",
    "    regional_averages[region] = regional_average(cube.copy(), data_mask)"
   ]
  },
  {
   "cell_type": "code",
   "execution_count": null,
   "metadata": {
    "collapsed": true
   },
   "outputs": [],
   "source": []
  }
 ],
 "metadata": {
  "kernelspec": {
   "display_name": "Python 2",
   "language": "python",
   "name": "python2"
  },
  "language_info": {
   "codemirror_mode": {
    "name": "ipython",
    "version": 2
   },
   "file_extension": ".py",
   "mimetype": "text/x-python",
   "name": "python",
   "nbconvert_exporter": "python",
   "pygments_lexer": "ipython2",
   "version": "2.7.12"
  }
 },
 "nbformat": 4,
 "nbformat_minor": 0
}
