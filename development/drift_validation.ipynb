{
 "cells": [
  {
   "cell_type": "markdown",
   "metadata": {},
   "source": [
    "## Read the data"
   ]
  },
  {
   "cell_type": "code",
   "execution_count": 1,
   "metadata": {
    "collapsed": true
   },
   "outputs": [],
   "source": [
    "import iris\n",
    "import numpy\n",
    "import matplotlib.pyplot as plt\n",
    "import glob"
   ]
  },
  {
   "cell_type": "code",
   "execution_count": 2,
   "metadata": {
    "collapsed": false
   },
   "outputs": [],
   "source": [
    "control_files = glob.glob('/g/data/ua6/drstree/CMIP5/GCM/CSIRO-QCCCE/CSIRO-Mk3-6-0/piControl/mon/ocean/thetao/r1i1p1/thetao_Omon_CSIRO-Mk3-6-0_piControl_r1i1p1_*.nc')\n",
    "control_file = '/g/data/ua6/drstree/CMIP5/GCM/CSIRO-QCCCE/CSIRO-Mk3-6-0/piControl/mon/ocean/thetao/r1i1p1/thetao_Omon_CSIRO-Mk3-6-0_piControl_r1i1p1_000101-001012.nc'\n",
    "hist_file = '/g/data/ua6/drstree/CMIP5/GCM/CSIRO-QCCCE/CSIRO-Mk3-6-0/historical/mon/ocean/thetao/r1i1p1/thetao_Omon_CSIRO-Mk3-6-0_historical_r1i1p1_185001-185912.nc'\n",
    "coeff_file = '/g/data/r87/dbi599/thetao-cubic-coefficients_Omon_CSIRO-Mk3-6-0_piControl_r1i1p1_all.nc'\n",
    "dedrift_file = '/g/data/r87/dbi599/thetao-dedrifted_Omon_CSIRO-Mk3-6-0_historical_r1i1p1_185001-185912.nc'"
   ]
  },
  {
   "cell_type": "code",
   "execution_count": 3,
   "metadata": {
    "collapsed": true
   },
   "outputs": [],
   "source": [
    "min_lat, max_lat = [-62.1, -61.9]\n",
    "lat_subset = lambda cell: min_lat <= cell <= max_lat\n",
    "lev_constraint = iris.Constraint(depth=15)\n",
    "lat_constraint = iris.Constraint(latitude=lat_subset)\n",
    "lon_constraint = iris.Constraint(longitude=101.25)"
   ]
  },
  {
   "cell_type": "code",
   "execution_count": 4,
   "metadata": {
    "collapsed": false
   },
   "outputs": [
    {
     "name": "stderr",
     "output_type": "stream",
     "text": [
      "/g/data/r87/dbi599/miniconda2/envs/default/lib/python2.7/site-packages/iris/fileformats/cf.py:794: UserWarning: Missing CF-netCDF measure variable u'areacello', referenced by netCDF variable u'thetao'\n",
      "  warnings.warn(message % (variable_name, nc_var_name))\n",
      "/g/data/r87/dbi599/miniconda2/envs/default/lib/python2.7/site-packages/iris/fileformats/cf.py:794: UserWarning: Missing CF-netCDF measure variable u'volcello', referenced by netCDF variable u'thetao'\n",
      "  warnings.warn(message % (variable_name, nc_var_name))\n",
      "/g/data/r87/dbi599/miniconda2/envs/default/lib/python2.7/site-packages/iris/fileformats/cf.py:1139: UserWarning: NetCDF default loading behaviour currently does not expose variables which define reference surfaces for dimensionless vertical coordinates as independent Cubes. This behaviour is deprecated in favour of automatic promotion to Cubes. To switch to the new behaviour, set iris.FUTURE.netcdf_promote to True.\n",
      "  warnings.warn(msg)\n"
     ]
    }
   ],
   "source": [
    "with iris.FUTURE.context(cell_datetime_objects=True):\n",
    "    control_cube = iris.load_cube(control_file, 'sea_water_potential_temperature' & lev_constraint & lat_constraint & lon_constraint)\n",
    "    hist_cube = iris.load_cube(hist_file, 'sea_water_potential_temperature' & lev_constraint & lat_constraint & lon_constraint)\n",
    "    coeff_a_cube = iris.load_cube(coeff_file, 'coefficient a' & lev_constraint & lat_constraint & lon_constraint)\n",
    "    coeff_b_cube = iris.load_cube(coeff_file, 'coefficient b' & lev_constraint & lat_constraint & lon_constraint)\n",
    "    coeff_c_cube = iris.load_cube(coeff_file, 'coefficient c' & lev_constraint & lat_constraint & lon_constraint)\n",
    "    coeff_d_cube = iris.load_cube(coeff_file, 'coefficient d' & lev_constraint & lat_constraint & lon_constraint)\n",
    "    dedrift_cube = iris.load_cube(dedrift_file, 'sea_water_potential_temperature' & lev_constraint & lat_constraint & lon_constraint)"
   ]
  },
  {
   "cell_type": "code",
   "execution_count": 5,
   "metadata": {
    "collapsed": true
   },
   "outputs": [],
   "source": [
    "def edit_attributes(cube, field, filename):\n",
    "    \"\"\"Remove the attributes that typically differ between files.\n",
    "    (i.e. these cause iris to throw a ConstraintMismatchError when you try and merge\n",
    "    cubes arising from different files)  \n",
    "    \"\"\" \n",
    "    cube.attributes.pop('creation_date', None)\n",
    "    cube.attributes.pop('tracking_id', None)\n",
    "    cube.attributes.pop('history', None)"
   ]
  },
  {
   "cell_type": "code",
   "execution_count": 17,
   "metadata": {
    "collapsed": false
   },
   "outputs": [],
   "source": [
    "full_control_cube = iris.load(control_files, 'sea_water_potential_temperature' & lev_constraint & lat_constraint & lon_constraint, callback=edit_attributes)\n",
    "full_control_cube = full_control_cube.concatenate_cube()"
   ]
  },
  {
   "cell_type": "code",
   "execution_count": 18,
   "metadata": {
    "collapsed": false
   },
   "outputs": [
    {
     "name": "stdout",
     "output_type": "stream",
     "text": [
      "sea_water_potential_temperature / (K) (time: 6000)\n",
      "     Dimension coordinates:\n",
      "          time                             x\n",
      "     Scalar coordinates:\n",
      "          depth: 15.0 m, bound=(10.0, 21.6242351532) m\n",
      "          latitude: -62.0240516663 degrees, bound=(-62.490436554, -61.5576667786) degrees\n",
      "          longitude: 101.25 degrees, bound=(100.3125, 102.1875) degrees\n",
      "     Attributes:\n",
      "          Conventions: CF-1.4\n",
      "          associated_files: baseURL: http://cmip-pcmdi.llnl.gov/CMIP5/dataLocation gridspecFile: gridspec_ocean_fx_CSIRO-Mk3-6-0_piControl_r0i0p0.nc...\n",
      "          branch_time: 0.0\n",
      "          cmor_version: 2.5.9\n",
      "          comment: Data is stored on the native ocean T-grid on which the data was generated....\n",
      "          contact: Project leaders: Stephen Jeffrey (Stephen.Jeffrey@qld.gov.au) & Leon Rotstayn...\n",
      "          experiment: pre-industrial control\n",
      "          experiment_id: piControl\n",
      "          forcing: N/A (Pre-industrial conditions with all forcings fixed at 1850 levels)\n",
      "          frequency: mon\n",
      "          initialization_method: 1\n",
      "          institute_id: CSIRO-QCCCE\n",
      "          institution: Australian Commonwealth Scientific and Industrial Research Organization...\n",
      "          model_id: CSIRO-Mk3-6-0\n",
      "          modeling_realm: ocean\n",
      "          original_name: Temp\n",
      "          original_units: celsius\n",
      "          parent_experiment: N/A\n",
      "          parent_experiment_id: N/A\n",
      "          parent_experiment_rip: N/A\n",
      "          physics_version: 1\n",
      "          product: output\n",
      "          project_id: CMIP5\n",
      "          realization: 1\n",
      "          references: a) Rotstayn, L., Collier, M., Dix, M., Feng, Y., Gordon, H., O\\'Farrell,...\n",
      "          source: CSIRO-Mk3-6-0 2010 atmosphere: AGCM v7.3.4 (T63 spectral, 1.875 degrees...\n",
      "          table_id: Table Omon (27 April 2011) 9e1a53e4873bf6f26879903e165fe4a0\n",
      "          title: CSIRO-Mk3-6-0 model output prepared for CMIP5 pre-industrial control\n",
      "          version_number: v20110518\n",
      "     Cell methods:\n",
      "          mean: time\n"
     ]
    }
   ],
   "source": [
    "print full_control_cube"
   ]
  },
  {
   "cell_type": "markdown",
   "metadata": {},
   "source": [
    "## Validate polynomial contruction"
   ]
  },
  {
   "cell_type": "code",
   "execution_count": 8,
   "metadata": {
    "collapsed": true
   },
   "outputs": [],
   "source": [
    "def apply_polynomial(x, a, b, c, d):\n",
    "    \"\"\"Evaluate cubic polynomial.\n",
    "\n",
    "    The axis argument is not used but is required for the function to be \n",
    "      used with numpy.apply_over_axes \n",
    "\n",
    "    \"\"\"\n",
    "\n",
    "    result = a + b * x + c * x**2 + d * x**3 \n",
    "    \n",
    "    return result "
   ]
  },
  {
   "cell_type": "code",
   "execution_count": 9,
   "metadata": {
    "collapsed": false
   },
   "outputs": [],
   "source": [
    "my_poly = apply_polynomial(full_control_cube.coord('time').points,\n",
    "                           coeff_a_cube.data,\n",
    "                           coeff_b_cube.data,\n",
    "                           coeff_c_cube.data,\n",
    "                           coeff_d_cube.data)"
   ]
  },
  {
   "cell_type": "code",
   "execution_count": 10,
   "metadata": {
    "collapsed": false
   },
   "outputs": [
    {
     "name": "stdout",
     "output_type": "stream",
     "text": [
      "[ 273.03614157  273.03639618  273.03665069  273.03691375  273.03717672]\n"
     ]
    }
   ],
   "source": [
    "print my_poly[0:5]"
   ]
  },
  {
   "cell_type": "code",
   "execution_count": 11,
   "metadata": {
    "collapsed": false
   },
   "outputs": [],
   "source": [
    "numpy_poly = numpy.poly1d([float(coeff_d_cube.data), \n",
    "                           float(coeff_c_cube.data),\n",
    "                           float(coeff_b_cube.data),\n",
    "                           float(coeff_a_cube.data)])"
   ]
  },
  {
   "cell_type": "code",
   "execution_count": 12,
   "metadata": {
    "collapsed": false
   },
   "outputs": [
    {
     "name": "stdout",
     "output_type": "stream",
     "text": [
      "[ 273.03614157  273.03639618  273.03665069  273.03691375  273.03717672]\n"
     ]
    }
   ],
   "source": [
    "print numpy_poly(full_control_cube.coord('time').points)[0:5]"
   ]
  },
  {
   "cell_type": "code",
   "execution_count": 13,
   "metadata": {
    "collapsed": false
   },
   "outputs": [
    {
     "name": "stdout",
     "output_type": "stream",
     "text": [
      "[ 272.67153931  274.03100586  273.52758789  272.86123657  272.12963867]\n"
     ]
    }
   ],
   "source": [
    "print control_cube.data[0:5]"
   ]
  },
  {
   "cell_type": "markdown",
   "metadata": {},
   "source": [
    "### Plot"
   ]
  },
  {
   "cell_type": "code",
   "execution_count": 14,
   "metadata": {
    "collapsed": true
   },
   "outputs": [],
   "source": [
    "% matplotlib inline"
   ]
  },
  {
   "cell_type": "code",
   "execution_count": 15,
   "metadata": {
    "collapsed": false
   },
   "outputs": [
    {
     "data": {
      "image/png": "[encoded data removed]",
      "text/plain": [
       "<matplotlib.figure.Figure at 0x7f8226702e10>"
      ]
     },
     "metadata": {},
     "output_type": "display_data"
    }
   ],
   "source": [
    "plt.plot(full_control_cube.coord('time').points[0:50], my_poly[0:50], 'o')\n",
    "plt.plot(control_cube.coord('time').points[0:50], control_cube.data[0:50])\n",
    "plt.ylabel('y')\n",
    "plt.xlabel('x')\n",
    "plt.show()"
   ]
  },
  {
   "cell_type": "code",
   "execution_count": 25,
   "metadata": {
    "collapsed": false
   },
   "outputs": [
    {
     "name": "stdout",
     "output_type": "stream",
     "text": [
      "273.036007766\n",
      "[ 273.24665794  273.24684012  273.24702222  273.24720424  273.24738617\n",
      "  273.24757101  273.24775278  273.24793447  273.24811608  273.2482976 ]\n"
     ]
    }
   ],
   "source": [
    "print coeff_a_cube.data\n",
    "\n",
    "print my_poly[950:960]"
   ]
  },
  {
   "cell_type": "code",
   "execution_count": 28,
   "metadata": {
    "collapsed": false
   },
   "outputs": [
    {
     "data": {
      "image/png": "[encoded data removed]",
      "text/plain": [
       "<matplotlib.figure.Figure at 0x7f8223c55190>"
      ]
     },
     "metadata": {},
     "output_type": "display_data"
    }
   ],
   "source": [
    "plt.plot(full_control_cube.coord('time').points[950:1000], full_control_cube.data[950:1000], 'b-')\n",
    "plt.plot(full_control_cube.coord('time').points[950:1000], my_poly[950:1000], 'g-')\n",
    "plt.show()"
   ]
  },
  {
   "cell_type": "code",
   "execution_count": 29,
   "metadata": {
    "collapsed": false
   },
   "outputs": [
    {
     "data": {
      "image/png": "[encoded data removed]",
      "text/plain": [
       "<matplotlib.figure.Figure at 0x7f8223d78310>"
      ]
     },
     "metadata": {},
     "output_type": "display_data"
    }
   ],
   "source": [
    "plt.plot(full_control_cube.coord('time').points, full_control_cube.data, 'b-')\n",
    "plt.plot(full_control_cube.coord('time').points, my_poly, 'g-')\n",
    "plt.show()"
   ]
  },
  {
   "cell_type": "markdown",
   "metadata": {},
   "source": [
    "## Validate removal from historical"
   ]
  },
  {
   "cell_type": "code",
   "execution_count": 30,
   "metadata": {
    "collapsed": false
   },
   "outputs": [
    {
     "name": "stdout",
     "output_type": "stream",
     "text": [
      "[  15.5   45.    74.5  105.   135.5]\n",
      "[  15.5   45.    74.5  105.   135.5]\n"
     ]
    }
   ],
   "source": [
    "print hist_cube.coord('time').points[0:5]\n",
    "print dedrift_cube.coord('time').points[0:5]"
   ]
  },
  {
   "cell_type": "code",
   "execution_count": 31,
   "metadata": {
    "collapsed": false
   },
   "outputs": [
    {
     "data": {
      "image/png": "[encoded data removed]",
      "text/plain": [
       "<matplotlib.figure.Figure at 0x7f8223e66ad0>"
      ]
     },
     "metadata": {},
     "output_type": "display_data"
    }
   ],
   "source": [
    "plt.plot(hist_cube.coord('time').points[0:50], hist_cube.data[0:50], 'g-')\n",
    "plt.plot(dedrift_cube.coord('time').points[0:50], dedrift_cube.data[0:50], 'b-')\n",
    "plt.ylabel('y')\n",
    "plt.xlabel('x')\n",
    "plt.show()"
   ]
  },
  {
   "cell_type": "code",
   "execution_count": 32,
   "metadata": {
    "collapsed": false
   },
   "outputs": [
    {
     "data": {
      "text/plain": [
       "29200.0"
      ]
     },
     "execution_count": 32,
     "metadata": {},
     "output_type": "execute_result"
    }
   ],
   "source": [
    "hist_cube.attributes['branch_time']"
   ]
  },
  {
   "cell_type": "code",
   "execution_count": 33,
   "metadata": {
    "collapsed": false
   },
   "outputs": [
    {
     "name": "stdout",
     "output_type": "stream",
     "text": [
      "6000\n",
      "[29184.5, 29215.5, 29245.0, 29274.5, 29305.0, 29335.5]\n",
      "959\n"
     ]
    }
   ],
   "source": [
    "control_time_axis = list(full_control_cube.coord('time').points)\n",
    "print len(control_time_axis)\n",
    "print control_time_axis[959:965]\n",
    "print control_time_axis.index(29184.5)"
   ]
  },
  {
   "cell_type": "code",
   "execution_count": 38,
   "metadata": {
    "collapsed": false
   },
   "outputs": [
    {
     "name": "stdout",
     "output_type": "stream",
     "text": [
      "276.13\n",
      "276.127899223\n",
      "0.0023803182529\n",
      "0.214988078437\n",
      "0.00666224736068\n"
     ]
    }
   ],
   "source": [
    "print hist_cube.data[25]\n",
    "print dedrift_cube.data[25]\n",
    "print hist_cube.data[25] - dedrift_cube.data[25]\n",
    "print my_poly[974] - float(coeff_a_cube.data)\n",
    "print my_poly[25] - float(coeff_a_cube.data)"
   ]
  },
  {
   "cell_type": "markdown",
   "metadata": {
    "collapsed": true
   },
   "source": [
    "So I've got this problem where it seems that the drift removal hasn't worked correctly. The polynomial I've generated seems to be correct, but something when wrong when removing it from the data."
   ]
  },
  {
   "cell_type": "code",
   "execution_count": null,
   "metadata": {
    "collapsed": true
   },
   "outputs": [],
   "source": []
  }
 ],
 "metadata": {
  "kernelspec": {
   "display_name": "Python 2",
   "language": "python",
   "name": "python2"
  },
  "language_info": {
   "codemirror_mode": {
    "name": "ipython",
    "version": 2
   },
   "file_extension": ".py",
   "mimetype": "text/x-python",
   "name": "python",
   "nbconvert_exporter": "python",
   "pygments_lexer": "ipython2",
   "version": "2.7.11"
  }
 },
 "nbformat": 4,
 "nbformat_minor": 0
}
