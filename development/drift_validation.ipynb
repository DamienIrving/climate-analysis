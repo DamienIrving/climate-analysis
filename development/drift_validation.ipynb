{
 "cells": [
  {
   "cell_type": "markdown",
   "metadata": {},
   "source": [
    "# Drift validation"
   ]
  },
  {
   "cell_type": "code",
   "execution_count": 20,
   "metadata": {
    "collapsed": true
   },
   "outputs": [],
   "source": [
    "import iris\n",
    "import numpy as np\n",
    "import matplotlib.pyplot as plt\n",
    "import glob\n",
    "\n",
    "import pandas as pd\n",
    "\n",
    "from bokeh.layouts import gridplot\n",
    "from bokeh.plotting import figure, show, output_file\n",
    "from bokeh.io import output_notebook\n",
    "\n",
    "from iris.experimental.equalise_cubes import equalise_attributes"
   ]
  },
  {
   "cell_type": "code",
   "execution_count": 21,
   "metadata": {
    "collapsed": false
   },
   "outputs": [
    {
     "data": {
      "text/html": [
       "\n",
       "    <div class=\"bk-root\">\n",
       "        <a href=\"http://bokeh.pydata.org\" target=\"_blank\" class=\"bk-logo bk-logo-small bk-logo-notebook\"></a>\n",
       "        <span id=\"27995677-792a-4787-8668-712f169e9feb\">Loading BokehJS ...</span>\n",
       "    </div>"
      ]
     },
     "metadata": {},
     "output_type": "display_data"
    },
    {
     "data": {
      "application/javascript": [
       "\n",
       "(function(global) {\n",
       "  function now() {\n",
       "    return new Date();\n",
       "  }\n",
       "\n",
       "  if (typeof (window._bokeh_onload_callbacks) === \"undefined\") {\n",
       "    window._bokeh_onload_callbacks = [];\n",
       "  }\n",
       "\n",
       "  function run_callbacks() {\n",
       "    window._bokeh_onload_callbacks.forEach(function(callback) { callback() });\n",
       "    delete window._bokeh_onload_callbacks\n",
       "    console.info(\"Bokeh: all callbacks have finished\");\n",
       "  }\n",
       "\n",
       "  function load_libs(js_urls, callback) {\n",
       "    window._bokeh_onload_callbacks.push(callback);\n",
       "    if (window._bokeh_is_loading > 0) {\n",
       "      console.log(\"Bokeh: BokehJS is being loaded, scheduling callback at\", now());\n",
       "      return null;\n",
       "    }\n",
       "    if (js_urls == null || js_urls.length === 0) {\n",
       "      run_callbacks();\n",
       "      return null;\n",
       "    }\n",
       "    console.log(\"Bokeh: BokehJS not loaded, scheduling load and callback at\", now());\n",
       "    window._bokeh_is_loading = js_urls.length;\n",
       "    for (var i = 0; i < js_urls.length; i++) {\n",
       "      var url = js_urls[i];\n",
       "      var s = document.createElement('script');\n",
       "      s.src = url;\n",
       "      s.async = false;\n",
       "      s.onreadystatechange = s.onload = function() {\n",
       "        window._bokeh_is_loading--;\n",
       "        if (window._bokeh_is_loading === 0) {\n",
       "          console.log(\"Bokeh: all BokehJS libraries loaded\");\n",
       "          run_callbacks()\n",
       "        }\n",
       "      };\n",
       "      s.onerror = function() {\n",
       "        console.warn(\"failed to load library \" + url);\n",
       "      };\n",
       "      console.log(\"Bokeh: injecting script tag for BokehJS library: \", url);\n",
       "      document.getElementsByTagName(\"head\")[0].appendChild(s);\n",
       "    }\n",
       "  };\n",
       "\n",
       "  var js_urls = ['https://cdn.pydata.org/bokeh/release/bokeh-0.12.0.min.js', 'https://cdn.pydata.org/bokeh/release/bokeh-widgets-0.12.0.min.js', 'https://cdn.pydata.org/bokeh/release/bokeh-compiler-0.12.0.min.js'];\n",
       "\n",
       "  var inline_js = [\n",
       "    function(Bokeh) {\n",
       "      Bokeh.set_log_level(\"info\");\n",
       "    },\n",
       "    \n",
       "    function(Bokeh) {\n",
       "      Bokeh.$(\"#27995677-792a-4787-8668-712f169e9feb\").text(\"BokehJS successfully loaded\");\n",
       "    },\n",
       "    function(Bokeh) {\n",
       "      console.log(\"Bokeh: injecting CSS: https://cdn.pydata.org/bokeh/release/bokeh-0.12.0.min.css\");\n",
       "      Bokeh.embed.inject_css(\"https://cdn.pydata.org/bokeh/release/bokeh-0.12.0.min.css\");\n",
       "      console.log(\"Bokeh: injecting CSS: https://cdn.pydata.org/bokeh/release/bokeh-widgets-0.12.0.min.css\");\n",
       "      Bokeh.embed.inject_css(\"https://cdn.pydata.org/bokeh/release/bokeh-widgets-0.12.0.min.css\");\n",
       "    }\n",
       "  ];\n",
       "\n",
       "  function run_inline_js() {\n",
       "    for (var i = 0; i < inline_js.length; i++) {\n",
       "      inline_js[i](window.Bokeh);\n",
       "    }\n",
       "  }\n",
       "\n",
       "  if (window._bokeh_is_loading === 0) {\n",
       "    console.log(\"Bokeh: BokehJS loaded, going straight to plotting\");\n",
       "    run_inline_js();\n",
       "  } else {\n",
       "    load_libs(js_urls, function() {\n",
       "      console.log(\"Bokeh: BokehJS plotting callback run at\", now());\n",
       "      run_inline_js();\n",
       "    });\n",
       "  }\n",
       "}(this));"
      ]
     },
     "metadata": {},
     "output_type": "display_data"
    }
   ],
   "source": [
    "output_notebook()"
   ]
  },
  {
   "cell_type": "markdown",
   "metadata": {},
   "source": [
    "### Read data"
   ]
  },
  {
   "cell_type": "code",
   "execution_count": 4,
   "metadata": {
    "collapsed": true
   },
   "outputs": [],
   "source": [
    "institution = 'NOAA-GFDL'\n",
    "model = 'GFDL-CM3'\n",
    "control_location = '/g/data/ua6'  # /g/data/r87/dbi599\n",
    "historical_location = '/g/data/ua6'"
   ]
  },
  {
   "cell_type": "code",
   "execution_count": 5,
   "metadata": {
    "collapsed": false
   },
   "outputs": [],
   "source": [
    "control_files = glob.glob('%s/drstree/CMIP5/GCM/%s/%s/piControl/mon/ocean/thetao/r1i1p1/thetao_Omon_%s_piControl_r1i1p1_*.nc' %(control_location, institution, model, model) )\n",
    "historical_files = glob.glob('%s/drstree/CMIP5/GCM/%s/%s/historical/mon/ocean/thetao/r1i1p1/thetao_Omon_%s_historical_r1i1p1_*.nc' %(historical_location, institution, model, model) )\n",
    "dedrifted_historical_files = glob.glob('/g/data/r87/dbi599/drstree/CMIP5/GCM/%s/%s/historical/mon/ocean/thetao/r1i1p1/dedrifted/thetao_Omon_%s_historical_r1i1p1_*.nc' %(institution, model, model) )\n",
    "coefficient_file = '/g/data/r87/dbi599/drstree/CMIP5/GCM/%s/%s/piControl/mon/ocean/thetao/r1i1p1/thetao-coefficients_Omon_%s_piControl_r1i1p1_all.nc' %(institution, model, model)"
   ]
  },
  {
   "cell_type": "code",
   "execution_count": 6,
   "metadata": {
    "collapsed": true
   },
   "outputs": [],
   "source": [
    "# Set constraints\n",
    "#min_lat, max_lat = [-62.1, -60.9]\n",
    "#lat_subset = lambda cell: min_lat <= cell <= max_lat\n",
    "lev_constraint = iris.Constraint(depth=15)\n",
    "lat_constraint = iris.Constraint(grid_latitude=-63.5)\n",
    "lon_constraint = iris.Constraint(grid_longitude=70.5)"
   ]
  },
  {
   "cell_type": "code",
   "execution_count": 7,
   "metadata": {
    "collapsed": true
   },
   "outputs": [],
   "source": [
    "def read_files(file_list):\n",
    "    \"\"\"Read a list of files into an iris Cube\"\"\"\n",
    "    \n",
    "    cube = iris.load(file_list, 'sea_water_potential_temperature' & lev_constraint & lat_constraint & lon_constraint)\n",
    "    equalise_attributes(cube)\n",
    "    cube = cube.concatenate_cube()\n",
    "    \n",
    "    return cube"
   ]
  },
  {
   "cell_type": "code",
   "execution_count": 8,
   "metadata": {
    "collapsed": false
   },
   "outputs": [
    {
     "name": "stderr",
     "output_type": "stream",
     "text": [
      "/g/data/r87/dbi599/miniconda2/envs/default/lib/python2.7/site-packages/iris/fileformats/cf.py:794: UserWarning: Missing CF-netCDF measure variable u'areacello', referenced by netCDF variable u'thetao'\n",
      "  warnings.warn(message % (variable_name, nc_var_name))\n",
      "/g/data/r87/dbi599/miniconda2/envs/default/lib/python2.7/site-packages/iris/fileformats/cf.py:1139: UserWarning: NetCDF default loading behaviour currently does not expose variables which define reference surfaces for dimensionless vertical coordinates as independent Cubes. This behaviour is deprecated in favour of automatic promotion to Cubes. To switch to the new behaviour, set iris.FUTURE.netcdf_promote to True.\n",
      "  warnings.warn(msg)\n"
     ]
    }
   ],
   "source": [
    "control_cube = read_files(control_files)\n",
    "historical_cube = read_files(historical_files)\n",
    "dedrifted_historical_cube = read_files(dedrifted_historical_files)\n",
    "coefficient_cube = iris.load_cube(coefficient_file, 'Sea Water Potential Temperature' & lev_constraint & lat_constraint & lon_constraint)"
   ]
  },
  {
   "cell_type": "code",
   "execution_count": 9,
   "metadata": {
    "collapsed": false
   },
   "outputs": [
    {
     "name": "stdout",
     "output_type": "stream",
     "text": [
      "sea_water_potential_temperature / (K) (time: 6000)\n",
      "     Dimension coordinates:\n",
      "          time                             x\n",
      "     Scalar coordinates:\n",
      "          depth: 15.0 m, bound=(10.0, 20.0) m\n",
      "          grid_latitude: -63.5 degrees\n",
      "          grid_longitude: 70.5 degrees\n",
      "          latitude: -63.5 degrees, bound=(-64.0, -64.0, -63.0, -63.0) degrees\n",
      "          longitude: 70.5 degrees, bound=(70.0, 71.0, 71.0, 70.0) degrees\n",
      "     Attributes:\n",
      "          Conventions: CF-1.4\n",
      "          associated_files: baseURL: http://cmip-pcmdi.llnl.gov/CMIP5/dataLocation gridspecFile: gridspec_ocean_fx_GFDL-CM3_piControl_r0i0p0.nc...\n",
      "          branch_time: 0.0\n",
      "          comment: GFDL experiment name: CM3Z_Control-1860_D1\n",
      "GFDL parent experiment name:...\n",
      "          comments: Note: This model output is presented on the model's tripolar grid. The...\n",
      "          contact: gfdl.climate.model.info@noaa.gov\n",
      "          experiment: pre-industrial control\n",
      "          experiment_id: piControl\n",
      "          forcing: N/A\n",
      "          frequency: mon\n",
      "          gfdl_experiment_name: CM3Z_Control-1860_D1\n",
      "          history: File was processed by fremetar (GFDL analog of CMOR). TripleID: [exper...\n",
      "          initialization_method: 1\n",
      "          institute_id: NOAA GFDL\n",
      "          institution: NOAA GFDL(201 Forrestal Rd, Princeton, NJ, 08540)\n",
      "          model_id: GFDL-CM3\n",
      "          modeling_realm: ocean\n",
      "          original_name: temp + 273.15\n",
      "          original_units: K\n",
      "          parent_experiment_id: N/A\n",
      "          parent_experiment_rip: N/A\n",
      "          physics_version: 1\n",
      "          product: output1\n",
      "          project_id: CMIP5\n",
      "          realization: 1\n",
      "          references: The GFDL Data Portal (http://nomads.gfdl.noaa.gov/) provides access to...\n",
      "          source: GFDL-CM3 2010 atmosphere: AM3 (AM3p9,C48L48); sea ice: SIS (SISp2,Tripolar360x200);...\n",
      "          table_id: Table Omon (31 Jan 2011)\n",
      "          title: NOAA GFDL GFDL-CM3, pre-industrial control (run 1) experiment output for...\n",
      "     Cell methods:\n",
      "          mean: time\n"
     ]
    }
   ],
   "source": [
    "print control_cube"
   ]
  },
  {
   "cell_type": "code",
   "execution_count": 10,
   "metadata": {
    "collapsed": false
   },
   "outputs": [
    {
     "name": "stdout",
     "output_type": "stream",
     "text": [
      "Sea Water Potential Temperature / (1) (drift coefficient: 4)\n",
      "     Dimension coordinates:\n",
      "          drift coefficient                             x\n",
      "     Scalar coordinates:\n",
      "          depth: 15.0 m, bound=(10.0, 20.0) m\n",
      "          grid_latitude: -63.5 degrees\n",
      "          grid_longitude: 70.5 degrees\n",
      "          latitude: -63.5 degrees, bound=(-64.0, -64.0, -63.0, -63.0) degrees\n",
      "          longitude: 70.5 degrees, bound=(70.0, 71.0, 71.0, 70.0) degrees\n",
      "     Attributes:\n",
      "          Conventions: CF-1.5\n",
      "          associated_files: baseURL: http://cmip-pcmdi.llnl.gov/CMIP5/dataLocation gridspecFile: gridspec_ocean_fx_GFDL-CM3_piControl_r0i0p0.nc...\n",
      "          branch_time: 0.0\n",
      "          comment: GFDL experiment name: CM3Z_Control-1860_D1\n",
      "GFDL parent experiment name:...\n",
      "          comments: Note: This model output is presented on the model's tripolar grid. The...\n",
      "          contact: gfdl.climate.model.info@noaa.gov\n",
      "          creation_date: 2011-10-12T00:44:11Z\n",
      "          experiment: pre-industrial control\n",
      "          experiment_id: piControl\n",
      "          forcing: N/A\n",
      "          frequency: mon\n",
      "          gfdl_experiment_name: CM3Z_Control-1860_D1\n",
      "          history: Wed Jun 29 07:37:08 2016: /g/data/r87/dbi599/miniconda2/envs/default/bin/python...\n",
      "          initialization_method: 1\n",
      "          institute_id: NOAA GFDL\n",
      "          institution: NOAA GFDL(201 Forrestal Rd, Princeton, NJ, 08540)\n",
      "          invalid_standard_name: thetao\n",
      "          model_id: GFDL-CM3\n",
      "          modeling_realm: ocean\n",
      "          original_name: temp + 273.15\n",
      "          original_units: K\n",
      "          parent_experiment_id: N/A\n",
      "          parent_experiment_rip: N/A\n",
      "          physics_version: 1\n",
      "          polynomial: a + bx + cx^2 + dx^3\n",
      "          product: output1\n",
      "          project_id: CMIP5\n",
      "          realization: 1\n",
      "          references: The GFDL Data Portal (http://nomads.gfdl.noaa.gov/) provides access to...\n",
      "          source: GFDL-CM3 2010 atmosphere: AM3 (AM3p9,C48L48); sea ice: SIS (SISp2,Tripolar360x200);...\n",
      "          table_id: Table Omon (31 Jan 2011)\n",
      "          time_calendar: noleap\n",
      "          time_end: 182484.0\n",
      "          time_start: 15.5\n",
      "          time_unit: days since 0001-01-01 00:00:00\n",
      "          title: NOAA GFDL GFDL-CM3, pre-industrial control (run 1) experiment output for...\n",
      "          tracking_id: bb04246c-1241-4a54-827a-0e6de43c63da\n"
     ]
    }
   ],
   "source": [
    "print coefficient_cube"
   ]
  },
  {
   "cell_type": "code",
   "execution_count": 11,
   "metadata": {
    "collapsed": false
   },
   "outputs": [
    {
     "name": "stdout",
     "output_type": "stream",
     "text": [
      "[  2.74396027e+02  -1.92017706e-05   3.36148942e-10  -1.17815200e-15]\n"
     ]
    }
   ],
   "source": [
    "print coefficient_cube.data"
   ]
  },
  {
   "cell_type": "markdown",
   "metadata": {},
   "source": [
    "### Validate polynomial contruction"
   ]
  },
  {
   "cell_type": "code",
   "execution_count": 12,
   "metadata": {
    "collapsed": true
   },
   "outputs": [],
   "source": [
    "def apply_polynomial(x, a, b, c, d):\n",
    "    \"\"\"Evaluate cubic polynomial.\n",
    "\n",
    "    The axis argument is not used but is required for the function to be \n",
    "      used with numpy.apply_over_axes \n",
    "\n",
    "    \"\"\"\n",
    "\n",
    "    result = a + b * x + c * x**2 + d * x**3 \n",
    "    \n",
    "    return result "
   ]
  },
  {
   "cell_type": "code",
   "execution_count": 13,
   "metadata": {
    "collapsed": false
   },
   "outputs": [],
   "source": [
    "coeff_a, coeff_b, coeff_c, coeff_d = coefficient_cube.data\n",
    "my_poly = apply_polynomial(control_cube.coord('time').points,\n",
    "                           coeff_a, coeff_b, coeff_c, coeff_d)"
   ]
  },
  {
   "cell_type": "markdown",
   "metadata": {},
   "source": [
    "### Plot"
   ]
  },
  {
   "cell_type": "code",
   "execution_count": 14,
   "metadata": {
    "collapsed": true
   },
   "outputs": [],
   "source": [
    "iris.FUTURE.cell_datetime_objects = True"
   ]
  },
  {
   "cell_type": "code",
   "execution_count": 16,
   "metadata": {
    "collapsed": false
   },
   "outputs": [
    {
     "name": "stdout",
     "output_type": "stream",
     "text": [
      "<type 'str'>\n",
      "['1860-02-15', '1860-03-16', '1860-04-16', '1860-05-16', '1860-06-16', '1860-07-16', '1860-08-16', '1860-09-16', '1860-10-16', '1860-11-16', '1860-12-16', '1861-01-16', '1861-02-15', '1861-03-16', '1861-04-16', '1861-05-16', '1861-06-16', '1861-07-16', '1861-08-16']\n"
     ]
    }
   ],
   "source": [
    "historical_times = historical_cube.coord('time')\n",
    "historical_dates = [cell.point.strftime(\"%Y-%m-%d\") for cell in historical_times.cells()]  # cell.point.strftime(\"%Y-%m-%d\")\n",
    "print type(historical_dates[0])\n",
    "print historical_dates[1:20]"
   ]
  },
  {
   "cell_type": "code",
   "execution_count": 17,
   "metadata": {
    "collapsed": true
   },
   "outputs": [],
   "source": [
    "df = pd.DataFrame({ 'Date' : historical_dates,\n",
    "                    'piControl' : historical_cube.data,\n",
    "                  })"
   ]
  },
  {
   "cell_type": "code",
   "execution_count": 18,
   "metadata": {
    "collapsed": false
   },
   "outputs": [
    {
     "name": "stdout",
     "output_type": "stream",
     "text": [
      "            Date   piControl\n",
      "0     1860-01-16  277.017914\n",
      "1     1860-02-15  277.968292\n",
      "2     1860-03-16  276.023468\n",
      "3     1860-04-16  274.006256\n",
      "4     1860-05-16  272.680542\n",
      "5     1860-06-16  271.812683\n",
      "6     1860-07-16  271.489227\n",
      "7     1860-08-16  271.350464\n",
      "8     1860-09-16  271.369385\n",
      "9     1860-10-16  271.422882\n",
      "10    1860-11-16  271.783813\n",
      "11    1860-12-16  273.956360\n",
      "12    1861-01-16  276.829346\n",
      "13    1861-02-15  277.718292\n",
      "14    1861-03-16  275.768372\n",
      "15    1861-04-16  273.717010\n",
      "16    1861-05-16  272.278595\n",
      "17    1861-06-16  271.592499\n",
      "18    1861-07-16  271.472626\n",
      "19    1861-08-16  271.405640\n",
      "20    1861-09-16  271.681549\n",
      "21    1861-10-16  271.711060\n",
      "22    1861-11-16  272.606964\n",
      "23    1861-12-16  274.766327\n",
      "24    1862-01-16  277.148895\n",
      "25    1862-02-15  277.893829\n",
      "26    1862-03-16  276.980743\n",
      "27    1862-04-16  275.108490\n",
      "28    1862-05-16  273.336029\n",
      "29    1862-06-16  272.381775\n",
      "...          ...         ...\n",
      "1722  2003-07-16  272.838379\n",
      "1723  2003-08-16  273.105194\n",
      "1724  2003-09-16  273.459534\n",
      "1725  2003-10-16  273.586090\n",
      "1726  2003-11-16  274.113892\n",
      "1727  2003-12-16  275.029449\n",
      "1728  2004-01-16  277.352936\n",
      "1729  2004-02-15  277.643219\n",
      "1730  2004-03-16  276.603546\n",
      "1731  2004-04-16  274.762787\n",
      "1732  2004-05-16  273.431549\n",
      "1733  2004-06-16  272.858826\n",
      "1734  2004-07-16  272.549316\n",
      "1735  2004-08-16  273.292908\n",
      "1736  2004-09-16  273.761719\n",
      "1737  2004-10-16  273.900879\n",
      "1738  2004-11-16  274.140594\n",
      "1739  2004-12-16  275.265808\n",
      "1740  2005-01-16  277.282166\n",
      "1741  2005-02-15  277.740509\n",
      "1742  2005-03-16  276.556549\n",
      "1743  2005-04-16  274.823395\n",
      "1744  2005-05-16  273.815521\n",
      "1745  2005-06-16  273.447662\n",
      "1746  2005-07-16  273.321320\n",
      "1747  2005-08-16  273.473724\n",
      "1748  2005-09-16  273.696381\n",
      "1749  2005-10-16  273.735504\n",
      "1750  2005-11-16  274.310028\n",
      "1751  2005-12-16  276.252441\n",
      "\n",
      "[1752 rows x 2 columns]\n"
     ]
    }
   ],
   "source": [
    "print df"
   ]
  },
  {
   "cell_type": "code",
   "execution_count": 23,
   "metadata": {
    "collapsed": false
   },
   "outputs": [
    {
     "data": {
      "text/html": [
       "\n",
       "\n",
       "    <div class=\"bk-root\">\n",
       "        <div class=\"plotdiv\" id=\"0aefa415-6048-44b1-a3dc-ef321964f137\"></div>\n",
       "    </div>\n",
       "<script type=\"text/javascript\">\n",
       "  \n",
       "  (function(global) {\n",
       "    function now() {\n",
       "      return new Date();\n",
       "    }\n",
       "  \n",
       "    if (typeof (window._bokeh_onload_callbacks) === \"undefined\") {\n",
       "      window._bokeh_onload_callbacks = [];\n",
       "    }\n",
       "  \n",
       "    function run_callbacks() {\n",
       "      window._bokeh_onload_callbacks.forEach(function(callback) { callback() });\n",
       "      delete window._bokeh_onload_callbacks\n",
       "      console.info(\"Bokeh: all callbacks have finished\");\n",
       "    }\n",
       "  \n",
       "    function load_libs(js_urls, callback) {\n",
       "      window._bokeh_onload_callbacks.push(callback);\n",
       "      if (window._bokeh_is_loading > 0) {\n",
       "        console.log(\"Bokeh: BokehJS is being loaded, scheduling callback at\", now());\n",
       "        return null;\n",
       "      }\n",
       "      if (js_urls == null || js_urls.length === 0) {\n",
       "        run_callbacks();\n",
       "        return null;\n",
       "      }\n",
       "      console.log(\"Bokeh: BokehJS not loaded, scheduling load and callback at\", now());\n",
       "      window._bokeh_is_loading = js_urls.length;\n",
       "      for (var i = 0; i < js_urls.length; i++) {\n",
       "        var url = js_urls[i];\n",
       "        var s = document.createElement('script');\n",
       "        s.src = url;\n",
       "        s.async = false;\n",
       "        s.onreadystatechange = s.onload = function() {\n",
       "          window._bokeh_is_loading--;\n",
       "          if (window._bokeh_is_loading === 0) {\n",
       "            console.log(\"Bokeh: all BokehJS libraries loaded\");\n",
       "            run_callbacks()\n",
       "          }\n",
       "        };\n",
       "        s.onerror = function() {\n",
       "          console.warn(\"failed to load library \" + url);\n",
       "        };\n",
       "        console.log(\"Bokeh: injecting script tag for BokehJS library: \", url);\n",
       "        document.getElementsByTagName(\"head\")[0].appendChild(s);\n",
       "      }\n",
       "    };var element = document.getElementById(\"0aefa415-6048-44b1-a3dc-ef321964f137\");\n",
       "    if (element == null) {\n",
       "      console.log(\"Bokeh: ERROR: autoload.js configured with elementid '0aefa415-6048-44b1-a3dc-ef321964f137' but no matching script tag was found. \")\n",
       "      return false;\n",
       "    }\n",
       "  \n",
       "    var js_urls = [];\n",
       "  \n",
       "    var inline_js = [\n",
       "      function(Bokeh) {\n",
       "        Bokeh.$(function() {\n",
       "            var docs_json = {\"b0a069b2-360c-49f8-8967-9fde65d9daed\":{\"roots\":{\"references\":[{\"attributes\":{\"overlay\":{\"id\":\"89839268-da2c-4411-8161-bfeed249e292\",\"type\":\"BoxAnnotation\"},\"plot\":{\"id\":\"71361cb6-da33-4467-99ed-078b0c729a7f\",\"subtype\":\"Figure\",\"type\":\"Plot\"}},\"id\":\"941aa5f3-ed63-4814-80bd-b2e7b5f3be2c\",\"type\":\"BoxZoomTool\"},{\"attributes\":{\"callback\":null},\"id\":\"85d64a44-9fd2-4e89-a944-745561222750\",\"type\":\"DataRange1d\"},{\"attributes\":{\"plot\":{\"id\":\"71361cb6-da33-4467-99ed-078b0c729a7f\",\"subtype\":\"Figure\",\"type\":\"Plot\"}},\"id\":\"fb6f5b78-f958-408c-8a2d-db75a0ce7fdf\",\"type\":\"ResetTool\"},{\"attributes\":{\"below\":[{\"id\":\"90fe380b-6e7b-4428-8b7d-8cb0866d6bb0\",\"type\":\"DatetimeAxis\"}],\"left\":[{\"id\":\"5f7841b7-4eb1-4803-b517-30206be6e98b\",\"type\":\"LinearAxis\"}],\"renderers\":[{\"id\":\"90fe380b-6e7b-4428-8b7d-8cb0866d6bb0\",\"type\":\"DatetimeAxis\"},{\"id\":\"46f93684-6a87-4fd1-a9d1-56c6e0e3ed20\",\"type\":\"Grid\"},{\"id\":\"5f7841b7-4eb1-4803-b517-30206be6e98b\",\"type\":\"LinearAxis\"},{\"id\":\"bf240c6d-c27e-4218-a69e-00641b9a612e\",\"type\":\"Grid\"},{\"id\":\"89839268-da2c-4411-8161-bfeed249e292\",\"type\":\"BoxAnnotation\"},{\"id\":\"bd36d24e-e083-475e-bc48-78e378a76d9d\",\"type\":\"Legend\"},{\"id\":\"f30abcda-597f-479b-9984-a8808f6e9b4e\",\"type\":\"GlyphRenderer\"}],\"title\":{\"id\":\"270e5351-ffb6-4de9-9f61-7ca85ea2eaa1\",\"type\":\"Title\"},\"tool_events\":{\"id\":\"35509458-3a3e-4f16-8408-b8760a7b16e4\",\"type\":\"ToolEvents\"},\"toolbar\":{\"id\":\"1f06b080-8494-4f48-ba10-14b768ffdcbd\",\"type\":\"Toolbar\"},\"x_range\":{\"id\":\"0203720e-2190-434f-a0be-942aecda27b1\",\"type\":\"DataRange1d\"},\"y_range\":{\"id\":\"85d64a44-9fd2-4e89-a944-745561222750\",\"type\":\"DataRange1d\"}},\"id\":\"71361cb6-da33-4467-99ed-078b0c729a7f\",\"subtype\":\"Figure\",\"type\":\"Plot\"},{\"attributes\":{\"plot\":{\"id\":\"71361cb6-da33-4467-99ed-078b0c729a7f\",\"subtype\":\"Figure\",\"type\":\"Plot\"}},\"id\":\"b8325f7e-3581-4bf5-bc44-fa47c4ae7778\",\"type\":\"HelpTool\"},{\"attributes\":{\"legends\":[[\"piControl\",[{\"id\":\"f30abcda-597f-479b-9984-a8808f6e9b4e\",\"type\":\"GlyphRenderer\"}]]],\"location\":\"top_left\",\"plot\":{\"id\":\"71361cb6-da33-4467-99ed-078b0c729a7f\",\"subtype\":\"Figure\",\"type\":\"Plot\"}},\"id\":\"bd36d24e-e083-475e-bc48-78e378a76d9d\",\"type\":\"Legend\"},{\"attributes\":{\"plot\":{\"id\":\"71361cb6-da33-4467-99ed-078b0c729a7f\",\"subtype\":\"Figure\",\"type\":\"Plot\"},\"ticker\":{\"id\":\"b92d6128-d927-4eb6-ad88-c08be1b099f7\",\"type\":\"DatetimeTicker\"}},\"id\":\"46f93684-6a87-4fd1-a9d1-56c6e0e3ed20\",\"type\":\"Grid\"},{\"attributes\":{\"callback\":null,\"column_names\":[\"y\",\"x\"],\"data\":{\"x\":[-3469996800000.0,-3467404800000.0,-3464812800000.0,-3462134400000.0,-3459542400000.0,-3456864000000.0,-3454272000000.0,-3451593600000.0,-3448915200000.0,-3446323200000.0,-3443644800000.0,-3441052800000.0,-3438374400000.0,-3435782400000.0,-3433276800000.0,-3430598400000.0,-3428006400000.0,-3425328000000.0,-3422736000000.0,-3420057600000.0,-3417379200000.0,-3414787200000.0,-3412108800000.0,-3409516800000.0,-3406838400000.0,-3404246400000.0,-3401740800000.0,-3399062400000.0,-3396470400000.0,-3393792000000.0,-3391200000000.0,-3388521600000.0,-3385843200000.0,-3383251200000.0,-3380572800000.0,-3377980800000.0,-3375302400000.0,-3372710400000.0,-3370204800000.0,-3367526400000.0,-3364934400000.0,-3362256000000.0,-3359664000000.0,-3356985600000.0,-3354307200000.0,-3351715200000.0,-3349036800000.0,-3346444800000.0,-3343766400000.0,-3341174400000.0,-3338582400000.0,-3335904000000.0,-3333312000000.0,-3330633600000.0,-3328041600000.0,-3325363200000.0,-3322684800000.0,-3320092800000.0,-3317414400000.0,-3314822400000.0,-3312144000000.0,-3309552000000.0,-3307046400000.0,-3304368000000.0,-3301776000000.0,-3299097600000.0,-3296505600000.0,-3293827200000.0,-3291148800000.0,-3288556800000.0,-3285878400000.0,-3283286400000.0,-3280608000000.0,-3278016000000.0,-3275510400000.0,-3272832000000.0,-3270240000000.0,-3267561600000.0,-3264969600000.0,-3262291200000.0,-3259612800000.0,-3257020800000.0,-3254342400000.0,-3251750400000.0,-3249072000000.0,-3246480000000.0,-3243974400000.0,-3241296000000.0,-3238704000000.0,-3236025600000.0,-3233433600000.0,-3230755200000.0,-3228076800000.0,-3225484800000.0,-3222806400000.0,-3220214400000.0,-3217536000000.0,-3214944000000.0,-3212352000000.0,-3209673600000.0,-3207081600000.0,-3204403200000.0,-3201811200000.0,-3199132800000.0,-3196454400000.0,-3193862400000.0,-3191184000000.0,-3188592000000.0,-3185913600000.0,-3183321600000.0,-3180816000000.0,-3178137600000.0,-3175545600000.0,-3172867200000.0,-3170275200000.0,-3167596800000.0,-3164918400000.0,-3162326400000.0,-3159648000000.0,-3157056000000.0,-3154377600000.0,-3151785600000.0,-3149280000000.0,-3146601600000.0,-3144009600000.0,-3141331200000.0,-3138739200000.0,-3136060800000.0,-3133382400000.0,-3130790400000.0,-3128112000000.0,-3125520000000.0,-3122841600000.0,-3120249600000.0,-3117744000000.0,-3115065600000.0,-3112473600000.0,-3109795200000.0,-3107203200000.0,-3104524800000.0,-3101846400000.0,-3099254400000.0,-3096576000000.0,-3093984000000.0,-3091305600000.0,-3088713600000.0,-3086121600000.0,-3083443200000.0,-3080851200000.0,-3078172800000.0,-3075580800000.0,-3072902400000.0,-3070224000000.0,-3067632000000.0,-3064953600000.0,-3062361600000.0,-3059683200000.0,-3057091200000.0,-3054585600000.0,-3051907200000.0,-3049315200000.0,-3046636800000.0,-3044044800000.0,-3041366400000.0,-3038688000000.0,-3036096000000.0,-3033417600000.0,-3030825600000.0,-3028147200000.0,-3025555200000.0,-3023049600000.0,-3020371200000.0,-3017779200000.0,-3015100800000.0,-3012508800000.0,-3009830400000.0,-3007152000000.0,-3004560000000.0,-3001881600000.0,-2999289600000.0,-2996611200000.0,-2994019200000.0,-2991513600000.0,-2988835200000.0,-2986243200000.0,-2983564800000.0,-2980972800000.0,-2978294400000.0,-2975616000000.0,-2973024000000.0,-2970345600000.0,-2967753600000.0,-2965075200000.0,-2962483200000.0,-2959891200000.0,-2957212800000.0,-2954620800000.0,-2951942400000.0,-2949350400000.0,-2946672000000.0,-2943993600000.0,-2941401600000.0,-2938723200000.0,-2936131200000.0,-2933452800000.0,-2930860800000.0,-2928355200000.0,-2925676800000.0,-2923084800000.0,-2920406400000.0,-2917814400000.0,-2915136000000.0,-2912457600000.0,-2909865600000.0,-2907187200000.0,-2904595200000.0,-2901916800000.0,-2899324800000.0,-2896819200000.0,-2894140800000.0,-2891548800000.0,-2888870400000.0,-2886278400000.0,-2883600000000.0,-2880921600000.0,-2878329600000.0,-2875651200000.0,-2873059200000.0,-2870380800000.0,-2867788800000.0,-2865283200000.0,-2862604800000.0,-2860012800000.0,-2857334400000.0,-2854742400000.0,-2852064000000.0,-2849385600000.0,-2846793600000.0,-2844115200000.0,-2841523200000.0,-2838844800000.0,-2836252800000.0,-2833660800000.0,-2830982400000.0,-2828390400000.0,-2825712000000.0,-2823120000000.0,-2820441600000.0,-2817763200000.0,-2815171200000.0,-2812492800000.0,-2809900800000.0,-2807222400000.0,-2804630400000.0,-2802124800000.0,-2799446400000.0,-2796854400000.0,-2794176000000.0,-2791584000000.0,-2788905600000.0,-2786227200000.0,-2783635200000.0,-2780956800000.0,-2778364800000.0,-2775686400000.0,-2773094400000.0,-2770588800000.0,-2767910400000.0,-2765318400000.0,-2762640000000.0,-2760048000000.0,-2757369600000.0,-2754691200000.0,-2752099200000.0,-2749420800000.0,-2746828800000.0,-2744150400000.0,-2741558400000.0,-2739052800000.0,-2736374400000.0,-2733782400000.0,-2731104000000.0,-2728512000000.0,-2725833600000.0,-2723155200000.0,-2720563200000.0,-2717884800000.0,-2715292800000.0,-2712614400000.0,-2710022400000.0,-2707430400000.0,-2704752000000.0,-2702160000000.0,-2699481600000.0,-2696889600000.0,-2694211200000.0,-2691532800000.0,-2688940800000.0,-2686262400000.0,-2683670400000.0,-2680992000000.0,-2678400000000.0,-2675894400000.0,-2673216000000.0,-2670624000000.0,-2667945600000.0,-2665353600000.0,-2662675200000.0,-2659996800000.0,-2657404800000.0,-2654726400000.0,-2652134400000.0,-2649456000000.0,-2646864000000.0,-2644358400000.0,-2641680000000.0,-2639088000000.0,-2636409600000.0,-2633817600000.0,-2631139200000.0,-2628460800000.0,-2625868800000.0,-2623190400000.0,-2620598400000.0,-2617920000000.0,-2615328000000.0,-2612822400000.0,-2610144000000.0,-2607552000000.0,-2604873600000.0,-2602281600000.0,-2599603200000.0,-2596924800000.0,-2594332800000.0,-2591654400000.0,-2589062400000.0,-2586384000000.0,-2583792000000.0,-2581200000000.0,-2578521600000.0,-2575929600000.0,-2573251200000.0,-2570659200000.0,-2567980800000.0,-2565302400000.0,-2562710400000.0,-2560032000000.0,-2557440000000.0,-2554761600000.0,-2552169600000.0,-2549664000000.0,-2546985600000.0,-2544393600000.0,-2541715200000.0,-2539123200000.0,-2536444800000.0,-2533766400000.0,-2531174400000.0,-2528496000000.0,-2525904000000.0,-2523225600000.0,-2520633600000.0,-2518128000000.0,-2515449600000.0,-2512857600000.0,-2510179200000.0,-2507587200000.0,-2504908800000.0,-2502230400000.0,-2499638400000.0,-2496960000000.0,-2494368000000.0,-2491689600000.0,-2489097600000.0,-2486592000000.0,-2483913600000.0,-2481321600000.0,-2478643200000.0,-2476051200000.0,-2473372800000.0,-2470694400000.0,-2468102400000.0,-2465424000000.0,-2462832000000.0,-2460153600000.0,-2457561600000.0,-2454969600000.0,-2452291200000.0,-2449699200000.0,-2447020800000.0,-2444428800000.0,-2441750400000.0,-2439072000000.0,-2436480000000.0,-2433801600000.0,-2431209600000.0,-2428531200000.0,-2425939200000.0,-2423433600000.0,-2420755200000.0,-2418163200000.0,-2415484800000.0,-2412892800000.0,-2410214400000.0,-2407536000000.0,-2404944000000.0,-2402265600000.0,-2399673600000.0,-2396995200000.0,-2394403200000.0,-2391897600000.0,-2389219200000.0,-2386627200000.0,-2383948800000.0,-2381356800000.0,-2378678400000.0,-2376000000000.0,-2373408000000.0,-2370729600000.0,-2368137600000.0,-2365459200000.0,-2362867200000.0,-2360361600000.0,-2357683200000.0,-2355091200000.0,-2352412800000.0,-2349820800000.0,-2347142400000.0,-2344464000000.0,-2341872000000.0,-2339193600000.0,-2336601600000.0,-2333923200000.0,-2331331200000.0,-2328739200000.0,-2326060800000.0,-2323468800000.0,-2320790400000.0,-2318198400000.0,-2315520000000.0,-2312841600000.0,-2310249600000.0,-2307571200000.0,-2304979200000.0,-2302300800000.0,-2299708800000.0,-2297203200000.0,-2294524800000.0,-2291932800000.0,-2289254400000.0,-2286662400000.0,-2283984000000.0,-2281305600000.0,-2278713600000.0,-2276035200000.0,-2273443200000.0,-2270764800000.0,-2268172800000.0,-2265667200000.0,-2262988800000.0,-2260396800000.0,-2257718400000.0,-2255126400000.0,-2252448000000.0,-2249769600000.0,-2247177600000.0,-2244499200000.0,-2241907200000.0,-2239228800000.0,-2236636800000.0,-2234131200000.0,-2231452800000.0,-2228860800000.0,-2226182400000.0,-2223590400000.0,-2220912000000.0,-2218233600000.0,-2215641600000.0,-2212963200000.0,-2210371200000.0,-2207692800000.0,-2205100800000.0,-2202595200000.0,-2199916800000.0,-2197324800000.0,-2194646400000.0,-2192054400000.0,-2189376000000.0,-2186697600000.0,-2184105600000.0,-2181427200000.0,-2178835200000.0,-2176156800000.0,-2173564800000.0,-2171059200000.0,-2168380800000.0,-2165788800000.0,-2163110400000.0,-2160518400000.0,-2157840000000.0,-2155161600000.0,-2152569600000.0,-2149891200000.0,-2147299200000.0,-2144620800000.0,-2142028800000.0,-2139523200000.0,-2136844800000.0,-2134252800000.0,-2131574400000.0,-2128982400000.0,-2126304000000.0,-2123625600000.0,-2121033600000.0,-2118355200000.0,-2115763200000.0,-2113084800000.0,-2110492800000.0,-2107987200000.0,-2105308800000.0,-2102716800000.0,-2100038400000.0,-2097446400000.0,-2094768000000.0,-2092089600000.0,-2089497600000.0,-2086819200000.0,-2084227200000.0,-2081548800000.0,-2078956800000.0,-2076364800000.0,-2073686400000.0,-2071094400000.0,-2068416000000.0,-2065824000000.0,-2063145600000.0,-2060467200000.0,-2057875200000.0,-2055196800000.0,-2052604800000.0,-2049926400000.0,-2047334400000.0,-2044828800000.0,-2042150400000.0,-2039558400000.0,-2036880000000.0,-2034288000000.0,-2031609600000.0,-2028931200000.0,-2026339200000.0,-2023660800000.0,-2021068800000.0,-2018390400000.0,-2015798400000.0,-2013292800000.0,-2010614400000.0,-2008022400000.0,-2005344000000.0,-2002752000000.0,-2000073600000.0,-1997395200000.0,-1994803200000.0,-1992124800000.0,-1989532800000.0,-1986854400000.0,-1984262400000.0,-1981756800000.0,-1979078400000.0,-1976486400000.0,-1973808000000.0,-1971216000000.0,-1968537600000.0,-1965859200000.0,-1963267200000.0,-1960588800000.0,-1957996800000.0,-1955318400000.0,-1952726400000.0,-1950134400000.0,-1947456000000.0,-1944864000000.0,-1942185600000.0,-1939593600000.0,-1936915200000.0,-1934236800000.0,-1931644800000.0,-1928966400000.0,-1926374400000.0,-1923696000000.0,-1921104000000.0,-1918598400000.0,-1915920000000.0,-1913328000000.0,-1910649600000.0,-1908057600000.0,-1905379200000.0,-1902700800000.0,-1900108800000.0,-1897430400000.0,-1894838400000.0,-1892160000000.0,-1889568000000.0,-1887062400000.0,-1884384000000.0,-1881792000000.0,-1879113600000.0,-1876521600000.0,-1873843200000.0,-1871164800000.0,-1868572800000.0,-1865894400000.0,-1863302400000.0,-1860624000000.0,-1858032000000.0,-1855526400000.0,-1852848000000.0,-1850256000000.0,-1847577600000.0,-1844985600000.0,-1842307200000.0,-1839628800000.0,-1837036800000.0,-1834358400000.0,-1831766400000.0,-1829088000000.0,-1826496000000.0,-1823904000000.0,-1821225600000.0,-1818633600000.0,-1815955200000.0,-1813363200000.0,-1810684800000.0,-1808006400000.0,-1805414400000.0,-1802736000000.0,-1800144000000.0,-1797465600000.0,-1794873600000.0,-1792368000000.0,-1789689600000.0,-1787097600000.0,-1784419200000.0,-1781827200000.0,-1779148800000.0,-1776470400000.0,-1773878400000.0,-1771200000000.0,-1768608000000.0,-1765929600000.0,-1763337600000.0,-1760832000000.0,-1758153600000.0,-1755561600000.0,-1752883200000.0,-1750291200000.0,-1747612800000.0,-1744934400000.0,-1742342400000.0,-1739664000000.0,-1737072000000.0,-1734393600000.0,-1731801600000.0,-1729296000000.0,-1726617600000.0,-1724025600000.0,-1721347200000.0,-1718755200000.0,-1716076800000.0,-1713398400000.0,-1710806400000.0,-1708128000000.0,-1705536000000.0,-1702857600000.0,-1700265600000.0,-1697673600000.0,-1694995200000.0,-1692403200000.0,-1689724800000.0,-1687132800000.0,-1684454400000.0,-1681776000000.0,-1679184000000.0,-1676505600000.0,-1673913600000.0,-1671235200000.0,-1668643200000.0,-1666137600000.0,-1663459200000.0,-1660867200000.0,-1658188800000.0,-1655596800000.0,-1652918400000.0,-1650240000000.0,-1647648000000.0,-1644969600000.0,-1642377600000.0,-1639699200000.0,-1637107200000.0,-1634601600000.0,-1631923200000.0,-1629331200000.0,-1626652800000.0,-1624060800000.0,-1621382400000.0,-1618704000000.0,-1616112000000.0,-1613433600000.0,-1610841600000.0,-1608163200000.0,-1605571200000.0,-1603065600000.0,-1600387200000.0,-1597795200000.0,-1595116800000.0,-1592524800000.0,-1589846400000.0,-1587168000000.0,-1584576000000.0,-1581897600000.0,-1579305600000.0,-1576627200000.0,-1574035200000.0,-1571443200000.0,-1568764800000.0,-1566172800000.0,-1563494400000.0,-1560902400000.0,-1558224000000.0,-1555545600000.0,-1552953600000.0,-1550275200000.0,-1547683200000.0,-1545004800000.0,-1542412800000.0,-1539907200000.0,-1537228800000.0,-1534636800000.0,-1531958400000.0,-1529366400000.0,-1526688000000.0,-1524009600000.0,-1521417600000.0,-1518739200000.0,-1516147200000.0,-1513468800000.0,-1510876800000.0,-1508371200000.0,-1505692800000.0,-1503100800000.0,-1500422400000.0,-1497830400000.0,-1495152000000.0,-1492473600000.0,-1489881600000.0,-1487203200000.0,-1484611200000.0,-1481932800000.0,-1479340800000.0,-1476835200000.0,-1474156800000.0,-1471564800000.0,-1468886400000.0,-1466294400000.0,-1463616000000.0,-1460937600000.0,-1458345600000.0,-1455667200000.0,-1453075200000.0,-1450396800000.0,-1447804800000.0,-1445212800000.0,-1442534400000.0,-1439942400000.0,-1437264000000.0,-1434672000000.0,-1431993600000.0,-1429315200000.0,-1426723200000.0,-1424044800000.0,-1421452800000.0,-1418774400000.0,-1416182400000.0,-1413676800000.0,-1410998400000.0,-1408406400000.0,-1405728000000.0,-1403136000000.0,-1400457600000.0,-1397779200000.0,-1395187200000.0,-1392508800000.0,-1389916800000.0,-1387238400000.0,-1384646400000.0,-1382140800000.0,-1379462400000.0,-1376870400000.0,-1374192000000.0,-1371600000000.0,-1368921600000.0,-1366243200000.0,-1363651200000.0,-1360972800000.0,-1358380800000.0,-1355702400000.0,-1353110400000.0,-1350604800000.0,-1347926400000.0,-1345334400000.0,-1342656000000.0,-1340064000000.0,-1337385600000.0,-1334707200000.0,-1332115200000.0,-1329436800000.0,-1326844800000.0,-1324166400000.0,-1321574400000.0,-1318982400000.0,-1316304000000.0,-1313712000000.0,-1311033600000.0,-1308441600000.0,-1305763200000.0,-1303084800000.0,-1300492800000.0,-1297814400000.0,-1295222400000.0,-1292544000000.0,-1289952000000.0,-1287446400000.0,-1284768000000.0,-1282176000000.0,-1279497600000.0,-1276905600000.0,-1274227200000.0,-1271548800000.0,-1268956800000.0,-1266278400000.0,-1263686400000.0,-1261008000000.0,-1258416000000.0,-1255910400000.0,-1253232000000.0,-1250640000000.0,-1247961600000.0,-1245369600000.0,-1242691200000.0,-1240012800000.0,-1237420800000.0,-1234742400000.0,-1232150400000.0,-1229472000000.0,-1226880000000.0,-1224374400000.0,-1221696000000.0,-1219104000000.0,-1216425600000.0,-1213833600000.0,-1211155200000.0,-1208476800000.0,-1205884800000.0,-1203206400000.0,-1200614400000.0,-1197936000000.0,-1195344000000.0,-1192752000000.0,-1190073600000.0,-1187481600000.0,-1184803200000.0,-1182211200000.0,-1179532800000.0,-1176854400000.0,-1174262400000.0,-1171584000000.0,-1168992000000.0,-1166313600000.0,-1163721600000.0,-1161216000000.0,-1158537600000.0,-1155945600000.0,-1153267200000.0,-1150675200000.0,-1147996800000.0,-1145318400000.0,-1142726400000.0,-1140048000000.0,-1137456000000.0,-1134777600000.0,-1132185600000.0,-1129680000000.0,-1127001600000.0,-1124409600000.0,-1121731200000.0,-1119139200000.0,-1116460800000.0,-1113782400000.0,-1111190400000.0,-1108512000000.0,-1105920000000.0,-1103241600000.0,-1100649600000.0,-1098144000000.0,-1095465600000.0,-1092873600000.0,-1090195200000.0,-1087603200000.0,-1084924800000.0,-1082246400000.0,-1079654400000.0,-1076976000000.0,-1074384000000.0,-1071705600000.0,-1069113600000.0,-1066521600000.0,-1063843200000.0,-1061251200000.0,-1058572800000.0,-1055980800000.0,-1053302400000.0,-1050624000000.0,-1048032000000.0,-1045353600000.0,-1042761600000.0,-1040083200000.0,-1037491200000.0,-1034985600000.0,-1032307200000.0,-1029715200000.0,-1027036800000.0,-1024444800000.0,-1021766400000.0,-1019088000000.0,-1016496000000.0,-1013817600000.0,-1011225600000.0,-1008547200000.0,-1005955200000.0,-1003449600000.0,-1000771200000.0,-998179200000.0,-995500800000.0,-992908800000.0,-990230400000.0,-987552000000.0,-984960000000.0,-982281600000.0,-979689600000.0,-977011200000.0,-974419200000.0,-971913600000.0,-969235200000.0,-966643200000.0,-963964800000.0,-961372800000.0,-958694400000.0,-956016000000.0,-953424000000.0,-950745600000.0,-948153600000.0,-945475200000.0,-942883200000.0,-940291200000.0,-937612800000.0,-935020800000.0,-932342400000.0,-929750400000.0,-927072000000.0,-924393600000.0,-921801600000.0,-919123200000.0,-916531200000.0,-913852800000.0,-911260800000.0,-908755200000.0,-906076800000.0,-903484800000.0,-900806400000.0,-898214400000.0,-895536000000.0,-892857600000.0,-890265600000.0,-887587200000.0,-884995200000.0,-882316800000.0,-879724800000.0,-877219200000.0,-874540800000.0,-871948800000.0,-869270400000.0,-866678400000.0,-864000000000.0,-861321600000.0,-858729600000.0,-856051200000.0,-853459200000.0,-850780800000.0,-848188800000.0,-845683200000.0,-843004800000.0,-840412800000.0,-837734400000.0,-835142400000.0,-832464000000.0,-829785600000.0,-827193600000.0,-824515200000.0,-821923200000.0,-819244800000.0,-816652800000.0,-814060800000.0,-811382400000.0,-808790400000.0,-806112000000.0,-803520000000.0,-800841600000.0,-798163200000.0,-795571200000.0,-792892800000.0,-790300800000.0,-787622400000.0,-785030400000.0,-782524800000.0,-779846400000.0,-777254400000.0,-774576000000.0,-771984000000.0,-769305600000.0,-766627200000.0,-764035200000.0,-761356800000.0,-758764800000.0,-756086400000.0,-753494400000.0,-750988800000.0,-748310400000.0,-745718400000.0,-743040000000.0,-740448000000.0,-737769600000.0,-735091200000.0,-732499200000.0,-729820800000.0,-727228800000.0,-724550400000.0,-721958400000.0,-719452800000.0,-716774400000.0,-714182400000.0,-711504000000.0,-708912000000.0,-706233600000.0,-703555200000.0,-700963200000.0,-698284800000.0,-695692800000.0,-693014400000.0,-690422400000.0,-687830400000.0,-685152000000.0,-682560000000.0,-679881600000.0,-677289600000.0,-674611200000.0,-671932800000.0,-669340800000.0,-666662400000.0,-664070400000.0,-661392000000.0,-658800000000.0,-656294400000.0,-653616000000.0,-651024000000.0,-648345600000.0,-645753600000.0,-643075200000.0,-640396800000.0,-637804800000.0,-635126400000.0,-632534400000.0,-629856000000.0,-627264000000.0,-624758400000.0,-622080000000.0,-619488000000.0,-616809600000.0,-614217600000.0,-611539200000.0,-608860800000.0,-606268800000.0,-603590400000.0,-600998400000.0,-598320000000.0,-595728000000.0,-593222400000.0,-590544000000.0,-587952000000.0,-585273600000.0,-582681600000.0,-580003200000.0,-577324800000.0,-574732800000.0,-572054400000.0,-569462400000.0,-566784000000.0,-564192000000.0,-561600000000.0,-558921600000.0,-556329600000.0,-553651200000.0,-551059200000.0,-548380800000.0,-545702400000.0,-543110400000.0,-540432000000.0,-537840000000.0,-535161600000.0,-532569600000.0,-530064000000.0,-527385600000.0,-524793600000.0,-522115200000.0,-519523200000.0,-516844800000.0,-514166400000.0,-511574400000.0,-508896000000.0,-506304000000.0,-503625600000.0,-501033600000.0,-498528000000.0,-495849600000.0,-493257600000.0,-490579200000.0,-487987200000.0,-485308800000.0,-482630400000.0,-480038400000.0,-477360000000.0,-474768000000.0,-472089600000.0,-469497600000.0,-466992000000.0,-464313600000.0,-461721600000.0,-459043200000.0,-456451200000.0,-453772800000.0,-451094400000.0,-448502400000.0,-445824000000.0,-443232000000.0,-440553600000.0,-437961600000.0,-435369600000.0,-432691200000.0,-430099200000.0,-427420800000.0,-424828800000.0,-422150400000.0,-419472000000.0,-416880000000.0,-414201600000.0,-411609600000.0,-408931200000.0,-406339200000.0,-403833600000.0,-401155200000.0,-398563200000.0,-395884800000.0,-393292800000.0,-390614400000.0,-387936000000.0,-385344000000.0,-382665600000.0,-380073600000.0,-377395200000.0,-374803200000.0,-372297600000.0,-369619200000.0,-367027200000.0,-364348800000.0,-361756800000.0,-359078400000.0,-356400000000.0,-353808000000.0,-351129600000.0,-348537600000.0,-345859200000.0,-343267200000.0,-340761600000.0,-338083200000.0,-335491200000.0,-332812800000.0,-330220800000.0,-327542400000.0,-324864000000.0,-322272000000.0,-319593600000.0,-317001600000.0,-314323200000.0,-311731200000.0,-309139200000.0,-306460800000.0,-303868800000.0,-301190400000.0,-298598400000.0,-295920000000.0,-293241600000.0,-290649600000.0,-287971200000.0,-285379200000.0,-282700800000.0,-280108800000.0,-277603200000.0,-274924800000.0,-272332800000.0,-269654400000.0,-267062400000.0,-264384000000.0,-261705600000.0,-259113600000.0,-256435200000.0,-253843200000.0,-251164800000.0,-248572800000.0,-246067200000.0,-243388800000.0,-240796800000.0,-238118400000.0,-235526400000.0,-232848000000.0,-230169600000.0,-227577600000.0,-224899200000.0,-222307200000.0,-219628800000.0,-217036800000.0,-214531200000.0,-211852800000.0,-209260800000.0,-206582400000.0,-203990400000.0,-201312000000.0,-198633600000.0,-196041600000.0,-193363200000.0,-190771200000.0,-188092800000.0,-185500800000.0,-182908800000.0,-180230400000.0,-177638400000.0,-174960000000.0,-172368000000.0,-169689600000.0,-167011200000.0,-164419200000.0,-161740800000.0,-159148800000.0,-156470400000.0,-153878400000.0,-151372800000.0,-148694400000.0,-146102400000.0,-143424000000.0,-140832000000.0,-138153600000.0,-135475200000.0,-132883200000.0,-130204800000.0,-127612800000.0,-124934400000.0,-122342400000.0,-119836800000.0,-117158400000.0,-114566400000.0,-111888000000.0,-109296000000.0,-106617600000.0,-103939200000.0,-101347200000.0,-98668800000.0,-96076800000.0,-93398400000.0,-90806400000.0,-88300800000.0,-85622400000.0,-83030400000.0,-80352000000.0,-77760000000.0,-75081600000.0,-72403200000.0,-69811200000.0,-67132800000.0,-64540800000.0,-61862400000.0,-59270400000.0,-56678400000.0,-54000000000.0,-51408000000.0,-48729600000.0,-46137600000.0,-43459200000.0,-40780800000.0,-38188800000.0,-35510400000.0,-32918400000.0,-30240000000.0,-27648000000.0,-25142400000.0,-22464000000.0,-19872000000.0,-17193600000.0,-14601600000.0,-11923200000.0,-9244800000.0,-6652800000.0,-3974400000.0,-1382400000.0,1296000000.0,3888000000.0,6393600000.0,9072000000.0,11664000000.0,14342400000.0,16934400000.0,19612800000.0,22291200000.0,24883200000.0,27561600000.0,30153600000.0,32832000000.0,35424000000.0,37929600000.0,40608000000.0,43200000000.0,45878400000.0,48470400000.0,51148800000.0,53827200000.0,56419200000.0,59097600000.0,61689600000.0,64368000000.0,66960000000.0,69552000000.0,72230400000.0,74822400000.0,77500800000.0,80092800000.0,82771200000.0,85449600000.0,88041600000.0,90720000000.0,93312000000.0,95990400000.0,98582400000.0,101088000000.0,103766400000.0,106358400000.0,109036800000.0,111628800000.0,114307200000.0,116985600000.0,119577600000.0,122256000000.0,124848000000.0,127526400000.0,130118400000.0,132624000000.0,135302400000.0,137894400000.0,140572800000.0,143164800000.0,145843200000.0,148521600000.0,151113600000.0,153792000000.0,156384000000.0,159062400000.0,161654400000.0,164160000000.0,166838400000.0,169430400000.0,172108800000.0,174700800000.0,177379200000.0,180057600000.0,182649600000.0,185328000000.0,187920000000.0,190598400000.0,193190400000.0,195782400000.0,198460800000.0,201052800000.0,203731200000.0,206323200000.0,209001600000.0,211680000000.0,214272000000.0,216950400000.0,219542400000.0,222220800000.0,224812800000.0,227318400000.0,229996800000.0,232588800000.0,235267200000.0,237859200000.0,240537600000.0,243216000000.0,245808000000.0,248486400000.0,251078400000.0,253756800000.0,256348800000.0,258854400000.0,261532800000.0,264124800000.0,266803200000.0,269395200000.0,272073600000.0,274752000000.0,277344000000.0,280022400000.0,282614400000.0,285292800000.0,287884800000.0,290390400000.0,293068800000.0,295660800000.0,298339200000.0,300931200000.0,303609600000.0,306288000000.0,308880000000.0,311558400000.0,314150400000.0,316828800000.0,319420800000.0,322012800000.0,324691200000.0,327283200000.0,329961600000.0,332553600000.0,335232000000.0,337910400000.0,340502400000.0,343180800000.0,345772800000.0,348451200000.0,351043200000.0,353548800000.0,356227200000.0,358819200000.0,361497600000.0,364089600000.0,366768000000.0,369446400000.0,372038400000.0,374716800000.0,377308800000.0,379987200000.0,382579200000.0,385084800000.0,387763200000.0,390355200000.0,393033600000.0,395625600000.0,398304000000.0,400982400000.0,403574400000.0,406252800000.0,408844800000.0,411523200000.0,414115200000.0,416620800000.0,419299200000.0,421891200000.0,424569600000.0,427161600000.0,429840000000.0,432518400000.0,435110400000.0,437788800000.0,440380800000.0,443059200000.0,445651200000.0,448243200000.0,450921600000.0,453513600000.0,456192000000.0,458784000000.0,461462400000.0,464140800000.0,466732800000.0,469411200000.0,472003200000.0,474681600000.0,477273600000.0,479779200000.0,482457600000.0,485049600000.0,487728000000.0,490320000000.0,492998400000.0,495676800000.0,498268800000.0,500947200000.0,503539200000.0,506217600000.0,508809600000.0,511315200000.0,513993600000.0,516585600000.0,519264000000.0,521856000000.0,524534400000.0,527212800000.0,529804800000.0,532483200000.0,535075200000.0,537753600000.0,540345600000.0,542851200000.0,545529600000.0,548121600000.0,550800000000.0,553392000000.0,556070400000.0,558748800000.0,561340800000.0,564019200000.0,566611200000.0,569289600000.0,571881600000.0,574473600000.0,577152000000.0,579744000000.0,582422400000.0,585014400000.0,587692800000.0,590371200000.0,592963200000.0,595641600000.0,598233600000.0,600912000000.0,603504000000.0,606009600000.0,608688000000.0,611280000000.0,613958400000.0,616550400000.0,619228800000.0,621907200000.0,624499200000.0,627177600000.0,629769600000.0,632448000000.0,635040000000.0,637545600000.0,640224000000.0,642816000000.0,645494400000.0,648086400000.0,650764800000.0,653443200000.0,656035200000.0,658713600000.0,661305600000.0,663984000000.0,666576000000.0,669081600000.0,671760000000.0,674352000000.0,677030400000.0,679622400000.0,682300800000.0,684979200000.0,687571200000.0,690249600000.0,692841600000.0,695520000000.0,698112000000.0,700704000000.0,703382400000.0,705974400000.0,708652800000.0,711244800000.0,713923200000.0,716601600000.0,719193600000.0,721872000000.0,724464000000.0,727142400000.0,729734400000.0,732240000000.0,734918400000.0,737510400000.0,740188800000.0,742780800000.0,745459200000.0,748137600000.0,750729600000.0,753408000000.0,756000000000.0,758678400000.0,761270400000.0,763776000000.0,766454400000.0,769046400000.0,771724800000.0,774316800000.0,776995200000.0,779673600000.0,782265600000.0,784944000000.0,787536000000.0,790214400000.0,792806400000.0,795312000000.0,797990400000.0,800582400000.0,803260800000.0,805852800000.0,808531200000.0,811209600000.0,813801600000.0,816480000000.0,819072000000.0,821750400000.0,824342400000.0,826934400000.0,829612800000.0,832204800000.0,834883200000.0,837475200000.0,840153600000.0,842832000000.0,845424000000.0,848102400000.0,850694400000.0,853372800000.0,855964800000.0,858470400000.0,861148800000.0,863740800000.0,866419200000.0,869011200000.0,871689600000.0,874368000000.0,876960000000.0,879638400000.0,882230400000.0,884908800000.0,887500800000.0,890006400000.0,892684800000.0,895276800000.0,897955200000.0,900547200000.0,903225600000.0,905904000000.0,908496000000.0,911174400000.0,913766400000.0,916444800000.0,919036800000.0,921542400000.0,924220800000.0,926812800000.0,929491200000.0,932083200000.0,934761600000.0,937440000000.0,940032000000.0,942710400000.0,945302400000.0,947980800000.0,950572800000.0,953164800000.0,955843200000.0,958435200000.0,961113600000.0,963705600000.0,966384000000.0,969062400000.0,971654400000.0,974332800000.0,976924800000.0,979603200000.0,982195200000.0,984700800000.0,987379200000.0,989971200000.0,992649600000.0,995241600000.0,997920000000.0,1000598400000.0,1003190400000.0,1005868800000.0,1008460800000.0,1011139200000.0,1013731200000.0,1016236800000.0,1018915200000.0,1021507200000.0,1024185600000.0,1026777600000.0,1029456000000.0,1032134400000.0,1034726400000.0,1037404800000.0,1039996800000.0,1042675200000.0,1045267200000.0,1047772800000.0,1050451200000.0,1053043200000.0,1055721600000.0,1058313600000.0,1060992000000.0,1063670400000.0,1066262400000.0,1068940800000.0,1071532800000.0,1074211200000.0,1076803200000.0,1079395200000.0,1082073600000.0,1084665600000.0,1087344000000.0,1089936000000.0,1092614400000.0,1095292800000.0,1097884800000.0,1100563200000.0,1103155200000.0,1105833600000.0,1108425600000.0,1110931200000.0,1113609600000.0,1116201600000.0,1118880000000.0,1121472000000.0,1124150400000.0,1126828800000.0,1129420800000.0,1132099200000.0,1134691200000.0],\"y\":[277.0179138183594,277.9682922363281,276.0234680175781,274.0062561035156,272.6805419921875,271.81268310546875,271.4892272949219,271.3504638671875,271.369384765625,271.4228820800781,271.7838134765625,273.95635986328125,276.829345703125,277.7182922363281,275.76837158203125,273.7170104980469,272.2785949707031,271.5924987792969,271.4726257324219,271.4056396484375,271.6815490722656,271.7110595703125,272.6069641113281,274.7663269042969,277.1488952636719,277.8938293457031,276.9807434082031,275.1084899902344,273.3360290527344,272.38177490234375,272.35540771484375,272.42938232421875,272.19189453125,271.9453125,272.5295104980469,274.4820251464844,277.064208984375,276.68914794921875,275.6218566894531,273.91046142578125,272.3916015625,271.4405517578125,271.3612060546875,271.4515686035156,271.66802978515625,271.7584228515625,272.1092529296875,273.95013427734375,276.39276123046875,276.9361267089844,275.7097473144531,274.22509765625,272.9923400878906,271.7998046875,271.4554138183594,271.4239501953125,271.5606994628906,271.814208984375,272.1797180175781,274.03424072265625,276.9024658203125,277.9078369140625,276.29925537109375,274.3729248046875,272.9902038574219,272.3224182128906,271.8763732910156,271.5667724609375,271.9303894042969,272.4540710449219,273.43603515625,275.8273010253906,278.2004699707031,278.2407531738281,276.3975524902344,274.06353759765625,272.439697265625,271.8623352050781,271.68328857421875,271.9026794433594,272.2322692871094,272.74127197265625,273.27392578125,274.79583740234375,277.05670166015625,278.0835876464844,276.8299560546875,275.0514831542969,273.4450378417969,272.568115234375,271.99090576171875,272.2100830078125,272.4701232910156,272.7527160644531,273.39239501953125,275.518310546875,278.32611083984375,278.67291259765625,277.0252685546875,275.0334167480469,273.3553771972656,272.186767578125,271.588134765625,271.4169006347656,271.5072937011719,271.9093322753906,272.7160949707031,274.57806396484375,276.7718200683594,277.62933349609375,276.7520751953125,275.2572021484375,273.6923522949219,272.74029541015625,272.275146484375,271.932373046875,271.6546936035156,271.8978271484375,272.6026916503906,274.45367431640625,276.50140380859375,276.90069580078125,275.6784973144531,274.3504943847656,273.1011047363281,272.3687744140625,272.04302978515625,271.792724609375,271.85992431640625,271.97454833984375,272.8484191894531,274.54681396484375,277.6039733886719,278.1401062011719,276.0849609375,273.9001159667969,272.4707946777344,271.5202941894531,271.3856201171875,271.3782958984375,271.3788146972656,271.4329833984375,272.10211181640625,274.3349609375,277.0746154785156,277.3930969238281,275.943359375,274.1872253417969,272.7466125488281,271.7131652832031,271.35699462890625,271.3306579589844,271.3668518066406,271.50823974609375,272.3262939453125,274.9251403808594,277.2008361816406,277.4973449707031,275.79705810546875,274.1974792480469,272.2176208496094,271.392822265625,271.349853515625,271.3731689453125,271.3953857421875,271.489501953125,272.1191101074219,274.2630920410156,276.2318115234375,277.1867980957031,276.3045959472656,274.5466003417969,273.5784606933594,272.8238830566406,271.8825988769531,271.50616455078125,271.6893615722656,271.7705993652344,272.61767578125,274.87261962890625,277.88665771484375,277.419921875,275.3612060546875,273.9407653808594,272.6037902832031,271.8025817871094,271.5420227050781,271.8227844238281,271.8826904296875,272.3333740234375,273.19317626953125,274.9613037109375,277.2716064453125,278.2589111328125,276.7887268066406,274.9972229003906,273.86859130859375,272.77880859375,272.16888427734375,272.674072265625,273.18597412109375,272.86492919921875,272.9503479003906,274.8832702636719,277.9400329589844,279.0638427734375,277.2838134765625,275.04827880859375,273.19403076171875,272.2772521972656,272.06549072265625,272.5503234863281,272.8456115722656,272.9595031738281,274.2253723144531,276.77886962890625,279.1605529785156,279.9416809082031,278.4781799316406,276.0686950683594,274.0736083984375,273.197021484375,272.6429443359375,272.3742370605469,272.41448974609375,273.1266174316406,274.00982666015625,276.00579833984375,277.8224792480469,278.2193908691406,276.97711181640625,275.28863525390625,274.19677734375,273.0257263183594,272.47760009765625,272.7524719238281,273.1308288574219,273.27288818359375,274.1868591308594,277.04608154296875,279.5763244628906,280.25030517578125,277.9413146972656,275.7527770996094,274.3807373046875,273.45391845703125,273.3221130371094,273.4155578613281,273.4538269042969,273.36669921875,274.0422058105469,276.1719665527344,278.43060302734375,278.92791748046875,277.2660827636719,275.1940612792969,274.1153869628906,273.3310546875,272.7652587890625,272.44720458984375,272.0859375,272.3453674316406,273.04718017578125,274.973876953125,277.1727294921875,278.09588623046875,276.50372314453125,274.5226135253906,273.1636047363281,273.0686340332031,272.7247314453125,272.31976318359375,272.0085754394531,272.0559387207031,272.9102478027344,275.360107421875,277.8741760253906,278.01434326171875,276.6362609863281,274.4617614746094,273.4685363769531,272.8957824707031,272.99310302734375,272.6507263183594,272.1567077636719,272.28070068359375,272.9053955078125,275.1758728027344,277.6944580078125,278.3808898925781,277.12091064453125,274.8016357421875,273.60015869140625,272.3934020996094,271.9946594238281,271.7393493652344,271.6026306152344,271.7803649902344,272.4825439453125,274.3697204589844,276.6719665527344,277.67840576171875,275.7574768066406,273.7114562988281,272.316162109375,271.5398864746094,271.5105285644531,271.5999755859375,271.6090087890625,271.745361328125,272.32696533203125,274.5004577636719,277.0352783203125,278.1614074707031,276.8318786621094,274.9112243652344,273.506591796875,272.3485412597656,271.8238830566406,271.5227966308594,271.5047912597656,271.5802307128906,272.2553405761719,274.162353515625,276.641357421875,277.2771911621094,276.162109375,274.2398681640625,272.5503845214844,271.831787109375,271.4380798339844,271.3557434082031,271.5785217285156,271.6774597167969,272.18316650390625,274.8972473144531,277.7554931640625,278.2099609375,276.2633972167969,274.05999755859375,272.4358215332031,271.5457763671875,271.3660888671875,271.37030029296875,271.5638732910156,271.64105224609375,272.2617492675781,274.8821105957031,277.61126708984375,277.7051696777344,276.4317626953125,274.4532165527344,272.544677734375,271.50006103515625,271.3489074707031,271.4267578125,271.462890625,271.59027099609375,272.22705078125,274.39984130859375,277.61126708984375,277.8358154296875,276.12847900390625,274.330810546875,272.67633056640625,271.62335205078125,271.3677673339844,271.38055419921875,271.54229736328125,271.6933288574219,272.584228515625,274.4914245605469,277.53521728515625,278.2451477050781,277.210693359375,275.5751037597656,273.3701477050781,272.7582702636719,272.75244140625,272.07440185546875,271.81072998046875,271.7843933105469,272.631591796875,274.7284240722656,277.61126708984375,278.16729736328125,275.7843322753906,273.6372375488281,272.3520812988281,271.70782470703125,271.41204833984375,271.356689453125,271.48565673828125,271.6763000488281,272.3993225097656,275.0653076171875,277.6554870605469,278.1817626953125,276.681396484375,274.4428405761719,272.80169677734375,271.7282409667969,271.4353332519531,271.49554443359375,271.6847839355469,272.06597900390625,272.925537109375,275.55810546875,278.3770446777344,278.7630920410156,276.39251708984375,274.3466796875,273.05853271484375,271.9950866699219,271.7415771484375,271.739013671875,271.87493896484375,271.75653076171875,272.02294921875,273.9350891113281,275.7292175292969,276.7182312011719,275.6083679199219,273.8793029785156,272.63177490234375,271.7136535644531,271.43548583984375,271.3841857910156,271.4628601074219,271.69464111328125,272.6531066894531,275.1975402832031,277.8947448730469,279.2925720214844,277.4981384277344,275.0089416503906,273.0865478515625,271.8125,271.4081115722656,271.3487243652344,271.34429931640625,271.41033935546875,272.0791015625,274.0190124511719,276.6673583984375,277.9400939941406,276.7654113769531,275.0439758300781,273.5489501953125,272.89825439453125,271.9853820800781,271.54644775390625,271.43060302734375,271.6934814453125,272.8830871582031,274.95416259765625,277.69647216796875,278.0369873046875,276.314208984375,273.93994140625,272.3514709472656,271.6949157714844,271.4059143066406,271.4106140136719,271.6806335449219,272.0282897949219,273.1983642578125,275.9715881347656,278.74420166015625,278.8716735839844,277.2142333984375,275.2126159667969,273.8852844238281,273.1533508300781,272.77783203125,272.63519287109375,272.9655456542969,272.70037841796875,272.90545654296875,274.62530517578125,276.8699035644531,277.4864807128906,276.103515625,273.7641906738281,272.4911804199219,271.7373352050781,271.5642395019531,271.5452880859375,271.9576110839844,271.8761901855469,272.41436767578125,274.9681396484375,277.6148376464844,277.6971130371094,275.9372863769531,273.85821533203125,272.8805847167969,271.82098388671875,271.4212646484375,271.3887634277344,271.3926696777344,271.6541748046875,272.1754455566406,274.0357666015625,276.9244384765625,277.3798522949219,275.72869873046875,274.03466796875,272.5384521484375,271.5843811035156,271.35296630859375,271.4567565917969,271.6507873535156,271.5991516113281,272.77996826171875,275.4510803222656,277.8518981933594,279.0863952636719,277.2913513183594,274.973876953125,273.0854187011719,272.0451354980469,271.4562072753906,271.48101806640625,271.7294616699219,272.5716247558594,273.4220886230469,275.4397277832031,277.7724304199219,278.6955261230469,276.9671936035156,274.75946044921875,273.3422546386719,272.4101867675781,271.8801574707031,271.5156555175781,271.37286376953125,271.59149169921875,272.463623046875,274.8900146484375,277.5555114746094,278.1676940917969,276.8180236816406,274.3436584472656,273.2384948730469,272.31939697265625,271.6584777832031,272.1072082519531,272.8855895996094,272.91534423828125,273.3744201660156,275.6669921875,278.2401123046875,278.12200927734375,276.1804504394531,274.8105773925781,273.42071533203125,272.26226806640625,271.7327880859375,271.7649230957031,271.90350341796875,272.0237121582031,272.8513488769531,274.75848388671875,278.1012268066406,278.36431884765625,276.84051513671875,274.8498840332031,273.1854553222656,272.10546875,272.04351806640625,272.0498046875,272.21734619140625,272.30401611328125,273.46881103515625,275.8453674316406,278.16229248046875,278.5998840332031,277.49462890625,275.21112060546875,274.03472900390625,272.7387390136719,271.9951171875,272.1664123535156,272.46697998046875,272.7633361816406,273.101806640625,275.13189697265625,277.39874267578125,278.00897216796875,276.40777587890625,274.3852844238281,272.84954833984375,271.9803466796875,271.5809631347656,271.463134765625,271.4789123535156,271.4797668457031,272.3910827636719,274.8694152832031,277.4473571777344,278.070556640625,276.77197265625,275.0380554199219,273.29949951171875,272.1805114746094,271.68475341796875,271.7629089355469,271.7681884765625,271.73406982421875,272.731689453125,275.5345458984375,278.00665283203125,278.3913269042969,276.6152038574219,274.39654541015625,273.22021484375,272.16461181640625,271.9156494140625,272.0465087890625,272.4284362792969,272.3363037109375,272.9902038574219,275.6981506347656,278.0621337890625,278.39105224609375,276.7001037597656,274.945556640625,273.4356384277344,272.25128173828125,271.8233642578125,271.96978759765625,272.0928039550781,271.9993591308594,272.4423522949219,275.0287170410156,277.8812561035156,278.4089660644531,276.8648986816406,274.468994140625,272.9588317871094,272.0314636230469,271.5306701660156,271.3930358886719,271.41033935546875,271.49176025390625,272.1620788574219,273.8843994140625,276.238525390625,277.7252502441406,276.2830810546875,274.1980895996094,272.7414855957031,271.6541748046875,271.35308837890625,271.3777770996094,271.3968811035156,271.4477233886719,272.0700988769531,274.478515625,276.9441833496094,277.9793701171875,276.1986083984375,274.146240234375,273.3272705078125,272.47735595703125,271.8192138671875,271.5459289550781,271.4971008300781,271.5731506347656,272.3415222167969,275.0081787109375,277.5035705566406,278.3219909667969,276.4985046386719,274.7030029296875,272.8699035644531,271.989501953125,271.63812255859375,271.60137939453125,271.4814758300781,271.6171569824219,272.47540283203125,274.9847412109375,277.6891174316406,278.2481384277344,276.7008056640625,274.14056396484375,272.61004638671875,272.1900329589844,272.08331298828125,271.8851318359375,271.871826171875,271.75543212890625,272.5337829589844,275.02154541015625,276.9205627441406,278.03485107421875,276.4826965332031,274.24542236328125,272.3883972167969,271.6394348144531,271.3770446777344,271.44970703125,271.6080322265625,271.7680969238281,272.80560302734375,274.69732666015625,276.760498046875,276.2013244628906,275.3014221191406,273.8525390625,272.5662841796875,271.48724365234375,271.3468933105469,271.3381652832031,271.3591003417969,271.4427490234375,272.1076354980469,274.3106994628906,276.71368408203125,277.3744812011719,275.28558349609375,273.78466796875,272.5035400390625,271.6061706542969,271.3446044921875,271.4056701660156,271.68194580078125,272.6150817871094,273.3683166503906,275.7577819824219,278.2779235839844,279.14459228515625,277.55694580078125,275.3074645996094,273.4567565917969,272.2767028808594,271.513427734375,271.4125671386719,271.3983459472656,271.5469055175781,272.21044921875,273.83544921875,277.17913818359375,278.2107849121094,277.0447692871094,274.3764953613281,273.0845642089844,272.15203857421875,271.60906982421875,271.7516784667969,272.4791259765625,272.55712890625,273.10601806640625,275.223876953125,278.55450439453125,279.2791748046875,278.1546630859375,275.27032470703125,273.67034912109375,272.69940185546875,272.36932373046875,272.6611633300781,272.5623779296875,272.3876037597656,272.7455139160156,275.13641357421875,277.7419738769531,278.4759216308594,276.4202880859375,274.59112548828125,273.22430419921875,272.03509521484375,271.3777770996094,271.3661193847656,271.4941101074219,271.6454162597656,272.38677978515625,274.5333251953125,277.6003112792969,278.8113098144531,277.0881652832031,274.8897705078125,273.1823425292969,272.0837707519531,271.5079040527344,271.8369140625,271.856201171875,272.0751647949219,272.6606750488281,274.58636474609375,277.33502197265625,277.19854736328125,276.1748352050781,274.8496398925781,273.3381042480469,272.3056945800781,271.4609375,271.3473815917969,271.5939636230469,272.2318115234375,273.002197265625,274.8652038574219,277.35504150390625,278.40625,277.1570739746094,275.24725341796875,273.33660888671875,271.93304443359375,271.6387023925781,271.4324951171875,271.4791564941406,271.503173828125,271.9042053222656,274.3776550292969,276.68896484375,277.5769348144531,276.64208984375,274.7113952636719,272.8056945800781,271.8509826660156,271.4269104003906,271.4889221191406,271.5747375488281,271.8077697753906,272.74017333984375,274.58148193359375,276.8018798828125,277.853515625,276.03814697265625,273.9434814453125,272.5599365234375,271.7116394042969,271.3794250488281,271.3751525878906,271.40252685546875,271.4652404785156,271.81646728515625,273.8594055175781,275.9796142578125,277.30523681640625,276.3781433105469,274.5672607421875,272.78485107421875,271.9251708984375,271.6495056152344,271.41729736328125,271.5262145996094,271.73590087890625,272.4344787597656,274.0622863769531,276.66839599609375,277.3133544921875,275.8202209472656,273.97625732421875,272.3638610839844,271.5393981933594,271.3843688964844,271.3532409667969,271.3789978027344,271.7327880859375,272.45556640625,274.59246826171875,277.3840026855469,278.31402587890625,276.431884765625,274.5902099609375,273.09698486328125,272.20355224609375,271.7532958984375,271.8656311035156,272.1600646972656,272.8375244140625,273.2500305175781,275.5038757324219,277.6971130371094,278.00457763671875,276.8983459472656,274.9781188964844,273.477294921875,273.25604248046875,273.5862121582031,273.4890441894531,273.50439453125,273.41925048828125,273.7867431640625,275.7884216308594,278.25787353515625,278.9235534667969,276.98040771484375,275.0079040527344,273.25665283203125,272.61297607421875,272.6644592285156,272.7652282714844,273.1041259765625,273.1546325683594,273.7425231933594,275.71319580078125,278.0675354003906,279.2684020996094,277.41485595703125,274.9884033203125,273.62109375,272.89385986328125,272.1047668457031,272.06829833984375,271.8608093261719,271.9234313964844,272.6532897949219,275.0904541015625,277.460693359375,278.099853515625,276.545166015625,274.5151062011719,273.4361267089844,272.1612548828125,271.4388122558594,271.36370849609375,271.4239501953125,271.5870056152344,271.8723449707031,274.0711364746094,276.4931945800781,277.88922119140625,276.4014587402344,274.3265686035156,272.7920227050781,271.78228759765625,271.3622131347656,271.3556213378906,271.37457275390625,271.465576171875,272.0998840332031,274.1876220703125,277.162841796875,278.3448181152344,277.01251220703125,274.66448974609375,272.89080810546875,271.74658203125,271.3802795410156,271.3380432128906,271.35150146484375,271.3988342285156,271.8846130371094,274.33538818359375,277.4789733886719,278.23016357421875,276.1673278808594,274.2741394042969,272.57366943359375,271.6858215332031,271.4285583496094,271.4082946777344,271.5236511230469,271.956787109375,273.10919189453125,275.1422424316406,278.0486755371094,278.29693603515625,276.57659912109375,274.6846008300781,273.0013122558594,271.9320373535156,271.68353271484375,271.7704772949219,271.86663818359375,271.8064270019531,272.6261291503906,274.3769226074219,276.93292236328125,277.748046875,276.8044128417969,275.0362854003906,273.3241271972656,272.10052490234375,271.7721252441406,271.8663635253906,271.998291015625,271.86431884765625,272.6177673339844,275.2852783203125,278.32098388671875,279.0770568847656,277.0386047363281,274.6143798828125,273.06585693359375,272.0421142578125,271.5386962890625,271.4920349121094,272.061767578125,272.20623779296875,273.1230163574219,275.46759033203125,277.9943542480469,278.4336853027344,277.37298583984375,274.9397277832031,273.5857849121094,273.1277160644531,273.0166015625,272.5736389160156,272.4481201171875,272.7882995605469,273.362060546875,275.4345397949219,277.9689025878906,278.4727478027344,276.4720153808594,274.78173828125,273.5372009277344,272.7779846191406,272.2661437988281,271.9919128417969,271.835205078125,272.1928405761719,273.0133056640625,275.5182800292969,278.4888610839844,279.6907653808594,278.04150390625,275.3509216308594,273.58636474609375,272.9161682128906,272.56451416015625,272.2279968261719,272.2225341796875,272.53399658203125,273.0032958984375,275.2999572753906,277.7940979003906,278.2834167480469,276.407958984375,274.6075439453125,273.27789306640625,272.52178955078125,272.4581604003906,272.6336975097656,272.5066833496094,272.2176513671875,272.7198181152344,275.1751403808594,277.9466857910156,278.710693359375,276.7959899902344,274.8177185058594,273.3094177246094,272.4275817871094,271.6957092285156,271.4491271972656,271.45208740234375,271.4742126464844,272.2299499511719,274.4424743652344,277.12237548828125,278.2490539550781,276.8934326171875,274.81561279296875,273.1482238769531,272.263671875,271.748046875,271.72564697265625,272.50433349609375,272.6873474121094,273.552001953125,275.4283447265625,277.8747863769531,278.630126953125,277.4952087402344,274.967529296875,273.57421875,272.72381591796875,272.02685546875,272.2481994628906,272.2713928222656,272.69683837890625,273.1962585449219,274.96551513671875,277.8692932128906,278.43292236328125,277.2790832519531,275.2520751953125,273.2701110839844,272.2093505859375,271.6307678222656,271.7978515625,272.0908203125,272.06561279296875,272.99298095703125,275.4089050292969,277.9459533691406,278.578369140625,277.1301574707031,275.5938415527344,273.7772216796875,272.80487060546875,273.05364990234375,273.12152099609375,272.703857421875,272.5771484375,273.20703125,275.081298828125,277.7011413574219,278.0265197753906,276.34674072265625,274.4267883300781,273.0899658203125,272.34393310546875,272.3429260253906,272.4859619140625,272.7196044921875,272.66729736328125,273.1444091796875,275.3316955566406,277.9721984863281,279.4455871582031,277.3223876953125,275.2008361816406,273.2798156738281,272.1422424316406,272.2117919921875,272.2919616699219,272.2603759765625,272.3826904296875,272.7519226074219,274.81500244140625,277.91583251953125,279.1199951171875,277.33245849609375,275.31475830078125,273.2480163574219,272.3296203613281,272.2119140625,272.8622131347656,272.96441650390625,272.73162841796875,273.4787902832031,275.8016052246094,277.80029296875,278.06158447265625,276.8248291015625,274.6376037597656,272.9420471191406,271.78314208984375,271.42877197265625,271.61083984375,272.1110534667969,272.42291259765625,273.5238952636719,276.06573486328125,278.2763366699219,279.00250244140625,277.577392578125,275.6307678222656,274.05596923828125,273.2986755371094,272.88934326171875,272.6904602050781,272.44732666015625,272.3619384765625,272.6177673339844,274.8507080078125,277.5870666503906,278.5617370605469,277.90753173828125,275.393310546875,273.57855224609375,272.8721618652344,272.0155029296875,271.8663024902344,271.8890075683594,271.84661865234375,272.6296081542969,275.3395690917969,277.6698303222656,278.487548828125,277.1141357421875,274.7572937011719,272.80914306640625,272.03948974609375,272.4210510253906,272.8165588378906,272.30096435546875,272.2565612792969,273.26055908203125,275.2181091308594,277.4639892578125,277.9190673828125,277.1716003417969,275.1632995605469,273.27398681640625,272.24798583984375,272.0011901855469,272.16229248046875,272.140625,271.8105163574219,272.4656982421875,274.136474609375,276.5699462890625,277.18109130859375,275.9461975097656,274.27984619140625,272.91888427734375,271.9770202636719,271.54974365234375,271.3944091796875,271.4609375,271.6937561035156,272.3607177734375,274.2537841796875,276.4139709472656,277.32293701171875,276.2160339355469,274.1451721191406,272.46807861328125,271.65484619140625,271.591796875,271.5632629394531,271.9004211425781,271.9473571777344,272.3958435058594,274.42730712890625,276.72296142578125,277.9166564941406,276.0093688964844,274.18505859375,272.7273864746094,271.8872985839844,271.51312255859375,271.4040222167969,271.4126892089844,271.5258483886719,272.385009765625,274.7952880859375,277.75830078125,278.9443664550781,277.4628601074219,275.0772399902344,273.2164611816406,272.3323059082031,271.4822082519531,271.3685302734375,271.3852844238281,271.4144592285156,271.8523864746094,274.1149597167969,276.5570373535156,277.32879638671875,276.0942687988281,274.3809814453125,272.6570739746094,271.666015625,271.38079833984375,271.41644287109375,271.7054443359375,272.1086120605469,272.76739501953125,275.0285339355469,278.0148620605469,279.1628112792969,276.935546875,274.96881103515625,273.7082824707031,272.5146484375,272.4295959472656,272.6087646484375,272.7682800292969,273.03948974609375,273.4334716796875,275.7210998535156,278.10791015625,278.6988220214844,276.9127502441406,274.4924011230469,273.0120544433594,272.1662292480469,272.2308349609375,272.8226623535156,272.81787109375,272.5573425292969,272.8536682128906,275.2992858886719,277.5622253417969,277.4005126953125,275.8168640136719,273.7918395996094,272.3481750488281,271.5948181152344,271.4554138183594,271.5859680175781,271.4954528808594,271.51165771484375,271.98944091796875,274.1183776855469,276.887939453125,277.7347412109375,276.1568908691406,274.1102600097656,272.99468994140625,272.0374450683594,271.423828125,271.5423889160156,271.6976013183594,272.1582336425781,272.6055908203125,274.8983154296875,277.7574768066406,278.3903503417969,276.4666748046875,274.21917724609375,272.5602111816406,271.6366271972656,271.3658447265625,271.6915588378906,271.70849609375,271.720947265625,272.3949890136719,274.77789306640625,277.0283508300781,277.54107666015625,275.82135009765625,274.1807556152344,272.8003845214844,271.9313659667969,271.6541748046875,271.5328369140625,271.4825439453125,271.5235290527344,272.0478820800781,274.2684631347656,277.3996887207031,277.97406005859375,276.4704895019531,274.3542175292969,272.98724365234375,272.3060302734375,272.220947265625,272.3934326171875,271.93212890625,271.7780456542969,272.3113098144531,274.2509460449219,276.5473937988281,277.6654968261719,276.34942626953125,274.853759765625,273.45849609375,272.6397399902344,272.00238037109375,271.7627868652344,271.9994812011719,271.91180419921875,272.70220947265625,274.97052001953125,277.5453186035156,277.99603271484375,276.4067687988281,274.5018615722656,273.2783203125,272.4375915527344,272.0939636230469,272.0936279296875,272.24749755859375,271.9579162597656,272.510498046875,274.90765380859375,277.9184875488281,278.02874755859375,276.55615234375,274.70587158203125,272.9310607910156,271.8432312011719,271.5907287597656,271.6195983886719,271.8918762207031,271.89208984375,272.0213623046875,273.73944091796875,276.54437255859375,277.2648620605469,276.1546936035156,274.30975341796875,272.79425048828125,271.9935302734375,271.3844909667969,271.3341369628906,271.356201171875,271.3956298828125,271.69219970703125,273.95941162109375,275.9889831542969,276.8979187011719,275.8793640136719,274.0478210449219,272.4518127441406,271.4530029296875,271.33709716796875,271.3436279296875,271.4241943359375,271.4778137207031,271.7919006347656,273.4784240722656,275.910400390625,277.2103576660156,276.1785888671875,274.0587463378906,272.70135498046875,271.5888671875,271.36328125,271.3382568359375,271.3520812988281,271.4022216796875,272.2210998535156,274.8672180175781,278.32196044921875,279.2759094238281,277.2875671386719,275.1458435058594,273.0105895996094,271.9710693359375,271.5121154785156,271.5787353515625,271.709228515625,272.2519836425781,273.1311950683594,275.4946594238281,278.02166748046875,279.154541015625,278.3880615234375,275.9148254394531,274.1851501464844,272.54156494140625,271.75628662109375,271.4360656738281,271.586181640625,271.63311767578125,272.16265869140625,274.3235168457031,277.5931396484375,278.43817138671875,277.0393981933594,275.0462951660156,273.3672790527344,272.578125,272.1553649902344,271.87664794921875,271.69378662109375,271.6440124511719,271.9583740234375,274.2846374511719,277.4421081542969,278.1354675292969,276.9707946777344,275.34698486328125,273.6627502441406,272.2225341796875,271.6763916015625,271.7554626464844,271.7528076171875,271.5865478515625,272.19488525390625,274.6117858886719,276.7657165527344,277.72515869140625,276.5370788574219,274.3018798828125,272.41973876953125,271.5057067871094,271.40899658203125,271.4427795410156,271.59478759765625,271.82098388671875,272.79962158203125,274.8658447265625,277.7056884765625,278.1797790527344,276.6269836425781,274.3896179199219,272.7080383300781,271.7278747558594,271.35528564453125,271.3525390625,271.3395080566406,271.43035888671875,272.2287292480469,274.3352355957031,276.5499267578125,277.245849609375,275.8056335449219,273.88812255859375,272.4664611816406,271.5429992675781,271.33673095703125,271.35638427734375,271.4098205566406,271.5187072753906,272.0378112792969,274.4304504394531,277.2746276855469,278.3472900390625,276.3402404785156,274.2944641113281,273.0210876464844,272.195556640625,271.91357421875,271.6263732910156,271.568359375,271.52618408203125,272.3820495605469,274.42816162109375,277.2499694824219,277.40106201171875,275.825439453125,273.705810546875,272.21978759765625,271.5032043457031,271.4590759277344,271.55780029296875,271.6905822753906,271.77825927734375,272.79791259765625,275.2200622558594,278.60107421875,279.2237854003906,277.75616455078125,275.76690673828125,273.6459045410156,272.5750427246094,272.3601379394531,272.08258056640625,272.1277770996094,272.16729736328125,272.75360107421875,274.5626525878906,277.0442810058594,277.8082580566406,276.5564880371094,274.89605712890625,272.9839172363281,271.8327941894531,271.5774841308594,271.59307861328125,271.8429870605469,271.9477844238281,272.9051208496094,275.15301513671875,277.203125,278.16253662109375,276.975341796875,275.0900573730469,273.59033203125,272.33349609375,272.06854248046875,271.88134765625,271.9438781738281,271.9891662597656,272.8507995605469,275.07244873046875,277.7447509765625,279.2330627441406,277.6127624511719,275.150390625,272.8732604980469,272.0713806152344,271.7318420410156,271.88787841796875,271.7873840332031,271.7680358886719,272.4617004394531,274.814208984375,277.1873779296875,277.78704833984375,276.6746520996094,274.5353088378906,273.4113464355469,272.4292297363281,271.8213195800781,271.6914367675781,271.6436767578125,271.6658630371094,272.3173522949219,274.1578369140625,276.8641662597656,276.2962341308594,275.2005615234375,273.74786376953125,272.4494323730469,271.7491455078125,271.5147705078125,271.4912109375,271.5422668457031,271.6823425292969,272.54779052734375,275.2782897949219,278.47723388671875,278.4666442871094,277.0369873046875,274.99127197265625,273.2947998046875,272.5490417480469,271.9745178222656,271.6772766113281,271.6213684082031,271.8131103515625,272.80682373046875,274.818359375,277.032958984375,276.9942321777344,275.8199462890625,274.278076171875,272.9757385253906,272.20477294921875,271.9300537109375,271.6711730957031,271.8811950683594,272.0037841796875,272.8718566894531,274.5358581542969,276.3783264160156,276.3721008300781,275.31219482421875,273.9473876953125,272.87628173828125,272.3443908691406,271.67169189453125,271.655029296875,272.2978210449219,272.8478698730469,273.71490478515625,275.7915954589844,278.1772155761719,278.1813049316406,276.5231628417969,274.89825439453125,273.6725158691406,272.83306884765625,272.43902587890625,272.2173156738281,272.5966491699219,273.20294189453125,273.73577880859375,275.3921203613281,278.8106994628906,279.36798095703125,277.40740966796875,275.8253479003906,274.0146179199219,273.24169921875,272.9493103027344,273.0702209472656,273.3271789550781,273.3415222167969,273.7824401855469,275.4670104980469,276.4343566894531,276.4975891113281,275.8927917480469,274.4721984863281,273.21319580078125,272.38470458984375,271.79205322265625,271.74981689453125,271.8956298828125,272.2035217285156,272.724609375,275.2292175292969,277.650146484375,277.6138000488281,276.51104736328125,274.4696960449219,273.1302795410156,272.345458984375,271.846923828125,271.6375427246094,271.8961486816406,272.1904602050781,272.89373779296875,275.02520751953125,277.8278503417969,278.0510559082031,276.2148132324219,274.15570068359375,273.1313171386719,272.8318786621094,272.69793701171875,272.8280029296875,272.7894287109375,272.67755126953125,273.10906982421875,275.4272766113281,277.2989807128906,277.6383361816406,276.547607421875,274.5831298828125,273.25372314453125,272.5634765625,271.9977722167969,271.8543701171875,272.0763244628906,272.58612060546875,273.3447265625,275.80487060546875,278.0248107910156,278.599853515625,277.1043395996094,275.07122802734375,273.3941955566406,272.72406005859375,271.989501953125,272.121826171875,273.12371826171875,273.4579772949219,274.05828857421875,275.2875061035156,277.4017028808594,277.9738464355469,276.1929931640625,274.67987060546875,273.6712341308594,273.19873046875,272.83837890625,273.1051940917969,273.45953369140625,273.5860900878906,274.1138916015625,275.0294494628906,277.3529357910156,277.6432189941406,276.6035461425781,274.7627868652344,273.4315490722656,272.85882568359375,272.54931640625,273.29290771484375,273.76171875,273.90087890625,274.1405944824219,275.26580810546875,277.28216552734375,277.7405090332031,276.5565490722656,274.8233947753906,273.8155212402344,273.4476623535156,273.3213195800781,273.4737243652344,273.6963806152344,273.7355041503906,274.3100280761719,276.25244140625]}},\"id\":\"e3b5077a-73ff-43d4-a6f1-2234e2574826\",\"type\":\"ColumnDataSource\"},{\"attributes\":{\"data_source\":{\"id\":\"e3b5077a-73ff-43d4-a6f1-2234e2574826\",\"type\":\"ColumnDataSource\"},\"glyph\":{\"id\":\"75e87e2d-4e84-46b5-bb19-29b352ab29bb\",\"type\":\"Line\"},\"hover_glyph\":null,\"nonselection_glyph\":{\"id\":\"7410841f-33a5-4e96-b6f9-99366fc851a8\",\"type\":\"Line\"},\"selection_glyph\":null},\"id\":\"f30abcda-597f-479b-9984-a8808f6e9b4e\",\"type\":\"GlyphRenderer\"},{\"attributes\":{\"base\":60,\"mantissas\":[1,2,5,10,15,20,30],\"max_interval\":1800000.0,\"min_interval\":1000.0,\"num_minor_ticks\":0},\"id\":\"7f4a2125-4390-4cfe-860f-a02af62a4a1e\",\"type\":\"AdaptiveTicker\"},{\"attributes\":{\"days\":[1,15]},\"id\":\"ec3535b3-d15d-4924-a194-c7d64c0a4ff9\",\"type\":\"DaysTicker\"},{\"attributes\":{\"base\":24,\"mantissas\":[1,2,4,6,8,12],\"max_interval\":43200000.0,\"min_interval\":3600000.0,\"num_minor_ticks\":0},\"id\":\"02a61665-4e2d-4128-a63d-1684e01a5b57\",\"type\":\"AdaptiveTicker\"},{\"attributes\":{\"plot\":{\"id\":\"71361cb6-da33-4467-99ed-078b0c729a7f\",\"subtype\":\"Figure\",\"type\":\"Plot\"}},\"id\":\"26bbdbc4-12b7-4896-9268-83ea20f8fbe8\",\"type\":\"WheelZoomTool\"},{\"attributes\":{\"max_interval\":500.0,\"num_minor_ticks\":0},\"id\":\"bbde034c-bb2e-47a5-b693-566cc9807477\",\"type\":\"AdaptiveTicker\"},{\"attributes\":{\"bottom_units\":\"screen\",\"fill_alpha\":{\"value\":0.5},\"fill_color\":{\"value\":\"lightgrey\"},\"left_units\":\"screen\",\"level\":\"overlay\",\"line_alpha\":{\"value\":1.0},\"line_color\":{\"value\":\"black\"},\"line_dash\":[4,4],\"line_width\":{\"value\":2},\"plot\":null,\"render_mode\":\"css\",\"right_units\":\"screen\",\"top_units\":\"screen\"},\"id\":\"89839268-da2c-4411-8161-bfeed249e292\",\"type\":\"BoxAnnotation\"},{\"attributes\":{},\"id\":\"35509458-3a3e-4f16-8408-b8760a7b16e4\",\"type\":\"ToolEvents\"},{\"attributes\":{\"line_alpha\":{\"value\":0.1},\"line_color\":{\"value\":\"#1f77b4\"},\"x\":{\"field\":\"x\"},\"y\":{\"field\":\"y\"}},\"id\":\"7410841f-33a5-4e96-b6f9-99366fc851a8\",\"type\":\"Line\"},{\"attributes\":{\"plot\":null,\"text\":\"Sea water potential temperature\"},\"id\":\"270e5351-ffb6-4de9-9f61-7ca85ea2eaa1\",\"type\":\"Title\"},{\"attributes\":{\"months\":[0,1,2,3,4,5,6,7,8,9,10,11]},\"id\":\"605a2c0f-0af3-4d36-88ba-3c09eba83189\",\"type\":\"MonthsTicker\"},{\"attributes\":{\"months\":[0,6]},\"id\":\"894ff796-647d-40c1-ac9b-fa3dfd75d201\",\"type\":\"MonthsTicker\"},{\"attributes\":{\"dimension\":1,\"plot\":{\"id\":\"71361cb6-da33-4467-99ed-078b0c729a7f\",\"subtype\":\"Figure\",\"type\":\"Plot\"},\"ticker\":{\"id\":\"e95e0792-1a28-4d61-9b61-8b4a0260058e\",\"type\":\"BasicTicker\"}},\"id\":\"bf240c6d-c27e-4218-a69e-00641b9a612e\",\"type\":\"Grid\"},{\"attributes\":{\"num_minor_ticks\":5},\"id\":\"b92d6128-d927-4eb6-ad88-c08be1b099f7\",\"type\":\"DatetimeTicker\"},{\"attributes\":{\"months\":[0,2,4,6,8,10]},\"id\":\"eec341c9-42b4-4e08-b871-ca9fa8099a8a\",\"type\":\"MonthsTicker\"},{\"attributes\":{\"days\":[1,2,3,4,5,6,7,8,9,10,11,12,13,14,15,16,17,18,19,20,21,22,23,24,25,26,27,28,29,30,31]},\"id\":\"7a75c504-2163-42d8-bc68-4689e043931f\",\"type\":\"DaysTicker\"},{\"attributes\":{},\"id\":\"e95e0792-1a28-4d61-9b61-8b4a0260058e\",\"type\":\"BasicTicker\"},{\"attributes\":{\"plot\":{\"id\":\"71361cb6-da33-4467-99ed-078b0c729a7f\",\"subtype\":\"Figure\",\"type\":\"Plot\"}},\"id\":\"0b9b4dec-4066-47a0-aee3-f689923e11d2\",\"type\":\"SaveTool\"},{\"attributes\":{},\"id\":\"a8673cb0-8641-465b-b80f-83095a36fe6d\",\"type\":\"YearsTicker\"},{\"attributes\":{},\"id\":\"37d192f0-7398-4f93-8d46-62be7a9fb0b1\",\"type\":\"DatetimeTickFormatter\"},{\"attributes\":{\"plot\":{\"id\":\"71361cb6-da33-4467-99ed-078b0c729a7f\",\"subtype\":\"Figure\",\"type\":\"Plot\"}},\"id\":\"6e5af0ce-3176-4bbb-ba48-55156dc3cf9a\",\"type\":\"PanTool\"},{\"attributes\":{\"days\":[1,8,15,22]},\"id\":\"144dc8ee-8124-4f23-9511-70df75889caf\",\"type\":\"DaysTicker\"},{\"attributes\":{\"days\":[1,4,7,10,13,16,19,22,25,28]},\"id\":\"9512c4e7-58ac-40bd-b6db-61a6268771f3\",\"type\":\"DaysTicker\"},{\"attributes\":{\"callback\":null},\"id\":\"0203720e-2190-434f-a0be-942aecda27b1\",\"type\":\"DataRange1d\"},{\"attributes\":{\"axis_label\":\"Temperature\",\"formatter\":{\"id\":\"ccac3ea8-e516-439b-9b27-48ef88fc3d16\",\"type\":\"BasicTickFormatter\"},\"plot\":{\"id\":\"71361cb6-da33-4467-99ed-078b0c729a7f\",\"subtype\":\"Figure\",\"type\":\"Plot\"},\"ticker\":{\"id\":\"e95e0792-1a28-4d61-9b61-8b4a0260058e\",\"type\":\"BasicTicker\"}},\"id\":\"5f7841b7-4eb1-4803-b517-30206be6e98b\",\"type\":\"LinearAxis\"},{\"attributes\":{\"months\":[0,4,8]},\"id\":\"f2f4c31e-e1f7-4064-9266-7fb5f65e599e\",\"type\":\"MonthsTicker\"},{\"attributes\":{},\"id\":\"ccac3ea8-e516-439b-9b27-48ef88fc3d16\",\"type\":\"BasicTickFormatter\"},{\"attributes\":{\"active_drag\":\"auto\",\"active_scroll\":\"auto\",\"active_tap\":\"auto\",\"tools\":[{\"id\":\"6e5af0ce-3176-4bbb-ba48-55156dc3cf9a\",\"type\":\"PanTool\"},{\"id\":\"26bbdbc4-12b7-4896-9268-83ea20f8fbe8\",\"type\":\"WheelZoomTool\"},{\"id\":\"941aa5f3-ed63-4814-80bd-b2e7b5f3be2c\",\"type\":\"BoxZoomTool\"},{\"id\":\"0b9b4dec-4066-47a0-aee3-f689923e11d2\",\"type\":\"SaveTool\"},{\"id\":\"fb6f5b78-f958-408c-8a2d-db75a0ce7fdf\",\"type\":\"ResetTool\"},{\"id\":\"b8325f7e-3581-4bf5-bc44-fa47c4ae7778\",\"type\":\"HelpTool\"}]},\"id\":\"1f06b080-8494-4f48-ba10-14b768ffdcbd\",\"type\":\"Toolbar\"},{\"attributes\":{\"line_color\":{\"value\":\"#A6CEE3\"},\"x\":{\"field\":\"x\"},\"y\":{\"field\":\"y\"}},\"id\":\"75e87e2d-4e84-46b5-bb19-29b352ab29bb\",\"type\":\"Line\"},{\"attributes\":{\"axis_label\":\"Date\",\"formatter\":{\"id\":\"37d192f0-7398-4f93-8d46-62be7a9fb0b1\",\"type\":\"DatetimeTickFormatter\"},\"plot\":{\"id\":\"71361cb6-da33-4467-99ed-078b0c729a7f\",\"subtype\":\"Figure\",\"type\":\"Plot\"},\"ticker\":{\"id\":\"b92d6128-d927-4eb6-ad88-c08be1b099f7\",\"type\":\"DatetimeTicker\"}},\"id\":\"90fe380b-6e7b-4428-8b7d-8cb0866d6bb0\",\"type\":\"DatetimeAxis\"}],\"root_ids\":[\"71361cb6-da33-4467-99ed-078b0c729a7f\"]},\"title\":\"Bokeh Application\",\"version\":\"0.12.0\"}};\n",
       "            var render_items = [{\"docid\":\"b0a069b2-360c-49f8-8967-9fde65d9daed\",\"elementid\":\"0aefa415-6048-44b1-a3dc-ef321964f137\",\"modelid\":\"71361cb6-da33-4467-99ed-078b0c729a7f\",\"notebook_comms_target\":\"b2c4b143-8537-41b2-aa85-ed886163762a\"}];\n",
       "            \n",
       "            Bokeh.embed.embed_items(docs_json, render_items);\n",
       "        });\n",
       "      },\n",
       "      function(Bokeh) {\n",
       "      }\n",
       "    ];\n",
       "  \n",
       "    function run_inline_js() {\n",
       "      for (var i = 0; i < inline_js.length; i++) {\n",
       "        inline_js[i](window.Bokeh);\n",
       "      }\n",
       "    }\n",
       "  \n",
       "    if (window._bokeh_is_loading === 0) {\n",
       "      console.log(\"Bokeh: BokehJS loaded, going straight to plotting\");\n",
       "      run_inline_js();\n",
       "    } else {\n",
       "      load_libs(js_urls, function() {\n",
       "        console.log(\"Bokeh: BokehJS plotting callback run at\", now());\n",
       "        run_inline_js();\n",
       "      });\n",
       "    }\n",
       "  }(this));\n",
       "</script>"
      ]
     },
     "metadata": {},
     "output_type": "display_data"
    },
    {
     "data": {
      "text/html": [
       "<p><code>&lt;Bokeh Notebook handle for <strong>In[23]</strong>&gt;</code></p>"
      ],
      "text/plain": [
       "<bokeh.io._CommsHandle at 0x7f0a7020c710>"
      ]
     },
     "execution_count": 23,
     "metadata": {},
     "output_type": "execute_result"
    }
   ],
   "source": [
    "def datetime(x):\n",
    "    return np.array(x, dtype=np.datetime64)\n",
    "\n",
    "p1 = figure(x_axis_type=\"datetime\", title=\"Sea water potential temperature\")\n",
    "p1.xaxis.axis_label = 'Date'\n",
    "p1.yaxis.axis_label = 'Temperature'\n",
    "\n",
    "p1.line(datetime(df['Date']), df['piControl'], color='#A6CEE3', legend='piControl')\n",
    "p1.legend.location = \"top_left\"\n",
    "\n",
    "#output_file(\"drift.html\", title=\"Drift Check\")\n",
    "\n",
    "show(p1)  # open a browser"
   ]
  },
  {
   "cell_type": "code",
   "execution_count": null,
   "metadata": {
    "collapsed": true
   },
   "outputs": [],
   "source": []
  },
  {
   "cell_type": "code",
   "execution_count": null,
   "metadata": {
    "collapsed": true
   },
   "outputs": [],
   "source": []
  },
  {
   "cell_type": "code",
   "execution_count": null,
   "metadata": {
    "collapsed": true
   },
   "outputs": [],
   "source": []
  },
  {
   "cell_type": "code",
   "execution_count": null,
   "metadata": {
    "collapsed": true
   },
   "outputs": [],
   "source": []
  },
  {
   "cell_type": "code",
   "execution_count": null,
   "metadata": {
    "collapsed": true
   },
   "outputs": [],
   "source": []
  }
 ],
 "metadata": {
  "kernelspec": {
   "display_name": "Python 2",
   "language": "python",
   "name": "python2"
  },
  "language_info": {
   "codemirror_mode": {
    "name": "ipython",
    "version": 2
   },
   "file_extension": ".py",
   "mimetype": "text/x-python",
   "name": "python",
   "nbconvert_exporter": "python",
   "pygments_lexer": "ipython2",
   "version": "2.7.12"
  }
 },
 "nbformat": 4,
 "nbformat_minor": 0
}
