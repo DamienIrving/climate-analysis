{
 "cells": [
  {
   "cell_type": "markdown",
   "metadata": {},
   "source": [
    "## Read the data"
   ]
  },
  {
   "cell_type": "code",
   "execution_count": 85,
   "metadata": {
    "collapsed": true
   },
   "outputs": [],
   "source": [
    "import iris\n",
    "import numpy\n",
    "import matplotlib.pyplot as plt"
   ]
  },
  {
   "cell_type": "code",
   "execution_count": 86,
   "metadata": {
    "collapsed": true
   },
   "outputs": [],
   "source": [
    "control_file = '/g/data/ua6/drstree/CMIP5/GCM/CSIRO-QCCCE/CSIRO-Mk3-6-0/piControl/mon/ocean/thetao/r1i1p1/thetao_Omon_CSIRO-Mk3-6-0_piControl_r1i1p1_000101-001012.nc'\n",
    "hist_file = '/g/data/ua6/drstree/CMIP5/GCM/CSIRO-QCCCE/CSIRO-Mk3-6-0/historical/mon/ocean/thetao/r1i1p1/thetao_Omon_CSIRO-Mk3-6-0_historical_r1i1p1_185001-185912.nc'\n",
    "coeff_file = '/g/data/r87/dbi599/coefficients.nc'\n",
    "dedrift_file = '/g/data/r87/dbi599/dedrifted.nc'"
   ]
  },
  {
   "cell_type": "code",
   "execution_count": 87,
   "metadata": {
    "collapsed": true
   },
   "outputs": [],
   "source": [
    "min_lat, max_lat = [-62.1, -61.9]\n",
    "lat_subset = lambda cell: min_lat <= cell <= max_lat\n",
    "lev_constraint = iris.Constraint(depth=15)\n",
    "lat_constraint = iris.Constraint(latitude=lat_subset)\n",
    "lon_constraint = iris.Constraint(longitude=101.25)"
   ]
  },
  {
   "cell_type": "code",
   "execution_count": 88,
   "metadata": {
    "collapsed": false
   },
   "outputs": [],
   "source": [
    "#coeff_a_cube = iris.load(coeff_file)\n",
    "\n",
    "with iris.FUTURE.context(cell_datetime_objects=True):\n",
    "    control_cube = iris.load_cube(control_file, 'sea_water_potential_temperature' & lev_constraint & lat_constraint & lon_constraint)\n",
    "    hist_cube = iris.load_cube(hist_file, 'sea_water_potential_temperature' & lev_constraint & lat_constraint & lon_constraint)\n",
    "    coeff_a_cube = iris.load_cube(coeff_file, 'coefficient a' & lev_constraint & lat_constraint & lon_constraint)\n",
    "    coeff_b_cube = iris.load_cube(coeff_file, 'coefficient b' & lev_constraint & lat_constraint & lon_constraint)\n",
    "    coeff_c_cube = iris.load_cube(coeff_file, 'coefficient c' & lev_constraint & lat_constraint & lon_constraint)\n",
    "    coeff_d_cube = iris.load_cube(coeff_file, 'coefficient d' & lev_constraint & lat_constraint & lon_constraint)\n",
    "    dedrift_cube = iris.load_cube(dedrift_file, 'sea_water_potential_temperature' & lev_constraint & lat_constraint & lon_constraint)"
   ]
  },
  {
   "cell_type": "code",
   "execution_count": 89,
   "metadata": {
    "collapsed": false
   },
   "outputs": [
    {
     "name": "stdout",
     "output_type": "stream",
     "text": [
      "coefficient b / (1)                 (scalar cube)\n",
      "     Scalar coordinates:\n",
      "          depth: 15.0 m, bound=(10.0, 21.6242351532) m\n",
      "          latitude: -62.0240516663 degrees, bound=(-62.490436554, -61.5576667786) degrees\n",
      "          longitude: 101.25 degrees, bound=(100.3125, 102.1875) degrees\n",
      "     Attributes:\n",
      "          Conventions: CF-1.5\n",
      "          associated_files: baseURL: http://cmip-pcmdi.llnl.gov/CMIP5/dataLocation gridspecFile: gridspec_ocean_fx_CSIRO-Mk3-6-0_piControl_r0i0p0.nc...\n",
      "          branch_time: 0.0\n",
      "          cmor_version: 2.5.9\n",
      "          comment: Data is stored on the native ocean T-grid on which the data was generated....\n",
      "          contact: Project leaders: Stephen Jeffrey (Stephen.Jeffrey@qld.gov.au) & Leon Rotstayn...\n",
      "          experiment: pre-industrial control\n",
      "          experiment_id: piControl\n",
      "          forcing: N/A (Pre-industrial conditions with all forcings fixed at 1850 levels)\n",
      "          frequency: mon\n",
      "          history: Mon Apr 18 15:03:30 2016: /g/data/r87/dbi599/miniconda2/envs/default/bin/python...\n",
      "          initialization_method: 1\n",
      "          institute_id: CSIRO-QCCCE\n",
      "          institution: Australian Commonwealth Scientific and Industrial Research Organization...\n",
      "          invalid_standard_name: coefficient_b\n",
      "          model_id: CSIRO-Mk3-6-0\n",
      "          modeling_realm: ocean\n",
      "          original_name: Temp\n",
      "          original_units: celsius\n",
      "          parent_experiment: N/A\n",
      "          parent_experiment_id: N/A\n",
      "          parent_experiment_rip: N/A\n",
      "          physics_version: 1\n",
      "          polynomial: a + bx + cx^2 + dx^3\n",
      "          product: output\n",
      "          project_id: CMIP5\n",
      "          realization: 1\n",
      "          references: a) Rotstayn, L., Collier, M., Dix, M., Feng, Y., Gordon, H., O\\'Farrell,...\n",
      "          source: CSIRO-Mk3-6-0 2010 atmosphere: AGCM v7.3.4 (T63 spectral, 1.875 degrees...\n",
      "          table_id: Table Omon (27 April 2011) 9e1a53e4873bf6f26879903e165fe4a0\n",
      "          time_calendar: noleap\n",
      "          time_unit: days since    1-01-01 00:00:00\n",
      "          title: CSIRO-Mk3-6-0 model output prepared for CMIP5 pre-industrial control\n",
      "          version_number: v20110518\n"
     ]
    }
   ],
   "source": [
    "print coeff_b_cube"
   ]
  },
  {
   "cell_type": "markdown",
   "metadata": {},
   "source": [
    "## Validate polynomial contruction"
   ]
  },
  {
   "cell_type": "code",
   "execution_count": 90,
   "metadata": {
    "collapsed": true
   },
   "outputs": [],
   "source": [
    "def apply_polynomial(x, a, b, c, d):\n",
    "    \"\"\"Evaluate cubic polynomial.\n",
    "\n",
    "    The axis argument is not used but is required for the function to be \n",
    "      used with numpy.apply_over_axes \n",
    "\n",
    "    \"\"\"\n",
    "\n",
    "    result = a + b * x + c * x**2 + d * x**3 \n",
    "    \n",
    "    return result "
   ]
  },
  {
   "cell_type": "code",
   "execution_count": 91,
   "metadata": {
    "collapsed": false
   },
   "outputs": [
    {
     "data": {
      "text/plain": [
       "array([   15.5,    45. ,    74.5,   105. ,   135.5,   166. ,   196.5,\n",
       "         227.5,   258. ,   288.5,   319. ,   349.5,   380.5,   410. ,\n",
       "         439.5,   470. ,   500.5,   531. ,   561.5,   592.5,   623. ,\n",
       "         653.5,   684. ,   714.5,   745.5,   775. ,   804.5,   835. ,\n",
       "         865.5,   896. ,   926.5,   957.5,   988. ,  1018.5,  1049. ,\n",
       "        1079.5,  1110.5,  1140. ,  1169.5,  1200. ,  1230.5,  1261. ,\n",
       "        1291.5,  1322.5,  1353. ,  1383.5,  1414. ,  1444.5,  1475.5,\n",
       "        1505. ,  1534.5,  1565. ,  1595.5,  1626. ,  1656.5,  1687.5,\n",
       "        1718. ,  1748.5,  1779. ,  1809.5,  1840.5,  1870. ,  1899.5,\n",
       "        1930. ,  1960.5,  1991. ,  2021.5,  2052.5,  2083. ,  2113.5,\n",
       "        2144. ,  2174.5,  2205.5,  2235. ,  2264.5,  2295. ,  2325.5,\n",
       "        2356. ,  2386.5,  2417.5,  2448. ,  2478.5,  2509. ,  2539.5,\n",
       "        2570.5,  2600. ,  2629.5,  2660. ,  2690.5,  2721. ,  2751.5,\n",
       "        2782.5,  2813. ,  2843.5,  2874. ,  2904.5,  2935.5,  2965. ,\n",
       "        2994.5,  3025. ,  3055.5,  3086. ,  3116.5,  3147.5,  3178. ,\n",
       "        3208.5,  3239. ,  3269.5,  3300.5,  3330. ,  3359.5,  3390. ,\n",
       "        3420.5,  3451. ,  3481.5,  3512.5,  3543. ,  3573.5,  3604. ,\n",
       "        3634.5])"
      ]
     },
     "execution_count": 91,
     "metadata": {},
     "output_type": "execute_result"
    }
   ],
   "source": [
    "control_cube.coord('time').points"
   ]
  },
  {
   "cell_type": "code",
   "execution_count": 92,
   "metadata": {
    "collapsed": false
   },
   "outputs": [],
   "source": [
    "my_poly = apply_polynomial(control_cube.coord('time').points,\n",
    "                           coeff_a_cube.data,\n",
    "                           coeff_b_cube.data,\n",
    "                           coeff_c_cube.data,\n",
    "                           coeff_d_cube.data)"
   ]
  },
  {
   "cell_type": "code",
   "execution_count": 93,
   "metadata": {
    "collapsed": false
   },
   "outputs": [
    {
     "name": "stdout",
     "output_type": "stream",
     "text": [
      "[ 273.03614157  273.03639618  273.03665069  273.03691375  273.03717672]\n"
     ]
    }
   ],
   "source": [
    "print my_poly[0:5]"
   ]
  },
  {
   "cell_type": "code",
   "execution_count": 94,
   "metadata": {
    "collapsed": false
   },
   "outputs": [],
   "source": [
    "numpy_poly = numpy.poly1d([float(coeff_d_cube.data), \n",
    "                           float(coeff_c_cube.data),\n",
    "                           float(coeff_b_cube.data),\n",
    "                           float(coeff_a_cube.data)])"
   ]
  },
  {
   "cell_type": "code",
   "execution_count": 95,
   "metadata": {
    "collapsed": false
   },
   "outputs": [
    {
     "name": "stdout",
     "output_type": "stream",
     "text": [
      "[ 273.03614157  273.03639618  273.03665069  273.03691375  273.03717672]\n"
     ]
    }
   ],
   "source": [
    "print numpy_poly(control_cube.coord('time').points)[0:5]"
   ]
  },
  {
   "cell_type": "code",
   "execution_count": 96,
   "metadata": {
    "collapsed": false
   },
   "outputs": [
    {
     "name": "stdout",
     "output_type": "stream",
     "text": [
      "[ 272.67153931  274.03100586  273.52758789  272.86123657  272.12963867]\n"
     ]
    }
   ],
   "source": [
    "print control_cube.data[0:5]"
   ]
  },
  {
   "cell_type": "code",
   "execution_count": null,
   "metadata": {
    "collapsed": true
   },
   "outputs": [],
   "source": [
    "dedrift = control_cube.data"
   ]
  },
  {
   "cell_type": "markdown",
   "metadata": {},
   "source": [
    "### Plot"
   ]
  },
  {
   "cell_type": "code",
   "execution_count": 77,
   "metadata": {
    "collapsed": true
   },
   "outputs": [],
   "source": [
    "% matplotlib inline"
   ]
  },
  {
   "cell_type": "code",
   "execution_count": 84,
   "metadata": {
    "collapsed": false
   },
   "outputs": [
    {
     "data": {
      "image/png": "[encoded data removed]",
      "text/plain": [
       "<matplotlib.figure.Figure at 0x7f5117cfb910>"
      ]
     },
     "metadata": {},
     "output_type": "display_data"
    }
   ],
   "source": [
    "plt.plot(control_cube.coord('time').points[0:50], my_poly[0:50], 'o')\n",
    "plt.plot(control_cube.coord('time').points[0:50], control_cube.data[0:50])\n",
    "plt.ylabel('y')\n",
    "plt.xlabel('x')\n",
    "plt.show()"
   ]
  },
  {
   "cell_type": "markdown",
   "metadata": {},
   "source": [
    "## Validate removal from historical"
   ]
  },
  {
   "cell_type": "code",
   "execution_count": null,
   "metadata": {
    "collapsed": true
   },
   "outputs": [],
   "source": []
  }
 ],
 "metadata": {
  "kernelspec": {
   "display_name": "Python 2",
   "language": "python",
   "name": "python2"
  },
  "language_info": {
   "codemirror_mode": {
    "name": "ipython",
    "version": 2
   },
   "file_extension": ".py",
   "mimetype": "text/x-python",
   "name": "python",
   "nbconvert_exporter": "python",
   "pygments_lexer": "ipython2",
   "version": "2.7.11"
  }
 },
 "nbformat": 4,
 "nbformat_minor": 0
}
