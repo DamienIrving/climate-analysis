{
 "cells": [
  {
   "cell_type": "markdown",
   "metadata": {},
   "source": [
    "# Drift validation"
   ]
  },
  {
   "cell_type": "code",
   "execution_count": 14,
   "metadata": {
    "collapsed": true
   },
   "outputs": [],
   "source": [
    "import iris\n",
    "import numpy\n",
    "import matplotlib.pyplot as plt\n",
    "import glob\n",
    "\n",
    "import pandas as pd\n",
    "from bokeh.charts import TimeSeries, show, output_file\n",
    "\n",
    "from iris.experimental.equalise_cubes import equalise_attributes"
   ]
  },
  {
   "cell_type": "markdown",
   "metadata": {},
   "source": [
    "### Read data"
   ]
  },
  {
   "cell_type": "code",
   "execution_count": 15,
   "metadata": {
    "collapsed": true
   },
   "outputs": [],
   "source": [
    "institution = 'NOAA-GFDL'\n",
    "model = 'GFDL-CM3'\n",
    "control_location = '/g/data/ua6'  # /g/data/r87/dbi599\n",
    "historical_location = '/g/data/ua6'"
   ]
  },
  {
   "cell_type": "code",
   "execution_count": 16,
   "metadata": {
    "collapsed": false
   },
   "outputs": [],
   "source": [
    "control_files = glob.glob('%s/drstree/CMIP5/GCM/%s/%s/piControl/mon/ocean/thetao/r1i1p1/thetao_Omon_%s_piControl_r1i1p1_*.nc' %(control_location, institution, model, model) )\n",
    "historical_files = glob.glob('%s/drstree/CMIP5/GCM/%s/%s/historical/mon/ocean/thetao/r1i1p1/thetao_Omon_%s_historical_r1i1p1_*.nc' %(historical_location, institution, model, model) )\n",
    "dedrifted_historical_files = glob.glob('/g/data/r87/dbi599/drstree/CMIP5/GCM/%s/%s/historical/mon/ocean/thetao/r1i1p1/dedrifted/thetao_Omon_%s_historical_r1i1p1_*.nc' %(institution, model, model) )\n",
    "coefficient_file = '/g/data/r87/dbi599/drstree/CMIP5/GCM/%s/%s/piControl/mon/ocean/thetao/r1i1p1/thetao-coefficients_Omon_%s_piControl_r1i1p1_all.nc' %(institution, model, model)"
   ]
  },
  {
   "cell_type": "code",
   "execution_count": 49,
   "metadata": {
    "collapsed": true
   },
   "outputs": [],
   "source": [
    "# Set constraints\n",
    "#min_lat, max_lat = [-62.1, -60.9]\n",
    "#lat_subset = lambda cell: min_lat <= cell <= max_lat\n",
    "lev_constraint = iris.Constraint(depth=15)\n",
    "lat_constraint = iris.Constraint(grid_latitude=-63.5)\n",
    "lon_constraint = iris.Constraint(grid_longitude=70.5)"
   ]
  },
  {
   "cell_type": "code",
   "execution_count": 55,
   "metadata": {
    "collapsed": true
   },
   "outputs": [],
   "source": [
    "def read_files(file_list):\n",
    "    \"\"\"Read a list of files into an iris Cube\"\"\"\n",
    "    \n",
    "    cube = iris.load(file_list, 'sea_water_potential_temperature' & lev_constraint & lat_constraint & lon_constraint)\n",
    "    equalise_attributes(cube)\n",
    "    cube = cube.concatenate_cube()\n",
    "    \n",
    "    return cube"
   ]
  },
  {
   "cell_type": "code",
   "execution_count": 77,
   "metadata": {
    "collapsed": false
   },
   "outputs": [],
   "source": [
    "control_cube = read_files(control_files)\n",
    "historical_cube = read_files(historical_files)\n",
    "dedrifted_historical_cube = read_files(dedrifted_historical_files)\n",
    "coefficient_cube = iris.load_cube(coefficient_file, 'Sea Water Potential Temperature' & lev_constraint & lat_constraint & lon_constraint)"
   ]
  },
  {
   "cell_type": "code",
   "execution_count": 78,
   "metadata": {
    "collapsed": false
   },
   "outputs": [
    {
     "name": "stdout",
     "output_type": "stream",
     "text": [
      "sea_water_potential_temperature / (K) (time: 6000)\n",
      "     Dimension coordinates:\n",
      "          time                             x\n",
      "     Scalar coordinates:\n",
      "          depth: 15.0 m, bound=(10.0, 20.0) m\n",
      "          grid_latitude: -63.5 degrees\n",
      "          grid_longitude: 70.5 degrees\n",
      "          latitude: -63.5 degrees, bound=(-64.0, -64.0, -63.0, -63.0) degrees\n",
      "          longitude: 70.5 degrees, bound=(70.0, 71.0, 71.0, 70.0) degrees\n",
      "     Attributes:\n",
      "          Conventions: CF-1.4\n",
      "          associated_files: baseURL: http://cmip-pcmdi.llnl.gov/CMIP5/dataLocation gridspecFile: gridspec_ocean_fx_GFDL-CM3_piControl_r0i0p0.nc...\n",
      "          branch_time: 0.0\n",
      "          comment: GFDL experiment name: CM3Z_Control-1860_D1\n",
      "GFDL parent experiment name:...\n",
      "          comments: Note: This model output is presented on the model's tripolar grid. The...\n",
      "          contact: gfdl.climate.model.info@noaa.gov\n",
      "          experiment: pre-industrial control\n",
      "          experiment_id: piControl\n",
      "          forcing: N/A\n",
      "          frequency: mon\n",
      "          gfdl_experiment_name: CM3Z_Control-1860_D1\n",
      "          history: File was processed by fremetar (GFDL analog of CMOR). TripleID: [exper...\n",
      "          initialization_method: 1\n",
      "          institute_id: NOAA GFDL\n",
      "          institution: NOAA GFDL(201 Forrestal Rd, Princeton, NJ, 08540)\n",
      "          model_id: GFDL-CM3\n",
      "          modeling_realm: ocean\n",
      "          original_name: temp + 273.15\n",
      "          original_units: K\n",
      "          parent_experiment_id: N/A\n",
      "          parent_experiment_rip: N/A\n",
      "          physics_version: 1\n",
      "          product: output1\n",
      "          project_id: CMIP5\n",
      "          realization: 1\n",
      "          references: The GFDL Data Portal (http://nomads.gfdl.noaa.gov/) provides access to...\n",
      "          source: GFDL-CM3 2010 atmosphere: AM3 (AM3p9,C48L48); sea ice: SIS (SISp2,Tripolar360x200);...\n",
      "          table_id: Table Omon (31 Jan 2011)\n",
      "          title: NOAA GFDL GFDL-CM3, pre-industrial control (run 1) experiment output for...\n",
      "     Cell methods:\n",
      "          mean: time\n"
     ]
    }
   ],
   "source": [
    "print control_cube"
   ]
  },
  {
   "cell_type": "code",
   "execution_count": 79,
   "metadata": {
    "collapsed": false
   },
   "outputs": [
    {
     "name": "stdout",
     "output_type": "stream",
     "text": [
      "Sea Water Potential Temperature / (1) (drift coefficient: 4)\n",
      "     Dimension coordinates:\n",
      "          drift coefficient                             x\n",
      "     Scalar coordinates:\n",
      "          depth: 15.0 m, bound=(10.0, 20.0) m\n",
      "          grid_latitude: -63.5 degrees\n",
      "          grid_longitude: 70.5 degrees\n",
      "          latitude: -63.5 degrees, bound=(-64.0, -64.0, -63.0, -63.0) degrees\n",
      "          longitude: 70.5 degrees, bound=(70.0, 71.0, 71.0, 70.0) degrees\n",
      "     Attributes:\n",
      "          Conventions: CF-1.5\n",
      "          associated_files: baseURL: http://cmip-pcmdi.llnl.gov/CMIP5/dataLocation gridspecFile: gridspec_ocean_fx_GFDL-CM3_piControl_r0i0p0.nc...\n",
      "          branch_time: 0.0\n",
      "          comment: GFDL experiment name: CM3Z_Control-1860_D1\n",
      "GFDL parent experiment name:...\n",
      "          comments: Note: This model output is presented on the model's tripolar grid. The...\n",
      "          contact: gfdl.climate.model.info@noaa.gov\n",
      "          creation_date: 2011-10-12T00:44:11Z\n",
      "          experiment: pre-industrial control\n",
      "          experiment_id: piControl\n",
      "          forcing: N/A\n",
      "          frequency: mon\n",
      "          gfdl_experiment_name: CM3Z_Control-1860_D1\n",
      "          history: Wed Jun 29 07:37:08 2016: /g/data/r87/dbi599/miniconda2/envs/default/bin/python...\n",
      "          initialization_method: 1\n",
      "          institute_id: NOAA GFDL\n",
      "          institution: NOAA GFDL(201 Forrestal Rd, Princeton, NJ, 08540)\n",
      "          invalid_standard_name: thetao\n",
      "          model_id: GFDL-CM3\n",
      "          modeling_realm: ocean\n",
      "          original_name: temp + 273.15\n",
      "          original_units: K\n",
      "          parent_experiment_id: N/A\n",
      "          parent_experiment_rip: N/A\n",
      "          physics_version: 1\n",
      "          polynomial: a + bx + cx^2 + dx^3\n",
      "          product: output1\n",
      "          project_id: CMIP5\n",
      "          realization: 1\n",
      "          references: The GFDL Data Portal (http://nomads.gfdl.noaa.gov/) provides access to...\n",
      "          source: GFDL-CM3 2010 atmosphere: AM3 (AM3p9,C48L48); sea ice: SIS (SISp2,Tripolar360x200);...\n",
      "          table_id: Table Omon (31 Jan 2011)\n",
      "          time_calendar: noleap\n",
      "          time_end: 182484.0\n",
      "          time_start: 15.5\n",
      "          time_unit: days since 0001-01-01 00:00:00\n",
      "          title: NOAA GFDL GFDL-CM3, pre-industrial control (run 1) experiment output for...\n",
      "          tracking_id: bb04246c-1241-4a54-827a-0e6de43c63da\n"
     ]
    }
   ],
   "source": [
    "print coefficient_cube"
   ]
  },
  {
   "cell_type": "code",
   "execution_count": 81,
   "metadata": {
    "collapsed": false
   },
   "outputs": [
    {
     "name": "stdout",
     "output_type": "stream",
     "text": [
      "[  2.74396027e+02  -1.92017706e-05   3.36148942e-10  -1.17815200e-15]\n"
     ]
    }
   ],
   "source": [
    "print coefficient_cube.data"
   ]
  },
  {
   "cell_type": "markdown",
   "metadata": {},
   "source": [
    "### Validate polynomial contruction"
   ]
  },
  {
   "cell_type": "code",
   "execution_count": 82,
   "metadata": {
    "collapsed": true
   },
   "outputs": [],
   "source": [
    "def apply_polynomial(x, a, b, c, d):\n",
    "    \"\"\"Evaluate cubic polynomial.\n",
    "\n",
    "    The axis argument is not used but is required for the function to be \n",
    "      used with numpy.apply_over_axes \n",
    "\n",
    "    \"\"\"\n",
    "\n",
    "    result = a + b * x + c * x**2 + d * x**3 \n",
    "    \n",
    "    return result "
   ]
  },
  {
   "cell_type": "code",
   "execution_count": 84,
   "metadata": {
    "collapsed": false
   },
   "outputs": [],
   "source": [
    "coeff_a, coeff_b, coeff_c, coeff_d = coefficient_cube.data\n",
    "my_poly = apply_polynomial(control_cube.coord('time').points,\n",
    "                           coeff_a, coeff_b, coeff_c, coeff_d)"
   ]
  },
  {
   "cell_type": "code",
   "execution_count": 85,
   "metadata": {
    "collapsed": false
   },
   "outputs": [
    {
     "name": "stdout",
     "output_type": "stream",
     "text": [
      "[ 274.39572906  274.39516321  274.39459794  274.39401413  274.39343094]\n"
     ]
    }
   ],
   "source": [
    "print my_poly[0:5]"
   ]
  },
  {
   "cell_type": "code",
   "execution_count": 86,
   "metadata": {
    "collapsed": false
   },
   "outputs": [],
   "source": [
    "numpy_poly = numpy.poly1d([float(coeff_d), \n",
    "                           float(coeff_c),\n",
    "                           float(coeff_b),\n",
    "                           float(coeff_a)])"
   ]
  },
  {
   "cell_type": "code",
   "execution_count": 87,
   "metadata": {
    "collapsed": false
   },
   "outputs": [
    {
     "name": "stdout",
     "output_type": "stream",
     "text": [
      "[ 274.39572906  274.39516321  274.39459794  274.39401413  274.39343094]\n"
     ]
    }
   ],
   "source": [
    "print numpy_poly(control_cube.coord('time').points)[0:5]"
   ]
  },
  {
   "cell_type": "code",
   "execution_count": 88,
   "metadata": {
    "collapsed": false
   },
   "outputs": [
    {
     "name": "stdout",
     "output_type": "stream",
     "text": [
      "[ 277.2671814   277.78060913  276.54486084  274.93106079  273.25476074]\n"
     ]
    }
   ],
   "source": [
    "print control_cube.data[0:5]"
   ]
  },
  {
   "cell_type": "markdown",
   "metadata": {},
   "source": [
    "### Plot"
   ]
  },
  {
   "cell_type": "code",
   "execution_count": null,
   "metadata": {
    "collapsed": true
   },
   "outputs": [],
   "source": [
    "control_times = control_cube.coord('time').points\n",
    "df = pd.DataFrame(control_cube.data, index=control_times, columns=['control'])\n",
    "\n",
    "\n",
    "\n",
    "\n",
    "\n",
    "data = dict(AAPL=AAPL['Adj Close'], Date=AAPL['Date'])\n"
   ]
  },
  {
   "cell_type": "code",
   "execution_count": null,
   "metadata": {
    "collapsed": true
   },
   "outputs": [],
   "source": [
    "output_file(\"timeseries.html\")\n",
    "\n",
    "data = dict(AAPL=AAPL['Adj Close'], Date=AAPL['Date'])\n",
    "\n",
    "p = TimeSeries(data, index='Date', title=\"APPL\", ylabel='Stock Prices')\n",
    "\n",
    "show(p)"
   ]
  },
  {
   "cell_type": "code",
   "execution_count": null,
   "metadata": {
    "collapsed": true
   },
   "outputs": [],
   "source": []
  },
  {
   "cell_type": "code",
   "execution_count": null,
   "metadata": {
    "collapsed": true
   },
   "outputs": [],
   "source": []
  },
  {
   "cell_type": "code",
   "execution_count": null,
   "metadata": {
    "collapsed": true
   },
   "outputs": [],
   "source": []
  },
  {
   "cell_type": "code",
   "execution_count": null,
   "metadata": {
    "collapsed": true
   },
   "outputs": [],
   "source": []
  },
  {
   "cell_type": "code",
   "execution_count": 15,
   "metadata": {
    "collapsed": true
   },
   "outputs": [],
   "source": [
    "% matplotlib inline"
   ]
  },
  {
   "cell_type": "code",
   "execution_count": 16,
   "metadata": {
    "collapsed": false
   },
   "outputs": [
    {
     "data": {
      "image/png": "[encoded data removed]",
      "text/plain": [
       "<matplotlib.figure.Figure at 0x7fad2c518850>"
      ]
     },
     "metadata": {},
     "output_type": "display_data"
    }
   ],
   "source": [
    "plt.plot(full_control_cube.coord('time').points[0:50], my_poly[0:50], 'o')\n",
    "plt.plot(control_cube.coord('time').points[0:50], control_cube.data[0:50])\n",
    "plt.ylabel('y')\n",
    "plt.xlabel('x')\n",
    "plt.show()"
   ]
  },
  {
   "cell_type": "code",
   "execution_count": 17,
   "metadata": {
    "collapsed": false
   },
   "outputs": [
    {
     "name": "stdout",
     "output_type": "stream",
     "text": [
      "273.036007766\n",
      "[ 273.24665794  273.24684012  273.24702222  273.24720424  273.24738617\n",
      "  273.24757101  273.24775278  273.24793447  273.24811608  273.2482976 ]\n"
     ]
    }
   ],
   "source": [
    "print coeff_a_cube.data\n",
    "\n",
    "print my_poly[950:960]"
   ]
  },
  {
   "cell_type": "code",
   "execution_count": 18,
   "metadata": {
    "collapsed": false
   },
   "outputs": [
    {
     "data": {
      "image/png": "[encoded data removed]",
      "text/plain": [
       "<matplotlib.figure.Figure at 0x7fad2c59cd50>"
      ]
     },
     "metadata": {},
     "output_type": "display_data"
    }
   ],
   "source": [
    "plt.plot(full_control_cube.coord('time').points[950:1000], full_control_cube.data[950:1000], 'b-')\n",
    "plt.plot(full_control_cube.coord('time').points[950:1000], my_poly[950:1000], 'g-')\n",
    "plt.show()"
   ]
  },
  {
   "cell_type": "code",
   "execution_count": 19,
   "metadata": {
    "collapsed": false
   },
   "outputs": [
    {
     "data": {
      "image/png": "[encoded data removed]",
      "text/plain": [
       "<matplotlib.figure.Figure at 0x7fad2c525810>"
      ]
     },
     "metadata": {},
     "output_type": "display_data"
    }
   ],
   "source": [
    "plt.plot(full_control_cube.coord('time').points, full_control_cube.data, 'b-')\n",
    "plt.plot(full_control_cube.coord('time').points, my_poly, 'g-')\n",
    "plt.show()"
   ]
  },
  {
   "cell_type": "markdown",
   "metadata": {},
   "source": [
    "## Validate removal from historical"
   ]
  },
  {
   "cell_type": "code",
   "execution_count": 20,
   "metadata": {
    "collapsed": false
   },
   "outputs": [
    {
     "name": "stdout",
     "output_type": "stream",
     "text": [
      "[  15.5   45.    74.5  105.   135.5]\n",
      "[  15.5   45.    74.5  105.   135.5]\n"
     ]
    }
   ],
   "source": [
    "print hist_cube.coord('time').points[0:5]\n",
    "print dedrift_cube.coord('time').points[0:5]"
   ]
  },
  {
   "cell_type": "code",
   "execution_count": 21,
   "metadata": {
    "collapsed": false
   },
   "outputs": [
    {
     "data": {
      "image/png": "[encoded data removed]",
      "text/plain": [
       "<matplotlib.figure.Figure at 0x7fad2c5e3d90>"
      ]
     },
     "metadata": {},
     "output_type": "display_data"
    }
   ],
   "source": [
    "plt.plot(hist_cube.coord('time').points[0:50], hist_cube.data[0:50], 'g-')\n",
    "plt.plot(dedrift_cube.coord('time').points[0:50], dedrift_cube.data[0:50], 'b-')\n",
    "plt.ylabel('y')\n",
    "plt.xlabel('x')\n",
    "plt.show()"
   ]
  },
  {
   "cell_type": "code",
   "execution_count": 22,
   "metadata": {
    "collapsed": false
   },
   "outputs": [
    {
     "data": {
      "text/plain": [
       "29200.0"
      ]
     },
     "execution_count": 22,
     "metadata": {},
     "output_type": "execute_result"
    }
   ],
   "source": [
    "hist_cube.attributes['branch_time']"
   ]
  },
  {
   "cell_type": "code",
   "execution_count": 23,
   "metadata": {
    "collapsed": false
   },
   "outputs": [
    {
     "name": "stdout",
     "output_type": "stream",
     "text": [
      "6000\n",
      "[29184.5, 29215.5, 29245.0, 29274.5, 29305.0, 29335.5]\n",
      "959\n"
     ]
    }
   ],
   "source": [
    "control_time_axis = list(full_control_cube.coord('time').points)\n",
    "print len(control_time_axis)\n",
    "print control_time_axis[959:965]\n",
    "print control_time_axis.index(29184.5)"
   ]
  },
  {
   "cell_type": "code",
   "execution_count": 26,
   "metadata": {
    "collapsed": false
   },
   "outputs": [
    {
     "name": "stdout",
     "output_type": "stream",
     "text": [
      "276.13\n",
      "275.913313571\n",
      "0.216965970111\n",
      "0.216792454811\n"
     ]
    }
   ],
   "source": [
    "print hist_cube.data[25]\n",
    "print dedrift_cube.data[25]\n",
    "print hist_cube.data[25] - dedrift_cube.data[25]\n",
    "print my_poly[959 + 25] - float(coeff_a_cube.data)"
   ]
  },
  {
   "cell_type": "code",
   "execution_count": null,
   "metadata": {
    "collapsed": true
   },
   "outputs": [],
   "source": []
  }
 ],
 "metadata": {
  "kernelspec": {
   "display_name": "Python 2",
   "language": "python",
   "name": "python2"
  },
  "language_info": {
   "codemirror_mode": {
    "name": "ipython",
    "version": 2
   },
   "file_extension": ".py",
   "mimetype": "text/x-python",
   "name": "python",
   "nbconvert_exporter": "python",
   "pygments_lexer": "ipython2",
   "version": "2.7.11"
  }
 },
 "nbformat": 4,
 "nbformat_minor": 0
}
