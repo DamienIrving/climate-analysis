{
 "cells": [
  {
   "cell_type": "code",
   "execution_count": 19,
   "metadata": {
    "collapsed": true
   },
   "outputs": [],
   "source": [
    "import gsw\n",
    "import numpy"
   ]
  },
  {
   "cell_type": "code",
   "execution_count": 20,
   "metadata": {
    "collapsed": false
   },
   "outputs": [],
   "source": [
    "pressure_vals = numpy.array([2.5, 10, 20, 30, 40, 50, 60, 70, 80, 90, 100, 110, 120, 130, 140, \n",
    "    150, 160, 170, 182.5, 200, 220, 240, 260, 280, 300, 320, 340, 360, 380, \n",
    "    400, 420, 440, 462.5, 500, 550, 600, 650, 700, 750, 800, 850, 900, 950, \n",
    "    1000, 1050, 1100, 1150, 1200, 1250, 1300, 1350, 1412.5, 1500, 1600, 1700, \n",
    "    1800, 1900, 1975])\n",
    "\n",
    "latitude_vals = numpy.array([-64.5, -63.5, -62.5, -61.5, -60.5, -59.5, -58.5, -57.5, -56.5, \n",
    "    -55.5, -54.5, -53.5, -52.5, -51.5, -50.5, -49.5, -48.5, -47.5, -46.5, \n",
    "    -45.5, -44.5, -43.5, -42.5, -41.5, -40.5, -39.5, -38.5, -37.5, -36.5, \n",
    "    -35.5, -34.5, -33.5, -32.5, -31.5, -30.5, -29.5, -28.5, -27.5, -26.5, \n",
    "    -25.5, -24.5, -23.5, -22.5, -21.5, -20.5, -19.5, -18.5, -17.5, -16.5, \n",
    "    -15.5, -14.5, -13.5, -12.5, -11.5, -10.5, -9.5, -8.5, -7.5, -6.5, -5.5, \n",
    "    -4.5, -3.5, -2.5, -1.5, -0.5, 0.5, 1.5, 2.5, 3.5, 4.5, 5.5, 6.5, 7.5, \n",
    "    8.5, 9.5, 10.5, 11.5, 12.5, 13.5, 14.5, 15.5, 16.5, 17.5, 18.5, 19.5, \n",
    "    20.5, 21.5, 22.5, 23.5, 24.5, 25.5, 26.5, 27.5, 28.5, 29.5, 30.5, 31.5, \n",
    "    32.5, 33.5, 34.5, 35.5, 36.5, 37.5, 38.5, 39.5, 40.5, 41.5, 42.5, 43.5, \n",
    "    44.5, 45.5, 46.5, 47.5, 48.5, 49.5, 50.5, 51.5, 52.5, 53.5, 54.5, 55.5, \n",
    "    56.5, 57.5, 58.5, 59.5, 60.5, 61.5, 62.5, 63.5, 64.5]) \n",
    "\n",
    "data_shape = (144, 58, 130, 360)  # time, pressure, latitude, longitude"
   ]
  },
  {
   "cell_type": "code",
   "execution_count": 21,
   "metadata": {
    "collapsed": true
   },
   "outputs": [],
   "source": [
    "height_vals = numpy.zeros([58,130])"
   ]
  },
  {
   "cell_type": "code",
   "execution_count": 22,
   "metadata": {
    "collapsed": false
   },
   "outputs": [],
   "source": [
    "for lat_index in range(0, 130):\n",
    "    height_vals[:, lat_index] = gsw.z_from_p(pressure_vals, latitude_vals[lat_index])"
   ]
  },
  {
   "cell_type": "code",
   "execution_count": 23,
   "metadata": {
    "collapsed": false
   },
   "outputs": [
    {
     "name": "stdout",
     "output_type": "stream",
     "text": [
      "(58, 130)\n"
     ]
    }
   ],
   "source": [
    "print height_vals.shape"
   ]
  },
  {
   "cell_type": "code",
   "execution_count": 24,
   "metadata": {
    "collapsed": false
   },
   "outputs": [
    {
     "name": "stdout",
     "output_type": "stream",
     "text": [
      "(144, 58, 130, 360)\n"
     ]
    }
   ],
   "source": [
    "height_vals = height_vals[numpy.newaxis, ...]\n",
    "height_vals = numpy.repeat(height_vals, data_shape[0], axis=0)\n",
    "\n",
    "height_vals = height_vals[..., numpy.newaxis]\n",
    "height_vals = numpy.repeat(height_vals, data_shape[-1], axis=-1)\n",
    "\n",
    "print height_vals.shape"
   ]
  },
  {
   "cell_type": "code",
   "execution_count": 25,
   "metadata": {
    "collapsed": true
   },
   "outputs": [],
   "source": [
    "v_depth_from_z = numpy.vectorize(gsw.depth_from_z)\n",
    "depth_vals = v_depth_from_z(height_vals)"
   ]
  },
  {
   "cell_type": "code",
   "execution_count": 26,
   "metadata": {
    "collapsed": false
   },
   "outputs": [
    {
     "name": "stdout",
     "output_type": "stream",
     "text": [
      "(144, 58, 130, 360)\n"
     ]
    }
   ],
   "source": [
    "print depth_vals.shape"
   ]
  },
  {
   "cell_type": "code",
   "execution_count": 33,
   "metadata": {
    "collapsed": false
   },
   "outputs": [
    {
     "data": {
      "text/plain": [
       "array([    2.47958071,     9.91814225,    19.83580301,    29.75298242,\n",
       "          39.66968065,    49.58589783,    59.50163412,    69.41688965,\n",
       "          79.33166459,    89.24595908,    99.15977326,   109.07310729,\n",
       "         118.98596131,   128.89833547,   138.81022992,   148.72164481,\n",
       "         158.63258028,   168.54303648,   180.93043298,   198.27153095,\n",
       "         218.08813363,   237.90282278,   257.71559958,   277.52646521,\n",
       "         297.33542084,   317.14246765,   336.94760683,   356.75083954,\n",
       "         376.55216695,   396.35159026,   416.14911062,   435.94472921,\n",
       "         458.21252838,   495.3201861 ,   544.78668971,   594.24135482,\n",
       "         643.68419966,   693.11524245,   742.53450136,   791.94199456,\n",
       "         841.33774017,   890.7217563 ,   940.09406103,   989.45467239,\n",
       "        1038.80360843,  1088.14088711,  1137.46652643,  1186.7805443 ,\n",
       "        1236.08295865,  1285.37378737,  1334.6530483 ,  1396.23588445,\n",
       "        1482.42160261,  1580.87645944,  1679.28547144,  1777.64877987,\n",
       "        1875.96652554,  1949.67501868])"
      ]
     },
     "execution_count": 33,
     "metadata": {},
     "output_type": "execute_result"
    }
   ],
   "source": [
    "depth_vals[15, :, 19, 40]"
   ]
  },
  {
   "cell_type": "code",
   "execution_count": null,
   "metadata": {
    "collapsed": true
   },
   "outputs": [],
   "source": []
  }
 ],
 "metadata": {
  "kernelspec": {
   "display_name": "Python 2",
   "language": "python",
   "name": "python2"
  },
  "language_info": {
   "codemirror_mode": {
    "name": "ipython",
    "version": 2
   },
   "file_extension": ".py",
   "mimetype": "text/x-python",
   "name": "python",
   "nbconvert_exporter": "python",
   "pygments_lexer": "ipython2",
   "version": "2.7.11"
  }
 },
 "nbformat": 4,
 "nbformat_minor": 0
}
