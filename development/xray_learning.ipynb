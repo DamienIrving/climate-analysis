{
 "cells": [
  {
   "cell_type": "markdown",
   "metadata": {},
   "source": [
    "Still need to figure out:\n",
    "* Missing value handing\n",
    "* Running mean\n",
    "* Daily climatology (logged an question in he xray google group)"
   ]
  },
  {
   "cell_type": "code",
   "execution_count": 9,
   "metadata": {
    "collapsed": false
   },
   "outputs": [
    {
     "name": "stdout",
     "output_type": "stream",
     "text": [
      "0.5.0\n"
     ]
    }
   ],
   "source": [
    "import numpy\n",
    "import pandas\n",
    "import xray; print(xray.__version__)"
   ]
  },
  {
   "cell_type": "markdown",
   "metadata": {},
   "source": [
    "### Reading data"
   ]
  },
  {
   "cell_type": "code",
   "execution_count": 2,
   "metadata": {
    "collapsed": false
   },
   "outputs": [],
   "source": [
    "infile = '/Users/damienirving/Downloads/Data/va_ERAInterim_500hPa_2006-030day-runmean_native.nc'\n",
    "dset = xray.open_dataset(infile)"
   ]
  },
  {
   "cell_type": "code",
   "execution_count": 3,
   "metadata": {
    "collapsed": false
   },
   "outputs": [
    {
     "data": {
      "text/plain": [
       "<xray.Dataset>\n",
       "Dimensions:    (latitude: 241, longitude: 480, time: 365)\n",
       "Coordinates:\n",
       "  * longitude  (longitude) float32 0.0 0.75 1.5 2.25 3.0 3.75 4.5 5.25 6.0 ...\n",
       "  * latitude   (latitude) float32 -90.0 -89.25 -88.5 -87.75 -87.0 -86.25 ...\n",
       "  * time       (time) datetime64[ns] 2006-01-01T06:00:00 2006-01-02T06:00:00 ...\n",
       "Data variables:\n",
       "    va         (time, latitude, longitude) float64 -3.818 -3.803 -3.787 ...\n",
       "Attributes:\n",
       "    CDI: Climate Data Interface version 1.5.3 (http://code.zmaw.de/projects/cdi)\n",
       "    Conventions: CF-1.0\n",
       "    history: Mon Jun 15 13:04:23 2015: ncatted -O -a axis,time,c,c,T va_ERAInterim_500hPa_2006-030day-runmean_native.nc\n",
       "Mon Jun 15 13:04:23 2015: ncatted -O -a missing_value,va,o,f,-32767. va_ERAInterim_500hPa_2006-030day-runmean_native.nc\n",
       "Mon Jun 15 13:03:30 2015: cdo seldate,2006-01-01,2006-12-31 va_ERAInterim_500hPa_030day-runmean_native.nc va_ERAInterim_500hPa_2006-030day-runmean_native.nc\n",
       "Fri Mar 20 07:35:31 2015: ncatted -O -a axis,time,c,c,T /mnt/meteo0/data/simmonds/dbirving/ERAInterim/data/va_ERA...\n",
       "    nco_openmp_thread_number: 1\n",
       "    CDO: Climate Data Operators version 1.5.3 (http://code.zmaw.de/projects/cdo)"
      ]
     },
     "execution_count": 3,
     "metadata": {},
     "output_type": "execute_result"
    }
   ],
   "source": [
    "dset"
   ]
  },
  {
   "cell_type": "code",
   "execution_count": 4,
   "metadata": {
    "collapsed": false
   },
   "outputs": [
    {
     "data": {
      "text/plain": [
       "xray.core.dataset.Dataset"
      ]
     },
     "execution_count": 4,
     "metadata": {},
     "output_type": "execute_result"
    }
   ],
   "source": [
    "va_data = dset[['va']]\n",
    "type(va_data)"
   ]
  },
  {
   "cell_type": "code",
   "execution_count": 5,
   "metadata": {
    "collapsed": false
   },
   "outputs": [
    {
     "data": {
      "text/plain": [
       "<xray.Dataset>\n",
       "Dimensions:    (latitude: 241, longitude: 480, time: 365)\n",
       "Coordinates:\n",
       "  * latitude   (latitude) float32 -90.0 -89.25 -88.5 -87.75 -87.0 -86.25 ...\n",
       "  * longitude  (longitude) float32 0.0 0.75 1.5 2.25 3.0 3.75 4.5 5.25 6.0 ...\n",
       "  * time       (time) datetime64[ns] 2006-01-01T06:00:00 2006-01-02T06:00:00 ...\n",
       "Data variables:\n",
       "    va         (time, latitude, longitude) float64 -3.818 -3.803 -3.787 ...\n",
       "Attributes:\n",
       "    CDI: Climate Data Interface version 1.5.3 (http://code.zmaw.de/projects/cdi)\n",
       "    Conventions: CF-1.0\n",
       "    history: Mon Jun 15 13:04:23 2015: ncatted -O -a axis,time,c,c,T va_ERAInterim_500hPa_2006-030day-runmean_native.nc\n",
       "Mon Jun 15 13:04:23 2015: ncatted -O -a missing_value,va,o,f,-32767. va_ERAInterim_500hPa_2006-030day-runmean_native.nc\n",
       "Mon Jun 15 13:03:30 2015: cdo seldate,2006-01-01,2006-12-31 va_ERAInterim_500hPa_030day-runmean_native.nc va_ERAInterim_500hPa_2006-030day-runmean_native.nc\n",
       "Fri Mar 20 07:35:31 2015: ncatted -O -a axis,time,c,c,T /mnt/meteo0/data/simmonds/dbirving/ERAInterim/data/va_ERA...\n",
       "    nco_openmp_thread_number: 1\n",
       "    CDO: Climate Data Operators version 1.5.3 (http://code.zmaw.de/projects/cdo)"
      ]
     },
     "execution_count": 5,
     "metadata": {},
     "output_type": "execute_result"
    }
   ],
   "source": [
    "va_data"
   ]
  },
  {
   "cell_type": "code",
   "execution_count": 6,
   "metadata": {
    "collapsed": false
   },
   "outputs": [
    {
     "data": {
      "text/plain": [
       "OrderedDict([(u'standard_name', u'northward_wind'), (u'long_name', u'northward_wind'), (u'units', u'm s**-1'), (u'level', u'500hPa')])"
      ]
     },
     "execution_count": 6,
     "metadata": {},
     "output_type": "execute_result"
    }
   ],
   "source": [
    "dset['va'].attrs"
   ]
  },
  {
   "cell_type": "markdown",
   "metadata": {},
   "source": [
    "#### Missing values\n",
    "\n",
    "[This page](http://xray.readthedocs.org/en/stable/io.html) kind of suggests that xray recognises the `_FillValue` attribute, however I haven't tried this on any data that actually has missing values (TRY ME: I need to try on SST data)."
   ]
  },
  {
   "cell_type": "markdown",
   "metadata": {},
   "source": [
    "### Climatologies\n",
    "\n",
    "You can group by `month`, `day`, `dayofyear`, `dayofweek` and whatever else belongs to the [`pandas.DatetimeIndex` class](http://pandas.pydata.org/pandas-docs/dev/generated/pandas.DatetimeIndex.html)."
   ]
  },
  {
   "cell_type": "markdown",
   "metadata": {},
   "source": [
    "##### Monthly"
   ]
  },
  {
   "cell_type": "code",
   "execution_count": 7,
   "metadata": {
    "collapsed": false
   },
   "outputs": [],
   "source": [
    "mon_clim_va = va_data.groupby('time.month').mean('time')"
   ]
  },
  {
   "cell_type": "code",
   "execution_count": 8,
   "metadata": {
    "collapsed": false
   },
   "outputs": [
    {
     "data": {
      "text/plain": [
       "<xray.Dataset>\n",
       "Dimensions:    (latitude: 241, longitude: 480, month: 12)\n",
       "Coordinates:\n",
       "  * latitude   (latitude) float32 -90.0 -89.25 -88.5 -87.75 -87.0 -86.25 ...\n",
       "  * longitude  (longitude) float32 0.0 0.75 1.5 2.25 3.0 3.75 4.5 5.25 6.0 ...\n",
       "  * month      (month) int64 1 2 3 4 5 6 7 8 9 10 11 12\n",
       "Data variables:\n",
       "    va         (month, latitude, longitude) float64 -3.441 -3.431 -3.419 ..."
      ]
     },
     "execution_count": 8,
     "metadata": {},
     "output_type": "execute_result"
    }
   ],
   "source": [
    "mon_clim_va"
   ]
  },
  {
   "cell_type": "markdown",
   "metadata": {},
   "source": [
    "#### Daily\n",
    "\n",
    "(Feb 28 is day 59. In a leap year, Feb 29 is day 60.)"
   ]
  },
  {
   "cell_type": "code",
   "execution_count": 12,
   "metadata": {
    "collapsed": false
   },
   "outputs": [],
   "source": [
    "dummy_dset = xray.Dataset({'foo': ('time', numpy.random.randn(4000)),\n",
    "                           'time': pandas.date_range('2000-01-01', periods=4000)})\n",
    "clim = dummy_dset.groupby('time.dayofyear').mean()\n",
    "anom = dummy_dset.groupby('time.dayofyear') - clim"
   ]
  },
  {
   "cell_type": "code",
   "execution_count": 13,
   "metadata": {
    "collapsed": false
   },
   "outputs": [
    {
     "data": {
      "text/plain": [
       "<xray.Dataset>\n",
       "Dimensions:  (time: 4000)\n",
       "Coordinates:\n",
       "  * time     (time) datetime64[ns] 2000-01-01 2000-01-02 2000-01-03 ...\n",
       "Data variables:\n",
       "    foo      (time) float64 -1.197 0.8607 -0.5471 1.35 -1.297 1.012 -2.045 ..."
      ]
     },
     "execution_count": 13,
     "metadata": {},
     "output_type": "execute_result"
    }
   ],
   "source": [
    "dummy_dset"
   ]
  },
  {
   "cell_type": "code",
   "execution_count": 18,
   "metadata": {
    "collapsed": false
   },
   "outputs": [
    {
     "data": {
      "text/plain": [
       "<xray.Dataset>\n",
       "Dimensions:    (dayofyear: 366)\n",
       "Coordinates:\n",
       "  * dayofyear  (dayofyear) int64 1 2 3 4 5 6 7 8 9 10 11 12 13 14 15 16 17 ...\n",
       "Data variables:\n",
       "    foo        (dayofyear) float64 -0.06518 -0.3452 0.1441 0.1311 0.06994 ..."
      ]
     },
     "execution_count": 18,
     "metadata": {},
     "output_type": "execute_result"
    }
   ],
   "source": [
    "clim"
   ]
  },
  {
   "cell_type": "code",
   "execution_count": 36,
   "metadata": {
    "collapsed": false
   },
   "outputs": [],
   "source": [
    "test = dummy_dset.sel(time='2001-03-01')['foo'].values"
   ]
  },
  {
   "cell_type": "code",
   "execution_count": 38,
   "metadata": {
    "collapsed": false
   },
   "outputs": [
    {
     "data": {
      "text/plain": [
       "numpy.ndarray"
      ]
     },
     "execution_count": 38,
     "metadata": {},
     "output_type": "execute_result"
    }
   ],
   "source": []
  },
  {
   "cell_type": "markdown",
   "metadata": {},
   "source": [
    "The most obvious thing to do would be:"
   ]
  },
  {
   "cell_type": "code",
   "execution_count": 58,
   "metadata": {
    "collapsed": false
   },
   "outputs": [
    {
     "data": {
      "text/plain": [
       "<xray.Dataset>\n",
       "Dimensions:    (dayofyear: 365, latitude: 241, longitude: 480)\n",
       "Coordinates:\n",
       "  * latitude   (latitude) float32 -90.0 -89.25 -88.5 -87.75 -87.0 -86.25 ...\n",
       "  * longitude  (longitude) float32 0.0 0.75 1.5 2.25 3.0 3.75 4.5 5.25 6.0 ...\n",
       "  * dayofyear  (dayofyear) int64 1 2 3 4 5 6 7 8 9 10 11 12 13 14 15 16 17 ...\n",
       "Data variables:\n",
       "    va         (dayofyear, latitude, longitude) float64 -3.818 -3.803 -3.787 ..."
      ]
     },
     "execution_count": 58,
     "metadata": {},
     "output_type": "execute_result"
    }
   ],
   "source": [
    "day_clim_va = va_data.groupby('time.dayofyear').mean('time')\n",
    "day_clim_va"
   ]
  },
  {
   "cell_type": "markdown",
   "metadata": {},
   "source": [
    "However this is problematic when leap years are involved. Instead, but would be better to group by month and day, as [this](http://stackoverflow.com/questions/20973527/compute-daily-climatology-using-pandas-python) stack overflow questions suggests."
   ]
  },
  {
   "cell_type": "code",
   "execution_count": 59,
   "metadata": {
    "collapsed": false
   },
   "outputs": [
    {
     "ename": "AttributeError",
     "evalue": "'list' object has no attribute 'ndim'",
     "output_type": "error",
     "traceback": [
      "\u001b[0;31m---------------------------------------------------------------------------\u001b[0m",
      "\u001b[0;31mAttributeError\u001b[0m                            Traceback (most recent call last)",
      "\u001b[0;32m<ipython-input-59-76bf2c5a580d>\u001b[0m in \u001b[0;36m<module>\u001b[0;34m()\u001b[0m\n\u001b[0;32m----> 1\u001b[0;31m \u001b[0mday_clim_va\u001b[0m \u001b[0;34m=\u001b[0m \u001b[0mva_data\u001b[0m\u001b[0;34m.\u001b[0m\u001b[0mgroupby\u001b[0m\u001b[0;34m(\u001b[0m\u001b[0;34m[\u001b[0m\u001b[0;34m'time.month'\u001b[0m\u001b[0;34m,\u001b[0m \u001b[0;34m'time.day'\u001b[0m\u001b[0;34m]\u001b[0m\u001b[0;34m)\u001b[0m\u001b[0;34m.\u001b[0m\u001b[0mmean\u001b[0m\u001b[0;34m(\u001b[0m\u001b[0;34m'time'\u001b[0m\u001b[0;34m)\u001b[0m\u001b[0;34m\u001b[0m\u001b[0m\n\u001b[0m",
      "\u001b[0;32m/Users/damienirving/anaconda/lib/python2.7/site-packages/xray/core/common.pyc\u001b[0m in \u001b[0;36mgroupby\u001b[0;34m(self, group, squeeze)\u001b[0m\n\u001b[1;32m    210\u001b[0m         \u001b[0;32mif\u001b[0m \u001b[0misinstance\u001b[0m\u001b[0;34m(\u001b[0m\u001b[0mgroup\u001b[0m\u001b[0;34m,\u001b[0m \u001b[0mbasestring\u001b[0m\u001b[0;34m)\u001b[0m\u001b[0;34m:\u001b[0m\u001b[0;34m\u001b[0m\u001b[0m\n\u001b[1;32m    211\u001b[0m             \u001b[0mgroup\u001b[0m \u001b[0;34m=\u001b[0m \u001b[0mself\u001b[0m\u001b[0;34m[\u001b[0m\u001b[0mgroup\u001b[0m\u001b[0;34m]\u001b[0m\u001b[0;34m\u001b[0m\u001b[0m\n\u001b[0;32m--> 212\u001b[0;31m         \u001b[0;32mreturn\u001b[0m \u001b[0mself\u001b[0m\u001b[0;34m.\u001b[0m\u001b[0mgroupby_cls\u001b[0m\u001b[0;34m(\u001b[0m\u001b[0mself\u001b[0m\u001b[0;34m,\u001b[0m \u001b[0mgroup\u001b[0m\u001b[0;34m,\u001b[0m \u001b[0msqueeze\u001b[0m\u001b[0;34m=\u001b[0m\u001b[0msqueeze\u001b[0m\u001b[0;34m)\u001b[0m\u001b[0;34m\u001b[0m\u001b[0m\n\u001b[0m\u001b[1;32m    213\u001b[0m \u001b[0;34m\u001b[0m\u001b[0m\n\u001b[1;32m    214\u001b[0m     def resample(self, freq, dim, how='mean', skipna=None, closed=None,\n",
      "\u001b[0;32m/Users/damienirving/anaconda/lib/python2.7/site-packages/xray/core/groupby.pyc\u001b[0m in \u001b[0;36m__init__\u001b[0;34m(self, obj, group, squeeze, grouper)\u001b[0m\n\u001b[1;32m    102\u001b[0m         \u001b[0;32mfrom\u001b[0m \u001b[0;34m.\u001b[0m\u001b[0mdataset\u001b[0m \u001b[0;32mimport\u001b[0m \u001b[0mas_dataset\u001b[0m\u001b[0;34m\u001b[0m\u001b[0m\n\u001b[1;32m    103\u001b[0m \u001b[0;34m\u001b[0m\u001b[0m\n\u001b[0;32m--> 104\u001b[0;31m         \u001b[0;32mif\u001b[0m \u001b[0mgroup\u001b[0m\u001b[0;34m.\u001b[0m\u001b[0mndim\u001b[0m \u001b[0;34m!=\u001b[0m \u001b[0;36m1\u001b[0m\u001b[0;34m:\u001b[0m\u001b[0;34m\u001b[0m\u001b[0m\n\u001b[0m\u001b[1;32m    105\u001b[0m             \u001b[0;31m# TODO: remove this limitation?\u001b[0m\u001b[0;34m\u001b[0m\u001b[0;34m\u001b[0m\u001b[0m\n\u001b[1;32m    106\u001b[0m             \u001b[0;32mraise\u001b[0m \u001b[0mValueError\u001b[0m\u001b[0;34m(\u001b[0m\u001b[0;34m'`group` must be 1 dimensional'\u001b[0m\u001b[0;34m)\u001b[0m\u001b[0;34m\u001b[0m\u001b[0m\n",
      "\u001b[0;31mAttributeError\u001b[0m: 'list' object has no attribute 'ndim'"
     ]
    }
   ],
   "source": [
    "day_clim_va = va_data.groupby(['time.month', 'time.day']).mean('time')"
   ]
  },
  {
   "cell_type": "markdown",
   "metadata": {},
   "source": [
    "### Selection"
   ]
  },
  {
   "cell_type": "markdown",
   "metadata": {},
   "source": [
    "It's possible to select a single dimension value or a slice of values:"
   ]
  },
  {
   "cell_type": "code",
   "execution_count": 60,
   "metadata": {
    "collapsed": false
   },
   "outputs": [
    {
     "data": {
      "text/plain": [
       "<xray.Dataset>\n",
       "Dimensions:    (latitude: 241, longitude: 480, time: 1)\n",
       "Coordinates:\n",
       "  * latitude   (latitude) float32 -90.0 -89.25 -88.5 -87.75 -87.0 -86.25 ...\n",
       "  * longitude  (longitude) float32 0.0 0.75 1.5 2.25 3.0 3.75 4.5 5.25 6.0 ...\n",
       "  * time       (time) datetime64[ns] 2006-03-25T06:00:00\n",
       "Data variables:\n",
       "    va         (time, latitude, longitude) float64 -0.3191 -0.2874 -0.2556 ...\n",
       "Attributes:\n",
       "    CDI: Climate Data Interface version 1.5.3 (http://code.zmaw.de/projects/cdi)\n",
       "    Conventions: CF-1.0\n",
       "    history: Mon Jun 15 13:04:23 2015: ncatted -O -a axis,time,c,c,T va_ERAInterim_500hPa_2006-030day-runmean_native.nc\n",
       "Mon Jun 15 13:04:23 2015: ncatted -O -a missing_value,va,o,f,-32767. va_ERAInterim_500hPa_2006-030day-runmean_native.nc\n",
       "Mon Jun 15 13:03:30 2015: cdo seldate,2006-01-01,2006-12-31 va_ERAInterim_500hPa_030day-runmean_native.nc va_ERAInterim_500hPa_2006-030day-runmean_native.nc\n",
       "Fri Mar 20 07:35:31 2015: ncatted -O -a axis,time,c,c,T /mnt/meteo0/data/simmonds/dbirving/ERAInterim/data/va_ERA...\n",
       "    nco_openmp_thread_number: 1\n",
       "    CDO: Climate Data Operators version 1.5.3 (http://code.zmaw.de/projects/cdo)"
      ]
     },
     "execution_count": 60,
     "metadata": {},
     "output_type": "execute_result"
    }
   ],
   "source": [
    "va_data.sel(time=('2006-03-25'))"
   ]
  },
  {
   "cell_type": "code",
   "execution_count": 61,
   "metadata": {
    "collapsed": false
   },
   "outputs": [
    {
     "data": {
      "text/plain": [
       "<xray.Dataset>\n",
       "Dimensions:    (latitude: 241, longitude: 480, time: 32)\n",
       "Coordinates:\n",
       "  * latitude   (latitude) float32 -90.0 -89.25 -88.5 -87.75 -87.0 -86.25 ...\n",
       "  * longitude  (longitude) float32 0.0 0.75 1.5 2.25 3.0 3.75 4.5 5.25 6.0 ...\n",
       "  * time       (time) datetime64[ns] 2006-03-25T06:00:00 2006-03-26T06:00:00 ...\n",
       "Data variables:\n",
       "    va         (time, latitude, longitude) float64 -0.3191 -0.2874 -0.2556 ...\n",
       "Attributes:\n",
       "    CDI: Climate Data Interface version 1.5.3 (http://code.zmaw.de/projects/cdi)\n",
       "    Conventions: CF-1.0\n",
       "    history: Mon Jun 15 13:04:23 2015: ncatted -O -a axis,time,c,c,T va_ERAInterim_500hPa_2006-030day-runmean_native.nc\n",
       "Mon Jun 15 13:04:23 2015: ncatted -O -a missing_value,va,o,f,-32767. va_ERAInterim_500hPa_2006-030day-runmean_native.nc\n",
       "Mon Jun 15 13:03:30 2015: cdo seldate,2006-01-01,2006-12-31 va_ERAInterim_500hPa_030day-runmean_native.nc va_ERAInterim_500hPa_2006-030day-runmean_native.nc\n",
       "Fri Mar 20 07:35:31 2015: ncatted -O -a axis,time,c,c,T /mnt/meteo0/data/simmonds/dbirving/ERAInterim/data/va_ERA...\n",
       "    nco_openmp_thread_number: 1\n",
       "    CDO: Climate Data Operators version 1.5.3 (http://code.zmaw.de/projects/cdo)"
      ]
     },
     "execution_count": 61,
     "metadata": {},
     "output_type": "execute_result"
    }
   ],
   "source": [
    "va_data.sel(time=slice('2006-03-25', '2006-04-25'))"
   ]
  },
  {
   "cell_type": "markdown",
   "metadata": {},
   "source": [
    "For an arbitrary list of dimension values, you need to provide the exact date/time value (for single dates xray/pandas can guess what you meant)."
   ]
  },
  {
   "cell_type": "code",
   "execution_count": 62,
   "metadata": {
    "collapsed": false
   },
   "outputs": [
    {
     "data": {
      "text/plain": [
       "<xray.DataArray 'latitude' (latitude: 20)>\n",
       "array([-90.  , -89.25, -88.5 , -87.75, -87.  , -86.25, -85.5 , -84.75,\n",
       "       -84.  , -83.25, -82.5 , -81.75, -81.  , -80.25, -79.5 , -78.75,\n",
       "       -78.  , -77.25, -76.5 , -75.75], dtype=float32)\n",
       "Coordinates:\n",
       "  * latitude  (latitude) float32 -90.0 -89.25 -88.5 -87.75 -87.0 -86.25 ...\n",
       "Attributes:\n",
       "    standard_name: latitude\n",
       "    long_name: latitude\n",
       "    units: degrees_north\n",
       "    axis: Y"
      ]
     },
     "execution_count": 62,
     "metadata": {},
     "output_type": "execute_result"
    }
   ],
   "source": [
    "va_data['latitude'][0:20]"
   ]
  },
  {
   "cell_type": "code",
   "execution_count": 63,
   "metadata": {
    "collapsed": false
   },
   "outputs": [
    {
     "data": {
      "text/plain": [
       "<xray.Dataset>\n",
       "Dimensions:    (latitude: 2, longitude: 480, time: 365)\n",
       "Coordinates:\n",
       "  * latitude   (latitude) float32 -89.25 -81.0\n",
       "  * longitude  (longitude) float32 0.0 0.75 1.5 2.25 3.0 3.75 4.5 5.25 6.0 ...\n",
       "  * time       (time) datetime64[ns] 2006-01-01T06:00:00 2006-01-02T06:00:00 ...\n",
       "Data variables:\n",
       "    va         (time, latitude, longitude) float64 -4.273 -4.262 -4.251 ...\n",
       "Attributes:\n",
       "    CDI: Climate Data Interface version 1.5.3 (http://code.zmaw.de/projects/cdi)\n",
       "    Conventions: CF-1.0\n",
       "    history: Mon Jun 15 13:04:23 2015: ncatted -O -a axis,time,c,c,T va_ERAInterim_500hPa_2006-030day-runmean_native.nc\n",
       "Mon Jun 15 13:04:23 2015: ncatted -O -a missing_value,va,o,f,-32767. va_ERAInterim_500hPa_2006-030day-runmean_native.nc\n",
       "Mon Jun 15 13:03:30 2015: cdo seldate,2006-01-01,2006-12-31 va_ERAInterim_500hPa_030day-runmean_native.nc va_ERAInterim_500hPa_2006-030day-runmean_native.nc\n",
       "Fri Mar 20 07:35:31 2015: ncatted -O -a axis,time,c,c,T /mnt/meteo0/data/simmonds/dbirving/ERAInterim/data/va_ERA...\n",
       "    nco_openmp_thread_number: 1\n",
       "    CDO: Climate Data Operators version 1.5.3 (http://code.zmaw.de/projects/cdo)"
      ]
     },
     "execution_count": 63,
     "metadata": {},
     "output_type": "execute_result"
    }
   ],
   "source": [
    "va_data.sel(latitude=[-89.25, -81])"
   ]
  },
  {
   "cell_type": "code",
   "execution_count": 64,
   "metadata": {
    "collapsed": false
   },
   "outputs": [
    {
     "data": {
      "text/plain": [
       "<xray.DataArray 'time' (time: 10)>\n",
       "array(['2006-01-01T17:00:00.000000000+1100',\n",
       "       '2006-01-02T17:00:00.000000000+1100',\n",
       "       '2006-01-03T17:00:00.000000000+1100',\n",
       "       '2006-01-04T17:00:00.000000000+1100',\n",
       "       '2006-01-05T17:00:00.000000000+1100',\n",
       "       '2006-01-06T17:00:00.000000000+1100',\n",
       "       '2006-01-07T17:00:00.000000000+1100',\n",
       "       '2006-01-08T17:00:00.000000000+1100',\n",
       "       '2006-01-09T17:00:00.000000000+1100',\n",
       "       '2006-01-10T17:00:00.000000000+1100'], dtype='datetime64[ns]')\n",
       "Coordinates:\n",
       "  * time     (time) datetime64[ns] 2006-01-01T06:00:00 2006-01-02T06:00:00 ...\n",
       "Attributes:\n",
       "    standard_name: time\n",
       "    axis: T"
      ]
     },
     "execution_count": 64,
     "metadata": {},
     "output_type": "execute_result"
    }
   ],
   "source": [
    "va_data['time'][0:10]"
   ]
  },
  {
   "cell_type": "code",
   "execution_count": 65,
   "metadata": {
    "collapsed": false
   },
   "outputs": [
    {
     "data": {
      "text/plain": [
       "<xray.Dataset>\n",
       "Dimensions:    (latitude: 241, longitude: 480, time: 2)\n",
       "Coordinates:\n",
       "  * latitude   (latitude) float32 -90.0 -89.25 -88.5 -87.75 -87.0 -86.25 ...\n",
       "  * longitude  (longitude) float32 0.0 0.75 1.5 2.25 3.0 3.75 4.5 5.25 6.0 ...\n",
       "  * time       (time) datetime64[ns] 2006-01-03T06:00:00 2006-01-12T06:00:00\n",
       "Data variables:\n",
       "    va         (time, latitude, longitude) float64 -4.106 -4.095 -4.084 ...\n",
       "Attributes:\n",
       "    CDI: Climate Data Interface version 1.5.3 (http://code.zmaw.de/projects/cdi)\n",
       "    Conventions: CF-1.0\n",
       "    history: Mon Jun 15 13:04:23 2015: ncatted -O -a axis,time,c,c,T va_ERAInterim_500hPa_2006-030day-runmean_native.nc\n",
       "Mon Jun 15 13:04:23 2015: ncatted -O -a missing_value,va,o,f,-32767. va_ERAInterim_500hPa_2006-030day-runmean_native.nc\n",
       "Mon Jun 15 13:03:30 2015: cdo seldate,2006-01-01,2006-12-31 va_ERAInterim_500hPa_030day-runmean_native.nc va_ERAInterim_500hPa_2006-030day-runmean_native.nc\n",
       "Fri Mar 20 07:35:31 2015: ncatted -O -a axis,time,c,c,T /mnt/meteo0/data/simmonds/dbirving/ERAInterim/data/va_ERA...\n",
       "    nco_openmp_thread_number: 1\n",
       "    CDO: Climate Data Operators version 1.5.3 (http://code.zmaw.de/projects/cdo)"
      ]
     },
     "execution_count": 65,
     "metadata": {},
     "output_type": "execute_result"
    }
   ],
   "source": [
    "va_data.sel(time=[numpy.datetime64('2006-01-03T17:00:00.000000000+1100'),\n",
    "                  numpy.datetime64('2006-01-12T17:00:00.000000000+1100')])"
   ]
  },
  {
   "cell_type": "markdown",
   "metadata": {},
   "source": [
    "#### Maths / stats"
   ]
  },
  {
   "cell_type": "markdown",
   "metadata": {},
   "source": [
    "#### Basic stats along a dimension"
   ]
  },
  {
   "cell_type": "code",
   "execution_count": 66,
   "metadata": {
    "collapsed": false
   },
   "outputs": [],
   "source": [
    "outdata = va_data.mean(dim='latitude')"
   ]
  },
  {
   "cell_type": "markdown",
   "metadata": {},
   "source": [
    "#### Running mean\n",
    "\n",
    "I need to figure out how to apply the pandas [moving (rolling) statistics](http://pandas.pydata.org/pandas-docs/stable/computation.html#moving-rolling-statistics-moments) to an `xray.DataArray`. [This page](http://xray.readthedocs.org/en/stable/pandas.html) talks about how I might do that."
   ]
  },
  {
   "cell_type": "markdown",
   "metadata": {},
   "source": [
    "### Writing to file"
   ]
  },
  {
   "cell_type": "code",
   "execution_count": 67,
   "metadata": {
    "collapsed": false
   },
   "outputs": [
    {
     "data": {
      "text/plain": [
       "<xray.Dataset>\n",
       "Dimensions:    (longitude: 480, time: 365)\n",
       "Coordinates:\n",
       "  * longitude  (longitude) float32 0.0 0.75 1.5 2.25 3.0 3.75 4.5 5.25 6.0 ...\n",
       "  * time       (time) datetime64[ns] 2006-01-01T06:00:00 2006-01-02T06:00:00 ...\n",
       "Data variables:\n",
       "    va         (time, longitude) float64 0.6413 0.5716 0.5214 0.4906 0.4691 ..."
      ]
     },
     "execution_count": 67,
     "metadata": {},
     "output_type": "execute_result"
    }
   ],
   "source": [
    "outdata"
   ]
  },
  {
   "cell_type": "code",
   "execution_count": 68,
   "metadata": {
    "collapsed": false
   },
   "outputs": [],
   "source": [
    "outdata.attrs = dset.attrs"
   ]
  },
  {
   "cell_type": "code",
   "execution_count": 69,
   "metadata": {
    "collapsed": false
   },
   "outputs": [
    {
     "data": {
      "text/plain": [
       "OrderedDict([(u'CDI', u'Climate Data Interface version 1.5.3 (http://code.zmaw.de/projects/cdi)'), (u'Conventions', u'CF-1.0'), (u'history', u'Mon Jun 15 13:04:23 2015: ncatted -O -a axis,time,c,c,T va_ERAInterim_500hPa_2006-030day-runmean_native.nc\\nMon Jun 15 13:04:23 2015: ncatted -O -a missing_value,va,o,f,-32767. va_ERAInterim_500hPa_2006-030day-runmean_native.nc\\nMon Jun 15 13:03:30 2015: cdo seldate,2006-01-01,2006-12-31 va_ERAInterim_500hPa_030day-runmean_native.nc va_ERAInterim_500hPa_2006-030day-runmean_native.nc\\nFri Mar 20 07:35:31 2015: ncatted -O -a axis,time,c,c,T /mnt/meteo0/data/simmonds/dbirving/ERAInterim/data/va_ERAInterim_500hPa_030day-runmean_native.nc\\nFri Mar 20 07:34:34 2015: ncatted -O -a missing_value,va,o,f,-32767. /mnt/meteo0/data/simmonds/dbirving/ERAInterim/data/va_ERAInterim_500hPa_030day-runmean_native.nc\\nFri Mar 20 07:19:21 2015: cdo runmean,30 /mnt/meteo0/data/simmonds/dbirving/ERAInterim/data/va_ERAInterim_500hPa_daily_native.nc /mnt/meteo0/data/simmonds/dbirving/ERAInterim/data/va_ERAInterim_500hPa_030day-runmean_native.nc\\nThu Mar 19 16:55:06 2015: ncatted -O -a axis,time,c,c,T /mnt/meteo0/data/simmonds/dbirving/ERAInterim/data/va_ERAInterim_500hPa_daily_native.nc\\nThu Mar 19 15:44:22 2015: ncatted -O -a missing_value,va,o,f,-32767. /mnt/meteo0/data/simmonds/dbirving/ERAInterim/data/va_ERAInterim_500hPa_daily_native.nc\\nWed Mar 18 17:17:14 2015: cdo mergetime va_ERAInterim_500hPa_daily-2014-06-01-to-2014-12-31_native.nc ../data/va_ERAInterim_500hPa_daily_native_orig.nc ../data/va_ERAInterim_500hPa_daily_native.nc\\nMon Nov 10 17:15:49 2014: ncatted -O -a level,va,o,c,500hPa va_ERAInterim_500hPa_daily_native.nc\\nMon Nov 10 16:31:05 2014: ncatted -O -a long_name,va,o,c,northward_wind va_ERAInterim_500hPa_daily_native.nc\\nThu Aug 21 10:57:46 2014: ncatted -O -a axis,time,c,c,T va_ERAInterim_500hPa_daily_native.nc\\nThu Aug 21 10:34:46 2014: ncrename -O -v v,va va_ERAInterim_500hPa_daily_native.nc\\nThu Aug 21 10:26:49 2014: cdo invertlat -sellonlatbox,0,359.9,-90,90 -daymean va_ERAInterim_500hPa_6hourly_native.nc va_ERAInterim_500hPa_daily_native.nc\\nThu Aug 21 10:14:59 2014: cdo mergetime ../download/va_ERAInterim_500hPa_6hourly-1979-1988_native_unpacked.nc ../download/va_ERAInterim_500hPa_6hourly-1989-1998_native_unpacked.nc ../download/va_ERAInterim_500hPa_6hourly-1999-2008_native_unpacked.nc ../download/va_ERAInterim_500hPa_6hourly-2009-2014_native_unpacked.nc va_ERAInterim_500hPa_6hourly_native.nc\\nThu Aug 21 10:13:35 2014: ncpdq -P upk va_ERAInterim_500hPa_6hourly-2009-2014_native.nc va_ERAInterim_500hPa_6hourly-2009-2014_native_unpacked.nc\\n2014-08-20 23:16:22 GMT by grib_to_netcdf-1.13.0: grib_to_netcdf /data/data01/netcdf-atls04-20140820231025-46030-4696.target -o /data/data01/netcdf-atls04-20140820231553-46030-4697.nc'), (u'nco_openmp_thread_number', 1), (u'CDO', u'Climate Data Operators version 1.5.3 (http://code.zmaw.de/projects/cdo)')])"
      ]
     },
     "execution_count": 69,
     "metadata": {},
     "output_type": "execute_result"
    }
   ],
   "source": [
    "outdata.attrs"
   ]
  },
  {
   "cell_type": "code",
   "execution_count": 70,
   "metadata": {
    "collapsed": false
   },
   "outputs": [],
   "source": [
    "outdata['va'].attrs = dset['va'].attrs"
   ]
  },
  {
   "cell_type": "code",
   "execution_count": 71,
   "metadata": {
    "collapsed": false
   },
   "outputs": [
    {
     "data": {
      "text/plain": [
       "OrderedDict([(u'standard_name', u'northward_wind'), (u'long_name', u'northward_wind'), (u'units', u'm s**-1'), (u'level', u'500hPa')])"
      ]
     },
     "execution_count": 71,
     "metadata": {},
     "output_type": "execute_result"
    }
   ],
   "source": [
    "outdata['va'].attrs"
   ]
  },
  {
   "cell_type": "code",
   "execution_count": 72,
   "metadata": {
    "collapsed": false
   },
   "outputs": [],
   "source": [
    "outdata.to_netcdf('test_xray.nc', format='NETCDF3_CLASSIC')"
   ]
  },
  {
   "cell_type": "code",
   "execution_count": null,
   "metadata": {
    "collapsed": true
   },
   "outputs": [],
   "source": []
  }
 ],
 "metadata": {
  "kernelspec": {
   "display_name": "Python 2",
   "language": "python",
   "name": "python2"
  },
  "language_info": {
   "codemirror_mode": {
    "name": "ipython",
    "version": 2
   },
   "file_extension": ".py",
   "mimetype": "text/x-python",
   "name": "python",
   "nbconvert_exporter": "python",
   "pygments_lexer": "ipython2",
   "version": "2.7.10"
  }
 },
 "nbformat": 4,
 "nbformat_minor": 0
}
