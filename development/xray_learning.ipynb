{
 "cells": [
  {
   "cell_type": "code",
   "execution_count": 1,
   "metadata": {
    "collapsed": false
   },
   "outputs": [
    {
     "name": "stdout",
     "output_type": "stream",
     "text": [
      "0.5.0\n"
     ]
    }
   ],
   "source": [
    "import xray; print(xray.__version__)"
   ]
  },
  {
   "cell_type": "markdown",
   "metadata": {},
   "source": [
    "### Reading data"
   ]
  },
  {
   "cell_type": "code",
   "execution_count": 2,
   "metadata": {
    "collapsed": false
   },
   "outputs": [],
   "source": [
    "infile = '/Users/damienirving/Downloads/Data/va_ERAInterim_500hPa_2006-030day-runmean_native.nc'\n",
    "dset = xray.open_dataset(infile)"
   ]
  },
  {
   "cell_type": "code",
   "execution_count": 3,
   "metadata": {
    "collapsed": false
   },
   "outputs": [
    {
     "data": {
      "text/plain": [
       "<xray.Dataset>\n",
       "Dimensions:    (latitude: 241, longitude: 480, time: 365)\n",
       "Coordinates:\n",
       "  * longitude  (longitude) float32 0.0 0.75 1.5 2.25 3.0 3.75 4.5 5.25 6.0 ...\n",
       "  * latitude   (latitude) float32 -90.0 -89.25 -88.5 -87.75 -87.0 -86.25 ...\n",
       "  * time       (time) datetime64[ns] 2006-01-01T06:00:00 2006-01-02T06:00:00 ...\n",
       "Data variables:\n",
       "    va         (time, latitude, longitude) float64 -3.818 -3.803 -3.787 ...\n",
       "Attributes:\n",
       "    CDI: Climate Data Interface version 1.5.3 (http://code.zmaw.de/projects/cdi)\n",
       "    Conventions: CF-1.0\n",
       "    history: Mon Jun 15 13:04:23 2015: ncatted -O -a axis,time,c,c,T va_ERAInterim_500hPa_2006-030day-runmean_native.nc\n",
       "Mon Jun 15 13:04:23 2015: ncatted -O -a missing_value,va,o,f,-32767. va_ERAInterim_500hPa_2006-030day-runmean_native.nc\n",
       "Mon Jun 15 13:03:30 2015: cdo seldate,2006-01-01,2006-12-31 va_ERAInterim_500hPa_030day-runmean_native.nc va_ERAInterim_500hPa_2006-030day-runmean_native.nc\n",
       "Fri Mar 20 07:35:31 2015: ncatted -O -a axis,time,c,c,T /mnt/meteo0/data/simmonds/dbirving/ERAInterim/data/va_ERA...\n",
       "    nco_openmp_thread_number: 1\n",
       "    CDO: Climate Data Operators version 1.5.3 (http://code.zmaw.de/projects/cdo)"
      ]
     },
     "execution_count": 3,
     "metadata": {},
     "output_type": "execute_result"
    }
   ],
   "source": [
    "dset"
   ]
  },
  {
   "cell_type": "code",
   "execution_count": 4,
   "metadata": {
    "collapsed": false
   },
   "outputs": [
    {
     "data": {
      "text/plain": [
       "xray.core.dataset.Dataset"
      ]
     },
     "execution_count": 4,
     "metadata": {},
     "output_type": "execute_result"
    }
   ],
   "source": [
    "va_data = dset[['va']]\n",
    "type(va_data)"
   ]
  },
  {
   "cell_type": "code",
   "execution_count": 5,
   "metadata": {
    "collapsed": false
   },
   "outputs": [
    {
     "data": {
      "text/plain": [
       "<xray.Dataset>\n",
       "Dimensions:    (latitude: 241, longitude: 480, time: 365)\n",
       "Coordinates:\n",
       "  * latitude   (latitude) float32 -90.0 -89.25 -88.5 -87.75 -87.0 -86.25 ...\n",
       "  * longitude  (longitude) float32 0.0 0.75 1.5 2.25 3.0 3.75 4.5 5.25 6.0 ...\n",
       "  * time       (time) datetime64[ns] 2006-01-01T06:00:00 2006-01-02T06:00:00 ...\n",
       "Data variables:\n",
       "    va         (time, latitude, longitude) float64 -3.818 -3.803 -3.787 ...\n",
       "Attributes:\n",
       "    CDI: Climate Data Interface version 1.5.3 (http://code.zmaw.de/projects/cdi)\n",
       "    Conventions: CF-1.0\n",
       "    history: Mon Jun 15 13:04:23 2015: ncatted -O -a axis,time,c,c,T va_ERAInterim_500hPa_2006-030day-runmean_native.nc\n",
       "Mon Jun 15 13:04:23 2015: ncatted -O -a missing_value,va,o,f,-32767. va_ERAInterim_500hPa_2006-030day-runmean_native.nc\n",
       "Mon Jun 15 13:03:30 2015: cdo seldate,2006-01-01,2006-12-31 va_ERAInterim_500hPa_030day-runmean_native.nc va_ERAInterim_500hPa_2006-030day-runmean_native.nc\n",
       "Fri Mar 20 07:35:31 2015: ncatted -O -a axis,time,c,c,T /mnt/meteo0/data/simmonds/dbirving/ERAInterim/data/va_ERA...\n",
       "    nco_openmp_thread_number: 1\n",
       "    CDO: Climate Data Operators version 1.5.3 (http://code.zmaw.de/projects/cdo)"
      ]
     },
     "execution_count": 5,
     "metadata": {},
     "output_type": "execute_result"
    }
   ],
   "source": [
    "va_data"
   ]
  },
  {
   "cell_type": "markdown",
   "metadata": {},
   "source": [
    "### Climatologies\n",
    "\n",
    "You can group by `month`, `day`, `dayofyear`, `dayofweek` and whatever else belongs to the [`pandas.DatetimeIndex` class](http://pandas.pydata.org/pandas-docs/dev/generated/pandas.DatetimeIndex.html)."
   ]
  },
  {
   "cell_type": "markdown",
   "metadata": {},
   "source": [
    "##### Monthly"
   ]
  },
  {
   "cell_type": "code",
   "execution_count": 6,
   "metadata": {
    "collapsed": false
   },
   "outputs": [],
   "source": [
    "mon_clim_va = va_data.groupby('time.month').mean('time')"
   ]
  },
  {
   "cell_type": "code",
   "execution_count": 7,
   "metadata": {
    "collapsed": false
   },
   "outputs": [
    {
     "data": {
      "text/plain": [
       "<xray.Dataset>\n",
       "Dimensions:    (latitude: 241, longitude: 480, month: 12)\n",
       "Coordinates:\n",
       "  * latitude   (latitude) float32 -90.0 -89.25 -88.5 -87.75 -87.0 -86.25 ...\n",
       "  * longitude  (longitude) float32 0.0 0.75 1.5 2.25 3.0 3.75 4.5 5.25 6.0 ...\n",
       "  * month      (month) int64 1 2 3 4 5 6 7 8 9 10 11 12\n",
       "Data variables:\n",
       "    va         (month, latitude, longitude) float64 -3.441 -3.431 -3.419 ..."
      ]
     },
     "execution_count": 7,
     "metadata": {},
     "output_type": "execute_result"
    }
   ],
   "source": [
    "mon_clim_va"
   ]
  },
  {
   "cell_type": "markdown",
   "metadata": {},
   "source": [
    "#### Daily"
   ]
  },
  {
   "cell_type": "markdown",
   "metadata": {},
   "source": [
    "The most obvious thing to do would be:"
   ]
  },
  {
   "cell_type": "code",
   "execution_count": 8,
   "metadata": {
    "collapsed": false
   },
   "outputs": [
    {
     "data": {
      "text/plain": [
       "<xray.Dataset>\n",
       "Dimensions:    (dayofyear: 365, latitude: 241, longitude: 480)\n",
       "Coordinates:\n",
       "  * latitude   (latitude) float32 -90.0 -89.25 -88.5 -87.75 -87.0 -86.25 ...\n",
       "  * longitude  (longitude) float32 0.0 0.75 1.5 2.25 3.0 3.75 4.5 5.25 6.0 ...\n",
       "  * dayofyear  (dayofyear) int64 1 2 3 4 5 6 7 8 9 10 11 12 13 14 15 16 17 ...\n",
       "Data variables:\n",
       "    va         (dayofyear, latitude, longitude) float64 -3.818 -3.803 -3.787 ..."
      ]
     },
     "execution_count": 8,
     "metadata": {},
     "output_type": "execute_result"
    }
   ],
   "source": [
    "day_clim_va = va_data.groupby('time.dayofyear').mean('time')\n",
    "day_clim_va"
   ]
  },
  {
   "cell_type": "markdown",
   "metadata": {},
   "source": [
    "However this is problematic when leap years are involved. Instead, but would be better to group by month and day, as [this](http://stackoverflow.com/questions/20973527/compute-daily-climatology-using-pandas-python) stack overflow questions suggests."
   ]
  },
  {
   "cell_type": "code",
   "execution_count": 9,
   "metadata": {
    "collapsed": false
   },
   "outputs": [
    {
     "ename": "AttributeError",
     "evalue": "'list' object has no attribute 'ndim'",
     "output_type": "error",
     "traceback": [
      "\u001b[0;31m---------------------------------------------------------------------------\u001b[0m",
      "\u001b[0;31mAttributeError\u001b[0m                            Traceback (most recent call last)",
      "\u001b[0;32m<ipython-input-9-76bf2c5a580d>\u001b[0m in \u001b[0;36m<module>\u001b[0;34m()\u001b[0m\n\u001b[0;32m----> 1\u001b[0;31m \u001b[0mday_clim_va\u001b[0m \u001b[0;34m=\u001b[0m \u001b[0mva_data\u001b[0m\u001b[0;34m.\u001b[0m\u001b[0mgroupby\u001b[0m\u001b[0;34m(\u001b[0m\u001b[0;34m[\u001b[0m\u001b[0;34m'time.month'\u001b[0m\u001b[0;34m,\u001b[0m \u001b[0;34m'time.day'\u001b[0m\u001b[0;34m]\u001b[0m\u001b[0;34m)\u001b[0m\u001b[0;34m.\u001b[0m\u001b[0mmean\u001b[0m\u001b[0;34m(\u001b[0m\u001b[0;34m'time'\u001b[0m\u001b[0;34m)\u001b[0m\u001b[0;34m\u001b[0m\u001b[0m\n\u001b[0m",
      "\u001b[0;32m/Users/damienirving/anaconda/lib/python2.7/site-packages/xray/core/common.pyc\u001b[0m in \u001b[0;36mgroupby\u001b[0;34m(self, group, squeeze)\u001b[0m\n\u001b[1;32m    210\u001b[0m         \u001b[0;32mif\u001b[0m \u001b[0misinstance\u001b[0m\u001b[0;34m(\u001b[0m\u001b[0mgroup\u001b[0m\u001b[0;34m,\u001b[0m \u001b[0mbasestring\u001b[0m\u001b[0;34m)\u001b[0m\u001b[0;34m:\u001b[0m\u001b[0;34m\u001b[0m\u001b[0m\n\u001b[1;32m    211\u001b[0m             \u001b[0mgroup\u001b[0m \u001b[0;34m=\u001b[0m \u001b[0mself\u001b[0m\u001b[0;34m[\u001b[0m\u001b[0mgroup\u001b[0m\u001b[0;34m]\u001b[0m\u001b[0;34m\u001b[0m\u001b[0m\n\u001b[0;32m--> 212\u001b[0;31m         \u001b[0;32mreturn\u001b[0m \u001b[0mself\u001b[0m\u001b[0;34m.\u001b[0m\u001b[0mgroupby_cls\u001b[0m\u001b[0;34m(\u001b[0m\u001b[0mself\u001b[0m\u001b[0;34m,\u001b[0m \u001b[0mgroup\u001b[0m\u001b[0;34m,\u001b[0m \u001b[0msqueeze\u001b[0m\u001b[0;34m=\u001b[0m\u001b[0msqueeze\u001b[0m\u001b[0;34m)\u001b[0m\u001b[0;34m\u001b[0m\u001b[0m\n\u001b[0m\u001b[1;32m    213\u001b[0m \u001b[0;34m\u001b[0m\u001b[0m\n\u001b[1;32m    214\u001b[0m     def resample(self, freq, dim, how='mean', skipna=None, closed=None,\n",
      "\u001b[0;32m/Users/damienirving/anaconda/lib/python2.7/site-packages/xray/core/groupby.pyc\u001b[0m in \u001b[0;36m__init__\u001b[0;34m(self, obj, group, squeeze, grouper)\u001b[0m\n\u001b[1;32m    102\u001b[0m         \u001b[0;32mfrom\u001b[0m \u001b[0;34m.\u001b[0m\u001b[0mdataset\u001b[0m \u001b[0;32mimport\u001b[0m \u001b[0mas_dataset\u001b[0m\u001b[0;34m\u001b[0m\u001b[0m\n\u001b[1;32m    103\u001b[0m \u001b[0;34m\u001b[0m\u001b[0m\n\u001b[0;32m--> 104\u001b[0;31m         \u001b[0;32mif\u001b[0m \u001b[0mgroup\u001b[0m\u001b[0;34m.\u001b[0m\u001b[0mndim\u001b[0m \u001b[0;34m!=\u001b[0m \u001b[0;36m1\u001b[0m\u001b[0;34m:\u001b[0m\u001b[0;34m\u001b[0m\u001b[0m\n\u001b[0m\u001b[1;32m    105\u001b[0m             \u001b[0;31m# TODO: remove this limitation?\u001b[0m\u001b[0;34m\u001b[0m\u001b[0;34m\u001b[0m\u001b[0m\n\u001b[1;32m    106\u001b[0m             \u001b[0;32mraise\u001b[0m \u001b[0mValueError\u001b[0m\u001b[0;34m(\u001b[0m\u001b[0;34m'`group` must be 1 dimensional'\u001b[0m\u001b[0;34m)\u001b[0m\u001b[0;34m\u001b[0m\u001b[0m\n",
      "\u001b[0;31mAttributeError\u001b[0m: 'list' object has no attribute 'ndim'"
     ]
    }
   ],
   "source": [
    "day_clim_va = va_data.groupby(['time.month', 'time.day']).mean('time')"
   ]
  },
  {
   "cell_type": "markdown",
   "metadata": {},
   "source": [
    "### Selection"
   ]
  },
  {
   "cell_type": "markdown",
   "metadata": {},
   "source": [
    "It's possible to select a single dimension value or a slice of values:"
   ]
  },
  {
   "cell_type": "code",
   "execution_count": 10,
   "metadata": {
    "collapsed": false
   },
   "outputs": [
    {
     "data": {
      "text/plain": [
       "<xray.Dataset>\n",
       "Dimensions:    (latitude: 241, longitude: 480, time: 1)\n",
       "Coordinates:\n",
       "  * latitude   (latitude) float32 -90.0 -89.25 -88.5 -87.75 -87.0 -86.25 ...\n",
       "  * longitude  (longitude) float32 0.0 0.75 1.5 2.25 3.0 3.75 4.5 5.25 6.0 ...\n",
       "  * time       (time) datetime64[ns] 2006-03-25T06:00:00\n",
       "Data variables:\n",
       "    va         (time, latitude, longitude) float64 -0.3191 -0.2874 -0.2556 ...\n",
       "Attributes:\n",
       "    CDI: Climate Data Interface version 1.5.3 (http://code.zmaw.de/projects/cdi)\n",
       "    Conventions: CF-1.0\n",
       "    history: Mon Jun 15 13:04:23 2015: ncatted -O -a axis,time,c,c,T va_ERAInterim_500hPa_2006-030day-runmean_native.nc\n",
       "Mon Jun 15 13:04:23 2015: ncatted -O -a missing_value,va,o,f,-32767. va_ERAInterim_500hPa_2006-030day-runmean_native.nc\n",
       "Mon Jun 15 13:03:30 2015: cdo seldate,2006-01-01,2006-12-31 va_ERAInterim_500hPa_030day-runmean_native.nc va_ERAInterim_500hPa_2006-030day-runmean_native.nc\n",
       "Fri Mar 20 07:35:31 2015: ncatted -O -a axis,time,c,c,T /mnt/meteo0/data/simmonds/dbirving/ERAInterim/data/va_ERA...\n",
       "    nco_openmp_thread_number: 1\n",
       "    CDO: Climate Data Operators version 1.5.3 (http://code.zmaw.de/projects/cdo)"
      ]
     },
     "execution_count": 10,
     "metadata": {},
     "output_type": "execute_result"
    }
   ],
   "source": [
    "va_data.sel(time=('2006-03-25'))"
   ]
  },
  {
   "cell_type": "code",
   "execution_count": 11,
   "metadata": {
    "collapsed": false
   },
   "outputs": [
    {
     "data": {
      "text/plain": [
       "<xray.Dataset>\n",
       "Dimensions:    (latitude: 241, longitude: 480, time: 32)\n",
       "Coordinates:\n",
       "  * latitude   (latitude) float32 -90.0 -89.25 -88.5 -87.75 -87.0 -86.25 ...\n",
       "  * longitude  (longitude) float32 0.0 0.75 1.5 2.25 3.0 3.75 4.5 5.25 6.0 ...\n",
       "  * time       (time) datetime64[ns] 2006-03-25T06:00:00 2006-03-26T06:00:00 ...\n",
       "Data variables:\n",
       "    va         (time, latitude, longitude) float64 -0.3191 -0.2874 -0.2556 ...\n",
       "Attributes:\n",
       "    CDI: Climate Data Interface version 1.5.3 (http://code.zmaw.de/projects/cdi)\n",
       "    Conventions: CF-1.0\n",
       "    history: Mon Jun 15 13:04:23 2015: ncatted -O -a axis,time,c,c,T va_ERAInterim_500hPa_2006-030day-runmean_native.nc\n",
       "Mon Jun 15 13:04:23 2015: ncatted -O -a missing_value,va,o,f,-32767. va_ERAInterim_500hPa_2006-030day-runmean_native.nc\n",
       "Mon Jun 15 13:03:30 2015: cdo seldate,2006-01-01,2006-12-31 va_ERAInterim_500hPa_030day-runmean_native.nc va_ERAInterim_500hPa_2006-030day-runmean_native.nc\n",
       "Fri Mar 20 07:35:31 2015: ncatted -O -a axis,time,c,c,T /mnt/meteo0/data/simmonds/dbirving/ERAInterim/data/va_ERA...\n",
       "    nco_openmp_thread_number: 1\n",
       "    CDO: Climate Data Operators version 1.5.3 (http://code.zmaw.de/projects/cdo)"
      ]
     },
     "execution_count": 11,
     "metadata": {},
     "output_type": "execute_result"
    }
   ],
   "source": [
    "va_data.sel(time=slice('2006-03-25', '2006-04-25'))"
   ]
  },
  {
   "cell_type": "markdown",
   "metadata": {},
   "source": [
    "For an arbitrary list of dimension values, you need to provide the exact date/time value (for single dates xray/pandas can guess what you meant)."
   ]
  },
  {
   "cell_type": "code",
   "execution_count": 12,
   "metadata": {
    "collapsed": false
   },
   "outputs": [
    {
     "data": {
      "text/plain": [
       "<xray.DataArray 'time' (time: 20)>\n",
       "array(['2006-01-01T17:00:00.000000000+1100',\n",
       "       '2006-01-02T17:00:00.000000000+1100',\n",
       "       '2006-01-03T17:00:00.000000000+1100',\n",
       "       '2006-01-04T17:00:00.000000000+1100',\n",
       "       '2006-01-05T17:00:00.000000000+1100',\n",
       "       '2006-01-06T17:00:00.000000000+1100',\n",
       "       '2006-01-07T17:00:00.000000000+1100',\n",
       "       '2006-01-08T17:00:00.000000000+1100',\n",
       "       '2006-01-09T17:00:00.000000000+1100',\n",
       "       '2006-01-10T17:00:00.000000000+1100',\n",
       "       '2006-01-11T17:00:00.000000000+1100',\n",
       "       '2006-01-12T17:00:00.000000000+1100',\n",
       "       '2006-01-13T17:00:00.000000000+1100',\n",
       "       '2006-01-14T17:00:00.000000000+1100',\n",
       "       '2006-01-15T17:00:00.000000000+1100',\n",
       "       '2006-01-16T17:00:00.000000000+1100',\n",
       "       '2006-01-17T17:00:00.000000000+1100',\n",
       "       '2006-01-18T17:00:00.000000000+1100',\n",
       "       '2006-01-19T17:00:00.000000000+1100',\n",
       "       '2006-01-20T17:00:00.000000000+1100'], dtype='datetime64[ns]')\n",
       "Coordinates:\n",
       "  * time     (time) datetime64[ns] 2006-01-01T06:00:00 2006-01-02T06:00:00 ...\n",
       "Attributes:\n",
       "    standard_name: time\n",
       "    axis: T"
      ]
     },
     "execution_count": 12,
     "metadata": {},
     "output_type": "execute_result"
    }
   ],
   "source": [
    "va_data['time'][0:20]"
   ]
  },
  {
   "cell_type": "code",
   "execution_count": 13,
   "metadata": {
    "collapsed": false
   },
   "outputs": [
    {
     "ename": "ValueError",
     "evalue": "not all values found in index 'time'",
     "output_type": "error",
     "traceback": [
      "\u001b[0;31m---------------------------------------------------------------------------\u001b[0m",
      "\u001b[0;31mValueError\u001b[0m                                Traceback (most recent call last)",
      "\u001b[0;32m<ipython-input-13-e55f27d6bffe>\u001b[0m in \u001b[0;36m<module>\u001b[0;34m()\u001b[0m\n\u001b[1;32m      1\u001b[0m va_data.sel(time=['2006-01-03T17:00:00.000000000+1100',\n\u001b[0;32m----> 2\u001b[0;31m                   '2006-01-12T17:00:00.000000000+1100'])\n\u001b[0m",
      "\u001b[0;32m/Users/damienirving/anaconda/lib/python2.7/site-packages/xray/core/dataset.pyc\u001b[0m in \u001b[0;36msel\u001b[0;34m(self, method, **indexers)\u001b[0m\n\u001b[1;32m   1023\u001b[0m         \"\"\"\n\u001b[1;32m   1024\u001b[0m         return self.isel(**indexing.remap_label_indexers(self, indexers,\n\u001b[0;32m-> 1025\u001b[0;31m                                                          method=method))\n\u001b[0m\u001b[1;32m   1026\u001b[0m \u001b[0;34m\u001b[0m\u001b[0m\n\u001b[1;32m   1027\u001b[0m     \u001b[0;32mdef\u001b[0m \u001b[0mreindex_like\u001b[0m\u001b[0;34m(\u001b[0m\u001b[0mself\u001b[0m\u001b[0;34m,\u001b[0m \u001b[0mother\u001b[0m\u001b[0;34m,\u001b[0m \u001b[0mmethod\u001b[0m\u001b[0;34m=\u001b[0m\u001b[0mNone\u001b[0m\u001b[0;34m,\u001b[0m \u001b[0mcopy\u001b[0m\u001b[0;34m=\u001b[0m\u001b[0mTrue\u001b[0m\u001b[0;34m)\u001b[0m\u001b[0;34m:\u001b[0m\u001b[0;34m\u001b[0m\u001b[0m\n",
      "\u001b[0;32m/Users/damienirving/anaconda/lib/python2.7/site-packages/xray/core/indexing.pyc\u001b[0m in \u001b[0;36mremap_label_indexers\u001b[0;34m(data_obj, indexers, method)\u001b[0m\n\u001b[1;32m    161\u001b[0m     return dict((dim, convert_label_indexer(data_obj[dim].to_index(), label,\n\u001b[1;32m    162\u001b[0m                                             dim, method))\n\u001b[0;32m--> 163\u001b[0;31m                 for dim, label in iteritems(indexers))\n\u001b[0m\u001b[1;32m    164\u001b[0m \u001b[0;34m\u001b[0m\u001b[0m\n\u001b[1;32m    165\u001b[0m \u001b[0;34m\u001b[0m\u001b[0m\n",
      "\u001b[0;32m/Users/damienirving/anaconda/lib/python2.7/site-packages/xray/core/indexing.pyc\u001b[0m in \u001b[0;36m<genexpr>\u001b[0;34m((dim, label))\u001b[0m\n\u001b[1;32m    161\u001b[0m     return dict((dim, convert_label_indexer(data_obj[dim].to_index(), label,\n\u001b[1;32m    162\u001b[0m                                             dim, method))\n\u001b[0;32m--> 163\u001b[0;31m                 for dim, label in iteritems(indexers))\n\u001b[0m\u001b[1;32m    164\u001b[0m \u001b[0;34m\u001b[0m\u001b[0m\n\u001b[1;32m    165\u001b[0m \u001b[0;34m\u001b[0m\u001b[0m\n",
      "\u001b[0;32m/Users/damienirving/anaconda/lib/python2.7/site-packages/xray/core/indexing.pyc\u001b[0m in \u001b[0;36mconvert_label_indexer\u001b[0;34m(index, label, index_name, method)\u001b[0m\n\u001b[1;32m    151\u001b[0m             \u001b[0;32mif\u001b[0m \u001b[0mnp\u001b[0m\u001b[0;34m.\u001b[0m\u001b[0many\u001b[0m\u001b[0;34m(\u001b[0m\u001b[0mindexer\u001b[0m \u001b[0;34m<\u001b[0m \u001b[0;36m0\u001b[0m\u001b[0;34m)\u001b[0m\u001b[0;34m:\u001b[0m\u001b[0;34m\u001b[0m\u001b[0m\n\u001b[1;32m    152\u001b[0m                 raise ValueError('not all values found in index %r'\n\u001b[0;32m--> 153\u001b[0;31m                                  % index_name)\n\u001b[0m\u001b[1;32m    154\u001b[0m     \u001b[0;32mreturn\u001b[0m \u001b[0mindexer\u001b[0m\u001b[0;34m\u001b[0m\u001b[0m\n\u001b[1;32m    155\u001b[0m \u001b[0;34m\u001b[0m\u001b[0m\n",
      "\u001b[0;31mValueError\u001b[0m: not all values found in index 'time'"
     ]
    }
   ],
   "source": [
    "va_data.sel(time=['2006-01-03T17:00:00.000000000+1100',\n",
    "                  '2006-01-12T17:00:00.000000000+1100'])"
   ]
  },
  {
   "cell_type": "markdown",
   "metadata": {},
   "source": [
    "#### Maths / stats"
   ]
  },
  {
   "cell_type": "code",
   "execution_count": 14,
   "metadata": {
    "collapsed": false
   },
   "outputs": [
    {
     "data": {
      "text/plain": [
       "<xray.Dataset>\n",
       "Dimensions:    (longitude: 480, time: 365)\n",
       "Coordinates:\n",
       "  * longitude  (longitude) float32 0.0 0.75 1.5 2.25 3.0 3.75 4.5 5.25 6.0 ...\n",
       "  * time       (time) datetime64[ns] 2006-01-01T06:00:00 2006-01-02T06:00:00 ...\n",
       "Data variables:\n",
       "    va         (time, longitude) float64 0.6413 0.5716 0.5214 0.4906 0.4691 ..."
      ]
     },
     "execution_count": 14,
     "metadata": {},
     "output_type": "execute_result"
    }
   ],
   "source": [
    "va_data.mean(dim='latitude')"
   ]
  },
  {
   "cell_type": "markdown",
   "metadata": {},
   "source": [
    "I need to figure out how to apply the pandas [moving (rolling) statistics](http://pandas.pydata.org/pandas-docs/stable/computation.html#moving-rolling-statistics-moments) to an `xray.DataArray`. [This page](http://xray.readthedocs.org/en/stable/pandas.html) talks about how I might do that."
   ]
  },
  {
   "cell_type": "markdown",
   "metadata": {},
   "source": [
    "### Writing to file"
   ]
  },
  {
   "cell_type": "code",
   "execution_count": null,
   "metadata": {
    "collapsed": true
   },
   "outputs": [],
   "source": [
    "va_data.to_netcdf(format='NETCDF3_CLASSIC')"
   ]
  }
 ],
 "metadata": {
  "kernelspec": {
   "display_name": "Python 2",
   "language": "python",
   "name": "python2"
  },
  "language_info": {
   "codemirror_mode": {
    "name": "ipython",
    "version": 2
   },
   "file_extension": ".py",
   "mimetype": "text/x-python",
   "name": "python",
   "nbconvert_exporter": "python",
   "pygments_lexer": "ipython2",
   "version": "2.7.10"
  }
 },
 "nbformat": 4,
 "nbformat_minor": 0
}
