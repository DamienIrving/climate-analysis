{
 "cells": [
  {
   "cell_type": "markdown",
   "metadata": {},
   "source": [
    "Still need to figure out:\n",
    "* Running mean"
   ]
  },
  {
   "cell_type": "code",
   "execution_count": 45,
   "metadata": {
    "collapsed": false
   },
   "outputs": [
    {
     "name": "stdout",
     "output_type": "stream",
     "text": [
      "0.5.0\n"
     ]
    }
   ],
   "source": [
    "import numpy\n",
    "import pandas\n",
    "import xray; print(xray.__version__)"
   ]
  },
  {
   "cell_type": "markdown",
   "metadata": {},
   "source": [
    "### Reading data"
   ]
  },
  {
   "cell_type": "code",
   "execution_count": 46,
   "metadata": {
    "collapsed": false
   },
   "outputs": [],
   "source": [
    "#infile = '/Users/damienirving/Downloads/Data/va_ERAInterim_500hPa_2006-030day-runmean_native.nc'\n",
    "infile = '/Users/damienirving/Downloads/Data/sic_ERAInterim_surface_1993-1994-daily_native-shextropics30.nc'\n",
    "dset = xray.open_dataset(infile)"
   ]
  },
  {
   "cell_type": "code",
   "execution_count": 47,
   "metadata": {
    "collapsed": false
   },
   "outputs": [
    {
     "data": {
      "text/plain": [
       "<xray.Dataset>\n",
       "Dimensions:    (latitude: 81, longitude: 480, time: 730)\n",
       "Coordinates:\n",
       "  * longitude  (longitude) float32 0.0 0.75 1.5 2.25 3.0 3.75 4.5 5.25 6.0 ...\n",
       "  * latitude   (latitude) float32 -90.0 -89.25 -88.5 -87.75 -87.0 -86.25 ...\n",
       "  * time       (time) datetime64[ns] 1993-01-01T18:00:00 1993-01-02T18:00:00 ...\n",
       "Data variables:\n",
       "    sic        (time, latitude, longitude) float64 nan nan nan nan nan nan ...\n",
       "Attributes:\n",
       "    CDI: Climate Data Interface version 1.5.3 (http://code.zmaw.de/projects/cdi)\n",
       "    Conventions: CF-1.0\n",
       "    history: Mon Jun 22 16:13:38 2015: cdo seldate,1993-01-01,1994-12-31 -sellonlatbox,0,359.9,-90,-30 sic_ERAInterim_surface_daily_native.nc sic_ERAInterim_surface_1993-1994-daily_native-shextropics30.nc\n",
       "Thu Mar 19 13:05:10 2015: ncatted -O -a axis,time,c,c,T /mnt/meteo0/data/simmonds/dbirving/ERAInterim/data/sic_ERAInterim_surface_daily_native.nc\n",
       "Thu Mar 19 11:42:24 2015: ncatted -O -a missing_value,sic,o,f,-32767. /mnt/meteo0/data/simmonds/dbirving/ERAInterim/data/sic_ERAInterim_surface_daily_native.nc...\n",
       "    nco_openmp_thread_number: 1\n",
       "    CDO: Climate Data Operators version 1.5.3 (http://code.zmaw.de/projects/cdo)"
      ]
     },
     "execution_count": 47,
     "metadata": {},
     "output_type": "execute_result"
    }
   ],
   "source": [
    "dset"
   ]
  },
  {
   "cell_type": "code",
   "execution_count": 48,
   "metadata": {
    "collapsed": false
   },
   "outputs": [
    {
     "data": {
      "text/plain": [
       "xray.core.dataset.Dataset"
      ]
     },
     "execution_count": 48,
     "metadata": {},
     "output_type": "execute_result"
    }
   ],
   "source": [
    "data = dset[['sic']]\n",
    "type(data)"
   ]
  },
  {
   "cell_type": "code",
   "execution_count": 49,
   "metadata": {
    "collapsed": false
   },
   "outputs": [
    {
     "data": {
      "text/plain": [
       "<xray.Dataset>\n",
       "Dimensions:    (latitude: 81, longitude: 480, time: 730)\n",
       "Coordinates:\n",
       "  * latitude   (latitude) float32 -90.0 -89.25 -88.5 -87.75 -87.0 -86.25 ...\n",
       "  * longitude  (longitude) float32 0.0 0.75 1.5 2.25 3.0 3.75 4.5 5.25 6.0 ...\n",
       "  * time       (time) datetime64[ns] 1993-01-01T18:00:00 1993-01-02T18:00:00 ...\n",
       "Data variables:\n",
       "    sic        (time, latitude, longitude) float64 nan nan nan nan nan nan ...\n",
       "Attributes:\n",
       "    CDI: Climate Data Interface version 1.5.3 (http://code.zmaw.de/projects/cdi)\n",
       "    Conventions: CF-1.0\n",
       "    history: Mon Jun 22 16:13:38 2015: cdo seldate,1993-01-01,1994-12-31 -sellonlatbox,0,359.9,-90,-30 sic_ERAInterim_surface_daily_native.nc sic_ERAInterim_surface_1993-1994-daily_native-shextropics30.nc\n",
       "Thu Mar 19 13:05:10 2015: ncatted -O -a axis,time,c,c,T /mnt/meteo0/data/simmonds/dbirving/ERAInterim/data/sic_ERAInterim_surface_daily_native.nc\n",
       "Thu Mar 19 11:42:24 2015: ncatted -O -a missing_value,sic,o,f,-32767. /mnt/meteo0/data/simmonds/dbirving/ERAInterim/data/sic_ERAInterim_surface_daily_native.nc...\n",
       "    nco_openmp_thread_number: 1\n",
       "    CDO: Climate Data Operators version 1.5.3 (http://code.zmaw.de/projects/cdo)"
      ]
     },
     "execution_count": 49,
     "metadata": {},
     "output_type": "execute_result"
    }
   ],
   "source": [
    "data"
   ]
  },
  {
   "cell_type": "code",
   "execution_count": 50,
   "metadata": {
    "collapsed": false
   },
   "outputs": [
    {
     "data": {
      "text/plain": [
       "OrderedDict([(u'standard_name', u'sea_ice_fraction'), (u'long_name', u'sea_ice_fraction'), (u'units', u'(0 - 1)')])"
      ]
     },
     "execution_count": 50,
     "metadata": {},
     "output_type": "execute_result"
    }
   ],
   "source": [
    "dset['sic'].attrs"
   ]
  },
  {
   "cell_type": "code",
   "execution_count": 51,
   "metadata": {
    "collapsed": false
   },
   "outputs": [
    {
     "data": {
      "text/plain": [
       "(u'time', u'latitude', u'longitude')"
      ]
     },
     "execution_count": 51,
     "metadata": {},
     "output_type": "execute_result"
    }
   ],
   "source": [
    "# Get the order of the dimensions\n",
    "data['sic'].dims"
   ]
  },
  {
   "cell_type": "markdown",
   "metadata": {},
   "source": [
    "#### Missing values\n",
    "\n",
    "[This page](http://xray.readthedocs.org/en/stable/io.html) suggests that xray recognises the `_FillValue` attribute.\n",
    "\n",
    "However, once you've read the data in the `_FillValue` attribute disappears. When you write the output file there is no `_FillValue` attribute and any missing values appear as `NaNf` when you ncdump. This doesn't appear to be a problem for cdo."
   ]
  },
  {
   "cell_type": "code",
   "execution_count": 52,
   "metadata": {
    "collapsed": false
   },
   "outputs": [
    {
     "data": {
      "text/plain": [
       "True"
      ]
     },
     "execution_count": 52,
     "metadata": {},
     "output_type": "execute_result"
    }
   ],
   "source": [
    "missing_data = data.sel(longitude=3.75, latitude=-81)['sic'].values\n",
    "numpy.isnan(missing_data[0])"
   ]
  },
  {
   "cell_type": "markdown",
   "metadata": {},
   "source": [
    "### Climatologies\n",
    "\n",
    "You can group by `month`, `day`, `dayofyear`, `dayofweek` and whatever else belongs to the [`pandas.DatetimeIndex` class](http://pandas.pydata.org/pandas-docs/dev/generated/pandas.DatetimeIndex.html)."
   ]
  },
  {
   "cell_type": "markdown",
   "metadata": {},
   "source": [
    "##### Monthly"
   ]
  },
  {
   "cell_type": "code",
   "execution_count": 53,
   "metadata": {
    "collapsed": false
   },
   "outputs": [],
   "source": [
    "mon_clim = data.groupby('time.month').mean('time')"
   ]
  },
  {
   "cell_type": "code",
   "execution_count": 54,
   "metadata": {
    "collapsed": false
   },
   "outputs": [
    {
     "data": {
      "text/plain": [
       "<xray.Dataset>\n",
       "Dimensions:    (latitude: 81, longitude: 480, month: 12)\n",
       "Coordinates:\n",
       "  * latitude   (latitude) float32 -90.0 -89.25 -88.5 -87.75 -87.0 -86.25 ...\n",
       "  * longitude  (longitude) float32 0.0 0.75 1.5 2.25 3.0 3.75 4.5 5.25 6.0 ...\n",
       "  * month      (month) int64 1 2 3 4 5 6 7 8 9 10 11 12\n",
       "Data variables:\n",
       "    sic        (month, latitude, longitude) float64 nan nan nan nan nan nan ..."
      ]
     },
     "execution_count": 54,
     "metadata": {},
     "output_type": "execute_result"
    }
   ],
   "source": [
    "mon_clim"
   ]
  },
  {
   "cell_type": "markdown",
   "metadata": {},
   "source": [
    "#### Daily\n",
    "\n",
    "(Feb 28 is day 59. In a leap year, Feb 29 is day 60.)"
   ]
  },
  {
   "cell_type": "code",
   "execution_count": 55,
   "metadata": {
    "collapsed": false
   },
   "outputs": [
    {
     "data": {
      "text/plain": [
       "<xray.Dataset>\n",
       "Dimensions:    (dayofyear: 365, latitude: 81, longitude: 480)\n",
       "Coordinates:\n",
       "  * latitude   (latitude) float32 -90.0 -89.25 -88.5 -87.75 -87.0 -86.25 ...\n",
       "  * longitude  (longitude) float32 0.0 0.75 1.5 2.25 3.0 3.75 4.5 5.25 6.0 ...\n",
       "  * dayofyear  (dayofyear) int64 1 2 3 4 5 6 7 8 9 10 11 12 13 14 15 16 17 ...\n",
       "Data variables:\n",
       "    sic        (dayofyear, latitude, longitude) float64 nan nan nan nan nan ..."
      ]
     },
     "execution_count": 55,
     "metadata": {},
     "output_type": "execute_result"
    }
   ],
   "source": [
    "day_clim = data.groupby('time.dayofyear').mean('time')\n",
    "day_clim"
   ]
  },
  {
   "cell_type": "markdown",
   "metadata": {},
   "source": [
    "#### Daily anomaly "
   ]
  },
  {
   "cell_type": "code",
   "execution_count": 56,
   "metadata": {
    "collapsed": false
   },
   "outputs": [],
   "source": [
    "dummy_dset = xray.Dataset({'foo': ('time', numpy.random.randn(4000)),\n",
    "                           'time': pandas.date_range('2000-01-01', periods=4000)})\n",
    "clim = dummy_dset.groupby('time.dayofyear').mean()\n",
    "anom = dummy_dset.groupby('time.dayofyear') - clim"
   ]
  },
  {
   "cell_type": "code",
   "execution_count": 57,
   "metadata": {
    "collapsed": false
   },
   "outputs": [
    {
     "data": {
      "text/plain": [
       "<xray.Dataset>\n",
       "Dimensions:  (time: 4000)\n",
       "Coordinates:\n",
       "  * time     (time) datetime64[ns] 2000-01-01 2000-01-02 2000-01-03 ...\n",
       "Data variables:\n",
       "    foo      (time) float64 -0.5174 1.542 -1.078 0.7001 -0.7263 -0.6313 ..."
      ]
     },
     "execution_count": 57,
     "metadata": {},
     "output_type": "execute_result"
    }
   ],
   "source": [
    "dummy_dset"
   ]
  },
  {
   "cell_type": "code",
   "execution_count": 58,
   "metadata": {
    "collapsed": false
   },
   "outputs": [
    {
     "data": {
      "text/plain": [
       "<xray.Dataset>\n",
       "Dimensions:    (dayofyear: 366)\n",
       "Coordinates:\n",
       "  * dayofyear  (dayofyear) int64 1 2 3 4 5 6 7 8 9 10 11 12 13 14 15 16 17 ...\n",
       "Data variables:\n",
       "    foo        (dayofyear) float64 -0.3199 0.3197 -0.333 -0.1106 -0.2096 ..."
      ]
     },
     "execution_count": 58,
     "metadata": {},
     "output_type": "execute_result"
    }
   ],
   "source": [
    "clim"
   ]
  },
  {
   "cell_type": "markdown",
   "metadata": {},
   "source": [
    "### Selection"
   ]
  },
  {
   "cell_type": "markdown",
   "metadata": {},
   "source": [
    "It's possible to select a single dimension value or a slice of values:"
   ]
  },
  {
   "cell_type": "code",
   "execution_count": 60,
   "metadata": {
    "collapsed": false
   },
   "outputs": [
    {
     "data": {
      "text/plain": [
       "<xray.Dataset>\n",
       "Dimensions:    (latitude: 81, longitude: 480, time: 1)\n",
       "Coordinates:\n",
       "  * latitude   (latitude) float32 -90.0 -89.25 -88.5 -87.75 -87.0 -86.25 ...\n",
       "  * longitude  (longitude) float32 0.0 0.75 1.5 2.25 3.0 3.75 4.5 5.25 6.0 ...\n",
       "  * time       (time) datetime64[ns] 1993-03-25T18:00:00\n",
       "Data variables:\n",
       "    sic        (time, latitude, longitude) float64 nan nan nan nan nan nan ...\n",
       "Attributes:\n",
       "    CDI: Climate Data Interface version 1.5.3 (http://code.zmaw.de/projects/cdi)\n",
       "    Conventions: CF-1.0\n",
       "    history: Mon Jun 22 16:13:38 2015: cdo seldate,1993-01-01,1994-12-31 -sellonlatbox,0,359.9,-90,-30 sic_ERAInterim_surface_daily_native.nc sic_ERAInterim_surface_1993-1994-daily_native-shextropics30.nc\n",
       "Thu Mar 19 13:05:10 2015: ncatted -O -a axis,time,c,c,T /mnt/meteo0/data/simmonds/dbirving/ERAInterim/data/sic_ERAInterim_surface_daily_native.nc\n",
       "Thu Mar 19 11:42:24 2015: ncatted -O -a missing_value,sic,o,f,-32767. /mnt/meteo0/data/simmonds/dbirving/ERAInterim/data/sic_ERAInterim_surface_daily_native.nc...\n",
       "    nco_openmp_thread_number: 1\n",
       "    CDO: Climate Data Operators version 1.5.3 (http://code.zmaw.de/projects/cdo)"
      ]
     },
     "execution_count": 60,
     "metadata": {},
     "output_type": "execute_result"
    }
   ],
   "source": [
    "data.sel(time=('1993-03-25'))"
   ]
  },
  {
   "cell_type": "code",
   "execution_count": 61,
   "metadata": {
    "collapsed": false
   },
   "outputs": [
    {
     "data": {
      "text/plain": [
       "<xray.Dataset>\n",
       "Dimensions:    (latitude: 81, longitude: 480, time: 32)\n",
       "Coordinates:\n",
       "  * latitude   (latitude) float32 -90.0 -89.25 -88.5 -87.75 -87.0 -86.25 ...\n",
       "  * longitude  (longitude) float32 0.0 0.75 1.5 2.25 3.0 3.75 4.5 5.25 6.0 ...\n",
       "  * time       (time) datetime64[ns] 1993-03-25T18:00:00 1993-03-26T18:00:00 ...\n",
       "Data variables:\n",
       "    sic        (time, latitude, longitude) float64 nan nan nan nan nan nan ...\n",
       "Attributes:\n",
       "    CDI: Climate Data Interface version 1.5.3 (http://code.zmaw.de/projects/cdi)\n",
       "    Conventions: CF-1.0\n",
       "    history: Mon Jun 22 16:13:38 2015: cdo seldate,1993-01-01,1994-12-31 -sellonlatbox,0,359.9,-90,-30 sic_ERAInterim_surface_daily_native.nc sic_ERAInterim_surface_1993-1994-daily_native-shextropics30.nc\n",
       "Thu Mar 19 13:05:10 2015: ncatted -O -a axis,time,c,c,T /mnt/meteo0/data/simmonds/dbirving/ERAInterim/data/sic_ERAInterim_surface_daily_native.nc\n",
       "Thu Mar 19 11:42:24 2015: ncatted -O -a missing_value,sic,o,f,-32767. /mnt/meteo0/data/simmonds/dbirving/ERAInterim/data/sic_ERAInterim_surface_daily_native.nc...\n",
       "    nco_openmp_thread_number: 1\n",
       "    CDO: Climate Data Operators version 1.5.3 (http://code.zmaw.de/projects/cdo)"
      ]
     },
     "execution_count": 61,
     "metadata": {},
     "output_type": "execute_result"
    }
   ],
   "source": [
    "data.sel(time=slice('1993-03-25', '1993-04-25'))"
   ]
  },
  {
   "cell_type": "markdown",
   "metadata": {},
   "source": [
    "For an arbitrary list of dimension values, you need to provide the exact date/time value (for single dates xray/pandas can guess what you meant)."
   ]
  },
  {
   "cell_type": "code",
   "execution_count": 62,
   "metadata": {
    "collapsed": false
   },
   "outputs": [
    {
     "data": {
      "text/plain": [
       "<xray.DataArray 'latitude' (latitude: 20)>\n",
       "array([-90.  , -89.25, -88.5 , -87.75, -87.  , -86.25, -85.5 , -84.75,\n",
       "       -84.  , -83.25, -82.5 , -81.75, -81.  , -80.25, -79.5 , -78.75,\n",
       "       -78.  , -77.25, -76.5 , -75.75], dtype=float32)\n",
       "Coordinates:\n",
       "  * latitude  (latitude) float32 -90.0 -89.25 -88.5 -87.75 -87.0 -86.25 ...\n",
       "Attributes:\n",
       "    standard_name: latitude\n",
       "    long_name: latitude\n",
       "    units: degrees_north\n",
       "    axis: Y"
      ]
     },
     "execution_count": 62,
     "metadata": {},
     "output_type": "execute_result"
    }
   ],
   "source": [
    "data['latitude'][0:20]"
   ]
  },
  {
   "cell_type": "code",
   "execution_count": 63,
   "metadata": {
    "collapsed": false
   },
   "outputs": [
    {
     "data": {
      "text/plain": [
       "<xray.Dataset>\n",
       "Dimensions:    (latitude: 2, longitude: 480, time: 730)\n",
       "Coordinates:\n",
       "  * latitude   (latitude) float32 -89.25 -81.0\n",
       "  * longitude  (longitude) float32 0.0 0.75 1.5 2.25 3.0 3.75 4.5 5.25 6.0 ...\n",
       "  * time       (time) datetime64[ns] 1993-01-01T18:00:00 1993-01-02T18:00:00 ...\n",
       "Data variables:\n",
       "    sic        (time, latitude, longitude) float64 nan nan nan nan nan nan ...\n",
       "Attributes:\n",
       "    CDI: Climate Data Interface version 1.5.3 (http://code.zmaw.de/projects/cdi)\n",
       "    Conventions: CF-1.0\n",
       "    history: Mon Jun 22 16:13:38 2015: cdo seldate,1993-01-01,1994-12-31 -sellonlatbox,0,359.9,-90,-30 sic_ERAInterim_surface_daily_native.nc sic_ERAInterim_surface_1993-1994-daily_native-shextropics30.nc\n",
       "Thu Mar 19 13:05:10 2015: ncatted -O -a axis,time,c,c,T /mnt/meteo0/data/simmonds/dbirving/ERAInterim/data/sic_ERAInterim_surface_daily_native.nc\n",
       "Thu Mar 19 11:42:24 2015: ncatted -O -a missing_value,sic,o,f,-32767. /mnt/meteo0/data/simmonds/dbirving/ERAInterim/data/sic_ERAInterim_surface_daily_native.nc...\n",
       "    nco_openmp_thread_number: 1\n",
       "    CDO: Climate Data Operators version 1.5.3 (http://code.zmaw.de/projects/cdo)"
      ]
     },
     "execution_count": 63,
     "metadata": {},
     "output_type": "execute_result"
    }
   ],
   "source": [
    "data.sel(latitude=[-89.25, -81])"
   ]
  },
  {
   "cell_type": "code",
   "execution_count": 64,
   "metadata": {
    "collapsed": false
   },
   "outputs": [
    {
     "data": {
      "text/plain": [
       "<xray.DataArray 'time' (time: 10)>\n",
       "array(['1993-01-02T05:00:00.000000000+1100',\n",
       "       '1993-01-03T05:00:00.000000000+1100',\n",
       "       '1993-01-04T05:00:00.000000000+1100',\n",
       "       '1993-01-05T05:00:00.000000000+1100',\n",
       "       '1993-01-06T05:00:00.000000000+1100',\n",
       "       '1993-01-07T05:00:00.000000000+1100',\n",
       "       '1993-01-08T05:00:00.000000000+1100',\n",
       "       '1993-01-09T05:00:00.000000000+1100',\n",
       "       '1993-01-10T05:00:00.000000000+1100',\n",
       "       '1993-01-11T05:00:00.000000000+1100'], dtype='datetime64[ns]')\n",
       "Coordinates:\n",
       "  * time     (time) datetime64[ns] 1993-01-01T18:00:00 1993-01-02T18:00:00 ...\n",
       "Attributes:\n",
       "    standard_name: time"
      ]
     },
     "execution_count": 64,
     "metadata": {},
     "output_type": "execute_result"
    }
   ],
   "source": [
    "data['time'][0:10]"
   ]
  },
  {
   "cell_type": "code",
   "execution_count": 65,
   "metadata": {
    "collapsed": false
   },
   "outputs": [
    {
     "data": {
      "text/plain": [
       "<xray.Dataset>\n",
       "Dimensions:    (latitude: 81, longitude: 480, time: 2)\n",
       "Coordinates:\n",
       "  * latitude   (latitude) float32 -90.0 -89.25 -88.5 -87.75 -87.0 -86.25 ...\n",
       "  * longitude  (longitude) float32 0.0 0.75 1.5 2.25 3.0 3.75 4.5 5.25 6.0 ...\n",
       "  * time       (time) datetime64[ns] 1993-01-03T18:00:00 1993-01-09T18:00:00\n",
       "Data variables:\n",
       "    sic        (time, latitude, longitude) float64 nan nan nan nan nan nan ...\n",
       "Attributes:\n",
       "    CDI: Climate Data Interface version 1.5.3 (http://code.zmaw.de/projects/cdi)\n",
       "    Conventions: CF-1.0\n",
       "    history: Mon Jun 22 16:13:38 2015: cdo seldate,1993-01-01,1994-12-31 -sellonlatbox,0,359.9,-90,-30 sic_ERAInterim_surface_daily_native.nc sic_ERAInterim_surface_1993-1994-daily_native-shextropics30.nc\n",
       "Thu Mar 19 13:05:10 2015: ncatted -O -a axis,time,c,c,T /mnt/meteo0/data/simmonds/dbirving/ERAInterim/data/sic_ERAInterim_surface_daily_native.nc\n",
       "Thu Mar 19 11:42:24 2015: ncatted -O -a missing_value,sic,o,f,-32767. /mnt/meteo0/data/simmonds/dbirving/ERAInterim/data/sic_ERAInterim_surface_daily_native.nc...\n",
       "    nco_openmp_thread_number: 1\n",
       "    CDO: Climate Data Operators version 1.5.3 (http://code.zmaw.de/projects/cdo)"
      ]
     },
     "execution_count": 65,
     "metadata": {},
     "output_type": "execute_result"
    }
   ],
   "source": [
    "data.sel(time=[numpy.datetime64('1993-01-04T05:00:00.000000000+1100'),\n",
    "               numpy.datetime64('1993-01-10T05:00:00.000000000+1100')])"
   ]
  },
  {
   "cell_type": "markdown",
   "metadata": {},
   "source": [
    "#### Maths / stats"
   ]
  },
  {
   "cell_type": "markdown",
   "metadata": {},
   "source": [
    "#### Basic stats along a dimension"
   ]
  },
  {
   "cell_type": "code",
   "execution_count": 73,
   "metadata": {
    "collapsed": false
   },
   "outputs": [],
   "source": [
    "outdata = data.mean(dim='time')"
   ]
  },
  {
   "cell_type": "markdown",
   "metadata": {},
   "source": [
    "#### Running mean\n",
    "\n",
    "I need to figure out how to apply the pandas [moving (rolling) statistics](http://pandas.pydata.org/pandas-docs/stable/computation.html#moving-rolling-statistics-moments) to an `xray.DataArray`. [This page](http://xray.readthedocs.org/en/stable/pandas.html) talks about how I might do that."
   ]
  },
  {
   "cell_type": "markdown",
   "metadata": {},
   "source": [
    "### Writing to file"
   ]
  },
  {
   "cell_type": "code",
   "execution_count": 74,
   "metadata": {
    "collapsed": false
   },
   "outputs": [
    {
     "data": {
      "text/plain": [
       "<xray.Dataset>\n",
       "Dimensions:    (latitude: 81, longitude: 480)\n",
       "Coordinates:\n",
       "  * latitude   (latitude) float32 -90.0 -89.25 -88.5 -87.75 -87.0 -86.25 ...\n",
       "  * longitude  (longitude) float32 0.0 0.75 1.5 2.25 3.0 3.75 4.5 5.25 6.0 ...\n",
       "Data variables:\n",
       "    sic        (latitude, longitude) float64 nan nan nan nan nan nan nan nan ..."
      ]
     },
     "execution_count": 74,
     "metadata": {},
     "output_type": "execute_result"
    }
   ],
   "source": [
    "outdata"
   ]
  },
  {
   "cell_type": "code",
   "execution_count": 75,
   "metadata": {
    "collapsed": false
   },
   "outputs": [],
   "source": [
    "outdata.attrs = dset.attrs"
   ]
  },
  {
   "cell_type": "code",
   "execution_count": 76,
   "metadata": {
    "collapsed": false
   },
   "outputs": [
    {
     "data": {
      "text/plain": [
       "OrderedDict([(u'CDI', u'Climate Data Interface version 1.5.3 (http://code.zmaw.de/projects/cdi)'), (u'Conventions', u'CF-1.0'), (u'history', u'Mon Jun 22 16:13:38 2015: cdo seldate,1993-01-01,1994-12-31 -sellonlatbox,0,359.9,-90,-30 sic_ERAInterim_surface_daily_native.nc sic_ERAInterim_surface_1993-1994-daily_native-shextropics30.nc\\nThu Mar 19 13:05:10 2015: ncatted -O -a axis,time,c,c,T /mnt/meteo0/data/simmonds/dbirving/ERAInterim/data/sic_ERAInterim_surface_daily_native.nc\\nThu Mar 19 11:42:24 2015: ncatted -O -a missing_value,sic,o,f,-32767. /mnt/meteo0/data/simmonds/dbirving/ERAInterim/data/sic_ERAInterim_surface_daily_native.nc\\nWed Mar 18 17:08:32 2015: cdo mergetime sic_ERAInterim_surface_daily-2014-11-01-to-2014-12-31_native.nc ../data/sic_ERAInterim_surface_daily_native_orig.nc ../data/sic_ERAInterim_surface_daily_native.nc\\nMon Jan  5 18:29:47 2015: ncatted -O -a long_name,sic,o,c,sea_ice_fraction sic_ERAInterim_surface_daily_native.nc\\nMon Jan  5 18:28:45 2015: ncatted -O -a standard_name,sic,o,c,sea_ice_fraction sic_ERAInterim_surface_daily_native.nc\\nMon Jan  5 18:27:47 2015: ncatted -O -a calendar,global,d,, sic_ERAInterim_surface_daily_native.nc\\nMon Jan  5 18:26:47 2015: ncatted -O -a axis,time,c,c,T sic_ERAInterim_surface_daily_native.nc\\nMon Jan  5 18:17:27 2015: ncrename -O -v ci,sic sic_ERAInterim_surface_daily_native.nc\\nMon Jan  5 17:40:20 2015: ncatted -O -a axis,time,c,c,T sic_ERAInterim_surface_daily_native.nc\\nMon Jan  5 16:40:46 2015: ncatted -O -a missing_value,ci,o,c,-32767. sic_ERAInterim_surface_daily_native.nc\\nMon Jan 05 16:25:58 2015: cdo invertlat -sellonlatbox,0,359.9,-90,90 -daymean sic_ERAInterim_surface_6hourly_native.nc sic_ERAInterim_surface_daily_native.nc\\nMon Jan 05 10:47:32 2015: cdo mergetime sic_ERAInterim_surface_6hourly-1979-1983_native.nc sic_ERAInterim_surface_6hourly-1984-1988_native.nc sic_ERAInterim_surface_6hourly-1989-1993_native.nc sic_ERAInterim_surface_6hourly-1994-1998_native.nc sic_ERAInterim_surface_6hourly-1999-2003_native.nc sic_ERAInterim_surface_6hourly-2004-2008_native.nc sic_ERAInterim_surface_6hourly-2009-2014_native.nc sic_ERAInterim_surface_6hourly_native.nc\\nMon Jan  5 10:46:10 2015: ncpdq -P upk sic_ERAInterim_surface_6hourly-2009-2014_native.nc sic_ERAInterim_surface_6hourly-2009-2014_native.nc\\n2015-01-04 23:23:28 GMT by grib_to_netcdf-1.12.3: grib_to_netcdf /data/data01/netcdf-web229-20150104231701-17498-53336.target -o /data/data01/netcdf-web229-20150104232234-17498-53337.nc'), (u'nco_openmp_thread_number', 1), (u'CDO', u'Climate Data Operators version 1.5.3 (http://code.zmaw.de/projects/cdo)')])"
      ]
     },
     "execution_count": 76,
     "metadata": {},
     "output_type": "execute_result"
    }
   ],
   "source": [
    "outdata.attrs"
   ]
  },
  {
   "cell_type": "code",
   "execution_count": 77,
   "metadata": {
    "collapsed": false
   },
   "outputs": [],
   "source": [
    "outdata['sic'].attrs = dset['sic'].attrs"
   ]
  },
  {
   "cell_type": "code",
   "execution_count": 78,
   "metadata": {
    "collapsed": false
   },
   "outputs": [
    {
     "data": {
      "text/plain": [
       "OrderedDict([(u'standard_name', u'sea_ice_fraction'), (u'long_name', u'sea_ice_fraction'), (u'units', u'(0 - 1)')])"
      ]
     },
     "execution_count": 78,
     "metadata": {},
     "output_type": "execute_result"
    }
   ],
   "source": [
    "outdata['sic'].attrs"
   ]
  },
  {
   "cell_type": "code",
   "execution_count": 79,
   "metadata": {
    "collapsed": false
   },
   "outputs": [],
   "source": [
    "outdata.to_netcdf('test_xray.nc', format='NETCDF3_CLASSIC')"
   ]
  },
  {
   "cell_type": "code",
   "execution_count": null,
   "metadata": {
    "collapsed": true
   },
   "outputs": [],
   "source": []
  }
 ],
 "metadata": {
  "kernelspec": {
   "display_name": "Python 2",
   "language": "python",
   "name": "python2"
  },
  "language_info": {
   "codemirror_mode": {
    "name": "ipython",
    "version": 2
   },
   "file_extension": ".py",
   "mimetype": "text/x-python",
   "name": "python",
   "nbconvert_exporter": "python",
   "pygments_lexer": "ipython2",
   "version": "2.7.10"
  }
 },
 "nbformat": 4,
 "nbformat_minor": 0
}
