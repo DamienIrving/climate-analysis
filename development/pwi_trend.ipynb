{
 "cells": [
  {
   "cell_type": "code",
   "execution_count": 1,
   "metadata": {
    "collapsed": true
   },
   "outputs": [],
   "source": [
    "import numpy\n",
    "import pandas\n",
    "import xray"
   ]
  },
  {
   "cell_type": "code",
   "execution_count": 2,
   "metadata": {
    "collapsed": false
   },
   "outputs": [
    {
     "data": {
      "text/plain": [
       "<xray.Dataset>\n",
       "Dimensions:  (time: 13120)\n",
       "Coordinates:\n",
       "  * time     (time) datetime64[ns] 1979-01-16T06:00:00 1979-01-17T06:00:00 ...\n",
       "Data variables:\n",
       "    pwi      (time) float64 5.629 5.898 5.621 5.103 4.677 4.509 4.329 4.07 ...\n",
       "Attributes:\n",
       "    Conventions: CF-1.0\n",
       "    CDO: Climate Data Operators version 1.5.3 (http://code.zmaw.de/projects/cdo)\n",
       "    nco_openmp_thread_number: 1\n",
       "    CDI: Climate Data Interface version 1.5.3 (http://code.zmaw.de/projects/cdi)\n",
       "    history: Tue Mar 31 12:13:15 2015: /usr/local/uvcdat/1.3.0/bin/cdat /home/STUDENT/dbirving/climate-analysis/data_processing/calc_climate_index.py PWI /mnt/meteo0/data/simmonds/dbirving/ERAInterim/data/zw/envva_w19_ERAInterim_500hPa_030day-runmean_native.nc envva /mnt/meteo0/data/simmonds/dbirving/ERAInterim/data/indexes/pwi_va_ERAInterim_500hPa_030day-runmean_native.nc (Git hash: bfd3ec8) [format=NETCDF3_CLASSIC].  \n",
       "Tue Mar 31 11:53:10 2015: ncatted -O -a axis,time,c,c,T /mnt/meteo0/data/simmonds/dbir..."
      ]
     },
     "execution_count": 2,
     "metadata": {},
     "output_type": "execute_result"
    }
   ],
   "source": [
    "infile = '/Users/damienirving/Downloads/Data/pwi_va_ERAInterim_500hPa_030day-runmean_native.nc'\n",
    "dset = xray.open_dataset(infile)\n",
    "dset"
   ]
  },
  {
   "cell_type": "code",
   "execution_count": 4,
   "metadata": {
    "collapsed": false
   },
   "outputs": [
    {
     "data": {
      "text/plain": [
       "<xray.Dataset>\n",
       "Dimensions:  (time: 145)\n",
       "Coordinates:\n",
       "  * time     (time) datetime64[ns] 1979-02-28 1979-05-31 1979-08-31 ...\n",
       "Data variables:\n",
       "    pwi      (time) float64 4.372 6.677 7.076 5.909 6.81 8.707 7.343 5.075 ..."
      ]
     },
     "execution_count": 4,
     "metadata": {},
     "output_type": "execute_result"
    }
   ],
   "source": [
    "seasonal_dset = dset.resample('Q-FEB', dim='time', how='mean', label='right')\n",
    "seasonal_dset"
   ]
  },
  {
   "cell_type": "code",
   "execution_count": 6,
   "metadata": {
    "collapsed": false
   },
   "outputs": [],
   "source": [
    "djf_indexes = pandas.to_datetime(seasonal_dset['time'].values).month == 2\n",
    "pwi_djf = seasonal_dset['pwi'].loc[djf_indexes].to_series()"
   ]
  },
  {
   "cell_type": "code",
   "execution_count": 9,
   "metadata": {
    "collapsed": false
   },
   "outputs": [
    {
     "data": {
      "text/plain": [
       "<matplotlib.axes._subplots.AxesSubplot at 0x10a060790>"
      ]
     },
     "execution_count": 9,
     "metadata": {},
     "output_type": "execute_result"
    },
    {
     "data": {
      "image/png": "[encoded data removed]",
      "text/plain": [
       "<matplotlib.figure.Figure at 0x108f07350>"
      ]
     },
     "metadata": {},
     "output_type": "display_data"
    }
   ],
   "source": [
    "%matplotlib inline\n",
    "pwi_djf.plot()"
   ]
  },
  {
   "cell_type": "code",
   "execution_count": null,
   "metadata": {
    "collapsed": true
   },
   "outputs": [],
   "source": []
  }
 ],
 "metadata": {
  "kernelspec": {
   "display_name": "Python 2",
   "language": "python",
   "name": "python2"
  },
  "language_info": {
   "codemirror_mode": {
    "name": "ipython",
    "version": 2
   },
   "file_extension": ".py",
   "mimetype": "text/x-python",
   "name": "python",
   "nbconvert_exporter": "python",
   "pygments_lexer": "ipython2",
   "version": "2.7.10"
  }
 },
 "nbformat": 4,
 "nbformat_minor": 0
}
