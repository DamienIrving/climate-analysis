{
 "cells": [
  {
   "cell_type": "code",
   "execution_count": 1,
   "metadata": {
    "collapsed": true
   },
   "outputs": [],
   "source": [
    "import cartopy.crs as ccrs\n",
    "import matplotlib.pyplot as plt\n",
    "import iris\n",
    "import iris.plot as iplt\n",
    "import iris.quickplot as qplt"
   ]
  },
  {
   "cell_type": "code",
   "execution_count": 2,
   "metadata": {
    "collapsed": false
   },
   "outputs": [
    {
     "name": "stdout",
     "output_type": "stream",
     "text": [
      "rotated_northward_wind / (m s**-1)  (latitude: 241; longitude: 480)\n",
      "     Dimension coordinates:\n",
      "          latitude                           x               -\n",
      "          longitude                          -               x\n",
      "     Scalar coordinates:\n",
      "          time: 2006-06-22 06:00:00\n",
      "     Attributes:\n",
      "          CDI: Climate Data Interface version 1.5.3 (http://code.zmaw.de/projects/cdi...\n",
      "          CDO: Climate Data Operators version 1.5.3 (http://code.zmaw.de/projects/cdo...\n",
      "          Conventions: CF-1.0\n",
      "          history: Thu Jul 30 11:22:56 2015: /usr/local/anaconda/bin/python calc_vrot.py /mnt/meteo0/data/simmonds/dbirving/ERAInterim/data/ua_ERAInterim_500hPa_030day-runmean_native.nc...\n",
      "          invalid_standard_name: rotated_northward_wind\n",
      "          level: 500hPa\n",
      "          nco_openmp_thread_number: 1\n",
      "          notes: North Pole at 20.0, 260.0. Data defined on rotated grid.\n"
     ]
    }
   ],
   "source": [
    "date = iris.time.PartialDateTime(year=2006, month=6, day=22)\n",
    "time_constraint = iris.Constraint(time=date)\n",
    "\n",
    "with iris.FUTURE.context(cell_datetime_objects=True):\n",
    "    cube = iris.load_cube('test_vrot.nc', 'rotated_northward_wind' & time_constraint)\n",
    "    \n",
    "print cube"
   ]
  },
  {
   "cell_type": "code",
   "execution_count": null,
   "metadata": {
    "collapsed": false
   },
   "outputs": [],
   "source": [
    "%matplotlib inline\n",
    "\n",
    "proj = ccrs.PlateCarree(central_longitude=-180.0)\n",
    "fig = plt.figure(figsize=(12, 5))\n",
    "\n",
    "ax = plt.subplot(111, projection=proj)\n",
    "qplt.contour(cube) #cmap='RdBu_r')\n",
    "plt.gca().coastlines()\n",
    "\n",
    "iplt.show()"
   ]
  },
  {
   "cell_type": "code",
   "execution_count": null,
   "metadata": {
    "collapsed": true
   },
   "outputs": [],
   "source": []
  }
 ],
 "metadata": {
  "kernelspec": {
   "display_name": "Python 2",
   "language": "python",
   "name": "python2"
  },
  "language_info": {
   "codemirror_mode": {
    "name": "ipython",
    "version": 2
   },
   "file_extension": ".py",
   "mimetype": "text/x-python",
   "name": "python",
   "nbconvert_exporter": "python",
   "pygments_lexer": "ipython2",
   "version": "2.7.10"
  }
 },
 "nbformat": 4,
 "nbformat_minor": 0
}
