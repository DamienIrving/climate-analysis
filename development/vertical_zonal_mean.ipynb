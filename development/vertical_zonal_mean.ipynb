{
 "cells": [
  {
   "cell_type": "code",
   "execution_count": 18,
   "metadata": {
    "collapsed": true
   },
   "outputs": [],
   "source": [
    "import iris\n",
    "import numpy"
   ]
  },
  {
   "cell_type": "markdown",
   "metadata": {},
   "source": [
    "## Figure out how weighting works"
   ]
  },
  {
   "cell_type": "markdown",
   "metadata": {},
   "source": [
    "#### Iris area weighting"
   ]
  },
  {
   "cell_type": "code",
   "execution_count": 44,
   "metadata": {
    "collapsed": true
   },
   "outputs": [],
   "source": [
    "raw_data_file = '/g/data/r87/dbi599/drstree/CMIP5/GCM/CCCMA/CanESM2/historical/yr/ocean/thetao/r1i1p1/dedrifted/thetao_Oyr_CanESM2_historical_r1i1p1_194101-195012.nc'"
   ]
  },
  {
   "cell_type": "code",
   "execution_count": 66,
   "metadata": {
    "collapsed": true
   },
   "outputs": [],
   "source": [
    "raw_data_cube = iris.load_cube(raw_data_file, 'sea_water_potential_temperature')\n",
    "raw_data_cube = raw_data_cube"
   ]
  },
  {
   "cell_type": "code",
   "execution_count": 67,
   "metadata": {
    "collapsed": false
   },
   "outputs": [
    {
     "name": "stdout",
     "output_type": "stream",
     "text": [
      "sea_water_potential_temperature / (K) (time: 10; depth: 40; latitude: 192; longitude: 256)\n",
      "     Dimension coordinates:\n",
      "          time                             x          -             -               -\n",
      "          depth                            -          x             -               -\n",
      "          latitude                         -          -             x               -\n",
      "          longitude                        -          -             -               x\n",
      "     Attributes:\n",
      "          CCCma_data_licence: 1) GRANT OF LICENCE - The Government of Canada (Environment Canada) is...\n",
      "          CCCma_parent_runid: IGA\n",
      "          CCCma_runid: IGM\n",
      "          Conventions: CF-1.5\n",
      "          associated_files: baseURL: http://cmip-pcmdi.llnl.gov/CMIP5/dataLocation gridspecFile: gridspec_ocean_fx_CanESM2_historical_r0i0p0.nc...\n",
      "          branch_time: 171915.0\n",
      "          branch_time_YMDH: 2321:01:01:00\n",
      "          cmor_version: 2.5.4\n",
      "          contact: cccma_info@ec.gc.ca\n",
      "          creation_date: 2011-03-28T14:13:14Z\n",
      "          drift_removal: Masked 0 of 1966080 points because cubic fit was poor\n",
      "          experiment: historical\n",
      "          experiment_id: historical\n",
      "          forcing: GHG,Oz,SA,BC,OC,LU,Sl,Vl (GHG includes CO2,CH4,N2O,CFC11,effective CFC...\n",
      "          frequency: mon\n",
      "          history: Thu Oct 27 12:29:39 2016: /g/data/r87/dbi599/miniconda2/envs/default/bin/python...\n",
      "          initialization_method: 1\n",
      "          institute_id: CCCma\n",
      "          institution: CCCma (Canadian Centre for Climate Modelling and Analysis, Victoria, BC,...\n",
      "          model_id: CanESM2\n",
      "          modeling_realm: ocean\n",
      "          original_name: TEMP\n",
      "          parent_experiment: pre-industrial control\n",
      "          parent_experiment_id: piControl\n",
      "          parent_experiment_rip: r1i1p1\n",
      "          physics_version: 1\n",
      "          product: output\n",
      "          project_id: CMIP5\n",
      "          realization: 1\n",
      "          references: http://www.cccma.ec.gc.ca/models\n",
      "          source: CanESM2 2010 atmosphere: CanAM4 (AGCM15i, T63L35) ocean: CanOM4 (OGCM4.0,...\n",
      "          table_id: Table Omon (31 January 2011) d2d6beec2b8fea5bbed33920a6e08bbe\n",
      "          title: CanESM2 model output prepared for CMIP5 historical\n",
      "          tracking_id: f42b9b15-7789-4c45-bf92-c8ebc3665665\n",
      "     Cell methods:\n",
      "          mean: time (20 minutes)\n",
      "          mean: year\n"
     ]
    }
   ],
   "source": [
    "print raw_data_cube"
   ]
  },
  {
   "cell_type": "code",
   "execution_count": 68,
   "metadata": {
    "collapsed": false
   },
   "outputs": [
    {
     "name": "stdout",
     "output_type": "stream",
     "text": [
      "280.946605958\n"
     ]
    }
   ],
   "source": [
    "print raw_data_cube.data.mean()"
   ]
  },
  {
   "cell_type": "code",
   "execution_count": 69,
   "metadata": {
    "collapsed": false
   },
   "outputs": [],
   "source": [
    "area_weights = iris.analysis.cartography.area_weights(raw_data_cube, normalize=False)"
   ]
  },
  {
   "cell_type": "code",
   "execution_count": 70,
   "metadata": {
    "collapsed": false,
    "scrolled": true
   },
   "outputs": [
    {
     "name": "stdout",
     "output_type": "stream",
     "text": [
      "(10, 40, 192, 256)\n",
      "10365791879.2\n"
     ]
    }
   ],
   "source": [
    "print area_weights.shape\n",
    "print area_weights.mean()"
   ]
  },
  {
   "cell_type": "code",
   "execution_count": 71,
   "metadata": {
    "collapsed": false
   },
   "outputs": [],
   "source": [
    "weighted_spatial_mean_cube = raw_data_cube.collapsed(['longitude', 'latitude'], iris.analysis.MEAN, weights=area_weights)\n",
    "spatial_mean_cube = raw_data_cube.collapsed(['longitude', 'latitude'], iris.analysis.MEAN)"
   ]
  },
  {
   "cell_type": "code",
   "execution_count": 72,
   "metadata": {
    "collapsed": false
   },
   "outputs": [
    {
     "name": "stdout",
     "output_type": "stream",
     "text": [
      "281.891596085\n",
      "279.998735386\n"
     ]
    }
   ],
   "source": [
    "print weighted_spatial_mean_cube.data.mean()\n",
    "print spatial_mean_cube.data.mean()"
   ]
  },
  {
   "cell_type": "markdown",
   "metadata": {},
   "source": [
    "#### My vertical weighting"
   ]
  },
  {
   "cell_type": "code",
   "execution_count": 65,
   "metadata": {
    "collapsed": true
   },
   "outputs": [],
   "source": [
    "def broadcast_array(array, axis_index, shape):\n",
    "    \"\"\"Broadcast an array to a target shape.\n",
    "    \n",
    "    Args:\n",
    "      array (numpy.ndarray): One dimensional array\n",
    "      axis_index (int or tuple): Postion in the target shape that the \n",
    "        axis/axes of the array corresponds to\n",
    "          e.g. if array corresponds to (lat, lon) in (time, depth lat, lon)\n",
    "          then axis_index = [2, 3]\n",
    "          e.g. if array corresponds to (lat) in (time, depth lat, lon)\n",
    "          then axis_index = 2\n",
    "      shape (tuple): shape to broadcast to\n",
    "      \n",
    "    For a one dimensional array, make start_axis_index = end_axis_index\n",
    "    \n",
    "    \"\"\"\n",
    "\n",
    "    if type(axis_index) in [float, int]:\n",
    "        start_axis_index = end_axis_index = axis_index\n",
    "    else:\n",
    "        assert len(axis_index) == 2\n",
    "        start_axis_index, end_axis_index = axis_index\n",
    "    \n",
    "    dim = start_axis_index - 1\n",
    "    while dim >= 0:\n",
    "        array = array[numpy.newaxis, ...]\n",
    "        array = numpy.repeat(array, shape[dim], axis=0)\n",
    "        dim = dim - 1\n",
    "    \n",
    "    dim = end_axis_index + 1\n",
    "    while dim < len(shape):    \n",
    "        array = array[..., numpy.newaxis]\n",
    "        array = numpy.repeat(array, shape[dim], axis=-1)\n",
    "        dim = dim + 1\n",
    "\n",
    "    return array\n",
    "\n",
    "\n",
    "def calc_vertical_weights_1D(depth_coord, coord_names, data_shape):\n",
    "    \"\"\"Calculate vertical weights for a 1D depth axis with units = m.\n",
    "    Args:\n",
    "      depth_coord (iris.coords.DimCoord): One-dimensional depth coordinate\n",
    "      coord_names (list): Names of each data coordinate\n",
    "      data_shape (tuple): Shape of data\n",
    "    Returns:\n",
    "      iris.cube: Array of weights with shape matching data_shape\n",
    "  \n",
    "    \"\"\"\n",
    "\n",
    "    assert depth_coord.units == 'm'\n",
    "\n",
    "    # Calculate weights\n",
    "    if not depth_coord.has_bounds():\n",
    "        depth_coord.guess_bounds()\n",
    "    level_bounds = depth_coord.bounds\n",
    "    level_diffs = numpy.apply_along_axis(lambda x: x[1] - x[0], 1, level_bounds)\n",
    "\n",
    "    #guess_bounds can produce negative bound at surface\n",
    "    if level_bounds[0][0] < 0.0:\n",
    "        level_diffs[0] = level_diffs[0] + level_bounds[0][0]\n",
    "\n",
    "    # Broadcast to size of data\n",
    "    depth_index = coord_names.index('depth')\n",
    "    level_diffs = broadcast_array(level_diffs, depth_index, data_shape)\n",
    "\n",
    "    return level_diffs"
   ]
  },
  {
   "cell_type": "code",
   "execution_count": 73,
   "metadata": {
    "collapsed": true
   },
   "outputs": [],
   "source": [
    "depth_axis = raw_data_cube.coord('depth')\n",
    "coord_names = [coord.name() for coord in raw_data_cube.dim_coords]\n",
    "vertical_weights = calc_vertical_weights_1D(depth_axis, coord_names, raw_data_cube.shape)"
   ]
  },
  {
   "cell_type": "code",
   "execution_count": 80,
   "metadata": {
    "collapsed": false
   },
   "outputs": [
    {
     "name": "stdout",
     "output_type": "stream",
     "text": [
      "(10, 40, 192, 256)\n",
      "[  10.           10.           10.19999886   10.19999886   10.40000153\n",
      "   10.59999847   10.79999924   11.           11.40000153   11.79999542\n",
      "   12.40000153   13.40000153   14.59999084   16.20001221   18.3999939\n",
      "   21.3999939    25.20001221   30.19998169   36.80001831   45.3999939\n",
      "   56.3999939    70.19998169   87.00003052  107.39996338  130.79998779\n",
      "  157.20001221  185.39996338  214.59997559  243.40002441  270.59997559\n",
      "  295.          316.39990234  334.40014648  349.19995117  361.\n",
      "  370.39990234  377.60009766  383.19970703  387.40039062  390.59960938]\n"
     ]
    }
   ],
   "source": [
    "print vertical_weights.shape\n",
    "print vertical_weights[0,:,50, 40]"
   ]
  },
  {
   "cell_type": "code",
   "execution_count": 81,
   "metadata": {
    "collapsed": true
   },
   "outputs": [],
   "source": [
    "vertical_mean_cube = raw_data_cube.collapsed(['depth'], iris.analysis.MEAN, weights=vertical_weights.astype(numpy.float32))"
   ]
  },
  {
   "cell_type": "code",
   "execution_count": 85,
   "metadata": {
    "collapsed": false
   },
   "outputs": [
    {
     "name": "stdout",
     "output_type": "stream",
     "text": [
      "276.432410842\n"
     ]
    }
   ],
   "source": [
    "print vertical_mean_cube.data.mean()"
   ]
  },
  {
   "cell_type": "markdown",
   "metadata": {},
   "source": [
    "## Case 1: Use depth file\n"
   ]
  },
  {
   "cell_type": "code",
   "execution_count": 86,
   "metadata": {
    "collapsed": true
   },
   "outputs": [],
   "source": [
    "data_file = '/g/data/r87/dbi599/drstree/CMIP5/GCM/CCCMA/CanESM2/historical/yr/ocean/thetao-maps/r1i1p1/thetao-maps_Oyr_CanESM2_historical_r1i1p1_all.nc'\n",
    "depth_file = '/g/data/ua6/drstree/CMIP5/GCM/CCCMA/CanESM2/historical/fx/ocean/deptho/r0i0p0/deptho_fx_CanESM2_historical_r0i0p0.nc'"
   ]
  },
  {
   "cell_type": "code",
   "execution_count": 87,
   "metadata": {
    "collapsed": false
   },
   "outputs": [],
   "source": [
    "data_cube = iris.load_cube(data_file, 'vertical mean argo sea water potential temperature')"
   ]
  },
  {
   "cell_type": "code",
   "execution_count": 90,
   "metadata": {
    "collapsed": false,
    "scrolled": true
   },
   "outputs": [
    {
     "name": "stdout",
     "output_type": "stream",
     "text": [
      "5.84016370904e-08\n"
     ]
    }
   ],
   "source": [
    "print data_cube.data.mean()"
   ]
  },
  {
   "cell_type": "code",
   "execution_count": 91,
   "metadata": {
    "collapsed": false,
    "scrolled": true
   },
   "outputs": [],
   "source": [
    "depth_cube = iris.load_cube(depth_file)"
   ]
  },
  {
   "cell_type": "code",
   "execution_count": 92,
   "metadata": {
    "collapsed": true
   },
   "outputs": [
    {
     "name": "stdout",
     "output_type": "stream",
     "text": [
      "sea_floor_depth_below_geoid / (m)   (latitude: 192; longitude: 256)\n",
      "     Dimension coordinates:\n",
      "          latitude                           x               -\n",
      "          longitude                          -               x\n",
      "     Attributes:\n",
      "          CCCma_data_licence: 1) GRANT OF LICENCE - The Government of Canada (Environment Canada) is...\n",
      "          CCCma_parent_runid: IGA\n",
      "          CCCma_runid: IGY\n",
      "          Conventions: CF-1.4\n",
      "          associated_files: baseURL: http://cmip-pcmdi.llnl.gov/CMIP5/dataLocation gridspecFile: gridspec_ocean_fx_CanESM2_historical_r0i0p0.nc...\n",
      "          branch_time: 171915.0\n",
      "          branch_time_YMDH: 2321:01:01:00\n",
      "          cmor_version: 2.5.4\n",
      "          comment: Ocean bathymetry.   Reported here is the sea floor depth for present day....\n",
      "          contact: cccma_info@ec.gc.ca\n",
      "          creation_date: 2011-05-04T17:20:05Z\n",
      "          experiment: historical\n",
      "          experiment_id: historical\n",
      "          forcing: GHG,Oz,SA,BC,OC,LU,Sl,Vl (GHG includes CO2,CH4,N2O,CFC11,effective CFC...\n",
      "          frequency: fx\n",
      "          history: 2011-05-04T17:20:05Z altered by CMOR: replaced missing value flag (1e+38)...\n",
      "          initialization_method: 0\n",
      "          institute_id: CCCma\n",
      "          institution: CCCma (Canadian Centre for Climate Modelling and Analysis, Victoria, BC,...\n",
      "          model_id: CanESM2\n",
      "          modeling_realm: ocean\n",
      "          original_name: DATA_DESCRIPTION\n",
      "          parent_experiment: pre-industrial control\n",
      "          parent_experiment_id: piControl\n",
      "          parent_experiment_rip: r1i1p1\n",
      "          physics_version: 0\n",
      "          product: output\n",
      "          project_id: CMIP5\n",
      "          realization: 0\n",
      "          references: http://www.cccma.ec.gc.ca/models\n",
      "          source: CanESM2 2010 atmosphere: CanAM4 (AGCM15i, T63L35) ocean: CanOM4 (OGCM4.0,...\n",
      "          table_id: Table fx (28 March 2011) c046d0887aeb2bb7ed34d63897d7de8f\n",
      "          title: CanESM2 model output prepared for CMIP5 historical\n",
      "          tracking_id: 66011d39-793a-4c59-b283-2fe1fc48136b\n"
     ]
    }
   ],
   "source": [
    "print depth_cube"
   ]
  },
  {
   "cell_type": "code",
   "execution_count": 93,
   "metadata": {
    "collapsed": false
   },
   "outputs": [],
   "source": [
    "depth_array = depth_cube.data\n",
    "\n",
    "depth_array = depth_array[numpy.newaxis, ...]\n",
    "depth_array = numpy.repeat(depth_array, 156, axis=0)"
   ]
  },
  {
   "cell_type": "code",
   "execution_count": 94,
   "metadata": {
    "collapsed": false
   },
   "outputs": [
    {
     "name": "stdout",
     "output_type": "stream",
     "text": [
      "(156, 192, 256)\n",
      "(156, 192, 256)\n",
      "<class 'numpy.ma.core.MaskedArray'>\n"
     ]
    }
   ],
   "source": [
    "print depth_array.shape\n",
    "print data_cube.data.shape\n",
    "print type(depth_array)"
   ]
  },
  {
   "cell_type": "code",
   "execution_count": 95,
   "metadata": {
    "collapsed": false
   },
   "outputs": [],
   "source": [
    "zonal_mean_cube = data_cube.collapsed(['longitude'], iris.analysis.MEAN, weights=depth_array) #weights=vertical_weights.astype(numpy.float32))"
   ]
  },
  {
   "cell_type": "code",
   "execution_count": 96,
   "metadata": {
    "collapsed": false,
    "scrolled": true
   },
   "outputs": [
    {
     "name": "stdout",
     "output_type": "stream",
     "text": [
      "vertical mean argo sea water potential temperature / (K) (time: 156; latitude: 192)\n",
      "     Dimension coordinates:\n",
      "          time                                                x              -\n",
      "          latitude                                            -              x\n",
      "     Scalar coordinates:\n",
      "          longitude: 180.0 degrees, bound=(0.0, 360.0) degrees\n",
      "     Attributes:\n",
      "          CCCma_data_licence: 1) GRANT OF LICENCE - The Government of Canada (Environment Canada) is...\n",
      "          CCCma_parent_runid: IGA\n",
      "          CCCma_runid: IGM\n",
      "          Conventions: CF-1.5\n",
      "          associated_files: baseURL: http://cmip-pcmdi.llnl.gov/CMIP5/dataLocation gridspecFile: gridspec_ocean_fx_CanESM2_historical_r0i0p0.nc...\n",
      "          branch_time: 171915.0\n",
      "          branch_time_YMDH: 2321:01:01:00\n",
      "          cmor_version: 2.5.4\n",
      "          contact: cccma_info@ec.gc.ca\n",
      "          drift_removal: Masked 0 of 1966080 points because cubic fit was poor\n",
      "          experiment: historical\n",
      "          experiment_id: historical\n",
      "          forcing: GHG,Oz,SA,BC,OC,LU,Sl,Vl (GHG includes CO2,CH4,N2O,CFC11,effective CFC...\n",
      "          frequency: mon\n",
      "          history: Wed Oct 26 13:41:30 2016: /g/data/r87/dbi599/miniconda2/envs/default/bin/python...\n",
      "          initialization_method: 1\n",
      "          institute_id: CCCma\n",
      "          institution: CCCma (Canadian Centre for Climate Modelling and Analysis, Victoria, BC,...\n",
      "          invalid_standard_name: vertical_mean_argo_sea_water_potential_temperature\n",
      "          model_id: CanESM2\n",
      "          modeling_realm: ocean\n",
      "          original_name: TEMP\n",
      "          parent_experiment: pre-industrial control\n",
      "          parent_experiment_id: piControl\n",
      "          parent_experiment_rip: r1i1p1\n",
      "          physics_version: 1\n",
      "          product: output\n",
      "          project_id: CMIP5\n",
      "          realization: 1\n",
      "          references: http://www.cccma.ec.gc.ca/models\n",
      "          source: CanESM2 2010 atmosphere: CanAM4 (AGCM15i, T63L35) ocean: CanOM4 (OGCM4.0,...\n",
      "          table_id: Table Omon (31 January 2011) d2d6beec2b8fea5bbed33920a6e08bbe\n",
      "          title: CanESM2 model output prepared for CMIP5 historical\n",
      "     Cell methods:\n",
      "          mean: depth\n",
      "          mean: longitude\n"
     ]
    }
   ],
   "source": [
    "print zonal_mean_cube"
   ]
  },
  {
   "cell_type": "markdown",
   "metadata": {},
   "source": [
    "### Validate result"
   ]
  },
  {
   "cell_type": "code",
   "execution_count": 98,
   "metadata": {
    "collapsed": false
   },
   "outputs": [
    {
     "name": "stdout",
     "output_type": "stream",
     "text": [
      "-0.019928713723\n"
     ]
    }
   ],
   "source": [
    "print zonal_mean_cube.data[0,:].mean()"
   ]
  },
  {
   "cell_type": "code",
   "execution_count": 32,
   "metadata": {
    "collapsed": true
   },
   "outputs": [],
   "source": [
    "test_result = zonal_mean_cube.data[0,60]"
   ]
  },
  {
   "cell_type": "code",
   "execution_count": 33,
   "metadata": {
    "collapsed": false
   },
   "outputs": [
    {
     "name": "stdout",
     "output_type": "stream",
     "text": [
      "0.00591959036936\n"
     ]
    }
   ],
   "source": [
    "print test_result"
   ]
  },
  {
   "cell_type": "markdown",
   "metadata": {},
   "source": [
    "### Easier data..."
   ]
  },
  {
   "cell_type": "code",
   "execution_count": 101,
   "metadata": {
    "collapsed": false
   },
   "outputs": [
    {
     "name": "stdout",
     "output_type": "stream",
     "text": [
      "(10, 192, 256)\n",
      "(10, 192, 256)\n"
     ]
    }
   ],
   "source": [
    "print raw_data_cube[:,0,:,:].shape\n",
    "\n",
    "easy_depth_array = depth_cube.data\n",
    "easy_depth_array = easy_depth_array[numpy.newaxis, ...]\n",
    "easy_depth_array = numpy.repeat(easy_depth_array, 10, axis=0)\n",
    "\n",
    "print easy_depth_array.shape\n",
    "\n",
    "#easy_depth_array = depth_cube.data[:,0,:,:]"
   ]
  },
  {
   "cell_type": "code",
   "execution_count": 102,
   "metadata": {
    "collapsed": true
   },
   "outputs": [],
   "source": [
    "easy_zonal_mean_cube = raw_data_cube[:,0,:,:].collapsed(['longitude'], iris.analysis.MEAN, weights=easy_depth_array)"
   ]
  },
  {
   "cell_type": "code",
   "execution_count": 110,
   "metadata": {
    "collapsed": false
   },
   "outputs": [
    {
     "name": "stdout",
     "output_type": "stream",
     "text": [
      "sea_water_potential_temperature / (K) (time: 10; latitude: 192)\n",
      "     Dimension coordinates:\n",
      "          time                             x             -\n",
      "          latitude                         -             x\n",
      "     Scalar coordinates:\n",
      "          depth: 5.0 m, bound=(0.0, 10.0) m\n",
      "          longitude: 180.0 degrees, bound=(0.0, 360.0) degrees\n",
      "     Attributes:\n",
      "          CCCma_data_licence: 1) GRANT OF LICENCE - The Government of Canada (Environment Canada) is...\n",
      "          CCCma_parent_runid: IGA\n",
      "          CCCma_runid: IGM\n",
      "          Conventions: CF-1.5\n",
      "          associated_files: baseURL: http://cmip-pcmdi.llnl.gov/CMIP5/dataLocation gridspecFile: gridspec_ocean_fx_CanESM2_historical_r0i0p0.nc...\n",
      "          branch_time: 171915.0\n",
      "          branch_time_YMDH: 2321:01:01:00\n",
      "          cmor_version: 2.5.4\n",
      "          contact: cccma_info@ec.gc.ca\n",
      "          creation_date: 2011-03-28T14:13:14Z\n",
      "          drift_removal: Masked 0 of 1966080 points because cubic fit was poor\n",
      "          experiment: historical\n",
      "          experiment_id: historical\n",
      "          forcing: GHG,Oz,SA,BC,OC,LU,Sl,Vl (GHG includes CO2,CH4,N2O,CFC11,effective CFC...\n",
      "          frequency: mon\n",
      "          history: Thu Oct 27 12:29:39 2016: /g/data/r87/dbi599/miniconda2/envs/default/bin/python...\n",
      "          initialization_method: 1\n",
      "          institute_id: CCCma\n",
      "          institution: CCCma (Canadian Centre for Climate Modelling and Analysis, Victoria, BC,...\n",
      "          model_id: CanESM2\n",
      "          modeling_realm: ocean\n",
      "          original_name: TEMP\n",
      "          parent_experiment: pre-industrial control\n",
      "          parent_experiment_id: piControl\n",
      "          parent_experiment_rip: r1i1p1\n",
      "          physics_version: 1\n",
      "          product: output\n",
      "          project_id: CMIP5\n",
      "          realization: 1\n",
      "          references: http://www.cccma.ec.gc.ca/models\n",
      "          source: CanESM2 2010 atmosphere: CanAM4 (AGCM15i, T63L35) ocean: CanOM4 (OGCM4.0,...\n",
      "          table_id: Table Omon (31 January 2011) d2d6beec2b8fea5bbed33920a6e08bbe\n",
      "          title: CanESM2 model output prepared for CMIP5 historical\n",
      "          tracking_id: f42b9b15-7789-4c45-bf92-c8ebc3665665\n",
      "     Cell methods:\n",
      "          mean: time (20 minutes)\n",
      "          mean: year\n",
      "          mean: longitude\n"
     ]
    }
   ],
   "source": [
    "print easy_zonal_mean_cube"
   ]
  },
  {
   "cell_type": "code",
   "execution_count": 109,
   "metadata": {
    "collapsed": false
   },
   "outputs": [
    {
     "name": "stdout",
     "output_type": "stream",
     "text": [
      "sea_water_potential_temperature / (K) (scalar cube)\n",
      "     Scalar coordinates:\n",
      "          depth: 5.0 m, bound=(0.0, 10.0) m\n",
      "          latitude: -42.3291740417 degrees, bound=(-42.7943496704, -41.8639984131) degrees\n",
      "          longitude: 180.0 degrees, bound=(0.0, 360.0) degrees\n",
      "          time: 1941-07-02 12:00:00, bound=(1941-01-01 00:00:00, 1942-01-01 00:00:00)\n",
      "     Attributes:\n",
      "          CCCma_data_licence: 1) GRANT OF LICENCE - The Government of Canada (Environment Canada) is...\n",
      "          CCCma_parent_runid: IGA\n",
      "          CCCma_runid: IGM\n",
      "          Conventions: CF-1.5\n",
      "          associated_files: baseURL: http://cmip-pcmdi.llnl.gov/CMIP5/dataLocation gridspecFile: gridspec_ocean_fx_CanESM2_historical_r0i0p0.nc...\n",
      "          branch_time: 171915.0\n",
      "          branch_time_YMDH: 2321:01:01:00\n",
      "          cmor_version: 2.5.4\n",
      "          contact: cccma_info@ec.gc.ca\n",
      "          creation_date: 2011-03-28T14:13:14Z\n",
      "          drift_removal: Masked 0 of 1966080 points because cubic fit was poor\n",
      "          experiment: historical\n",
      "          experiment_id: historical\n",
      "          forcing: GHG,Oz,SA,BC,OC,LU,Sl,Vl (GHG includes CO2,CH4,N2O,CFC11,effective CFC...\n",
      "          frequency: mon\n",
      "          history: Thu Oct 27 12:29:39 2016: /g/data/r87/dbi599/miniconda2/envs/default/bin/python...\n",
      "          initialization_method: 1\n",
      "          institute_id: CCCma\n",
      "          institution: CCCma (Canadian Centre for Climate Modelling and Analysis, Victoria, BC,...\n",
      "          model_id: CanESM2\n",
      "          modeling_realm: ocean\n",
      "          original_name: TEMP\n",
      "          parent_experiment: pre-industrial control\n",
      "          parent_experiment_id: piControl\n",
      "          parent_experiment_rip: r1i1p1\n",
      "          physics_version: 1\n",
      "          product: output\n",
      "          project_id: CMIP5\n",
      "          realization: 1\n",
      "          references: http://www.cccma.ec.gc.ca/models\n",
      "          source: CanESM2 2010 atmosphere: CanAM4 (AGCM15i, T63L35) ocean: CanOM4 (OGCM4.0,...\n",
      "          table_id: Table Omon (31 January 2011) d2d6beec2b8fea5bbed33920a6e08bbe\n",
      "          title: CanESM2 model output prepared for CMIP5 historical\n",
      "          tracking_id: f42b9b15-7789-4c45-bf92-c8ebc3665665\n",
      "     Cell methods:\n",
      "          mean: time (20 minutes)\n",
      "          mean: year\n",
      "          mean: longitude\n"
     ]
    }
   ],
   "source": [
    "print easy_zonal_mean_cube[0, 50]"
   ]
  },
  {
   "cell_type": "code",
   "execution_count": 114,
   "metadata": {
    "collapsed": false
   },
   "outputs": [
    {
     "name": "stdout",
     "output_type": "stream",
     "text": [
      "283.637042548\n",
      "283.666666667\n"
     ]
    }
   ],
   "source": [
    "print easy_zonal_mean_cube.data[0, 50]\n",
    "print raw_data_cube.data[0,0,50,:].mean()"
   ]
  },
  {
   "cell_type": "code",
   "execution_count": 117,
   "metadata": {
    "collapsed": false
   },
   "outputs": [
    {
     "name": "stdout",
     "output_type": "stream",
     "text": [
      "[2809.199951171875 3889.7998046875 4650.599609375 4650.599609375\n",
      " 4650.599609375 4650.599609375 4650.599609375 4650.599609375 4650.599609375\n",
      " 4650.599609375 5038.0 5038.0 4650.599609375 5038.0 5038.0 5038.0\n",
      " 4650.599609375 4267.39990234375 4267.39990234375 4267.39990234375 5038.0\n",
      " 5038.0 5038.0 5038.0 4650.599609375 4267.39990234375 4267.39990234375\n",
      " 3889.7998046875 3158.39990234375 2474.7998046875 2474.7998046875\n",
      " 2809.199951171875 2809.199951171875 3158.39990234375 3158.39990234375\n",
      " 3158.39990234375 3519.39990234375 4267.39990234375 4650.599609375\n",
      " 4650.599609375 5038.0 5038.0 5038.0 5038.0 5038.0 4650.599609375\n",
      " 4267.39990234375 4267.39990234375 4267.39990234375 4267.39990234375\n",
      " 3889.7998046875 3889.7998046875 3519.39990234375 3158.39990234375\n",
      " 3158.39990234375 3158.39990234375 3158.39990234375 3158.39990234375\n",
      " 3158.39990234375 3158.39990234375 3158.39990234375 3158.39990234375\n",
      " 3158.39990234375 3158.39990234375 3158.39990234375 3158.39990234375\n",
      " 3158.39990234375 3519.39990234375 3519.39990234375 3519.39990234375\n",
      " 3519.39990234375 3519.39990234375 3519.39990234375 3519.39990234375\n",
      " 3889.7998046875 3889.7998046875 3889.7998046875 3889.7998046875\n",
      " 3889.7998046875 4267.39990234375 4267.39990234375 4650.599609375\n",
      " 4650.599609375 4650.599609375 4650.599609375 4650.599609375 4650.599609375\n",
      " 4650.599609375 4650.599609375 4650.599609375 5038.0 5038.0 5038.0\n",
      " 4650.599609375 4650.599609375 4650.599609375 4650.599609375 4650.599609375\n",
      " 5038.0 5038.0 5038.0 4267.39990234375 2474.7998046875 1134.7999267578125\n",
      " 949.3999633789062 1349.39990234375 3889.7998046875 4267.39990234375\n",
      " 4650.599609375 4650.599609375 4650.599609375 4650.599609375 5038.0 5038.0\n",
      " 5038.0 4650.599609375 3889.7998046875 2474.7998046875 2474.7998046875\n",
      " 1134.7999267578125 661.3999633789062 -- -- 949.3999633789062\n",
      " 949.3999633789062 1349.39990234375 1349.39990234375 1592.7999267578125\n",
      " 1863.39990234375 1863.39990234375 2158.39990234375 2474.7998046875\n",
      " 2474.7998046875 2474.7998046875 2809.199951171875 3158.39990234375\n",
      " 3889.7998046875 5038.0 5038.0 5038.0 4650.599609375 5038.0 5038.0\n",
      " 4650.599609375 5038.0 5038.0 5038.0 5038.0 5038.0 5038.0 5428.599609375\n",
      " 5428.599609375 5428.599609375 5428.599609375 5428.599609375 5428.599609375\n",
      " 5428.599609375 5038.0 5038.0 5038.0 5038.0 5038.0 5038.0 4650.599609375\n",
      " 4650.599609375 4650.599609375 4650.599609375 4267.39990234375\n",
      " 4267.39990234375 4267.39990234375 4267.39990234375 4267.39990234375\n",
      " 3889.7998046875 3889.7998046875 3519.39990234375 2809.199951171875\n",
      " 2809.199951171875 3158.39990234375 3519.39990234375 3519.39990234375\n",
      " 3519.39990234375 3889.7998046875 3889.7998046875 3889.7998046875\n",
      " 4267.39990234375 4267.39990234375 4267.39990234375 4267.39990234375\n",
      " 4267.39990234375 4267.39990234375 3889.7998046875 3889.7998046875\n",
      " 3519.39990234375 3519.39990234375 3519.39990234375 3519.39990234375\n",
      " 3519.39990234375 3519.39990234375 3889.7998046875 3889.7998046875\n",
      " 3889.7998046875 3889.7998046875 2158.39990234375 -- -- -- -- -- -- -- --\n",
      " 202.79998779296875 202.79998779296875 202.79998779296875 554.0\n",
      " 2474.7998046875 4267.39990234375 5038.0 5038.0 5038.0 5038.0 5038.0 5038.0\n",
      " 5038.0 5038.0 5428.599609375 5428.599609375 5428.599609375 5428.599609375\n",
      " 5038.0 5038.0 5038.0 5038.0 5038.0 5038.0 4650.599609375 4650.599609375\n",
      " 4267.39990234375 4267.39990234375 3889.7998046875 3889.7998046875\n",
      " 3519.39990234375 3519.39990234375 3158.39990234375 2809.199951171875\n",
      " 3158.39990234375 3158.39990234375 3519.39990234375 3519.39990234375\n",
      " 3889.7998046875 3889.7998046875 4267.39990234375 4267.39990234375\n",
      " 4267.39990234375 4267.39990234375 3158.39990234375]\n"
     ]
    }
   ],
   "source": [
    "print depth_cube.data[50,:]"
   ]
  },
  {
   "cell_type": "markdown",
   "metadata": {},
   "source": [
    "## Case 2: No depth file\n",
    "\n",
    "This case also applies for curvilinear grids, since calculating the vertical mean field requires regridding to a rectilinear grid first, rendering the depth file useless."
   ]
  },
  {
   "cell_type": "code",
   "execution_count": 119,
   "metadata": {
    "collapsed": false
   },
   "outputs": [
    {
     "name": "stdout",
     "output_type": "stream",
     "text": [
      "sea_water_potential_temperature / (K) (depth: 40; latitude: 192; longitude: 256)\n",
      "     Dimension coordinates:\n",
      "          depth                             x             -               -\n",
      "          latitude                          -             x               -\n",
      "          longitude                         -             -               x\n",
      "     Scalar coordinates:\n",
      "          time: 1941-07-02 12:00:00, bound=(1941-01-01 00:00:00, 1942-01-01 00:00:00)\n",
      "     Attributes:\n",
      "          CCCma_data_licence: 1) GRANT OF LICENCE - The Government of Canada (Environment Canada) is...\n",
      "          CCCma_parent_runid: IGA\n",
      "          CCCma_runid: IGM\n",
      "          Conventions: CF-1.5\n",
      "          associated_files: baseURL: http://cmip-pcmdi.llnl.gov/CMIP5/dataLocation gridspecFile: gridspec_ocean_fx_CanESM2_historical_r0i0p0.nc...\n",
      "          branch_time: 171915.0\n",
      "          branch_time_YMDH: 2321:01:01:00\n",
      "          cmor_version: 2.5.4\n",
      "          contact: cccma_info@ec.gc.ca\n",
      "          creation_date: 2011-03-28T14:13:14Z\n",
      "          drift_removal: Masked 0 of 1966080 points because cubic fit was poor\n",
      "          experiment: historical\n",
      "          experiment_id: historical\n",
      "          forcing: GHG,Oz,SA,BC,OC,LU,Sl,Vl (GHG includes CO2,CH4,N2O,CFC11,effective CFC...\n",
      "          frequency: mon\n",
      "          history: Thu Oct 27 12:29:39 2016: /g/data/r87/dbi599/miniconda2/envs/default/bin/python...\n",
      "          initialization_method: 1\n",
      "          institute_id: CCCma\n",
      "          institution: CCCma (Canadian Centre for Climate Modelling and Analysis, Victoria, BC,...\n",
      "          model_id: CanESM2\n",
      "          modeling_realm: ocean\n",
      "          original_name: TEMP\n",
      "          parent_experiment: pre-industrial control\n",
      "          parent_experiment_id: piControl\n",
      "          parent_experiment_rip: r1i1p1\n",
      "          physics_version: 1\n",
      "          product: output\n",
      "          project_id: CMIP5\n",
      "          realization: 1\n",
      "          references: http://www.cccma.ec.gc.ca/models\n",
      "          source: CanESM2 2010 atmosphere: CanAM4 (AGCM15i, T63L35) ocean: CanOM4 (OGCM4.0,...\n",
      "          table_id: Table Omon (31 January 2011) d2d6beec2b8fea5bbed33920a6e08bbe\n",
      "          title: CanESM2 model output prepared for CMIP5 historical\n",
      "          tracking_id: f42b9b15-7789-4c45-bf92-c8ebc3665665\n",
      "     Cell methods:\n",
      "          mean: time (20 minutes)\n",
      "          mean: year\n"
     ]
    }
   ],
   "source": [
    "print raw_data_cube[0,...]"
   ]
  },
  {
   "cell_type": "code",
   "execution_count": 125,
   "metadata": {
    "collapsed": false
   },
   "outputs": [
    {
     "name": "stdout",
     "output_type": "stream",
     "text": [
      "(40, 192, 256)\n",
      "3\n"
     ]
    }
   ],
   "source": [
    "#numpy.nonzero(m.mask)\n",
    "mask = raw_data_cube[0,...].data.mask\n",
    "print mask.shape\n",
    "indices = numpy.nonzero(mask)\n",
    "print len(indices)"
   ]
  },
  {
   "cell_type": "code",
   "execution_count": 132,
   "metadata": {
    "collapsed": false
   },
   "outputs": [
    {
     "data": {
      "text/plain": [
       "(890784, 3)"
      ]
     },
     "execution_count": 132,
     "metadata": {},
     "output_type": "execute_result"
    }
   ],
   "source": [
    "numpy.transpose(indices).shape"
   ]
  },
  {
   "cell_type": "code",
   "execution_count": 130,
   "metadata": {
    "collapsed": false
   },
   "outputs": [
    {
     "data": {
      "text/plain": [
       "1966080"
      ]
     },
     "execution_count": 130,
     "metadata": {},
     "output_type": "execute_result"
    }
   ],
   "source": [
    "192 * 256 *40"
   ]
  },
  {
   "cell_type": "code",
   "execution_count": null,
   "metadata": {
    "collapsed": true
   },
   "outputs": [],
   "source": [
    "def get_depth(cube, depth_axis):\n",
    "    "
   ]
  }
 ],
 "metadata": {
  "kernelspec": {
   "display_name": "Python 2",
   "language": "python",
   "name": "python2"
  },
  "language_info": {
   "codemirror_mode": {
    "name": "ipython",
    "version": 2
   },
   "file_extension": ".py",
   "mimetype": "text/x-python",
   "name": "python",
   "nbconvert_exporter": "python",
   "pygments_lexer": "ipython2",
   "version": "2.7.12"
  }
 },
 "nbformat": 4,
 "nbformat_minor": 0
}
