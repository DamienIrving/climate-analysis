{
 "cells": [
  {
   "cell_type": "code",
   "execution_count": 11,
   "metadata": {
    "collapsed": true
   },
   "outputs": [],
   "source": [
    "data_file = '/Users/irv033/Downloads/data/thetao_Omon_IPSL-CM5A-LR_historicalMisc_r1i1p3_185001-189912.nc'\n",
    "\n",
    "#data_file = '/Users/irv033/Downloads/data/thetao-maps_Omon_IPSL-CM5A-LR_historicalMisc_r1i1p3_all.nc'\n",
    "#depth_file = '/Users/irv033/Downloads/data/deptho_fx_IPSL-CM5A-LR_historicalMisc_r0i0p0.nc'"
   ]
  },
  {
   "cell_type": "code",
   "execution_count": 12,
   "metadata": {
    "collapsed": true
   },
   "outputs": [],
   "source": [
    "import iris"
   ]
  },
  {
   "cell_type": "markdown",
   "metadata": {},
   "source": [
    "## Case 1: No depth file\n",
    "\n",
    "This case also applies for curvilinear grids, since calculating the vertical mean field requires regridding to a rectilinear grid first, rendering the depth file useless."
   ]
  },
  {
   "cell_type": "code",
   "execution_count": 14,
   "metadata": {
    "collapsed": false
   },
   "outputs": [],
   "source": [
    "data_cube = iris.load_cube(data_file, 'sea_water_potential_temperature')"
   ]
  },
  {
   "cell_type": "code",
   "execution_count": 15,
   "metadata": {
    "collapsed": false
   },
   "outputs": [
    {
     "name": "stdout",
     "output_type": "stream",
     "text": [
      "sea_water_potential_temperature          (time: 600; depth: 31; cell index along second dimension: 149; cell index along first dimension: 182)\n",
      "     Dimension coordinates:\n",
      "          time                                  x           -                                      -                                      -\n",
      "          depth                                 -           x                                      -                                      -\n",
      "          cell index along second dimension     -           -                                      x                                      -\n",
      "          cell index along first dimension      -           -                                      -                                      x\n",
      "     Auxiliary coordinates:\n",
      "          latitude                            -           -                                      x                                      x\n",
      "          longitude                           -           -                                      x                                      x\n",
      "     Attributes:\n",
      "          Conventions: CF-1.5\n",
      "          associated_files: baseURL: http://cmip-pcmdi.llnl.gov/CMIP5/dataLocation gridspecFile: gridspec_ocean_fx_IPSL-CM5A-LR_historicalMisc_r0i0p0.nc...\n",
      "          branch_time: 1850.0\n",
      "          cmor_version: 2.7.1\n",
      "          comment: This 20th century simulation only include Anthropogenic Aerosols forci...\n",
      "          contact: ipsl-cmip5 _at_ ipsl.jussieu.fr Data manager : Sebastien Denvil\n",
      "          creation_date: 2011-09-27T05:07:28Z\n",
      "          experiment: other historical forcing\n",
      "          experiment_id: historicalMisc\n",
      "          forcing: AA\n",
      "          frequency: mon\n",
      "          history: Mon Jul 18 08:54:22 2016: /g/data/r87/dbi599/miniconda2/envs/default/bin/python...\n",
      "          initialization_method: 1\n",
      "          institute_id: IPSL\n",
      "          institution: IPSL (Institut Pierre Simon Laplace, Paris, France)\n",
      "          model_id: IPSL-CM5A-LR\n",
      "          modeling_realm: ocean\n",
      "          original_name: votemper\n",
      "          original_units: degC\n",
      "          parent_experiment: pre-industrial control\n",
      "          parent_experiment_id: piControl\n",
      "          parent_experiment_rip: r1i1p1\n",
      "          physics_version: 3\n",
      "          product: output\n",
      "          project_id: CMIP5\n",
      "          realization: 1\n",
      "          references: Model documentation and further reference available here : http://icmc...\n",
      "          source: IPSL-CM5A-LR (2010) : atmos : LMDZ4 (LMDZ4_v5, 96x95x39); ocean : ORCA2...\n",
      "          table_id: Table Omon (31 January 2011) d2d6beec2b8fea5bbed33920a6e08bbe\n",
      "          title: IPSL-CM5A-LR model output prepared for CMIP5 other historical forcing\n",
      "          tracking_id: 8dafec6c-8c9d-45b6-9aa4-5dba1cda0832\n",
      "     Cell methods:\n",
      "          mean: time (30 minutes)\n"
     ]
    }
   ],
   "source": [
    "print data_cube"
   ]
  },
  {
   "cell_type": "code",
   "execution_count": 9,
   "metadata": {
    "collapsed": false
   },
   "outputs": [
    {
     "name": "stderr",
     "output_type": "stream",
     "text": [
      "/Applications/anaconda/envs/default/lib/python2.7/site-packages/iris/fileformats/cf.py:794: UserWarning: Missing CF-netCDF measure variable u'areacello', referenced by netCDF variable u'deptho'\n",
      "  warnings.warn(message % (variable_name, nc_var_name))\n"
     ]
    }
   ],
   "source": [
    "depth_cube = iris.load_cube(depth_file)"
   ]
  },
  {
   "cell_type": "code",
   "execution_count": 10,
   "metadata": {
    "collapsed": false
   },
   "outputs": [
    {
     "name": "stdout",
     "output_type": "stream",
     "text": [
      "sea_floor_depth_below_geoid / (m)   (cell index along second dimension: 149; cell index along first dimension: 182)\n",
      "     Dimension coordinates:\n",
      "          cell index along second dimension                           x                                      -\n",
      "          cell index along first dimension                            -                                      x\n",
      "     Auxiliary coordinates:\n",
      "          latitude                                                    x                                      x\n",
      "          longitude                                                   x                                      x\n",
      "     Attributes:\n",
      "          Conventions: CF-1.4\n",
      "          associated_files: baseURL: http://cmip-pcmdi.llnl.gov/CMIP5/dataLocation gridspecFile: gridspec_ocean_fx_IPSL-CM5A-LR_historicalMisc_r0i0p0.nc...\n",
      "          branch_time: 1870.0\n",
      "          cmor_version: 2.7.1\n",
      "          comment: Ocean bathymetry.   Reported here is the sea floor depth for present day....\n",
      "          contact: ipsl-cmip5 _at_ ipsl.jussieu.fr Data manager : Sebastien Denvil\n",
      "          creation_date: 2012-04-14T16:06:09Z\n",
      "          experiment: other historical forcing\n",
      "          experiment_id: historicalMisc\n",
      "          forcing: Ant\n",
      "          frequency: fx\n",
      "          history: 2012-04-14T16:06:09Z altered by CMOR: Converted units from 'meters' to...\n",
      "          initialization_method: 0\n",
      "          institute_id: IPSL\n",
      "          institution: IPSL (Institut Pierre Simon Laplace, Paris, France)\n",
      "          model_id: IPSL-CM5A-LR\n",
      "          modeling_realm: ocean\n",
      "          original_name: BATHY\n",
      "          original_units: meters\n",
      "          parent_experiment: pre-industrial control\n",
      "          parent_experiment_id: piControl\n",
      "          parent_experiment_rip: r1i1p1\n",
      "          physics_version: 0\n",
      "          product: output\n",
      "          project_id: CMIP5\n",
      "          realization: 0\n",
      "          references: Model documentation and further reference available here : http://icmc...\n",
      "          source: IPSL-CM5A-LR (2010) : atmos : LMDZ4 (LMDZ4_v5, 96x95x39); ocean : ORCA2...\n",
      "          table_id: Table fx (31 January 2011) dd5903eb1b6f5aa24d6d6dd1679cef9d\n",
      "          title: IPSL-CM5A-LR model output prepared for CMIP5 other historical forcing\n",
      "          tracking_id: c6d85b22-631b-4891-a2b9-2eb39f3b09bb\n"
     ]
    }
   ],
   "source": [
    "print depth_cube"
   ]
  },
  {
   "cell_type": "code",
   "execution_count": null,
   "metadata": {
    "collapsed": true
   },
   "outputs": [],
   "source": []
  }
 ],
 "metadata": {
  "kernelspec": {
   "display_name": "Python 2",
   "language": "python",
   "name": "python2"
  },
  "language_info": {
   "codemirror_mode": {
    "name": "ipython",
    "version": 2
   },
   "file_extension": ".py",
   "mimetype": "text/x-python",
   "name": "python",
   "nbconvert_exporter": "python",
   "pygments_lexer": "ipython2",
   "version": "2.7.12"
  }
 },
 "nbformat": 4,
 "nbformat_minor": 0
}
