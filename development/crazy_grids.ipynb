{
 "cells": [
  {
   "cell_type": "markdown",
   "metadata": {},
   "source": [
    "# Iris"
   ]
  },
  {
   "cell_type": "markdown",
   "metadata": {},
   "source": [
    "## Read the data"
   ]
  },
  {
   "cell_type": "code",
   "execution_count": 1,
   "metadata": {
    "collapsed": true
   },
   "outputs": [],
   "source": [
    "import iris\n",
    "import numpy"
   ]
  },
  {
   "cell_type": "code",
   "execution_count": 5,
   "metadata": {
    "collapsed": true
   },
   "outputs": [],
   "source": [
    "infile = \"/g/data/ua6/drstree/CMIP5/GCM/CSIRO-BOM/ACCESS1-0/historical/mon/ocean/thetao/r1i1p1/thetao_Omon_ACCESS1-0_historical_r1i1p1_186501-186912.nc\""
   ]
  },
  {
   "cell_type": "code",
   "execution_count": 3,
   "metadata": {
    "collapsed": true
   },
   "outputs": [],
   "source": [
    "def lat_subset(cell):\n",
    "    return -10 < cell < 10\n",
    "\n",
    "def lon_subset(cell):\n",
    "    return 30 < cell < 70\n",
    "\n",
    "lat_constraint = iris.Constraint(latitude=lat_subset)\n",
    "lon_constraint = iris.Constraint(longitude=lon_subset)"
   ]
  },
  {
   "cell_type": "markdown",
   "metadata": {},
   "source": [
    "If I want to process the data on the native model grid, then you can't subset via lat and lon..."
   ]
  },
  {
   "cell_type": "code",
   "execution_count": 4,
   "metadata": {
    "collapsed": false
   },
   "outputs": [
    {
     "name": "stderr",
     "output_type": "stream",
     "text": [
      "/g/data/r87/dbi599/miniconda2/envs/default/lib/python2.7/site-packages/iris/fileformats/cf.py:794: UserWarning: Missing CF-netCDF measure variable u'areacello', referenced by netCDF variable u'thetao'\n",
      "  warnings.warn(message % (variable_name, nc_var_name))\n",
      "/g/data/r87/dbi599/miniconda2/envs/default/lib/python2.7/site-packages/iris/fileformats/cf.py:794: UserWarning: Missing CF-netCDF measure variable u'volcello', referenced by netCDF variable u'thetao'\n",
      "  warnings.warn(message % (variable_name, nc_var_name))\n",
      "/g/data/r87/dbi599/miniconda2/envs/default/lib/python2.7/site-packages/iris/fileformats/cf.py:1139: UserWarning: NetCDF default loading behaviour currently does not expose variables which define reference surfaces for dimensionless vertical coordinates as independent Cubes. This behaviour is deprecated in favour of automatic promotion to Cubes. To switch to the new behaviour, set iris.FUTURE.netcdf_promote to True.\n",
      "  warnings.warn(msg)\n"
     ]
    },
    {
     "ename": "CoordinateMultiDimError",
     "evalue": "Cannot apply constraints to multidimensional coordinates",
     "output_type": "error",
     "traceback": [
      "\u001b[1;31m---------------------------------------------------------------------------\u001b[0m",
      "\u001b[1;31mCoordinateMultiDimError\u001b[0m                   Traceback (most recent call last)",
      "\u001b[1;32m<ipython-input-4-80c7d690845f>\u001b[0m in \u001b[0;36m<module>\u001b[1;34m()\u001b[0m\n\u001b[0;32m      1\u001b[0m \u001b[1;32mwith\u001b[0m \u001b[0miris\u001b[0m\u001b[1;33m.\u001b[0m\u001b[0mFUTURE\u001b[0m\u001b[1;33m.\u001b[0m\u001b[0mcontext\u001b[0m\u001b[1;33m(\u001b[0m\u001b[0mcell_datetime_objects\u001b[0m\u001b[1;33m=\u001b[0m\u001b[0mTrue\u001b[0m\u001b[1;33m)\u001b[0m\u001b[1;33m:\u001b[0m\u001b[1;33m\u001b[0m\u001b[0m\n\u001b[1;32m----> 2\u001b[1;33m     \u001b[0mcube\u001b[0m \u001b[1;33m=\u001b[0m \u001b[0miris\u001b[0m\u001b[1;33m.\u001b[0m\u001b[0mload_cube\u001b[0m\u001b[1;33m(\u001b[0m\u001b[0minfile\u001b[0m\u001b[1;33m,\u001b[0m \u001b[1;34m'sea_water_potential_temperature'\u001b[0m \u001b[1;33m&\u001b[0m \u001b[0mlat_constraint\u001b[0m \u001b[1;33m&\u001b[0m \u001b[0mlon_constraint\u001b[0m\u001b[1;33m)\u001b[0m\u001b[1;33m\u001b[0m\u001b[0m\n\u001b[0m",
      "\u001b[1;32m/g/data/r87/dbi599/miniconda2/envs/default/lib/python2.7/site-packages/iris/__init__.pyc\u001b[0m in \u001b[0;36mload_cube\u001b[1;34m(uris, constraint, callback)\u001b[0m\n\u001b[0;32m    334\u001b[0m         \u001b[1;32mraise\u001b[0m \u001b[0mValueError\u001b[0m\u001b[1;33m(\u001b[0m\u001b[1;34m'only a single constraint is allowed'\u001b[0m\u001b[1;33m)\u001b[0m\u001b[1;33m\u001b[0m\u001b[0m\n\u001b[0;32m    335\u001b[0m \u001b[1;33m\u001b[0m\u001b[0m\n\u001b[1;32m--> 336\u001b[1;33m     \u001b[0mcubes\u001b[0m \u001b[1;33m=\u001b[0m \u001b[0m_load_collection\u001b[0m\u001b[1;33m(\u001b[0m\u001b[0muris\u001b[0m\u001b[1;33m,\u001b[0m \u001b[0mconstraints\u001b[0m\u001b[1;33m,\u001b[0m \u001b[0mcallback\u001b[0m\u001b[1;33m)\u001b[0m\u001b[1;33m.\u001b[0m\u001b[0mmerged\u001b[0m\u001b[1;33m(\u001b[0m\u001b[1;33m)\u001b[0m\u001b[1;33m.\u001b[0m\u001b[0mcubes\u001b[0m\u001b[1;33m(\u001b[0m\u001b[1;33m)\u001b[0m\u001b[1;33m\u001b[0m\u001b[0m\n\u001b[0m\u001b[0;32m    337\u001b[0m \u001b[1;33m\u001b[0m\u001b[0m\n\u001b[0;32m    338\u001b[0m     \u001b[1;32mtry\u001b[0m\u001b[1;33m:\u001b[0m\u001b[1;33m\u001b[0m\u001b[0m\n",
      "\u001b[1;32m/g/data/r87/dbi599/miniconda2/envs/default/lib/python2.7/site-packages/iris/__init__.pyc\u001b[0m in \u001b[0;36m_load_collection\u001b[1;34m(uris, constraints, callback)\u001b[0m\n\u001b[0;32m    274\u001b[0m     \u001b[1;32mtry\u001b[0m\u001b[1;33m:\u001b[0m\u001b[1;33m\u001b[0m\u001b[0m\n\u001b[0;32m    275\u001b[0m         \u001b[0mcubes\u001b[0m \u001b[1;33m=\u001b[0m \u001b[0m_generate_cubes\u001b[0m\u001b[1;33m(\u001b[0m\u001b[0muris\u001b[0m\u001b[1;33m,\u001b[0m \u001b[0mcallback\u001b[0m\u001b[1;33m,\u001b[0m \u001b[0mconstraints\u001b[0m\u001b[1;33m)\u001b[0m\u001b[1;33m\u001b[0m\u001b[0m\n\u001b[1;32m--> 276\u001b[1;33m         \u001b[0mresult\u001b[0m \u001b[1;33m=\u001b[0m \u001b[0miris\u001b[0m\u001b[1;33m.\u001b[0m\u001b[0mcube\u001b[0m\u001b[1;33m.\u001b[0m\u001b[0m_CubeFilterCollection\u001b[0m\u001b[1;33m.\u001b[0m\u001b[0mfrom_cubes\u001b[0m\u001b[1;33m(\u001b[0m\u001b[0mcubes\u001b[0m\u001b[1;33m,\u001b[0m \u001b[0mconstraints\u001b[0m\u001b[1;33m)\u001b[0m\u001b[1;33m\u001b[0m\u001b[0m\n\u001b[0m\u001b[0;32m    277\u001b[0m     \u001b[1;32mexcept\u001b[0m \u001b[0mEOFError\u001b[0m \u001b[1;32mas\u001b[0m \u001b[0me\u001b[0m\u001b[1;33m:\u001b[0m\u001b[1;33m\u001b[0m\u001b[0m\n\u001b[0;32m    278\u001b[0m         raise iris.exceptions.TranslationError(\n",
      "\u001b[1;32m/g/data/r87/dbi599/miniconda2/envs/default/lib/python2.7/site-packages/iris/cube.pyc\u001b[0m in \u001b[0;36mfrom_cubes\u001b[1;34m(cubes, constraints)\u001b[0m\n\u001b[0;32m    142\u001b[0m         \u001b[0mcollection\u001b[0m \u001b[1;33m=\u001b[0m \u001b[0m_CubeFilterCollection\u001b[0m\u001b[1;33m(\u001b[0m\u001b[0mpairs\u001b[0m\u001b[1;33m)\u001b[0m\u001b[1;33m\u001b[0m\u001b[0m\n\u001b[0;32m    143\u001b[0m         \u001b[1;32mfor\u001b[0m \u001b[0mcube\u001b[0m \u001b[1;32min\u001b[0m \u001b[0mcubes\u001b[0m\u001b[1;33m:\u001b[0m\u001b[1;33m\u001b[0m\u001b[0m\n\u001b[1;32m--> 144\u001b[1;33m             \u001b[0mcollection\u001b[0m\u001b[1;33m.\u001b[0m\u001b[0madd_cube\u001b[0m\u001b[1;33m(\u001b[0m\u001b[0mcube\u001b[0m\u001b[1;33m)\u001b[0m\u001b[1;33m\u001b[0m\u001b[0m\n\u001b[0m\u001b[0;32m    145\u001b[0m         \u001b[1;32mreturn\u001b[0m \u001b[0mcollection\u001b[0m\u001b[1;33m\u001b[0m\u001b[0m\n\u001b[0;32m    146\u001b[0m \u001b[1;33m\u001b[0m\u001b[0m\n",
      "\u001b[1;32m/g/data/r87/dbi599/miniconda2/envs/default/lib/python2.7/site-packages/iris/cube.pyc\u001b[0m in \u001b[0;36madd_cube\u001b[1;34m(self, cube)\u001b[0m\n\u001b[0;32m    155\u001b[0m         \"\"\"\n\u001b[0;32m    156\u001b[0m         \u001b[1;32mfor\u001b[0m \u001b[0mpair\u001b[0m \u001b[1;32min\u001b[0m \u001b[0mself\u001b[0m\u001b[1;33m.\u001b[0m\u001b[0mpairs\u001b[0m\u001b[1;33m:\u001b[0m\u001b[1;33m\u001b[0m\u001b[0m\n\u001b[1;32m--> 157\u001b[1;33m             \u001b[0mpair\u001b[0m\u001b[1;33m.\u001b[0m\u001b[0madd\u001b[0m\u001b[1;33m(\u001b[0m\u001b[0mcube\u001b[0m\u001b[1;33m)\u001b[0m\u001b[1;33m\u001b[0m\u001b[0m\n\u001b[0m\u001b[0;32m    158\u001b[0m \u001b[1;33m\u001b[0m\u001b[0m\n\u001b[0;32m    159\u001b[0m     \u001b[1;32mdef\u001b[0m \u001b[0mcubes\u001b[0m\u001b[1;33m(\u001b[0m\u001b[0mself\u001b[0m\u001b[1;33m)\u001b[0m\u001b[1;33m:\u001b[0m\u001b[1;33m\u001b[0m\u001b[0m\n",
      "\u001b[1;32m/g/data/r87/dbi599/miniconda2/envs/default/lib/python2.7/site-packages/iris/cube.pyc\u001b[0m in \u001b[0;36madd\u001b[1;34m(self, cube)\u001b[0m\n\u001b[0;32m    107\u001b[0m \u001b[1;33m\u001b[0m\u001b[0m\n\u001b[0;32m    108\u001b[0m         \"\"\"\n\u001b[1;32m--> 109\u001b[1;33m         \u001b[0msub_cube\u001b[0m \u001b[1;33m=\u001b[0m \u001b[0mself\u001b[0m\u001b[1;33m.\u001b[0m\u001b[0mconstraint\u001b[0m\u001b[1;33m.\u001b[0m\u001b[0mextract\u001b[0m\u001b[1;33m(\u001b[0m\u001b[0mcube\u001b[0m\u001b[1;33m)\u001b[0m\u001b[1;33m\u001b[0m\u001b[0m\n\u001b[0m\u001b[0;32m    110\u001b[0m         \u001b[1;32mif\u001b[0m \u001b[0msub_cube\u001b[0m \u001b[1;32mis\u001b[0m \u001b[1;32mnot\u001b[0m \u001b[0mNone\u001b[0m\u001b[1;33m:\u001b[0m\u001b[1;33m\u001b[0m\u001b[0m\n\u001b[0;32m    111\u001b[0m             \u001b[0mself\u001b[0m\u001b[1;33m.\u001b[0m\u001b[0mcubes\u001b[0m\u001b[1;33m.\u001b[0m\u001b[0mappend\u001b[0m\u001b[1;33m(\u001b[0m\u001b[0msub_cube\u001b[0m\u001b[1;33m)\u001b[0m\u001b[1;33m\u001b[0m\u001b[0m\n",
      "\u001b[1;32m/g/data/r87/dbi599/miniconda2/envs/default/lib/python2.7/site-packages/iris/_constraints.pyc\u001b[0m in \u001b[0;36mextract\u001b[1;34m(self, cube)\u001b[0m\n\u001b[0;32m    149\u001b[0m \u001b[1;33m\u001b[0m\u001b[0m\n\u001b[0;32m    150\u001b[0m         \"\"\"\n\u001b[1;32m--> 151\u001b[1;33m         \u001b[0mresultant_CIM\u001b[0m \u001b[1;33m=\u001b[0m \u001b[0mself\u001b[0m\u001b[1;33m.\u001b[0m\u001b[0m_CIM_extract\u001b[0m\u001b[1;33m(\u001b[0m\u001b[0mcube\u001b[0m\u001b[1;33m)\u001b[0m\u001b[1;33m\u001b[0m\u001b[0m\n\u001b[0m\u001b[0;32m    152\u001b[0m         \u001b[0mslice_tuple\u001b[0m \u001b[1;33m=\u001b[0m \u001b[0mresultant_CIM\u001b[0m\u001b[1;33m.\u001b[0m\u001b[0mas_slice\u001b[0m\u001b[1;33m(\u001b[0m\u001b[1;33m)\u001b[0m\u001b[1;33m\u001b[0m\u001b[0m\n\u001b[0;32m    153\u001b[0m         \u001b[0mresult\u001b[0m \u001b[1;33m=\u001b[0m \u001b[0mNone\u001b[0m\u001b[1;33m\u001b[0m\u001b[0m\n",
      "\u001b[1;32m/g/data/r87/dbi599/miniconda2/envs/default/lib/python2.7/site-packages/iris/_constraints.pyc\u001b[0m in \u001b[0;36m_CIM_extract\u001b[1;34m(self, cube)\u001b[0m\n\u001b[0;32m    211\u001b[0m \u001b[1;33m\u001b[0m\u001b[0m\n\u001b[0;32m    212\u001b[0m     \u001b[1;32mdef\u001b[0m \u001b[0m_CIM_extract\u001b[0m\u001b[1;33m(\u001b[0m\u001b[0mself\u001b[0m\u001b[1;33m,\u001b[0m \u001b[0mcube\u001b[0m\u001b[1;33m)\u001b[0m\u001b[1;33m:\u001b[0m\u001b[1;33m\u001b[0m\u001b[0m\n\u001b[1;32m--> 213\u001b[1;33m         return self.operator(self.lhs._CIM_extract(cube),\n\u001b[0m\u001b[0;32m    214\u001b[0m                              self.rhs._CIM_extract(cube))\n\u001b[0;32m    215\u001b[0m \u001b[1;33m\u001b[0m\u001b[0m\n",
      "\u001b[1;32m/g/data/r87/dbi599/miniconda2/envs/default/lib/python2.7/site-packages/iris/_constraints.pyc\u001b[0m in \u001b[0;36m_CIM_extract\u001b[1;34m(self, cube)\u001b[0m\n\u001b[0;32m    212\u001b[0m     \u001b[1;32mdef\u001b[0m \u001b[0m_CIM_extract\u001b[0m\u001b[1;33m(\u001b[0m\u001b[0mself\u001b[0m\u001b[1;33m,\u001b[0m \u001b[0mcube\u001b[0m\u001b[1;33m)\u001b[0m\u001b[1;33m:\u001b[0m\u001b[1;33m\u001b[0m\u001b[0m\n\u001b[0;32m    213\u001b[0m         return self.operator(self.lhs._CIM_extract(cube),\n\u001b[1;32m--> 214\u001b[1;33m                              self.rhs._CIM_extract(cube))\n\u001b[0m\u001b[0;32m    215\u001b[0m \u001b[1;33m\u001b[0m\u001b[0m\n\u001b[0;32m    216\u001b[0m \u001b[1;33m\u001b[0m\u001b[0m\n",
      "\u001b[1;32m/g/data/r87/dbi599/miniconda2/envs/default/lib/python2.7/site-packages/iris/_constraints.pyc\u001b[0m in \u001b[0;36m_CIM_extract\u001b[1;34m(self, cube)\u001b[0m\n\u001b[0;32m    173\u001b[0m         \u001b[1;32melse\u001b[0m\u001b[1;33m:\u001b[0m\u001b[1;33m\u001b[0m\u001b[0m\n\u001b[0;32m    174\u001b[0m             \u001b[1;32mfor\u001b[0m \u001b[0mcoord_constraint\u001b[0m \u001b[1;32min\u001b[0m \u001b[0mself\u001b[0m\u001b[1;33m.\u001b[0m\u001b[0m_coord_constraints\u001b[0m\u001b[1;33m:\u001b[0m\u001b[1;33m\u001b[0m\u001b[0m\n\u001b[1;32m--> 175\u001b[1;33m                 \u001b[0mresultant_CIM\u001b[0m \u001b[1;33m=\u001b[0m \u001b[0mresultant_CIM\u001b[0m \u001b[1;33m&\u001b[0m \u001b[0mcoord_constraint\u001b[0m\u001b[1;33m.\u001b[0m\u001b[0mextract\u001b[0m\u001b[1;33m(\u001b[0m\u001b[0mcube\u001b[0m\u001b[1;33m)\u001b[0m\u001b[1;33m\u001b[0m\u001b[0m\n\u001b[0m\u001b[0;32m    176\u001b[0m \u001b[1;33m\u001b[0m\u001b[0m\n\u001b[0;32m    177\u001b[0m         \u001b[1;32mreturn\u001b[0m \u001b[0mresultant_CIM\u001b[0m\u001b[1;33m\u001b[0m\u001b[0m\n",
      "\u001b[1;32m/g/data/r87/dbi599/miniconda2/envs/default/lib/python2.7/site-packages/iris/_constraints.pyc\u001b[0m in \u001b[0;36mextract\u001b[1;34m(self, cube)\u001b[0m\n\u001b[0;32m    254\u001b[0m         \u001b[1;32mif\u001b[0m \u001b[0mlen\u001b[0m\u001b[1;33m(\u001b[0m\u001b[0mdims\u001b[0m\u001b[1;33m)\u001b[0m \u001b[1;33m>\u001b[0m \u001b[1;36m1\u001b[0m\u001b[1;33m:\u001b[0m\u001b[1;33m\u001b[0m\u001b[0m\n\u001b[0;32m    255\u001b[0m             \u001b[0mmsg\u001b[0m \u001b[1;33m=\u001b[0m \u001b[1;34m'Cannot apply constraints to multidimensional coordinates'\u001b[0m\u001b[1;33m\u001b[0m\u001b[0m\n\u001b[1;32m--> 256\u001b[1;33m             \u001b[1;32mraise\u001b[0m \u001b[0miris\u001b[0m\u001b[1;33m.\u001b[0m\u001b[0mexceptions\u001b[0m\u001b[1;33m.\u001b[0m\u001b[0mCoordinateMultiDimError\u001b[0m\u001b[1;33m(\u001b[0m\u001b[0mmsg\u001b[0m\u001b[1;33m)\u001b[0m\u001b[1;33m\u001b[0m\u001b[0m\n\u001b[0m\u001b[0;32m    257\u001b[0m \u001b[1;33m\u001b[0m\u001b[0m\n\u001b[0;32m    258\u001b[0m         \u001b[0mtry_quick\u001b[0m \u001b[1;33m=\u001b[0m \u001b[0mFalse\u001b[0m\u001b[1;33m\u001b[0m\u001b[0m\n",
      "\u001b[1;31mCoordinateMultiDimError\u001b[0m: Cannot apply constraints to multidimensional coordinates"
     ]
    }
   ],
   "source": [
    "with iris.FUTURE.context(cell_datetime_objects=True):\n",
    "    cube = iris.load_cube(infile, 'sea_water_potential_temperature' & lat_constraint & lon_constraint)"
   ]
  },
  {
   "cell_type": "markdown",
   "metadata": {},
   "source": [
    "But by depth is fine..."
   ]
  },
  {
   "cell_type": "code",
   "execution_count": 5,
   "metadata": {
    "collapsed": true
   },
   "outputs": [],
   "source": [
    "level_subset = lambda cell: cell <= 50\n",
    "level_constraint = iris.Constraint(depth=level_subset)"
   ]
  },
  {
   "cell_type": "code",
   "execution_count": 6,
   "metadata": {
    "collapsed": true
   },
   "outputs": [],
   "source": [
    "with iris.FUTURE.context(cell_datetime_objects=True):\n",
    "    cube = iris.load_cube(infile, 'sea_water_potential_temperature' & level_constraint)"
   ]
  },
  {
   "cell_type": "code",
   "execution_count": 7,
   "metadata": {
    "collapsed": false
   },
   "outputs": [
    {
     "name": "stdout",
     "output_type": "stream",
     "text": [
      "sea_water_potential_temperature          (time: 60; depth: 6; cell index along second dimension: 300; cell index along first dimension: 360)\n",
      "     Dimension coordinates:\n",
      "          time                                  x          -                                     -                                      -\n",
      "          depth                                 -          x                                     -                                      -\n",
      "          cell index along second dimension     -          -                                     x                                      -\n",
      "          cell index along first dimension      -          -                                     -                                      x\n",
      "     Auxiliary coordinates:\n",
      "          latitude                            -          -                                     x                                      x\n",
      "          longitude                           -          -                                     x                                      x\n",
      "     Attributes:\n",
      "          Conventions: CF-1.4\n",
      "          associated_files: baseURL: http://cmip-pcmdi.llnl.gov/CMIP5/dataLocation gridspecFile: gridspec_ocean_fx_ACCESS1-0_historical_r0i0p0.nc...\n",
      "          branch_time: 109207.0\n",
      "          cmor_version: 2.8.0\n",
      "          contact: The ACCESS wiki: http://wiki.csiro.au/confluence/display/ACCESS/Home. Contact...\n",
      "          creation_date: 2012-01-15T15:26:38Z\n",
      "          experiment: historical\n",
      "          experiment_id: historical\n",
      "          forcing: GHG, Oz, SA, Sl, Vl, BC, OC, (GHG = CO2, N2O, CH4, CFC11, CFC12, CFC113,...\n",
      "          frequency: mon\n",
      "          history: 2012-01-15T15:26:36Z altered by CMOR: Converted units from 'deg_C' to 'K'....\n",
      "          initialization_method: 1\n",
      "          institute_id: CSIRO-BOM\n",
      "          institution: CSIRO (Commonwealth Scientific and Industrial Research Organisation, Australia),...\n",
      "          model_id: ACCESS1-0\n",
      "          modeling_realm: ocean\n",
      "          original_units: deg_C\n",
      "          parent_experiment: pre-industrial control\n",
      "          parent_experiment_id: piControl\n",
      "          parent_experiment_rip: r1i1p1\n",
      "          physics_version: 1\n",
      "          product: output\n",
      "          project_id: CMIP5\n",
      "          realization: 1\n",
      "          references: See http://wiki.csiro.au/confluence/display/ACCESS/ACCESS+Publications\n",
      "          source: ACCESS1-0 2011. Atmosphere: AGCM v1.0 (N96 grid-point, 1.875 degrees EW...\n",
      "          table_id: Table Omon (27 April 2011) 694b38a3f68f18e58ba80230aa4746ea\n",
      "          title: ACCESS1-0 model output prepared for CMIP5 historical\n",
      "          tracking_id: 4b444b5a-95ce-47b3-8138-5a7811823450\n",
      "          version_number: v20120115\n",
      "     Cell methods:\n",
      "          mean: time\n"
     ]
    }
   ],
   "source": [
    "print cube"
   ]
  },
  {
   "cell_type": "code",
   "execution_count": 31,
   "metadata": {
    "collapsed": false
   },
   "outputs": [],
   "source": [
    "coords = cube.coords(dim_coords=True)"
   ]
  },
  {
   "cell_type": "code",
   "execution_count": 33,
   "metadata": {
    "collapsed": false
   },
   "outputs": [
    {
     "name": "stdout",
     "output_type": "stream",
     "text": [
      "<class 'iris.coords.DimCoord'>\n",
      "<class 'iris.coords.DimCoord'>\n",
      "4\n"
     ]
    }
   ],
   "source": [
    "print type(coords[0])\n",
    "print type(coords[-1])\n",
    "print len(coords)"
   ]
  },
  {
   "cell_type": "code",
   "execution_count": 36,
   "metadata": {
    "collapsed": false
   },
   "outputs": [],
   "source": [
    "aux_coords = cube.aux_coords"
   ]
  },
  {
   "cell_type": "code",
   "execution_count": 38,
   "metadata": {
    "collapsed": false
   },
   "outputs": [
    {
     "name": "stdout",
     "output_type": "stream",
     "text": [
      "<class 'iris.coords.AuxCoord'>\n",
      "2\n"
     ]
    }
   ],
   "source": [
    "print type(aux_coords[0])\n",
    "print len(aux_coords)"
   ]
  },
  {
   "cell_type": "code",
   "execution_count": 80,
   "metadata": {
    "collapsed": false
   },
   "outputs": [
    {
     "name": "stdout",
     "output_type": "stream",
     "text": [
      "CubeMetadata(standard_name=u'sea_water_potential_temperature', long_name=u'Sea Water Potential Temperature', var_name=u'thetao', units=Unit('K'), attributes={'initialization_method': 1, 'product': 'output', 'experiment': 'historical', 'model_id': 'ACCESS1-0', 'parent_experiment_rip': 'r1i1p1', 'history': \"2012-01-15T15:26:36Z altered by CMOR: Converted units from 'deg_C' to 'K'. 2012-01-15T15:26:36Z altered by CMOR: replaced missing value flag (-1e+20) with standard missing value (1e+20).\", 'parent_experiment_id': 'piControl', 'cmor_version': '2.8.0', 'creation_date': '2012-01-15T15:26:38Z', 'frequency': 'mon', 'references': 'See http://wiki.csiro.au/confluence/display/ACCESS/ACCESS+Publications', 'parent_experiment': 'pre-industrial control', 'institution': 'CSIRO (Commonwealth Scientific and Industrial Research Organisation, Australia), and BOM (Bureau of Meteorology, Australia)', 'experiment_id': 'historical', 'version_number': 'v20120115', 'forcing': 'GHG, Oz, SA, Sl, Vl, BC, OC, (GHG = CO2, N2O, CH4, CFC11, CFC12, CFC113, HCFC22, HFC125, HFC134a)', 'original_units': 'deg_C', 'title': 'ACCESS1-0 model output prepared for CMIP5 historical', 'physics_version': 1, 'Conventions': 'CF-1.4', 'source': 'ACCESS1-0 2011. Atmosphere: AGCM v1.0 (N96 grid-point, 1.875 degrees EW x approx 1.25 degree NS, 38 levels); ocean: NOAA/GFDL MOM4p1 (nominal 1.0 degree EW x 1.0 degrees NS, tripolar north of 65N, equatorial refinement to 1/3 degree from 10S to 10 N, cosine dependent NS south of 25S, 50 levels); sea ice: CICE4.1 (nominal 1.0 degree EW x 1.0 degrees NS, tripolar north of 65N, equatorial refinement to 1/3 degree from 10S to 10 N, cosine dependent NS south of 25S); land: MOSES2 (1.875 degree EW x 1.25 degree NS, 4 levels', 'associated_files': 'baseURL: http://cmip-pcmdi.llnl.gov/CMIP5/dataLocation gridspecFile: gridspec_ocean_fx_ACCESS1-0_historical_r0i0p0.nc areacello: areacello_fx_ACCESS1-0_historical_r0i0p0.nc volcello: volcello_fx_ACCESS1-0_historical_r0i0p0.nc', 'modeling_realm': 'ocean', 'branch_time': 109207.0, 'contact': 'The ACCESS wiki: http://wiki.csiro.au/confluence/display/ACCESS/Home. Contact Tony.Hirst@csiro.au regarding the ACCESS coupled climate model. Contact Peter.Uhe@csiro.au regarding ACCESS coupled climate model CMIP5 datasets.', 'tracking_id': '4b444b5a-95ce-47b3-8138-5a7811823450', 'realization': 1, 'table_id': 'Table Omon (27 April 2011) 694b38a3f68f18e58ba80230aa4746ea', 'project_id': 'CMIP5', 'institute_id': 'CSIRO-BOM'}, cell_methods=(CellMethod(method=u'mean', coord_names=(u'time',), intervals=(), comments=()),))\n",
      "thetao\n"
     ]
    }
   ],
   "source": [
    "print cube.metadata\n",
    "print cube.var_name"
   ]
  },
  {
   "cell_type": "code",
   "execution_count": 39,
   "metadata": {
    "collapsed": true
   },
   "outputs": [],
   "source": [
    "lev_bounds = cube.coord('depth').bounds\n",
    "lev_diffs = numpy.apply_along_axis(lambda x: x[1] - x[0], 1, lev_bounds)"
   ]
  },
  {
   "cell_type": "markdown",
   "metadata": {},
   "source": [
    "## Calculate something"
   ]
  },
  {
   "cell_type": "code",
   "execution_count": 40,
   "metadata": {
    "collapsed": true
   },
   "outputs": [],
   "source": [
    "def simple_integration(vert_vector, level_steps):\n",
    "    \"\"\"Perform vertical integration for a single lat/lon/time point.\"\"\"\n",
    "    \n",
    "    areas = vert_vector * level_steps\n",
    "    \n",
    "    return areas.sum()"
   ]
  },
  {
   "cell_type": "code",
   "execution_count": 41,
   "metadata": {
    "collapsed": false
   },
   "outputs": [],
   "source": [
    "integral = numpy.ma.apply_along_axis(simple_integration, 1, cube.data, lev_diffs)"
   ]
  },
  {
   "cell_type": "markdown",
   "metadata": {},
   "source": [
    "## Rebuild the cube and write to file"
   ]
  },
  {
   "cell_type": "markdown",
   "metadata": {},
   "source": [
    "[This page](http://esc24.github.io/iris/iris/iris/cube.html#iris.cube.Cube) tells you how. An important point is that if the standard name you want to use isn't in `iris.std_names.STD_NAMES` then you need to add it."
   ]
  },
  {
   "cell_type": "code",
   "execution_count": 61,
   "metadata": {
    "collapsed": false
   },
   "outputs": [
    {
     "name": "stdout",
     "output_type": "stream",
     "text": [
      "downward_heat_flux_in_sea_ice\n",
      "upward_heat_flux_in_sea_water_due_to_convection\n",
      "upward_geothermal_heat_flux_at_sea_floor\n",
      "northward_heat_flux_due_to_eddy_advection\n",
      "northward_ocean_heat_transport_due_to_diffusion\n",
      "downward_heat_flux_at_ground_level_in_soil\n",
      "upward_sensible_heat_flux_in_air\n",
      "y_heat_flux_in_sea_water_due_to_advection\n",
      "atmosphere_heat_diffusivity\n",
      "surface_upward_sensible_heat_flux_where_sea\n",
      "northward_ocean_heat_transport_due_to_gyre\n",
      "tendency_of_mass_fraction_of_stratiform_cloud_liquid_water_in_air_due_to_condensation_and_evaporation_from_longwave_heating\n",
      "surface_snow_melt_and_sublimation_heat_flux\n",
      "surface_upward_sensible_heat_flux\n",
      "ocean_vertical_heat_diffusivity\n",
      "ocean_heat_x_transport_due_to_bolus_advection\n",
      "upward_heat_flux_at_ground_level_in_snow\n",
      "ocean_heat_y_transport\n",
      "tendency_of_air_temperature_due_to_longwave_heating_assuming_clear_sky\n",
      "surface_drag_coefficient_for_heat_in_air\n",
      "upward_sea_ice_basal_heat_flux\n",
      "integral_of_surface_downward_sensible_heat_flux_wrt_time\n",
      "surface_downward_sensible_heat_flux\n",
      "downward_heat_flux_in_floating_ice\n",
      "temperature_flux_due_to_runoff_expressed_as_heat_flux_into_sea_water\n",
      "upward_latent_heat_flux_in_air\n",
      "tendency_of_air_temperature_due_to_longwave_heating\n",
      "surface_downward_heat_flux_in_snow\n",
      "integral_of_surface_downward_latent_heat_flux_wrt_time\n",
      "surface_downward_heat_flux_in_air\n",
      "heat_flux_into_sea_water_due_to_sea_ice_thermodynamics\n",
      "upward_heat_flux_in_air\n",
      "upward_heat_flux_at_ground_level_in_soil\n",
      "tendency_of_air_temperature_due_to_shortwave_heating_assuming_clear_sky\n",
      "heat_flux_correction\n",
      "integral_of_sea_ice_temperature_wrt_depth_expressed_as_heat_content\n",
      "temperature_flux_due_to_rainfall_expressed_as_heat_flux_into_sea_water\n",
      "ocean_heat_y_transport_due_to_bolus_advection\n",
      "surface_downward_heat_flux_in_sea_water\n",
      "ocean_heat_x_transport\n",
      "surface_snow_and_ice_melt_heat_flux\n",
      "surface_upward_latent_heat_flux\n",
      "northward_ocean_heat_transport_due_to_overturning\n",
      "ocean_heat_x_transport_due_to_diffusion\n",
      "surface_roughness_length_for_heat_in_air\n",
      "heat_flux_into_sea_water_due_to_newtonian_relaxation\n",
      "downward_heat_flux_at_ground_level_in_snow\n",
      "surface_upward_heat_flux_in_air\n",
      "downward_heat_flux_in_soil\n",
      "x_heat_flux_in_sea_water_due_to_advection\n",
      "temperature_flux_due_to_evaporation_expressed_as_heat_flux_out_of_sea_water\n",
      "surface_snow_melt_heat_flux\n",
      "northward_ocean_heat_transport_due_to_bolus_advection\n",
      "northward_atmosphere_heat_transport\n",
      "northward_ocean_heat_transport\n",
      "tendency_of_air_temperature_due_to_shortwave_heating\n",
      "downward_heat_flux_in_air\n",
      "surface_downward_latent_heat_flux\n",
      "surface_snow_sublimation_heat_flux\n",
      "ocean_heat_y_transport_due_to_diffusion\n",
      "atmosphere_surface_drag_coefficient_of_heat\n",
      "integral_of_sea_water_potential_temperature_wrt_depth_expressed_as_heat_content\n",
      "heat_flux_into_sea_water_due_to_freezing_of_frazil_ice\n",
      "tendency_of_air_temperature_due_to_radiative_heating\n",
      "heat_flux_into_sea_water_due_to_snow_thermodynamics\n",
      "magnitude_of_heat_flux_in_sea_water_due_to_advection\n",
      "tendency_of_mass_fraction_of_stratiform_cloud_liquid_water_in_air_due_to_condensation_and_evaporation_from_shortwave_heating\n",
      "northward_heat_flux_in_air_due_to_eddy_advection\n",
      "heat_flux_into_sea_water_due_to_iceberg_thermodynamics\n"
     ]
    }
   ],
   "source": [
    "valid_names = iris.std_names.STD_NAMES.keys()\n",
    "for name in valid_names:\n",
    "    if 'heat' in name:\n",
    "        print name"
   ]
  },
  {
   "cell_type": "code",
   "execution_count": 63,
   "metadata": {
    "collapsed": false
   },
   "outputs": [
    {
     "data": {
      "text/plain": [
       "{'canonical_units': 'W m-2'}"
      ]
     },
     "execution_count": 63,
     "metadata": {},
     "output_type": "execute_result"
    }
   ],
   "source": [
    "iris.std_names.STD_NAMES['downward_heat_flux_in_sea_ice']"
   ]
  },
  {
   "cell_type": "code",
   "execution_count": 64,
   "metadata": {
    "collapsed": true
   },
   "outputs": [],
   "source": [
    "iris.std_names.STD_NAMES['ocean_heat_content'] = {'canonical_units': 'J m-2'}"
   ]
  },
  {
   "cell_type": "code",
   "execution_count": 65,
   "metadata": {
    "collapsed": false
   },
   "outputs": [
    {
     "data": {
      "text/plain": [
       "numpy.ma.core.MaskedArray"
      ]
     },
     "execution_count": 65,
     "metadata": {},
     "output_type": "execute_result"
    }
   ],
   "source": [
    "type(integral)"
   ]
  },
  {
   "cell_type": "code",
   "execution_count": 82,
   "metadata": {
    "collapsed": false
   },
   "outputs": [],
   "source": [
    "out_cube = iris.cube.Cube(integral,\n",
    "                          standard_name='ocean_heat_content',\n",
    "                          long_name='ocean heat content',\n",
    "                          var_name='ohc',\n",
    "                          units='J m-2',\n",
    "                          attributes=cube.attributes,\n",
    "                          dim_coords_and_dims=[(coords[0], 0), (coords[2], 1), (coords[3], 2)],\n",
    "                          aux_coords_and_dims=[(aux_coords[0], [1, 2]), (aux_coords[1], [1, 2])],\n",
    "                         )"
   ]
  },
  {
   "cell_type": "code",
   "execution_count": 83,
   "metadata": {
    "collapsed": false,
    "scrolled": true
   },
   "outputs": [
    {
     "name": "stdout",
     "output_type": "stream",
     "text": [
      "ocean_heat_content                         (time: 60; cell index along second dimension: 300; cell index along first dimension: 360)\n",
      "     Dimension coordinates:\n",
      "          time                                  x                                      -                                      -\n",
      "          cell index along second dimension     -                                      x                                      -\n",
      "          cell index along first dimension      -                                      -                                      x\n",
      "     Auxiliary coordinates:\n",
      "          latitude                              -                                      x                                      x\n",
      "          longitude                             -                                      x                                      x\n",
      "     Attributes:\n",
      "          Conventions: CF-1.4\n",
      "          associated_files: baseURL: http://cmip-pcmdi.llnl.gov/CMIP5/dataLocation gridspecFile: gridspec_ocean_fx_ACCESS1-0_historical_r0i0p0.nc...\n",
      "          branch_time: 109207.0\n",
      "          cmor_version: 2.8.0\n",
      "          contact: The ACCESS wiki: http://wiki.csiro.au/confluence/display/ACCESS/Home. Contact...\n",
      "          creation_date: 2012-01-15T15:26:38Z\n",
      "          experiment: historical\n",
      "          experiment_id: historical\n",
      "          forcing: GHG, Oz, SA, Sl, Vl, BC, OC, (GHG = CO2, N2O, CH4, CFC11, CFC12, CFC113,...\n",
      "          frequency: mon\n",
      "          history: 2012-01-15T15:26:36Z altered by CMOR: Converted units from 'deg_C' to 'K'....\n",
      "          initialization_method: 1\n",
      "          institute_id: CSIRO-BOM\n",
      "          institution: CSIRO (Commonwealth Scientific and Industrial Research Organisation, Australia),...\n",
      "          model_id: ACCESS1-0\n",
      "          modeling_realm: ocean\n",
      "          original_units: deg_C\n",
      "          parent_experiment: pre-industrial control\n",
      "          parent_experiment_id: piControl\n",
      "          parent_experiment_rip: r1i1p1\n",
      "          physics_version: 1\n",
      "          product: output\n",
      "          project_id: CMIP5\n",
      "          realization: 1\n",
      "          references: See http://wiki.csiro.au/confluence/display/ACCESS/ACCESS+Publications\n",
      "          source: ACCESS1-0 2011. Atmosphere: AGCM v1.0 (N96 grid-point, 1.875 degrees EW...\n",
      "          table_id: Table Omon (27 April 2011) 694b38a3f68f18e58ba80230aa4746ea\n",
      "          title: ACCESS1-0 model output prepared for CMIP5 historical\n",
      "          tracking_id: 4b444b5a-95ce-47b3-8138-5a7811823450\n",
      "          version_number: v20120115\n"
     ]
    }
   ],
   "source": [
    "print out_cube"
   ]
  },
  {
   "cell_type": "code",
   "execution_count": 84,
   "metadata": {
    "collapsed": false
   },
   "outputs": [
    {
     "name": "stdout",
     "output_type": "stream",
     "text": [
      "CubeMetadata(standard_name='ocean_heat_content', long_name='ocean heat content', var_name='ohc', units=Unit('J m-2'), attributes={'project_id': 'CMIP5', 'initialization_method': 1, 'product': 'output', 'tracking_id': '4b444b5a-95ce-47b3-8138-5a7811823450', 'model_id': 'ACCESS1-0', 'parent_experiment_id': 'piControl', 'cmor_version': '2.8.0', 'creation_date': '2012-01-15T15:26:38Z', 'frequency': 'mon', 'references': 'See http://wiki.csiro.au/confluence/display/ACCESS/ACCESS+Publications', 'institute_id': 'CSIRO-BOM', 'modeling_realm': 'ocean', 'parent_experiment': 'pre-industrial control', 'institution': 'CSIRO (Commonwealth Scientific and Industrial Research Organisation, Australia), and BOM (Bureau of Meteorology, Australia)', 'version_number': 'v20120115', 'forcing': 'GHG, Oz, SA, Sl, Vl, BC, OC, (GHG = CO2, N2O, CH4, CFC11, CFC12, CFC113, HCFC22, HFC125, HFC134a)', 'original_units': 'deg_C', 'title': 'ACCESS1-0 model output prepared for CMIP5 historical', 'physics_version': 1, 'Conventions': 'CF-1.4', 'source': 'ACCESS1-0 2011. Atmosphere: AGCM v1.0 (N96 grid-point, 1.875 degrees EW x approx 1.25 degree NS, 38 levels); ocean: NOAA/GFDL MOM4p1 (nominal 1.0 degree EW x 1.0 degrees NS, tripolar north of 65N, equatorial refinement to 1/3 degree from 10S to 10 N, cosine dependent NS south of 25S, 50 levels); sea ice: CICE4.1 (nominal 1.0 degree EW x 1.0 degrees NS, tripolar north of 65N, equatorial refinement to 1/3 degree from 10S to 10 N, cosine dependent NS south of 25S); land: MOSES2 (1.875 degree EW x 1.25 degree NS, 4 levels', 'associated_files': 'baseURL: http://cmip-pcmdi.llnl.gov/CMIP5/dataLocation gridspecFile: gridspec_ocean_fx_ACCESS1-0_historical_r0i0p0.nc areacello: areacello_fx_ACCESS1-0_historical_r0i0p0.nc volcello: volcello_fx_ACCESS1-0_historical_r0i0p0.nc', 'experiment': 'historical', 'branch_time': 109207.0, 'contact': 'The ACCESS wiki: http://wiki.csiro.au/confluence/display/ACCESS/Home. Contact Tony.Hirst@csiro.au regarding the ACCESS coupled climate model. Contact Peter.Uhe@csiro.au regarding ACCESS coupled climate model CMIP5 datasets.', 'experiment_id': 'historical', 'realization': 1, 'table_id': 'Table Omon (27 April 2011) 694b38a3f68f18e58ba80230aa4746ea', 'history': \"2012-01-15T15:26:36Z altered by CMOR: Converted units from 'deg_C' to 'K'. 2012-01-15T15:26:36Z altered by CMOR: replaced missing value flag (-1e+20) with standard missing value (1e+20).\", 'parent_experiment_rip': 'r1i1p1'}, cell_methods=())\n"
     ]
    }
   ],
   "source": [
    "print out_cube.metadata"
   ]
  },
  {
   "cell_type": "code",
   "execution_count": 86,
   "metadata": {
    "collapsed": false,
    "scrolled": true
   },
   "outputs": [],
   "source": [
    "iris.save(out_cube, \"myfile.nc\")"
   ]
  },
  {
   "cell_type": "markdown",
   "metadata": {
    "collapsed": true
   },
   "source": [
    "# xarray"
   ]
  },
  {
   "cell_type": "markdown",
   "metadata": {},
   "source": [
    "## Read the data"
   ]
  },
  {
   "cell_type": "code",
   "execution_count": 3,
   "metadata": {
    "collapsed": true
   },
   "outputs": [],
   "source": [
    "import xray\n",
    "import numpy"
   ]
  },
  {
   "cell_type": "code",
   "execution_count": 4,
   "metadata": {
    "collapsed": false
   },
   "outputs": [
    {
     "ename": "NameError",
     "evalue": "name 'infile' is not defined",
     "output_type": "error",
     "traceback": [
      "\u001b[1;31m---------------------------------------------------------------------------\u001b[0m",
      "\u001b[1;31mNameError\u001b[0m                                 Traceback (most recent call last)",
      "\u001b[1;32m<ipython-input-4-0bf7c5477e3c>\u001b[0m in \u001b[0;36m<module>\u001b[1;34m()\u001b[0m\n\u001b[1;32m----> 1\u001b[1;33m \u001b[0mdset\u001b[0m \u001b[1;33m=\u001b[0m \u001b[0mxray\u001b[0m\u001b[1;33m.\u001b[0m\u001b[0mopen_dataset\u001b[0m\u001b[1;33m(\u001b[0m\u001b[0minfile\u001b[0m\u001b[1;33m)\u001b[0m\u001b[1;33m\u001b[0m\u001b[0m\n\u001b[0m",
      "\u001b[1;31mNameError\u001b[0m: name 'infile' is not defined"
     ]
    }
   ],
   "source": [
    "dset = xray.open_dataset(infile)"
   ]
  },
  {
   "cell_type": "code",
   "execution_count": 91,
   "metadata": {
    "collapsed": false
   },
   "outputs": [
    {
     "name": "stdout",
     "output_type": "stream",
     "text": [
      "<xarray.Dataset>\n",
      "Dimensions:       (bnds: 2, i: 360, j: 300, lev: 50, time: 60, vertices: 4)\n",
      "Coordinates:\n",
      "  * time          (time) datetime64[ns] 1865-01-16T12:00:00 1865-02-15 ...\n",
      "  * lev           (lev) float64 5.0 15.0 25.0 35.0 45.0 55.0 65.0 75.0 85.0 ...\n",
      "  * j             (j) int32 0 1 2 3 4 5 6 7 8 9 10 11 12 13 14 15 16 17 18 ...\n",
      "  * i             (i) int32 0 1 2 3 4 5 6 7 8 9 10 11 12 13 14 15 16 17 18 ...\n",
      "    lat           (j, i) float32 -77.8766 -77.8766 -77.8766 -77.8766 ...\n",
      "    lon           (j, i) float32 80.5 81.5 82.5 83.5 84.5 85.5 86.5 87.5 ...\n",
      "  * bnds          (bnds) int64 0 1\n",
      "  * vertices      (vertices) int64 0 1 2 3\n",
      "Data variables:\n",
      "    time_bnds     (time, bnds) float64 6.808e+05 6.808e+05 6.808e+05 ...\n",
      "    lev_bnds      (lev, bnds) float64 0.0 10.0 10.0 20.0 20.0 30.0 30.0 40.0 ...\n",
      "    lat_vertices  (j, i, vertices) float32 -78.0 -78.0 -77.7532 -77.7532 ...\n",
      "    lon_vertices  (j, i, vertices) float32 80.0 81.0 81.0 80.0 81.0 82.0 ...\n",
      "    thetao        (time, lev, j, i) float64 nan nan nan nan nan nan nan nan ...\n",
      "Attributes:\n",
      "    institution: CSIRO (Commonwealth Scientific and Industrial Research Organisation, Australia), and BOM (Bureau of Meteorology, Australia)\n",
      "    institute_id: CSIRO-BOM\n",
      "    experiment_id: historical\n",
      "    source: ACCESS1-0 2011. Atmosphere: AGCM v1.0 (N96 grid-point, 1.875 degrees EW x approx 1.25 degree NS, 38 levels); ocean: NOAA/GFDL MOM4p1 (nominal 1.0 degree EW x 1.0 degrees NS, tripolar north of 65N, equatorial refinement to 1/3 degree from 10S to 10 N, cosine dependent NS south of 25S, 50 levels); sea ice: CICE4.1 (nominal 1.0 degree EW x 1.0 degrees NS, tripolar north of 65N, equatorial refinement to 1/3 degree from 10S to 10 N, cosine dependent NS south of 25S); land: MOSES2 (1.875 degree EW ...\n",
      "    model_id: ACCESS1-0\n",
      "    forcing: GHG, Oz, SA, Sl, Vl, BC, OC, (GHG = CO2, N2O, CH4, CFC11, CFC12, CFC113, HCFC22, HFC125, HFC134a)\n",
      "    parent_experiment_id: piControl\n",
      "    parent_experiment_rip: r1i1p1\n",
      "    branch_time: 109207.0\n",
      "    contact: The ACCESS wiki: http://wiki.csiro.au/confluence/display/ACCESS/Home. Contact Tony.Hirst@csiro.au regarding the ACCESS coupled climate model. Contact Peter.Uhe@csiro.au regarding ACCESS coupled climate model CMIP5 datasets.\n",
      "    history: CMIP5 compliant file produced from raw ACCESS model output using the ACCESS Post-Processor and CMOR2. 2012-01-15T15:26:38Z CMOR rewrote data to comply with CF standards and CMIP5 requirements.\n",
      "    references: See http://wiki.csiro.au/confluence/display/ACCESS/ACCESS+Publications\n",
      "    initialization_method: 1\n",
      "    physics_version: 1\n",
      "    tracking_id: 4b444b5a-95ce-47b3-8138-5a7811823450\n",
      "    version_number: v20120115\n",
      "    product: output\n",
      "    experiment: historical\n",
      "    frequency: mon\n",
      "    creation_date: 2012-01-15T15:26:38Z\n",
      "    Conventions: CF-1.4\n",
      "    project_id: CMIP5\n",
      "    table_id: Table Omon (27 April 2011) 694b38a3f68f18e58ba80230aa4746ea\n",
      "    title: ACCESS1-0 model output prepared for CMIP5 historical\n",
      "    parent_experiment: pre-industrial control\n",
      "    modeling_realm: ocean\n",
      "    realization: 1\n",
      "    cmor_version: 2.8.0\n"
     ]
    }
   ],
   "source": [
    "print dset"
   ]
  },
  {
   "cell_type": "code",
   "execution_count": 110,
   "metadata": {
    "collapsed": false
   },
   "outputs": [
    {
     "data": {
      "text/plain": [
       "[u'time', u'lev', u'j', u'i', u'lat', u'lon', u'bnds', u'vertices']"
      ]
     },
     "execution_count": 110,
     "metadata": {},
     "output_type": "execute_result"
    }
   ],
   "source": [
    "dset.coords.keys()"
   ]
  },
  {
   "cell_type": "code",
   "execution_count": 113,
   "metadata": {
    "collapsed": false
   },
   "outputs": [
    {
     "data": {
      "text/plain": [
       "array(['1865-01-16T12:00:00.000000000', '1865-02-15T00:00:00.000000000',\n",
       "       '1865-03-16T12:00:00.000000000', '1865-04-16T00:00:00.000000000',\n",
       "       '1865-05-16T12:00:00.000000000', '1865-06-16T00:00:00.000000000',\n",
       "       '1865-07-16T12:00:00.000000000', '1865-08-16T12:00:00.000000000',\n",
       "       '1865-09-16T00:00:00.000000000', '1865-10-16T12:00:00.000000000',\n",
       "       '1865-11-16T00:00:00.000000000', '1865-12-16T12:00:00.000000000',\n",
       "       '1866-01-16T12:00:00.000000000', '1866-02-15T00:00:00.000000000',\n",
       "       '1866-03-16T12:00:00.000000000', '1866-04-16T00:00:00.000000000',\n",
       "       '1866-05-16T12:00:00.000000000', '1866-06-16T00:00:00.000000000',\n",
       "       '1866-07-16T12:00:00.000000000', '1866-08-16T12:00:00.000000000',\n",
       "       '1866-09-16T00:00:00.000000000', '1866-10-16T12:00:00.000000000',\n",
       "       '1866-11-16T00:00:00.000000000', '1866-12-16T12:00:00.000000000',\n",
       "       '1867-01-16T12:00:00.000000000', '1867-02-15T00:00:00.000000000',\n",
       "       '1867-03-16T12:00:00.000000000', '1867-04-16T00:00:00.000000000',\n",
       "       '1867-05-16T12:00:00.000000000', '1867-06-16T00:00:00.000000000',\n",
       "       '1867-07-16T12:00:00.000000000', '1867-08-16T12:00:00.000000000',\n",
       "       '1867-09-16T00:00:00.000000000', '1867-10-16T12:00:00.000000000',\n",
       "       '1867-11-16T00:00:00.000000000', '1867-12-16T12:00:00.000000000',\n",
       "       '1868-01-16T12:00:00.000000000', '1868-02-15T12:00:00.000000000',\n",
       "       '1868-03-16T12:00:00.000000000', '1868-04-16T00:00:00.000000000',\n",
       "       '1868-05-16T12:00:00.000000000', '1868-06-16T00:00:00.000000000',\n",
       "       '1868-07-16T12:00:00.000000000', '1868-08-16T12:00:00.000000000',\n",
       "       '1868-09-16T00:00:00.000000000', '1868-10-16T12:00:00.000000000',\n",
       "       '1868-11-16T00:00:00.000000000', '1868-12-16T12:00:00.000000000',\n",
       "       '1869-01-16T12:00:00.000000000', '1869-02-15T00:00:00.000000000',\n",
       "       '1869-03-16T12:00:00.000000000', '1869-04-16T00:00:00.000000000',\n",
       "       '1869-05-16T12:00:00.000000000', '1869-06-16T00:00:00.000000000',\n",
       "       '1869-07-16T12:00:00.000000000', '1869-08-16T12:00:00.000000000',\n",
       "       '1869-09-16T00:00:00.000000000', '1869-10-16T12:00:00.000000000',\n",
       "       '1869-11-16T00:00:00.000000000', '1869-12-16T12:00:00.000000000'], dtype='datetime64[ns]')"
      ]
     },
     "execution_count": 113,
     "metadata": {},
     "output_type": "execute_result"
    }
   ],
   "source": [
    "dset.coords['time'].values"
   ]
  },
  {
   "cell_type": "markdown",
   "metadata": {},
   "source": [
    "## Calculate something"
   ]
  },
  {
   "cell_type": "code",
   "execution_count": 99,
   "metadata": {
    "collapsed": true
   },
   "outputs": [],
   "source": [
    "vert_mean = numpy.ma.array(dset['thetao'].mean(dim='lev'))"
   ]
  },
  {
   "cell_type": "code",
   "execution_count": 2,
   "metadata": {
    "collapsed": false
   },
   "outputs": [
    {
     "ename": "NameError",
     "evalue": "name 'vert_mean' is not defined",
     "output_type": "error",
     "traceback": [
      "\u001b[1;31m---------------------------------------------------------------------------\u001b[0m",
      "\u001b[1;31mNameError\u001b[0m                                 Traceback (most recent call last)",
      "\u001b[1;32m<ipython-input-2-b7a7ea6a3660>\u001b[0m in \u001b[0;36m<module>\u001b[1;34m()\u001b[0m\n\u001b[1;32m----> 1\u001b[1;33m \u001b[1;32mprint\u001b[0m \u001b[0mtype\u001b[0m\u001b[1;33m(\u001b[0m\u001b[0mvert_mean\u001b[0m\u001b[1;33m)\u001b[0m\u001b[1;33m\u001b[0m\u001b[0m\n\u001b[0m\u001b[0;32m      2\u001b[0m \u001b[1;32mprint\u001b[0m \u001b[0mvert_mean\u001b[0m\u001b[1;33m\u001b[0m\u001b[0m\n",
      "\u001b[1;31mNameError\u001b[0m: name 'vert_mean' is not defined"
     ]
    }
   ],
   "source": [
    "print type(vert_mean)\n",
    "print vert_mean"
   ]
  },
  {
   "cell_type": "code",
   "execution_count": 1,
   "metadata": {
    "collapsed": false
   },
   "outputs": [
    {
     "ename": "NameError",
     "evalue": "name 'vert_mean' is not defined",
     "output_type": "error",
     "traceback": [
      "\u001b[1;31m---------------------------------------------------------------------------\u001b[0m",
      "\u001b[1;31mNameError\u001b[0m                                 Traceback (most recent call last)",
      "\u001b[1;32m<ipython-input-1-e4f1961680f6>\u001b[0m in \u001b[0;36m<module>\u001b[1;34m()\u001b[0m\n\u001b[1;32m----> 1\u001b[1;33m \u001b[0mvert_mean\u001b[0m\u001b[1;33m.\u001b[0m\u001b[0mmask\u001b[0m\u001b[1;33m\u001b[0m\u001b[0m\n\u001b[0m",
      "\u001b[1;31mNameError\u001b[0m: name 'vert_mean' is not defined"
     ]
    }
   ],
   "source": [
    "vert_mean.mask"
   ]
  },
  {
   "cell_type": "code",
   "execution_count": null,
   "metadata": {
    "collapsed": true
   },
   "outputs": [],
   "source": [
    "d = {}\n",
    "d['time'] = ('time', time_coord.points)\n",
    "    d['latitude'] = ('latitude', lat_coord.points)\n",
    "    d['longitude'] = ('longitude', lon_coord.points)\n",
    "    d['ohc'] = (['time', 'latitude', 'longitude'], ohc_per_m2)\n",
    "\n",
    "    dset_out = xray.Dataset(d)\n",
    "    notes_text = 'OHC integrated over %s' %(domain_text(lev_coord.points, \n",
    "                                                        inargs.min_depth,\n",
    "                                                        inargs.max_depth))\n",
    "    dset_out['ohc'].attrs =   {'standard_name': 'ocean_heat_content',\n",
    "                               'long_name': 'ocean_heat_content',\n",
    "                               'units': '10^%d J m-2' %(inargs.scaling),\n",
    "                               'missing_value': ohc_per_m2.fill_value,\n",
    "                               'notes': notes_text} \n",
    "    gio.set_dim_atts(dset_out, str(time_coord.units))\n",
    "\n",
    "    outfile_metadata = {inargs.infile: cube.attributes['history']}\n",
    "\n",
    "    gio.set_global_atts(dset_out, cube.attributes, outfile_metadata)\n",
    "   \n",
    "    dset_out.to_netcdf(inargs.outfile,)"
   ]
  },
  {
   "cell_type": "code",
   "execution_count": null,
   "metadata": {
    "collapsed": true
   },
   "outputs": [],
   "source": [
    "# Write output file\n",
    "d = {}\n",
    "for dim in darray.dims:\n",
    "    d[dim] = darray[dim]\n",
    "d[inargs.variable] = (darray.dims, zonal_anomaly)\n",
    "\n",
    "dset_out = xray.Dataset(d)\n",
    "\n",
    "dset_out[inargs.variable].attrs = {'long_name': darray.attrs['long_name'],\n",
    "                                   'standard_name': darray.attrs['standard_name'],\n",
    "                                   'units': darray.attrs['units'],\n",
    "                                   'notes': 'The zonal mean has been subtracted at each time step.'}\n",
    "\n",
    "gio.set_global_atts(dset_out, dset_in.attrs, {inargs.infile: dset_in.attrs['history'],})\n",
    "dset_out.to_netcdf(inargs.outfile)\n",
    "\n",
    " dset_out['ohc'].encoding['_FillValue'] = ohc_per_m2.fill_value"
   ]
  }
 ],
 "metadata": {
  "kernelspec": {
   "display_name": "Python 2",
   "language": "python",
   "name": "python2"
  },
  "language_info": {
   "codemirror_mode": {
    "name": "ipython",
    "version": 2
   },
   "file_extension": ".py",
   "mimetype": "text/x-python",
   "name": "python",
   "nbconvert_exporter": "python",
   "pygments_lexer": "ipython2",
   "version": "2.7.11"
  }
 },
 "nbformat": 4,
 "nbformat_minor": 0
}
