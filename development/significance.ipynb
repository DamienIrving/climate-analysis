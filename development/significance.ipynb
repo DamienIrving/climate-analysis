{
 "cells": [
  {
   "cell_type": "markdown",
   "metadata": {},
   "source": [
    "# 1. Event approach"
   ]
  },
  {
   "cell_type": "markdown",
   "metadata": {},
   "source": [
    " ## Reading the full stats file"
   ]
  },
  {
   "cell_type": "code",
   "execution_count": 1,
   "metadata": {
    "collapsed": true
   },
   "outputs": [],
   "source": [
    "import numpy\n",
    "import pandas"
   ]
  },
  {
   "cell_type": "code",
   "execution_count": 2,
   "metadata": {
    "collapsed": false
   },
   "outputs": [],
   "source": [
    "full_stats_file = '/Users/irv033/Downloads/data/stats_example.csv'\n",
    "df = pandas.read_csv(full_stats_file)"
   ]
  },
  {
   "cell_type": "code",
   "execution_count": 3,
   "metadata": {
    "collapsed": true
   },
   "outputs": [],
   "source": [
    "def date_only(x):\n",
    "    \"\"\"Chop a datetime64 down to date only\"\"\"\n",
    "    \n",
    "    x = numpy.datetime64(x)\n",
    "    \n",
    "    return numpy.datetime64(numpy.datetime_as_string(x, timezone='local')[:10])"
   ]
  },
  {
   "cell_type": "code",
   "execution_count": 4,
   "metadata": {
    "collapsed": false
   },
   "outputs": [],
   "source": [
    "#df.time = df.time.apply(lambda x: numpy.datetime64(x))\n",
    "df.time = df.time.apply(date_only)\n",
    "\n",
    "#print pandas.to_datetime(df['time'].values)\n",
    "#df_times = df.time.apply(lambda x: x.date())"
   ]
  },
  {
   "cell_type": "code",
   "execution_count": 5,
   "metadata": {
    "collapsed": true
   },
   "outputs": [],
   "source": [
    "df = df.set_index('time')"
   ]
  },
  {
   "cell_type": "markdown",
   "metadata": {},
   "source": [
    "## Read xarray data frame"
   ]
  },
  {
   "cell_type": "code",
   "execution_count": 6,
   "metadata": {
    "collapsed": true
   },
   "outputs": [],
   "source": [
    "import xray"
   ]
  },
  {
   "cell_type": "code",
   "execution_count": 7,
   "metadata": {
    "collapsed": true
   },
   "outputs": [],
   "source": [
    "data_file = '/Users/irv033/Downloads/data/va_ERAInterim_500hPa_2006-030day-runmean_native.nc'\n",
    "dset_in = xray.open_dataset(data_file)"
   ]
  },
  {
   "cell_type": "code",
   "execution_count": 8,
   "metadata": {
    "collapsed": false
   },
   "outputs": [
    {
     "name": "stdout",
     "output_type": "stream",
     "text": [
      "<xarray.Dataset>\n",
      "Dimensions:    (latitude: 241, longitude: 480, time: 365)\n",
      "Coordinates:\n",
      "  * longitude  (longitude) float32 0.0 0.75 1.5 2.25 3.0 3.75 4.5 5.25 6.0 ...\n",
      "  * latitude   (latitude) float32 -90.0 -89.25 -88.5 -87.75 -87.0 -86.25 ...\n",
      "  * time       (time) datetime64[ns] 2006-01-01T06:00:00 2006-01-02T06:00:00 ...\n",
      "Data variables:\n",
      "    va         (time, latitude, longitude) float64 -3.818 -3.803 -3.787 ...\n",
      "Attributes:\n",
      "    CDI: Climate Data Interface version 1.5.3 (http://code.zmaw.de/projects/cdi)\n",
      "    Conventions: CF-1.0\n",
      "    history: Mon Jun 15 13:04:23 2015: ncatted -O -a axis,time,c,c,T va_ERAInterim_500hPa_2006-030day-runmean_native.nc\n",
      "Mon Jun 15 13:04:23 2015: ncatted -O -a missing_value,va,o,f,-32767. va_ERAInterim_500hPa_2006-030day-runmean_native.nc\n",
      "Mon Jun 15 13:03:30 2015: cdo seldate,2006-01-01,2006-12-31 va_ERAInterim_500hPa_030day-runmean_native.nc va_ERAInterim_500hPa_2006-030day-runmean_native.nc\n",
      "Fri Mar 20 07:35:31 2015: ncatted -O -a axis,time,c,c,T /mnt/meteo0/data/simmonds/dbirving/ERAInterim/data/va_ERA...\n",
      "    nco_openmp_thread_number: 1\n",
      "    CDO: Climate Data Operators version 1.5.3 (http://code.zmaw.de/projects/cdo)\n"
     ]
    }
   ],
   "source": [
    "print dset_in"
   ]
  },
  {
   "cell_type": "code",
   "execution_count": 9,
   "metadata": {
    "collapsed": true
   },
   "outputs": [],
   "source": [
    "darray = dset_in['va']"
   ]
  },
  {
   "cell_type": "code",
   "execution_count": 10,
   "metadata": {
    "collapsed": false
   },
   "outputs": [
    {
     "name": "stdout",
     "output_type": "stream",
     "text": [
      "<xarray.DataArray 'va' (time: 365, latitude: 241, longitude: 480)>\n",
      "[42223200 values with dtype=float64]\n",
      "Coordinates:\n",
      "  * longitude  (longitude) float32 0.0 0.75 1.5 2.25 3.0 3.75 4.5 5.25 6.0 ...\n",
      "  * latitude   (latitude) float32 -90.0 -89.25 -88.5 -87.75 -87.0 -86.25 ...\n",
      "  * time       (time) datetime64[ns] 2006-01-01T06:00:00 2006-01-02T06:00:00 ...\n",
      "Attributes:\n",
      "    standard_name: northward_wind\n",
      "    long_name: northward_wind\n",
      "    units: m s**-1\n",
      "    level: 500hPa\n"
     ]
    }
   ],
   "source": [
    "print darray"
   ]
  },
  {
   "cell_type": "code",
   "execution_count": 11,
   "metadata": {
    "collapsed": false
   },
   "outputs": [],
   "source": [
    "times = darray.time.values"
   ]
  },
  {
   "cell_type": "code",
   "execution_count": 12,
   "metadata": {
    "collapsed": false
   },
   "outputs": [
    {
     "data": {
      "text/plain": [
       "numpy.datetime64('2006-01-06')"
      ]
     },
     "execution_count": 12,
     "metadata": {},
     "output_type": "execute_result"
    }
   ],
   "source": [
    "date_only(times[5])"
   ]
  },
  {
   "cell_type": "code",
   "execution_count": 13,
   "metadata": {
    "collapsed": false
   },
   "outputs": [
    {
     "name": "stdout",
     "output_type": "stream",
     "text": [
      "[numpy.datetime64('2006-01-01'), numpy.datetime64('2006-01-02'), numpy.datetime64('2006-01-03'), numpy.datetime64('2006-01-04'), numpy.datetime64('2006-01-05')]\n"
     ]
    }
   ],
   "source": [
    "darray_times = map(date_only, list(times))\n",
    "print darray_times[0:5]"
   ]
  },
  {
   "cell_type": "markdown",
   "metadata": {},
   "source": [
    "## Merge"
   ]
  },
  {
   "cell_type": "markdown",
   "metadata": {},
   "source": [
    "### Re-index the event data "
   ]
  },
  {
   "cell_type": "code",
   "execution_count": 14,
   "metadata": {
    "collapsed": false
   },
   "outputs": [],
   "source": [
    "event_numbers = df['event_number']"
   ]
  },
  {
   "cell_type": "code",
   "execution_count": 15,
   "metadata": {
    "collapsed": false
   },
   "outputs": [],
   "source": [
    "event_numbers = event_numbers.reindex(darray_times)"
   ]
  },
  {
   "cell_type": "markdown",
   "metadata": {},
   "source": [
    "### Broadcast the shape"
   ]
  },
  {
   "cell_type": "code",
   "execution_count": 16,
   "metadata": {
    "collapsed": false
   },
   "outputs": [
    {
     "name": "stdout",
     "output_type": "stream",
     "text": [
      "<xarray.DataArray 'va' (time: 365, latitude: 241, longitude: 480)>\n",
      "[42223200 values with dtype=float64]\n",
      "Coordinates:\n",
      "  * longitude  (longitude) float32 0.0 0.75 1.5 2.25 3.0 3.75 4.5 5.25 6.0 ...\n",
      "  * latitude   (latitude) float32 -90.0 -89.25 -88.5 -87.75 -87.0 -86.25 ...\n",
      "  * time       (time) datetime64[ns] 2006-01-01T06:00:00 2006-01-02T06:00:00 ...\n",
      "Attributes:\n",
      "    standard_name: northward_wind\n",
      "    long_name: northward_wind\n",
      "    units: m s**-1\n",
      "    level: 500hPa\n"
     ]
    }
   ],
   "source": [
    "print darray"
   ]
  },
  {
   "cell_type": "code",
   "execution_count": 17,
   "metadata": {
    "collapsed": false
   },
   "outputs": [
    {
     "name": "stdout",
     "output_type": "stream",
     "text": [
      "(365, 241, 480)\n",
      "<class 'xarray.core.dataarray.DataArray'>\n"
     ]
    }
   ],
   "source": [
    "print darray.shape\n",
    "print type(darray)"
   ]
  },
  {
   "cell_type": "code",
   "execution_count": 18,
   "metadata": {
    "collapsed": false
   },
   "outputs": [
    {
     "name": "stdout",
     "output_type": "stream",
     "text": [
      "<type 'numpy.ndarray'>\n"
     ]
    }
   ],
   "source": [
    "print type(event_numbers.values)"
   ]
  },
  {
   "cell_type": "code",
   "execution_count": 19,
   "metadata": {
    "collapsed": false
   },
   "outputs": [
    {
     "data": {
      "text/plain": [
       "numpy.ndarray"
      ]
     },
     "execution_count": 19,
     "metadata": {},
     "output_type": "execute_result"
    }
   ],
   "source": [
    "type(darray.data)"
   ]
  },
  {
   "cell_type": "code",
   "execution_count": 20,
   "metadata": {
    "collapsed": false
   },
   "outputs": [],
   "source": [
    "event_data = numpy.zeros((365, 241, 480))\n",
    "for i in range(0,365):\n",
    "    event_data[i,:,:] = event_numbers.values[i]"
   ]
  },
  {
   "cell_type": "markdown",
   "metadata": {},
   "source": [
    "### Cobmine"
   ]
  },
  {
   "cell_type": "code",
   "execution_count": 21,
   "metadata": {
    "collapsed": false
   },
   "outputs": [],
   "source": [
    "d = {}\n",
    "d['time'] = darray['time']\n",
    "d['latitude'] = darray['latitude']\n",
    "d['longitude'] = darray['longitude']\n",
    "\n",
    "d['va'] = (['time', 'latitude', 'longitude'], darray.data)\n",
    "d['event'] = (['time'], event_numbers.values)\n",
    "\n",
    "ds = xray.Dataset(d)"
   ]
  },
  {
   "cell_type": "code",
   "execution_count": 22,
   "metadata": {
    "collapsed": false
   },
   "outputs": [
    {
     "name": "stdout",
     "output_type": "stream",
     "text": [
      "<xarray.Dataset>\n",
      "Dimensions:    (latitude: 241, longitude: 480, time: 365)\n",
      "Coordinates:\n",
      "  * latitude   (latitude) float32 -90.0 -89.25 -88.5 -87.75 -87.0 -86.25 ...\n",
      "  * longitude  (longitude) float32 0.0 0.75 1.5 2.25 3.0 3.75 4.5 5.25 6.0 ...\n",
      "  * time       (time) datetime64[ns] 2006-01-01T06:00:00 2006-01-02T06:00:00 ...\n",
      "Data variables:\n",
      "    va         (time, latitude, longitude) float64 -3.818 -3.803 -3.787 ...\n",
      "    event      (time) float64 280.0 280.0 nan nan nan nan nan nan nan nan ...\n"
     ]
    }
   ],
   "source": [
    "print ds"
   ]
  },
  {
   "cell_type": "markdown",
   "metadata": {
    "collapsed": true
   },
   "source": [
    "## Get event averages"
   ]
  },
  {
   "cell_type": "code",
   "execution_count": 27,
   "metadata": {
    "collapsed": false
   },
   "outputs": [],
   "source": [
    "event_averages = ds.groupby('event').mean('time')"
   ]
  },
  {
   "cell_type": "code",
   "execution_count": 28,
   "metadata": {
    "collapsed": false
   },
   "outputs": [
    {
     "name": "stdout",
     "output_type": "stream",
     "text": [
      "<xarray.Dataset>\n",
      "Dimensions:    (event: 11, latitude: 241, longitude: 480)\n",
      "Coordinates:\n",
      "  * latitude   (latitude) float32 -90.0 -89.25 -88.5 -87.75 -87.0 -86.25 ...\n",
      "  * longitude  (longitude) float32 0.0 0.75 1.5 2.25 3.0 3.75 4.5 5.25 6.0 ...\n",
      "  * event      (event) float64 280.0 281.0 282.0 283.0 284.0 285.0 286.0 ...\n",
      "Data variables:\n",
      "    va         (event, latitude, longitude) float64 -3.91 -3.895 -3.88 ...\n"
     ]
    }
   ],
   "source": [
    "print event_averages"
   ]
  },
  {
   "cell_type": "markdown",
   "metadata": {
    "collapsed": true
   },
   "source": [
    "# 2. Standard autocorrelation approach"
   ]
  },
  {
   "cell_type": "code",
   "execution_count": 33,
   "metadata": {
    "collapsed": false
   },
   "outputs": [
    {
     "name": "stdout",
     "output_type": "stream",
     "text": [
      "<xarray.DataArray 'tas' (time: 730, latitude: 241, longitude: 480)>\n",
      "[84446400 values with dtype=float64]\n",
      "Coordinates:\n",
      "  * longitude  (longitude) float32 0.0 0.75 1.5 2.25 3.0 3.75 4.5 5.25 6.0 ...\n",
      "  * latitude   (latitude) float32 -90.0 -89.25 -88.5 -87.75 -87.0 -86.25 ...\n",
      "  * time       (time) datetime64[ns] 2005-01-01T06:00:00 2005-01-02T06:00:00 ...\n",
      "Attributes:\n",
      "    standard_name: surface_air_temperature\n",
      "    long_name: surface_air_temperature\n",
      "    units: K\n",
      "    level: 2m\n"
     ]
    }
   ],
   "source": [
    "tas_file = '/Users/irv033/Downloads/data/tas_ERAInterim_surface_030day-runmean-anom-wrt-all-2005-2006_native.nc'\n",
    "tas_dset = xray.open_dataset(tas_file)\n",
    "\n",
    "tas_darray = tas_dset['tas']\n",
    "print tas_darray"
   ]
  },
  {
   "cell_type": "code",
   "execution_count": 47,
   "metadata": {
    "collapsed": false
   },
   "outputs": [
    {
     "name": "stdout",
     "output_type": "stream",
     "text": [
      "(730,)\n"
     ]
    }
   ],
   "source": [
    "tas_data = tas_darray[dict(longitude=130, latitude=-40)].values\n",
    "print tas_data.shape"
   ]
  },
  {
   "cell_type": "code",
   "execution_count": 51,
   "metadata": {
    "collapsed": true
   },
   "outputs": [],
   "source": [
    "def auto_corr(data, lag=1):\n",
    "    n = len(data)\n",
    "    y1 = data[lag:]\n",
    "    y2 = data[:n-lag]\n",
    "    corr = numpy.corrcoef(y1, y2, ddof=0)[0, 1]\n",
    "    return corr"
   ]
  },
  {
   "cell_type": "code",
   "execution_count": 80,
   "metadata": {
    "collapsed": false
   },
   "outputs": [],
   "source": [
    "n = len(tas_data)\n",
    "k = numpy.arange(1, n - 1)\n",
    "r_k = [auto_corr(tas_data, lag=x) for x in k]"
   ]
  },
  {
   "cell_type": "code",
   "execution_count": 81,
   "metadata": {
    "collapsed": false
   },
   "outputs": [
    {
     "name": "stdout",
     "output_type": "stream",
     "text": [
      "728\n",
      "728\n",
      "[0.99583319704966977, 0.98474700338185295, 0.96878634160275301, 0.94927100293348987, 0.92689254994099568, 0.90185271732398298, 0.87443558345583194, 0.84477609309622015, 0.81306813917765186, 0.77974121322647971]\n"
     ]
    }
   ],
   "source": [
    "print len(r_k)\n",
    "print len(k)\n",
    "print r_k[0:10]"
   ]
  },
  {
   "cell_type": "code",
   "execution_count": 82,
   "metadata": {
    "collapsed": true
   },
   "outputs": [],
   "source": [
    "%matplotlib inline"
   ]
  },
  {
   "cell_type": "code",
   "execution_count": 83,
   "metadata": {
    "collapsed": true
   },
   "outputs": [],
   "source": [
    "import matplotlib.pyplot as plt"
   ]
  },
  {
   "cell_type": "code",
   "execution_count": 84,
   "metadata": {
    "collapsed": false
   },
   "outputs": [
    {
     "data": {
      "text/plain": [
       "[<matplotlib.lines.Line2D at 0x138525650>]"
      ]
     },
     "execution_count": 84,
     "metadata": {},
     "output_type": "execute_result"
    },
    {
     "data": {
      "image/png": "[encoded data removed]",
      "text/plain": [
       "<matplotlib.figure.Figure at 0x1232b3890>"
      ]
     },
     "metadata": {},
     "output_type": "display_data"
    }
   ],
   "source": [
    "plt.plot(k, r_k)"
   ]
  },
  {
   "cell_type": "code",
   "execution_count": 85,
   "metadata": {
    "collapsed": false
   },
   "outputs": [
    {
     "data": {
      "text/plain": [
       "[<matplotlib.lines.Line2D at 0x1385df290>]"
      ]
     },
     "execution_count": 85,
     "metadata": {},
     "output_type": "execute_result"
    },
    {
     "data": {
      "image/png": "[encoded data removed]",
      "text/plain": [
       "<matplotlib.figure.Figure at 0x1231627d0>"
      ]
     },
     "metadata": {},
     "output_type": "display_data"
    }
   ],
   "source": [
    "plt.plot(k[0:40], r_k[0:40])"
   ]
  },
  {
   "cell_type": "code",
   "execution_count": 86,
   "metadata": {
    "collapsed": false
   },
   "outputs": [],
   "source": [
    "k = numpy.array(k)\n",
    "r_k = numpy.array(r_k)\n",
    "r_k_sum = ((n - k) / float(n)) * r_k "
   ]
  },
  {
   "cell_type": "code",
   "execution_count": 87,
   "metadata": {
    "collapsed": false
   },
   "outputs": [
    {
     "name": "stdout",
     "output_type": "stream",
     "text": [
      "-125.559121657\n"
     ]
    }
   ],
   "source": [
    "n_eff = float(n) / (1 + 2 * numpy.sum(r_k_sum))\n",
    "print n_eff"
   ]
  },
  {
   "cell_type": "code",
   "execution_count": 89,
   "metadata": {
    "collapsed": false
   },
   "outputs": [
    {
     "data": {
      "text/plain": [
       "-3.4069970798057252"
      ]
     },
     "execution_count": 89,
     "metadata": {},
     "output_type": "execute_result"
    }
   ],
   "source": [
    "numpy.sum(r_k_sum)"
   ]
  },
  {
   "cell_type": "code",
   "execution_count": 90,
   "metadata": {
    "collapsed": true
   },
   "outputs": [],
   "source": [
    "from pandas.tools.plotting import autocorrelation_plot"
   ]
  },
  {
   "cell_type": "code",
   "execution_count": 91,
   "metadata": {
    "collapsed": false
   },
   "outputs": [
    {
     "data": {
      "text/plain": [
       "<matplotlib.axes._subplots.AxesSubplot at 0x138597510>"
      ]
     },
     "execution_count": 91,
     "metadata": {},
     "output_type": "execute_result"
    },
    {
     "data": {
      "image/png": "[encoded data removed]",
      "text/plain": [
       "<matplotlib.figure.Figure at 0x1385f9150>"
      ]
     },
     "metadata": {},
     "output_type": "display_data"
    }
   ],
   "source": [
    "test_data = pandas.Series(tas_data)\n",
    "autocorrelation_plot(test_data)"
   ]
  },
  {
   "cell_type": "code",
   "execution_count": 92,
   "metadata": {
    "collapsed": false
   },
   "outputs": [
    {
     "ename": "ImportError",
     "evalue": "No module named statsmodels",
     "output_type": "error",
     "traceback": [
      "\u001b[0;31m---------------------------------------------------------------------------\u001b[0m",
      "\u001b[0;31mImportError\u001b[0m                               Traceback (most recent call last)",
      "\u001b[0;32m<ipython-input-92-c7407a2ff2ab>\u001b[0m in \u001b[0;36m<module>\u001b[0;34m()\u001b[0m\n\u001b[0;32m----> 1\u001b[0;31m \u001b[0;32mimport\u001b[0m \u001b[0mstatsmodels\u001b[0m\u001b[0;34m\u001b[0m\u001b[0m\n\u001b[0m",
      "\u001b[0;31mImportError\u001b[0m: No module named statsmodels"
     ]
    }
   ],
   "source": [
    "import statsmodels"
   ]
  },
  {
   "cell_type": "code",
   "execution_count": null,
   "metadata": {
    "collapsed": true
   },
   "outputs": [],
   "source": []
  }
 ],
 "metadata": {
  "kernelspec": {
   "display_name": "Python 2",
   "language": "python",
   "name": "python2"
  },
  "language_info": {
   "codemirror_mode": {
    "name": "ipython",
    "version": 2
   },
   "file_extension": ".py",
   "mimetype": "text/x-python",
   "name": "python",
   "nbconvert_exporter": "python",
   "pygments_lexer": "ipython2",
   "version": "2.7.11"
  }
 },
 "nbformat": 4,
 "nbformat_minor": 0
}
