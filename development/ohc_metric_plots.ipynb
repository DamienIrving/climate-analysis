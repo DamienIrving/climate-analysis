{
 "cells": [
  {
   "cell_type": "code",
   "execution_count": 10,
   "metadata": {
    "collapsed": true
   },
   "outputs": [],
   "source": [
    "import matplotlib.pyplot as plt\n",
    "import numpy as np\n",
    "\n",
    "import iris\n",
    "import iris.quickplot as qplt\n",
    "\n",
    "%matplotlib inline"
   ]
  },
  {
   "cell_type": "code",
   "execution_count": 11,
   "metadata": {
    "collapsed": true
   },
   "outputs": [],
   "source": [
    "fname = '/g/data/r87/dbi599/ohc-metrics_Omon_ACCESS1-0_historical_r1i1p1_all.nc'"
   ]
  },
  {
   "cell_type": "code",
   "execution_count": 12,
   "metadata": {
    "collapsed": false
   },
   "outputs": [],
   "source": [
    "cube_globe = iris.load_cube(fname, 'ocean heat content over globe')\n",
    "cube_sthext = iris.load_cube(fname, 'ocean heat content over southern extratropics')\n",
    "cube_notsthext = iris.load_cube(fname, 'ocean heat content over outside southern extratropics')"
   ]
  },
  {
   "cell_type": "code",
   "execution_count": 13,
   "metadata": {
    "collapsed": false
   },
   "outputs": [
    {
     "name": "stdout",
     "output_type": "stream",
     "text": [
      "ocean heat content over globe / (10^22 J m-2) (time: 1872)\n",
      "     Dimension coordinates:\n",
      "          time                                     x\n",
      "     Attributes:\n",
      "          Conventions: CF-1.5\n",
      "          associated_files: baseURL: http://cmip-pcmdi.llnl.gov/CMIP5/dataLocation gridspecFile: gridspec_ocean_fx_ACCESS1-0_historical_r0i0p0.nc...\n",
      "          branch_time: 109207.0\n",
      "          cmor_version: 2.8.0\n",
      "          contact: The ACCESS wiki: http://wiki.csiro.au/confluence/display/ACCESS/Home. Contact...\n",
      "          depth_bounds: OHC integrated over full depth of input data (5.000000 down to 5831.29...\n",
      "          experiment: historical\n",
      "          experiment_id: historical\n",
      "          forcing: GHG, Oz, SA, Sl, Vl, BC, OC, (GHG = CO2, N2O, CH4, CFC11, CFC12, CFC113,...\n",
      "          frequency: mon\n",
      "          history: Wed May 11 09:16:51 2016: /g/data/r87/dbi599/miniconda2/envs/default/bin/python...\n",
      "          initialization_method: 1\n",
      "          institute_id: CSIRO-BOM\n",
      "          institution: CSIRO (Commonwealth Scientific and Industrial Research Organisation, Australia),...\n",
      "          invalid_standard_name: ocean_heat_content_globe\n",
      "          model_id: ACCESS1-0\n",
      "          modeling_realm: ocean\n",
      "          original_units: deg_C\n",
      "          parent_experiment: pre-industrial control\n",
      "          parent_experiment_id: piControl\n",
      "          parent_experiment_rip: r1i1p1\n",
      "          physics_version: 1\n",
      "          product: output\n",
      "          project_id: CMIP5\n",
      "          realization: 1\n",
      "          references: See http://wiki.csiro.au/confluence/display/ACCESS/ACCESS+Publications\n",
      "          source: ACCESS1-0 2011. Atmosphere: AGCM v1.0 (N96 grid-point, 1.875 degrees EW...\n",
      "          table_id: Table Omon (27 April 2011) 694b38a3f68f18e58ba80230aa4746ea\n",
      "          title: ACCESS1-0 model output prepared for CMIP5 historical\n",
      "          version_number: v20120115\n"
     ]
    }
   ],
   "source": [
    "print cube_globe"
   ]
  },
  {
   "cell_type": "code",
   "execution_count": 14,
   "metadata": {
    "collapsed": false
   },
   "outputs": [],
   "source": [
    "cube_globe = cube_globe.rolling_window('time', iris.analysis.MEAN, 12)\n",
    "cube_sthext = cube_sthext.rolling_window('time', iris.analysis.MEAN, 12)\n",
    "cube_notsthext = cube_notsthext.rolling_window('time', iris.analysis.MEAN, 12)"
   ]
  },
  {
   "cell_type": "code",
   "execution_count": 15,
   "metadata": {
    "collapsed": false
   },
   "outputs": [
    {
     "name": "stdout",
     "output_type": "stream",
     "text": [
      "ocean heat content over globe / (10^22 J m-2) (time: 1861)\n",
      "     Dimension coordinates:\n",
      "          time                                     x\n",
      "     Attributes:\n",
      "          Conventions: CF-1.5\n",
      "          associated_files: baseURL: http://cmip-pcmdi.llnl.gov/CMIP5/dataLocation gridspecFile: gridspec_ocean_fx_ACCESS1-0_historical_r0i0p0.nc...\n",
      "          branch_time: 109207.0\n",
      "          cmor_version: 2.8.0\n",
      "          contact: The ACCESS wiki: http://wiki.csiro.au/confluence/display/ACCESS/Home. Contact...\n",
      "          depth_bounds: OHC integrated over full depth of input data (5.000000 down to 5831.29...\n",
      "          experiment: historical\n",
      "          experiment_id: historical\n",
      "          forcing: GHG, Oz, SA, Sl, Vl, BC, OC, (GHG = CO2, N2O, CH4, CFC11, CFC12, CFC113,...\n",
      "          frequency: mon\n",
      "          history: Wed May 11 09:16:51 2016: /g/data/r87/dbi599/miniconda2/envs/default/bin/python...\n",
      "          initialization_method: 1\n",
      "          institute_id: CSIRO-BOM\n",
      "          institution: CSIRO (Commonwealth Scientific and Industrial Research Organisation, Australia),...\n",
      "          invalid_standard_name: ocean_heat_content_globe\n",
      "          model_id: ACCESS1-0\n",
      "          modeling_realm: ocean\n",
      "          original_units: deg_C\n",
      "          parent_experiment: pre-industrial control\n",
      "          parent_experiment_id: piControl\n",
      "          parent_experiment_rip: r1i1p1\n",
      "          physics_version: 1\n",
      "          product: output\n",
      "          project_id: CMIP5\n",
      "          realization: 1\n",
      "          references: See http://wiki.csiro.au/confluence/display/ACCESS/ACCESS+Publications\n",
      "          source: ACCESS1-0 2011. Atmosphere: AGCM v1.0 (N96 grid-point, 1.875 degrees EW...\n",
      "          table_id: Table Omon (27 April 2011) 694b38a3f68f18e58ba80230aa4746ea\n",
      "          title: ACCESS1-0 model output prepared for CMIP5 historical\n",
      "          version_number: v20120115\n",
      "     Cell methods:\n",
      "          mean: time\n"
     ]
    }
   ],
   "source": [
    "print cube_globe"
   ]
  },
  {
   "cell_type": "code",
   "execution_count": 16,
   "metadata": {
    "collapsed": false
   },
   "outputs": [
    {
     "data": {
      "image/png": "[encoded data removed]",
      "text/plain": [
       "<matplotlib.figure.Figure at 0x7f7607538e90>"
      ]
     },
     "metadata": {},
     "output_type": "display_data"
    }
   ],
   "source": [
    "qplt.plot(cube_globe.coord('time'), cube_globe, label='global')\n",
    "qplt.plot(cube_sthext.coord('time'), cube_sthext, label='southern extratropics')\n",
    "qplt.plot(cube_notsthext.coord('time'), cube_notsthext, label='not southern extratropics')\n",
    "\n",
    "plt.legend(loc='best')\n",
    "plt.title('Ocean heat content, ACCESS1-0, historical')\n",
    "plt.ylabel('Ocean heat content (%s)' %(cube_globe.units))\n",
    "\n",
    "\n",
    "qplt.show()"
   ]
  },
  {
   "cell_type": "code",
   "execution_count": null,
   "metadata": {
    "collapsed": true
   },
   "outputs": [],
   "source": []
  }
 ],
 "metadata": {
  "kernelspec": {
   "display_name": "Python 2",
   "language": "python",
   "name": "python2"
  },
  "language_info": {
   "codemirror_mode": {
    "name": "ipython",
    "version": 2
   },
   "file_extension": ".py",
   "mimetype": "text/x-python",
   "name": "python",
   "nbconvert_exporter": "python",
   "pygments_lexer": "ipython2",
   "version": "2.7.11"
  }
 },
 "nbformat": 4,
 "nbformat_minor": 0
}
