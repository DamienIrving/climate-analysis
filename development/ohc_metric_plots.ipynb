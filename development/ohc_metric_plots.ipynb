{
 "cells": [
  {
   "cell_type": "code",
   "execution_count": 1,
   "metadata": {
    "collapsed": true
   },
   "outputs": [],
   "source": [
    "import matplotlib.pyplot as plt\n",
    "import numpy as np\n",
    "\n",
    "import iris\n",
    "import iris.quickplot as qplt\n",
    "\n",
    "%matplotlib inline"
   ]
  },
  {
   "cell_type": "code",
   "execution_count": 2,
   "metadata": {
    "collapsed": true
   },
   "outputs": [],
   "source": [
    "#fname = '/g/data/r87/dbi599/ohc-metrics_Omon_ACCESS1-0_historical_r1i1p1_all.nc'\n",
    "fname = '/g/data/r87/dbi599/drstree/CMIP5/GCM/CSIRO-BOM/ACCESS1-0/historical/mon/ocean/inttemp/r1i1p1/inttemp_Omon_ACCESS1-0_historical_r1i1p1_all_drift.nc'"
   ]
  },
  {
   "cell_type": "code",
   "execution_count": 7,
   "metadata": {
    "collapsed": false
   },
   "outputs": [],
   "source": [
    "cube_globe = iris.load_cube(fname, 'integrated temperature globe')\n",
    "cube_sthext = iris.load_cube(fname, 'integrated temperature southern extratropics')\n",
    "cube_notsthext = iris.load_cube(fname, 'integrated temperature outside southern extratropics')"
   ]
  },
  {
   "cell_type": "code",
   "execution_count": 8,
   "metadata": {
    "collapsed": false
   },
   "outputs": [
    {
     "name": "stdout",
     "output_type": "stream",
     "text": [
      "integrated temperature globe / (10^19 K m3) (time: 120)\n",
      "     Dimension coordinates:\n",
      "          time                                   x\n",
      "     Attributes:\n",
      "          Conventions: CF-1.5\n",
      "          associated_files: baseURL: http://cmip-pcmdi.llnl.gov/CMIP5/dataLocation gridspecFile: gridspec_ocean_fx_ACCESS1-0_historical_r0i0p0.nc...\n",
      "          branch_time: 109207.0\n",
      "          cmor_version: 2.8.0\n",
      "          contact: The ACCESS wiki: http://wiki.csiro.au/confluence/display/ACCESS/Home. Contact...\n",
      "          depth_bounds: inttemp integrated over full depth of input data (5.000000 down to 583...\n",
      "          experiment: historical\n",
      "          experiment_id: historical\n",
      "          forcing: GHG, Oz, SA, Sl, Vl, BC, OC, (GHG = CO2, N2O, CH4, CFC11, CFC12, CFC113,...\n",
      "          frequency: mon\n",
      "          history: Tue May 17 15:16:52 2016: /g/data/r87/dbi599/miniconda2/envs/default/bin/python...\n",
      "          initialization_method: 1\n",
      "          institute_id: CSIRO-BOM\n",
      "          institution: CSIRO (Commonwealth Scientific and Industrial Research Organisation, Australia),...\n",
      "          invalid_standard_name: integrated_temperature_globe\n",
      "          model_id: ACCESS1-0\n",
      "          modeling_realm: ocean\n",
      "          original_units: deg_C\n",
      "          parent_experiment: pre-industrial control\n",
      "          parent_experiment_id: piControl\n",
      "          parent_experiment_rip: r1i1p1\n",
      "          physics_version: 1\n",
      "          product: output\n",
      "          project_id: CMIP5\n",
      "          realization: 1\n",
      "          references: See http://wiki.csiro.au/confluence/display/ACCESS/ACCESS+Publications\n",
      "          source: ACCESS1-0 2011. Atmosphere: AGCM v1.0 (N96 grid-point, 1.875 degrees EW...\n",
      "          table_id: Table Omon (27 April 2011) 694b38a3f68f18e58ba80230aa4746ea\n",
      "          title: ACCESS1-0 model output prepared for CMIP5 historical\n",
      "          version_number: v20120115\n"
     ]
    }
   ],
   "source": [
    "print cube_globe"
   ]
  },
  {
   "cell_type": "code",
   "execution_count": 9,
   "metadata": {
    "collapsed": false
   },
   "outputs": [
    {
     "name": "stderr",
     "output_type": "stream",
     "text": [
      "/g/data/r87/dbi599/miniconda2/envs/default/lib/python2.7/site-packages/iris/cube.py:3381: UserWarning: The bounds of coordinate u'time' were ignored in the rolling window operation.\n",
      "  'the rolling window operation.' % coord_.name())\n"
     ]
    }
   ],
   "source": [
    "cube_globe = cube_globe.rolling_window('time', iris.analysis.MEAN, 12)\n",
    "cube_sthext = cube_sthext.rolling_window('time', iris.analysis.MEAN, 12)\n",
    "cube_notsthext = cube_notsthext.rolling_window('time', iris.analysis.MEAN, 12)"
   ]
  },
  {
   "cell_type": "code",
   "execution_count": 10,
   "metadata": {
    "collapsed": false
   },
   "outputs": [
    {
     "name": "stdout",
     "output_type": "stream",
     "text": [
      "integrated temperature globe / (10^19 K m3) (time: 109)\n",
      "     Dimension coordinates:\n",
      "          time                                   x\n",
      "     Attributes:\n",
      "          Conventions: CF-1.5\n",
      "          associated_files: baseURL: http://cmip-pcmdi.llnl.gov/CMIP5/dataLocation gridspecFile: gridspec_ocean_fx_ACCESS1-0_historical_r0i0p0.nc...\n",
      "          branch_time: 109207.0\n",
      "          cmor_version: 2.8.0\n",
      "          contact: The ACCESS wiki: http://wiki.csiro.au/confluence/display/ACCESS/Home. Contact...\n",
      "          depth_bounds: inttemp integrated over full depth of input data (5.000000 down to 583...\n",
      "          experiment: historical\n",
      "          experiment_id: historical\n",
      "          forcing: GHG, Oz, SA, Sl, Vl, BC, OC, (GHG = CO2, N2O, CH4, CFC11, CFC12, CFC113,...\n",
      "          frequency: mon\n",
      "          history: Tue May 17 15:16:52 2016: /g/data/r87/dbi599/miniconda2/envs/default/bin/python...\n",
      "          initialization_method: 1\n",
      "          institute_id: CSIRO-BOM\n",
      "          institution: CSIRO (Commonwealth Scientific and Industrial Research Organisation, Australia),...\n",
      "          invalid_standard_name: integrated_temperature_globe\n",
      "          model_id: ACCESS1-0\n",
      "          modeling_realm: ocean\n",
      "          original_units: deg_C\n",
      "          parent_experiment: pre-industrial control\n",
      "          parent_experiment_id: piControl\n",
      "          parent_experiment_rip: r1i1p1\n",
      "          physics_version: 1\n",
      "          product: output\n",
      "          project_id: CMIP5\n",
      "          realization: 1\n",
      "          references: See http://wiki.csiro.au/confluence/display/ACCESS/ACCESS+Publications\n",
      "          source: ACCESS1-0 2011. Atmosphere: AGCM v1.0 (N96 grid-point, 1.875 degrees EW...\n",
      "          table_id: Table Omon (27 April 2011) 694b38a3f68f18e58ba80230aa4746ea\n",
      "          title: ACCESS1-0 model output prepared for CMIP5 historical\n",
      "          version_number: v20120115\n",
      "     Cell methods:\n",
      "          mean: time\n"
     ]
    }
   ],
   "source": [
    "print cube_globe"
   ]
  },
  {
   "cell_type": "code",
   "execution_count": 11,
   "metadata": {
    "collapsed": false
   },
   "outputs": [
    {
     "data": {
      "image/png": "[encoded data removed]",
      "text/plain": [
       "<matplotlib.figure.Figure at 0x7f0d37de7f90>"
      ]
     },
     "metadata": {},
     "output_type": "display_data"
    }
   ],
   "source": [
    "qplt.plot(cube_globe.coord('time'), cube_globe, label='global')\n",
    "qplt.plot(cube_sthext.coord('time'), cube_sthext, label='southern extratropics')\n",
    "qplt.plot(cube_notsthext.coord('time'), cube_notsthext, label='not southern extratropics')\n",
    "\n",
    "plt.legend(loc='best')\n",
    "plt.title('Integrated temperature, ACCESS1-0, historical')\n",
    "plt.ylabel('Integrated temperature (%s)' %(cube_globe.units))\n",
    "\n",
    "qplt.show()"
   ]
  },
  {
   "cell_type": "code",
   "execution_count": 10,
   "metadata": {
    "collapsed": true
   },
   "outputs": [],
   "source": [
    "ratio = (cube_sthext + 40) / (cube_notsthext + 40)"
   ]
  },
  {
   "cell_type": "code",
   "execution_count": 11,
   "metadata": {
    "collapsed": false
   },
   "outputs": [
    {
     "data": {
      "image/png": "[encoded data removed]",
      "text/plain": [
       "<matplotlib.figure.Figure at 0x7ff6abc1d550>"
      ]
     },
     "metadata": {},
     "output_type": "display_data"
    }
   ],
   "source": [
    "qplt.plot(ratio.coord('time'), ratio, label='ratio')\n",
    "\n",
    "plt.legend(loc='best')\n",
    "plt.title('SthExt / notSthExt, ACCESS1-0, historical')\n",
    "plt.ylabel('ratio')\n",
    "\n",
    "qplt.show()"
   ]
  },
  {
   "cell_type": "markdown",
   "metadata": {
    "collapsed": true
   },
   "source": [
    "Now that I've got the dummy ratio data, I need to take the linear trend in 10 year windows. I'm following the example of how to make an aggregator in Iris found [here](http://scitools.org.uk/iris/docs/latest/examples/General/custom_aggregation.html#general-custom-aggregation)."
   ]
  },
  {
   "cell_type": "code",
   "execution_count": 24,
   "metadata": {
    "collapsed": true
   },
   "outputs": [],
   "source": [
    "from iris.util import rolling_window\n",
    "from iris.analysis import Aggregator\n",
    "from scipy import stats\n",
    "import numpy"
   ]
  },
  {
   "cell_type": "code",
   "execution_count": 13,
   "metadata": {
    "collapsed": false
   },
   "outputs": [
    {
     "name": "stdout",
     "output_type": "stream",
     "text": [
      "unknown / (1)                       (time: 1861)\n",
      "     Dimension coordinates:\n",
      "          time                           x\n"
     ]
    }
   ],
   "source": [
    "print ratio"
   ]
  },
  {
   "cell_type": "code",
   "execution_count": 41,
   "metadata": {
    "collapsed": false
   },
   "outputs": [],
   "source": [
    "windowed_ratio = rolling_window(ratio.data, window=10, axis=0)"
   ]
  },
  {
   "cell_type": "code",
   "execution_count": 42,
   "metadata": {
    "collapsed": false
   },
   "outputs": [
    {
     "name": "stdout",
     "output_type": "stream",
     "text": [
      "(1852, 10)\n"
     ]
    }
   ],
   "source": [
    "print windowed_ratio.shape"
   ]
  },
  {
   "cell_type": "code",
   "execution_count": 49,
   "metadata": {
    "collapsed": true
   },
   "outputs": [],
   "source": [
    "def calc_slope(y, x):\n",
    "    \"\"\" \"\"\"\n",
    "    \n",
    "    slope, intercept, r_value, p_value, std_err = stats.linregress(x,y)\n",
    "    \n",
    "    return slope\n",
    "\n",
    "\n",
    "def linear_trend(data, axis, window_size):\n",
    "    \"\"\" \"\"\"\n",
    "\n",
    "    window_array = rolling_window(data, window=window_size, axis=axis)\n",
    "\n",
    "    x_axis = numpy.arange(0, window_size)    \n",
    "    trend = numpy.apply_along_axis(calc_slope, -1, window_array, x_axis)\n",
    "    \n",
    "    return trend\n",
    "    "
   ]
  },
  {
   "cell_type": "code",
   "execution_count": 50,
   "metadata": {
    "collapsed": false
   },
   "outputs": [],
   "source": [
    "ratio_trends = linear_trend(ratio.data, 0, 10)"
   ]
  },
  {
   "cell_type": "code",
   "execution_count": 51,
   "metadata": {
    "collapsed": false
   },
   "outputs": [
    {
     "data": {
      "text/plain": [
       "(1852,)"
      ]
     },
     "execution_count": 51,
     "metadata": {},
     "output_type": "execute_result"
    }
   ],
   "source": [
    "ratio_trends.shape"
   ]
  },
  {
   "cell_type": "code",
   "execution_count": 52,
   "metadata": {
    "collapsed": false
   },
   "outputs": [
    {
     "data": {
      "text/plain": [
       "0.00012627298181707209"
      ]
     },
     "execution_count": 52,
     "metadata": {},
     "output_type": "execute_result"
    }
   ],
   "source": [
    "ratio_trends[0]"
   ]
  },
  {
   "cell_type": "code",
   "execution_count": 54,
   "metadata": {
    "collapsed": false
   },
   "outputs": [
    {
     "data": {
      "text/plain": [
       "masked_array(data = [1.0844049453735352 1.0782850980758667 1.0737272500991821\n",
       " 1.0706371068954468 1.0686872005462646 1.069010853767395 1.070595145225525\n",
       " 1.0732098817825317 1.0793673992156982 1.0861436128616333],\n",
       "             mask = [False False False False False False False False False False],\n",
       "       fill_value = 1e+20)"
      ]
     },
     "execution_count": 54,
     "metadata": {},
     "output_type": "execute_result"
    }
   ],
   "source": [
    "stats.linregress(x, y)"
   ]
  },
  {
   "cell_type": "code",
   "execution_count": 55,
   "metadata": {
    "collapsed": false
   },
   "outputs": [
    {
     "data": {
      "text/plain": [
       "LinregressResult(slope=0.00012627298181707209, intercept=1.0748386805707759, rvalue=0.060463101353587873, pvalue=0.86821943154420533, stderr=0.00073702076532019807)"
      ]
     },
     "execution_count": 55,
     "metadata": {},
     "output_type": "execute_result"
    }
   ],
   "source": [
    "stats.linregress(numpy.arange(0, 10), ratio.data[0:10])"
   ]
  },
  {
   "cell_type": "code",
   "execution_count": 65,
   "metadata": {
    "collapsed": true
   },
   "outputs": [],
   "source": [
    "trend_cube = iris.cube.Cube(ratio_trends, dim_coords_and_dims=[(ratio.coord('time')[4:-5], 0)])"
   ]
  },
  {
   "cell_type": "code",
   "execution_count": 66,
   "metadata": {
    "collapsed": false
   },
   "outputs": [
    {
     "data": {
      "image/png": "[encoded data removed]",
      "text/plain": [
       "<matplotlib.figure.Figure at 0x7ff670cc7cd0>"
      ]
     },
     "metadata": {},
     "output_type": "display_data"
    }
   ],
   "source": [
    "qplt.plot(ratio.coord('time'), ratio, label='ratio')\n",
    "qplt.plot(trend_cube.coord('time'), trend_cube, label='ratio')\n",
    "\n",
    "#plt.legend(loc='best')\n",
    "#plt.title('SthExt / notSthExt, ACCESS1-0, historical')\n",
    "#plt.ylabel('ratio')\n",
    "\n",
    "qplt.show()"
   ]
  },
  {
   "cell_type": "code",
   "execution_count": 58,
   "metadata": {
    "collapsed": false
   },
   "outputs": [
    {
     "data": {
      "text/plain": [
       "(1852,)"
      ]
     },
     "execution_count": 58,
     "metadata": {},
     "output_type": "execute_result"
    }
   ],
   "source": [
    "ratio.coord('time')[4:-5].shape"
   ]
  },
  {
   "cell_type": "code",
   "execution_count": 63,
   "metadata": {
    "collapsed": false
   },
   "outputs": [
    {
     "data": {
      "text/plain": [
       "['_MODE_ADD',\n",
       " '_MODE_DIV',\n",
       " '_MODE_MUL',\n",
       " '_MODE_RDIV',\n",
       " '_MODE_SUB',\n",
       " '_MODE_SYMBOL',\n",
       " '__abstractmethods__',\n",
       " '__add__',\n",
       " '__binary_operator__',\n",
       " '__class__',\n",
       " '__delattr__',\n",
       " '__dict__',\n",
       " '__div__',\n",
       " '__doc__',\n",
       " '__eq__',\n",
       " '__format__',\n",
       " '__getattribute__',\n",
       " '__getitem__',\n",
       " '__hash__',\n",
       " '__init__',\n",
       " '__module__',\n",
       " '__mul__',\n",
       " '__ne__',\n",
       " '__neg__',\n",
       " '__new__',\n",
       " '__radd__',\n",
       " '__rdiv__',\n",
       " '__reduce__',\n",
       " '__reduce_ex__',\n",
       " '__repr__',\n",
       " '__rmul__',\n",
       " '__rsub__',\n",
       " '__rtruediv__',\n",
       " '__setattr__',\n",
       " '__sizeof__',\n",
       " '__slotnames__',\n",
       " '__str__',\n",
       " '__sub__',\n",
       " '__subclasshook__',\n",
       " '__truediv__',\n",
       " '__weakref__',\n",
       " '_abc_cache',\n",
       " '_abc_negative_cache',\n",
       " '_abc_negative_cache_version',\n",
       " '_abc_registry',\n",
       " '_as_defn',\n",
       " '_attributes',\n",
       " '_bounds',\n",
       " '_guess_bounds',\n",
       " '_points',\n",
       " '_repr_other_metadata',\n",
       " '_sanity_check_contiguous',\n",
       " '_standard_name',\n",
       " '_str_dates',\n",
       " '_units',\n",
       " '_value_type_name',\n",
       " '_var_name',\n",
       " '_xml_id',\n",
       " 'attributes',\n",
       " 'bounds',\n",
       " 'cell',\n",
       " 'cells',\n",
       " 'circular',\n",
       " 'collapsed',\n",
       " 'contiguous_bounds',\n",
       " 'convert_units',\n",
       " 'coord_system',\n",
       " 'copy',\n",
       " 'dtype',\n",
       " 'from_coord',\n",
       " 'from_regular',\n",
       " 'guess_bounds',\n",
       " 'has_bounds',\n",
       " 'intersect',\n",
       " 'is_compatible',\n",
       " 'is_contiguous',\n",
       " 'is_monotonic',\n",
       " 'long_name',\n",
       " 'name',\n",
       " 'nbounds',\n",
       " 'ndim',\n",
       " 'nearest_neighbour_index',\n",
       " 'points',\n",
       " 'rename',\n",
       " 'shape',\n",
       " 'standard_name',\n",
       " 'units',\n",
       " 'var_name',\n",
       " 'xml_element']"
      ]
     },
     "execution_count": 63,
     "metadata": {},
     "output_type": "execute_result"
    }
   ],
   "source": [
    "dir(ratio.coord('time'))"
   ]
  },
  {
   "cell_type": "code",
   "execution_count": null,
   "metadata": {
    "collapsed": true
   },
   "outputs": [],
   "source": []
  }
 ],
 "metadata": {
  "kernelspec": {
   "display_name": "Python 2",
   "language": "python",
   "name": "python2"
  },
  "language_info": {
   "codemirror_mode": {
    "name": "ipython",
    "version": 2
   },
   "file_extension": ".py",
   "mimetype": "text/x-python",
   "name": "python",
   "nbconvert_exporter": "python",
   "pygments_lexer": "ipython2",
   "version": "2.7.11"
  }
 },
 "nbformat": 4,
 "nbformat_minor": 0
}
