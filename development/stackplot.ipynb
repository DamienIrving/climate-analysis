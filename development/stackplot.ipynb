{
 "cells": [
  {
   "cell_type": "markdown",
   "metadata": {},
   "source": [
    "## Plotting a date file"
   ]
  },
  {
   "cell_type": "code",
   "execution_count": 53,
   "metadata": {
    "collapsed": true
   },
   "outputs": [],
   "source": [
    "import pandas, datetime, numpy\n",
    "from matplotlib import pyplot as plt"
   ]
  },
  {
   "cell_type": "code",
   "execution_count": 54,
   "metadata": {
    "collapsed": false
   },
   "outputs": [],
   "source": [
    "% matplotlib inline"
   ]
  },
  {
   "cell_type": "markdown",
   "metadata": {},
   "source": [
    "### Read the data"
   ]
  },
  {
   "cell_type": "code",
   "execution_count": 55,
   "metadata": {
    "collapsed": false
   },
   "outputs": [],
   "source": [
    "def read_dates(infile):\n",
    "    \"\"\"Read a file of dates (one per line) and write to a list.\"\"\"\n",
    "\n",
    "    fin = open(infile, 'r')\n",
    "    date_list = []\n",
    "    for line in fin:\n",
    "        date_list.append(line.rstrip('\\n'))\n",
    "    fin.close()\n",
    "\n",
    "    return date_list"
   ]
  },
  {
   "cell_type": "code",
   "execution_count": 56,
   "metadata": {
    "collapsed": false
   },
   "outputs": [
    {
     "name": "stdout",
     "output_type": "stream",
     "text": [
      "['1979-03-18', '1979-03-19', '1979-03-20', '1979-03-21', '1979-03-22']\n"
     ]
    }
   ],
   "source": [
    "date_list = read_dates('dates_pwigt90pct_ERAInterim_500hPa_030day-runmean_native.txt')\n",
    "print date_list[0:5]"
   ]
  },
  {
   "cell_type": "code",
   "execution_count": 57,
   "metadata": {
    "collapsed": false
   },
   "outputs": [],
   "source": [
    "ones = numpy.ones(len(date_list))\n",
    "dates_df = pandas.DataFrame(ones, index=map(lambda x: datetime.datetime.strptime(x, '%Y-%m-%d'), date_list), columns=['count'])"
   ]
  },
  {
   "cell_type": "code",
   "execution_count": 58,
   "metadata": {
    "collapsed": false
   },
   "outputs": [
    {
     "name": "stdout",
     "output_type": "stream",
     "text": [
      "            count\n",
      "1979-03-18      1\n",
      "1979-03-19      1\n",
      "1979-03-20      1\n",
      "1979-03-21      1\n",
      "1979-03-22      1\n",
      "1979-03-23      1\n",
      "1979-03-24      1\n",
      "1979-03-25      1\n",
      "1979-03-26      1\n",
      "1979-03-27      1\n",
      "1979-03-28      1\n",
      "1979-03-31      1\n",
      "1979-04-03      1\n",
      "1979-05-27      1\n",
      "1979-05-28      1\n",
      "1979-05-29      1\n",
      "1979-06-18      1\n",
      "1979-06-19      1\n",
      "1979-07-23      1\n",
      "1979-07-24      1\n",
      "1979-07-25      1\n",
      "1979-07-26      1\n",
      "1979-07-27      1\n",
      "1979-09-05      1\n",
      "1979-09-06      1\n",
      "1979-09-07      1\n",
      "1980-02-02      1\n",
      "1980-02-03      1\n",
      "1980-02-04      1\n",
      "1980-02-05      1\n",
      "...           ...\n",
      "2014-05-02      1\n",
      "2014-05-03      1\n",
      "2014-05-04      1\n",
      "2014-08-18      1\n",
      "2014-08-19      1\n",
      "2014-08-20      1\n",
      "2014-08-21      1\n",
      "2014-08-22      1\n",
      "2014-08-23      1\n",
      "2014-08-24      1\n",
      "2014-08-25      1\n",
      "2014-08-26      1\n",
      "2014-08-27      1\n",
      "2014-08-28      1\n",
      "2014-08-29      1\n",
      "2014-08-30      1\n",
      "2014-08-31      1\n",
      "2014-09-01      1\n",
      "2014-09-02      1\n",
      "2014-09-03      1\n",
      "2014-09-04      1\n",
      "2014-09-05      1\n",
      "2014-09-06      1\n",
      "2014-09-07      1\n",
      "2014-09-08      1\n",
      "2014-09-09      1\n",
      "2014-09-10      1\n",
      "2014-09-11      1\n",
      "2014-09-12      1\n",
      "2014-09-13      1\n",
      "\n",
      "[1312 rows x 1 columns]\n"
     ]
    }
   ],
   "source": [
    "print dates_df"
   ]
  },
  {
   "cell_type": "markdown",
   "metadata": {},
   "source": [
    "### Filter and fill to desired date range"
   ]
  },
  {
   "cell_type": "code",
   "execution_count": 59,
   "metadata": {
    "collapsed": false
   },
   "outputs": [],
   "source": [
    "start = '1979-12-01'\n",
    "end = '2014-11-30'\n",
    "\n",
    "datetime_start = datetime.datetime.strptime(start, '%Y-%m-%d')\n",
    "start_selection = dates_df.index >= datetime_start\n",
    "\n",
    "datetime_end = datetime.datetime.strptime(end, '%Y-%m-%d')\n",
    "end_selection = dates_df.index <= datetime_end\n",
    "\n",
    "combined_selection = start_selection & end_selection"
   ]
  },
  {
   "cell_type": "code",
   "execution_count": 60,
   "metadata": {
    "collapsed": false
   },
   "outputs": [
    {
     "name": "stdout",
     "output_type": "stream",
     "text": [
      "[False False False False False False False False False False False False\n",
      " False False False False False False False False False False False False\n",
      " False False  True  True  True  True]\n"
     ]
    }
   ],
   "source": [
    "print combined_selection[0:30]"
   ]
  },
  {
   "cell_type": "code",
   "execution_count": 61,
   "metadata": {
    "collapsed": false
   },
   "outputs": [
    {
     "name": "stdout",
     "output_type": "stream",
     "text": [
      "[ True  True  True  True  True  True  True  True  True  True  True  True\n",
      "  True  True  True  True  True  True  True  True  True  True  True  True\n",
      "  True  True  True  True  True]\n"
     ]
    }
   ],
   "source": [
    "print combined_selection[-30:-1]"
   ]
  },
  {
   "cell_type": "code",
   "execution_count": 62,
   "metadata": {
    "collapsed": true
   },
   "outputs": [],
   "source": [
    "filtered_dates_df = dates_df[combined_selection]"
   ]
  },
  {
   "cell_type": "code",
   "execution_count": 63,
   "metadata": {
    "collapsed": false
   },
   "outputs": [],
   "source": [
    "date_range = pandas.date_range(start, end)\n",
    "filled_filtered_dates_df = filtered_dates_df.reindex(date_range, fill_value=0)"
   ]
  },
  {
   "cell_type": "code",
   "execution_count": 64,
   "metadata": {
    "collapsed": false
   },
   "outputs": [
    {
     "name": "stdout",
     "output_type": "stream",
     "text": [
      "            count\n",
      "1979-12-01      0\n",
      "1979-12-02      0\n",
      "1979-12-03      0\n",
      "1979-12-04      0\n",
      "1979-12-05      0\n",
      "1979-12-06      0\n",
      "1979-12-07      0\n",
      "1979-12-08      0\n",
      "1979-12-09      0\n",
      "1979-12-10      0\n",
      "1979-12-11      0\n",
      "1979-12-12      0\n",
      "1979-12-13      0\n",
      "1979-12-14      0\n",
      "1979-12-15      0\n",
      "1979-12-16      0\n",
      "1979-12-17      0\n",
      "1979-12-18      0\n",
      "1979-12-19      0\n",
      "1979-12-20      0\n",
      "1979-12-21      0\n",
      "1979-12-22      0\n",
      "1979-12-23      0\n",
      "1979-12-24      0\n",
      "1979-12-25      0\n",
      "1979-12-26      0\n",
      "1979-12-27      0\n",
      "1979-12-28      0\n",
      "1979-12-29      0\n",
      "1979-12-30      0\n",
      "...           ...\n",
      "2014-11-01      0\n",
      "2014-11-02      0\n",
      "2014-11-03      0\n",
      "2014-11-04      0\n",
      "2014-11-05      0\n",
      "2014-11-06      0\n",
      "2014-11-07      0\n",
      "2014-11-08      0\n",
      "2014-11-09      0\n",
      "2014-11-10      0\n",
      "2014-11-11      0\n",
      "2014-11-12      0\n",
      "2014-11-13      0\n",
      "2014-11-14      0\n",
      "2014-11-15      0\n",
      "2014-11-16      0\n",
      "2014-11-17      0\n",
      "2014-11-18      0\n",
      "2014-11-19      0\n",
      "2014-11-20      0\n",
      "2014-11-21      0\n",
      "2014-11-22      0\n",
      "2014-11-23      0\n",
      "2014-11-24      0\n",
      "2014-11-25      0\n",
      "2014-11-26      0\n",
      "2014-11-27      0\n",
      "2014-11-28      0\n",
      "2014-11-29      0\n",
      "2014-11-30      0\n",
      "\n",
      "[12784 rows x 1 columns]\n"
     ]
    }
   ],
   "source": [
    "print filled_filtered_dates_df"
   ]
  },
  {
   "cell_type": "markdown",
   "metadata": {},
   "source": [
    "## Seasonal plot"
   ]
  },
  {
   "cell_type": "markdown",
   "metadata": {},
   "source": [
    "### Aggregate to seasonal timescale"
   ]
  },
  {
   "cell_type": "markdown",
   "metadata": {},
   "source": [
    "[This](http://stackoverflow.com/questions/14569223/timegrouper-pandas) is a good example of the pandas TimeGrouper"
   ]
  },
  {
   "cell_type": "code",
   "execution_count": 65,
   "metadata": {
    "collapsed": false
   },
   "outputs": [
    {
     "data": {
      "text/plain": [
       "<class 'pandas.tseries.index.DatetimeIndex'>\n",
       "[1979-12-01, ..., 2014-11-30]\n",
       "Length: 12784, Freq: D, Timezone: None"
      ]
     },
     "execution_count": 65,
     "metadata": {},
     "output_type": "execute_result"
    }
   ],
   "source": [
    "filled_filtered_dates_df.index"
   ]
  },
  {
   "cell_type": "code",
   "execution_count": 66,
   "metadata": {
    "collapsed": false
   },
   "outputs": [
    {
     "name": "stdout",
     "output_type": "stream",
     "text": [
      "            count\n",
      "1980-02-29     24\n",
      "1980-05-31     54\n",
      "1980-08-31     33\n",
      "1980-11-30      0\n",
      "1981-02-28      0\n",
      "1981-05-31     20\n",
      "1981-08-31     38\n",
      "1981-11-30      0\n",
      "1982-02-28      0\n",
      "1982-05-31     12\n",
      "1982-08-31     26\n",
      "1982-11-30      0\n",
      "1983-02-28      4\n",
      "1983-05-31      5\n",
      "1983-08-31      0\n",
      "1983-11-30      0\n",
      "1984-02-29      0\n",
      "1984-05-31     20\n",
      "1984-08-31      7\n",
      "1984-11-30     16\n",
      "1985-02-28      0\n",
      "1985-05-31      0\n",
      "1985-08-31      3\n",
      "1985-11-30     17\n",
      "1986-02-28      0\n",
      "1986-05-31      3\n",
      "1986-08-31     17\n",
      "1986-11-30     16\n",
      "1987-02-28      0\n",
      "1987-05-31      2\n",
      "...           ...\n",
      "2007-08-31     40\n",
      "2007-11-30      0\n",
      "2008-02-29      0\n",
      "2008-05-31      3\n",
      "2008-08-31      8\n",
      "2008-11-30     24\n",
      "2009-02-28      0\n",
      "2009-05-31     12\n",
      "2009-08-31     33\n",
      "2009-11-30      8\n",
      "2010-02-28      9\n",
      "2010-05-31      0\n",
      "2010-08-31      3\n",
      "2010-11-30     23\n",
      "2011-02-28      9\n",
      "2011-05-31      6\n",
      "2011-08-31     35\n",
      "2011-11-30      0\n",
      "2012-02-29      0\n",
      "2012-05-31      9\n",
      "2012-08-31      8\n",
      "2012-11-30      0\n",
      "2013-02-28      0\n",
      "2013-05-31      4\n",
      "2013-08-31      0\n",
      "2013-11-30      0\n",
      "2014-02-28      0\n",
      "2014-05-31     25\n",
      "2014-08-31     13\n",
      "2014-11-30     14\n",
      "\n",
      "[140 rows x 1 columns]\n"
     ]
    }
   ],
   "source": [
    "from pandas.tseries.resample import TimeGrouper\n",
    "\n",
    "seasonal_data = filled_filtered_dates_df.groupby(TimeGrouper(freq='3M', closed='left')).sum()\n",
    "seasonal_data = seasonal_data.drop(seasonal_data.index[-1])\n",
    "print seasonal_data"
   ]
  },
  {
   "cell_type": "code",
   "execution_count": 82,
   "metadata": {
    "collapsed": false
   },
   "outputs": [],
   "source": [
    "assert len(seasonal_data['count']) % 4.0 == 0, \"Date range must ensure each season is equally represented\"\n",
    "\n",
    "season_keys = {2: 'DJF', 5: 'MAM', 8: 'JJA', 11: 'SON'}\n",
    "season_counts = {}\n",
    "for i in range(0,4):\n",
    "    month = seasonal_data.index[i].month\n",
    "    assert month in season_keys.keys(), \"Set start and end date as the beginning/end month of DJF, MAM, JJA or SON\"\n",
    "    season_counts[season_keys[month]] = seasonal_data['count'][i::4]"
   ]
  },
  {
   "cell_type": "markdown",
   "metadata": {},
   "source": [
    "There's a good stackplot example [here](http://matplotlib.org/examples/pylab_examples/stackplot_demo.html) and an alternative histogram stacking method [here](http://matplotlib.org/examples/pylab_examples/bar_stacked.html)."
   ]
  },
  {
   "cell_type": "code",
   "execution_count": 83,
   "metadata": {
    "collapsed": false
   },
   "outputs": [
    {
     "data": {
      "image/png": "[encoded data removed]",
      "text/plain": [
       "<matplotlib.figure.Figure at 0x7f5a5d1af690>"
      ]
     },
     "metadata": {},
     "output_type": "display_data"
    }
   ],
   "source": [
    "start_year = season_counts['MAM'].index[0].year\n",
    "end_year = season_counts['MAM'].index[-1].year\n",
    "\n",
    "x = numpy.arange(start_year, end_year + 1)\n",
    "\n",
    "pdjf = plt.bar(x, season_counts['DJF'], color='yellow')\n",
    "pmam = plt.bar(x, season_counts['MAM'], color='orange', bottom=season_counts['DJF'])\n",
    "pjja = plt.bar(x, season_counts['JJA'], color='blue', bottom=season_counts['DJF'].as_matrix()+season_counts['MAM'].as_matrix())\n",
    "pson = plt.bar(x, season_counts['SON'], color='green', bottom=season_counts['DJF'].as_matrix()+season_counts['MAM'].as_matrix()+season_counts['JJA'].as_matrix())\n",
    "\n",
    "plt.legend( (pdjf[0], pmam[0], pjja[0], pson[0]), ('DJF', 'MAM', 'JJA', 'SON') )\n",
    "\n",
    "plt.show()"
   ]
  },
  {
   "cell_type": "code",
   "execution_count": 72,
   "metadata": {
    "collapsed": false
   },
   "outputs": [
    {
     "name": "stdout",
     "output_type": "stream",
     "text": [
      "1980 24.0 54.0 33.0 0.0\n",
      "1981 0.0 20.0 38.0 0.0\n",
      "1982 0.0 12.0 26.0 0.0\n",
      "1983 4.0 5.0 0.0 0.0\n",
      "1984 0.0 20.0 7.0 16.0\n",
      "1985 0.0 0.0 3.0 17.0\n",
      "1986 0.0 3.0 17.0 16.0\n",
      "1987 0.0 2.0 13.0 0.0\n",
      "1988 0.0 15.0 18.0 0.0\n",
      "1989 0.0 0.0 34.0 4.0\n",
      "1990 0.0 4.0 1.0 0.0\n",
      "1991 0.0 8.0 26.0 0.0\n",
      "1992 9.0 13.0 12.0 9.0\n",
      "1993 8.0 0.0 25.0 0.0\n",
      "1994 0.0 0.0 0.0 0.0\n",
      "1995 0.0 21.0 29.0 0.0\n",
      "1996 5.0 3.0 5.0 6.0\n",
      "1997 14.0 5.0 24.0 20.0\n",
      "1998 13.0 28.0 11.0 0.0\n",
      "1999 2.0 0.0 4.0 10.0\n",
      "2000 0.0 0.0 37.0 11.0\n",
      "2001 0.0 17.0 50.0 1.0\n",
      "2002 0.0 29.0 18.0 0.0\n",
      "2003 0.0 21.0 2.0 0.0\n",
      "2004 0.0 0.0 0.0 3.0\n",
      "2005 4.0 7.0 15.0 32.0\n",
      "2006 7.0 2.0 27.0 0.0\n",
      "2007 1.0 0.0 40.0 0.0\n",
      "2008 0.0 3.0 8.0 24.0\n",
      "2009 0.0 12.0 33.0 8.0\n",
      "2010 9.0 0.0 3.0 23.0\n",
      "2011 9.0 6.0 35.0 0.0\n",
      "2012 0.0 9.0 8.0 0.0\n",
      "2013 0.0 4.0 0.0 0.0\n"
     ]
    }
   ],
   "source": [
    "for i in range(0, 34):\n",
    "    print i+1980, season_counts['DJF'][i], season_counts['MAM'][i], season_counts['JJA'][i], season_counts['SON'][i]"
   ]
  },
  {
   "cell_type": "code",
   "execution_count": 74,
   "metadata": {
    "collapsed": false
   },
   "outputs": [
    {
     "name": "stdout",
     "output_type": "stream",
     "text": [
      "DJF 109.0\n",
      "MAM 348.0\n",
      "JJA 615.0\n",
      "SON 214.0\n"
     ]
    }
   ],
   "source": [
    "for season in ['DJF', 'MAM', 'JJA', 'SON']:\n",
    "    print season, numpy.sum(season_counts[season])"
   ]
  },
  {
   "cell_type": "markdown",
   "metadata": {},
   "source": [
    "## Monthly plot"
   ]
  },
  {
   "cell_type": "markdown",
   "metadata": {},
   "source": [
    "### Aggregate to the monthly timescale"
   ]
  },
  {
   "cell_type": "code",
   "execution_count": 85,
   "metadata": {
    "collapsed": false
   },
   "outputs": [
    {
     "name": "stdout",
     "output_type": "stream",
     "text": [
      "            count\n",
      "1979-12-31      0\n",
      "1980-01-31      0\n",
      "1980-02-29     24\n",
      "1980-03-31      6\n",
      "1980-04-30     24\n",
      "1980-05-31     24\n",
      "1980-06-30      0\n",
      "1980-07-31     23\n",
      "1980-08-31     10\n",
      "1980-09-30      0\n",
      "1980-10-31      0\n",
      "1980-11-30      0\n",
      "1980-12-31      0\n",
      "1981-01-31      0\n",
      "1981-02-28      0\n",
      "1981-03-31     15\n",
      "1981-04-30      0\n",
      "1981-05-31      5\n",
      "1981-06-30     17\n",
      "1981-07-31     18\n",
      "1981-08-31      3\n",
      "1981-09-30      0\n",
      "1981-10-31      0\n",
      "1981-11-30      0\n",
      "1981-12-31      0\n",
      "1982-01-31      0\n",
      "1982-02-28      0\n",
      "1982-03-31      0\n",
      "1982-04-30      5\n",
      "1982-05-31      7\n",
      "...           ...\n",
      "2012-06-30      0\n",
      "2012-07-31      0\n",
      "2012-08-31      8\n",
      "2012-09-30      0\n",
      "2012-10-31      0\n",
      "2012-11-30      0\n",
      "2012-12-31      0\n",
      "2013-01-31      0\n",
      "2013-02-28      0\n",
      "2013-03-31      4\n",
      "2013-04-30      0\n",
      "2013-05-31      0\n",
      "2013-06-30      0\n",
      "2013-07-31      0\n",
      "2013-08-31      0\n",
      "2013-09-30      0\n",
      "2013-10-31      0\n",
      "2013-11-30      0\n",
      "2013-12-31      0\n",
      "2014-01-31      0\n",
      "2014-02-28      0\n",
      "2014-03-31      3\n",
      "2014-04-30     17\n",
      "2014-05-31      5\n",
      "2014-06-30      0\n",
      "2014-07-31      0\n",
      "2014-08-31     13\n",
      "2014-09-30     14\n",
      "2014-10-31      0\n",
      "2014-11-30      0\n",
      "\n",
      "[420 rows x 1 columns]\n"
     ]
    }
   ],
   "source": [
    "monthly_data = filled_filtered_dates_df.groupby(TimeGrouper(freq='1M', closed='left')).sum()\n",
    "monthly_data = monthly_data.drop(monthly_data.index[-1])\n",
    "print monthly_data"
   ]
  },
  {
   "cell_type": "code",
   "execution_count": 89,
   "metadata": {
    "collapsed": false
   },
   "outputs": [
    {
     "name": "stdout",
     "output_type": "stream",
     "text": [
      "    count\n",
      "1      14\n",
      "2      77\n",
      "3      46\n",
      "4     127\n",
      "5     175\n",
      "6     157\n",
      "7     253\n",
      "8     205\n",
      "9     123\n",
      "10     34\n",
      "11     57\n",
      "12     18\n"
     ]
    }
   ],
   "source": [
    "# Write a function that will be used to group the data\n",
    "def get_month(x):\n",
    "    return x.month\n",
    "\n",
    "# Call the function with the groupby operation. \n",
    "grouped_data = monthly_data.groupby(get_month)\n",
    "monthly_totals = grouped_data.sum()\n",
    "print monthly_totals"
   ]
  },
  {
   "cell_type": "code",
   "execution_count": null,
   "metadata": {
    "collapsed": true
   },
   "outputs": [],
   "source": []
  }
 ],
 "metadata": {
  "kernelspec": {
   "display_name": "Python 2",
   "language": "python",
   "name": "python2"
  },
  "language_info": {
   "codemirror_mode": {
    "name": "ipython",
    "version": 2
   },
   "file_extension": ".py",
   "mimetype": "text/x-python",
   "name": "python",
   "nbconvert_exporter": "python",
   "pygments_lexer": "ipython2",
   "version": "2.7.9"
  }
 },
 "nbformat": 4,
 "nbformat_minor": 0
}
