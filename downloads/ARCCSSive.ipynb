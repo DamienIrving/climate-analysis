{
 "metadata": {
  "name": "ARCCSSive"
 },
 "nbformat": 3,
 "nbformat_minor": 0,
 "worksheets": [
  {
   "cells": [
    {
     "cell_type": "markdown",
     "metadata": {},
     "source": [
      "# ARCCSSive\n",
      "\n",
      "## Searching what's on NCI\n",
      "\n",
      "The documentation for the ARCCSS CMIP5 data searching tools can be found [here](http://arccssive.readthedocs.io/en/latest/index.html).\n",
      "\n",
      "To use this on the CWS Virtual Desktops, I first had to comment out the miniconda command in my `.bashrc` file so that it used the default system python. Then I just typed the following before launching the notebook:\n",
      "```\n",
      "vdi $ pip install --user ARCCSSive\n",
      "vdi $ export CMIP5_DB=sqlite:////g/data1/ua6/unofficial-ESG-replica/tmp/tree/cmip5_raijin_latest.db\n",
      "```"
     ]
    },
    {
     "cell_type": "code",
     "collapsed": false,
     "input": [
      "from ARCCSSive import CMIP5\n",
      "import six\n",
      "\n",
      "cmip5 = CMIP5.DB.connect()"
     ],
     "language": "python",
     "metadata": {},
     "outputs": [],
     "prompt_number": 6
    },
    {
     "cell_type": "code",
     "collapsed": false,
     "input": [
      "outputs = cmip5.outputs(experiment = 'rcp45',\n",
      "                        variable = 'thetao',\n",
      "                        mip = 'Omon',\n",
      "                        model = 'ACCESS1-3',\n",
      "                        ensemble = 'r1i1p1')\n",
      "\n",
      "for f in outputs.first().filenames():\n",
      "    six.print_(f)"
     ],
     "language": "python",
     "metadata": {},
     "outputs": [
      {
       "output_type": "stream",
       "stream": "stdout",
       "text": [
        "thetao_Omon_ACCESS1-3_rcp45_r1i1p1_202101-202512.nc\n",
        "thetao_Omon_ACCESS1-3_rcp45_r1i1p1_203101-203512.nc\n",
        "thetao_Omon_ACCESS1-3_rcp45_r1i1p1_207601-208012.nc\n",
        "thetao_Omon_ACCESS1-3_rcp45_r1i1p1_209601-210012.nc\n",
        "thetao_Omon_ACCESS1-3_rcp45_r1i1p1_206101-206512.nc\n",
        "thetao_Omon_ACCESS1-3_rcp45_r1i1p1_201101-201512.nc\n",
        "thetao_Omon_ACCESS1-3_rcp45_r1i1p1_206601-207012.nc\n",
        "thetao_Omon_ACCESS1-3_rcp45_r1i1p1_203601-204012.nc\n",
        "thetao_Omon_ACCESS1-3_rcp45_r1i1p1_205601-206012.nc\n",
        "thetao_Omon_ACCESS1-3_rcp45_r1i1p1_204101-204512.nc\n",
        "thetao_Omon_ACCESS1-3_rcp45_r1i1p1_209101-209512.nc\n",
        "thetao_Omon_ACCESS1-3_rcp45_r1i1p1_200601-201012.nc\n",
        "thetao_Omon_ACCESS1-3_rcp45_r1i1p1_208601-209012.nc\n",
        "thetao_Omon_ACCESS1-3_rcp45_r1i1p1_208101-208512.nc\n",
        "thetao_Omon_ACCESS1-3_rcp45_r1i1p1_207101-207512.nc\n",
        "thetao_Omon_ACCESS1-3_rcp45_r1i1p1_201601-202012.nc\n",
        "thetao_Omon_ACCESS1-3_rcp45_r1i1p1_202601-203012.nc\n",
        "thetao_Omon_ACCESS1-3_rcp45_r1i1p1_204601-205012.nc\n",
        "thetao_Omon_ACCESS1-3_rcp45_r1i1p1_205101-205512.nc\n"
       ]
      }
     ],
     "prompt_number": 8
    },
    {
     "cell_type": "code",
     "collapsed": false,
     "input": [
      "outputs = cmip5.outputs(experiment = 'historical',\n",
      "                        variable = 'areacello',\n",
      "                        model = 'CCSM4')\n",
      "\n",
      "for f in outputs.first().filenames():\n",
      "    six.print_(f)"
     ],
     "language": "python",
     "metadata": {},
     "outputs": [
      {
       "output_type": "stream",
       "stream": "stdout",
       "text": [
        "areacello_fx_CCSM4_historical_r0i0p0.nc\n"
       ]
      }
     ],
     "prompt_number": 10
    },
    {
     "cell_type": "markdown",
     "metadata": {},
     "source": [
      "The local install of ARCCSSive can get dated, so you need occasionally need to remove the source files and re-install. e.g:\n",
      "```\n",
      "vdi $ rm -r /home/599/dbi599/.local/lib/python2.7/site-packages/ARCCSSive/\n",
      "vdi $ rm -r /home/599/dbi599/.local/lib/python2.7/site-packages/ARCCSSive-0.1.3.dev88+gba1abb-py2.7.egg-info/ \n",
      "vdi $ pip install --user ARCCSSive \n",
      "vdi $ pip freeze | grep -i arc \n",
      "ARCCSSive==0.2.2\n",
      "```"
     ]
    },
    {
     "cell_type": "markdown",
     "metadata": {},
     "source": [
      "## Finding out what's on ESGF but not NCI\n",
      "\n",
      "There's a script within the ARCCSS repo called `compare_ESGF.py`:\n",
      "```\n",
      "$ git clone https://github.com/coecms/ARCCSSive.git\n",
      "$ cd ARCCSSive/examples\n",
      "$ module load python\n",
      "$ export CMIP5_DB=sqlite:////g/data1/ua6/unofficial-ESG-replica/tmp/tree/cmip5_raijin_latest.db\n",
      "$ python compare_ESGF.py -v thetao -e historicalMisc -t Omon\n",
      "```\n"
     ]
    },
    {
     "cell_type": "code",
     "collapsed": false,
     "input": [],
     "language": "python",
     "metadata": {},
     "outputs": []
    }
   ],
   "metadata": {}
  }
 ]
}