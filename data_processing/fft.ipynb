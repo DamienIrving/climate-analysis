{
 "metadata": {
  "name": ""
 },
 "nbformat": 3,
 "nbformat_minor": 0,
 "worksheets": [
  {
   "cells": [
    {
     "cell_type": "code",
     "collapsed": false,
     "input": [
      "import numpy\n",
      "\n",
      "waveform = lambda x: numpy.sin(3*x)\n",
      "nsteps = 100\n",
      "len_steps = (2*numpy.pi) / nsteps\n",
      "\n",
      "x = numpy.arange(0, 2*numpy.pi + len_steps , len_steps)\n",
      "y = waveform(x) \n",
      "#y = (x + numpy.pi/2) % numpy.pi - numpy.pi/2\n",
      "fourier_trans = numpy.fft.rfft(y)/1000"
     ],
     "language": "python",
     "metadata": {},
     "outputs": [],
     "prompt_number": 29
    },
    {
     "cell_type": "code",
     "collapsed": false,
     "input": [
      "%matplotlib inline"
     ],
     "language": "python",
     "metadata": {},
     "outputs": [],
     "prompt_number": 30
    },
    {
     "cell_type": "code",
     "collapsed": false,
     "input": [
      "from matplotlib import pyplot"
     ],
     "language": "python",
     "metadata": {},
     "outputs": [],
     "prompt_number": 31
    },
    {
     "cell_type": "code",
     "collapsed": false,
     "input": [
      "pyplot.plot(x, y)\n",
      "pyplot.show()"
     ],
     "language": "python",
     "metadata": {},
     "outputs": [
      {
       "metadata": {},
       "output_type": "display_data",
       "png": "[encoded data removed]",
       "text": [
        "<matplotlib.figure.Figure at 0x105c5e350>"
       ]
      }
     ],
     "prompt_number": 32
    },
    {
     "cell_type": "code",
     "collapsed": false,
     "input": [
      "print fourier_trans.shape"
     ],
     "language": "python",
     "metadata": {},
     "outputs": [
      {
       "output_type": "stream",
       "stream": "stdout",
       "text": [
        "(51,)\n"
       ]
      }
     ],
     "prompt_number": 33
    },
    {
     "cell_type": "code",
     "collapsed": false,
     "input": [
      "print len(x), len(y)"
     ],
     "language": "python",
     "metadata": {},
     "outputs": [
      {
       "output_type": "stream",
       "stream": "stdout",
       "text": [
        "101 101\n"
       ]
      }
     ],
     "prompt_number": 34
    },
    {
     "cell_type": "code",
     "collapsed": false,
     "input": [
      "print fourier_trans"
     ],
     "language": "python",
     "metadata": {},
     "outputs": [
      {
       "output_type": "stream",
       "stream": "stdout",
       "text": [
        "[ -1.49880108e-18 +0.00000000e+00j   1.14863416e-05 -3.69158722e-04j\n",
        "   7.25501542e-05 -1.16471345e-03j   4.67507680e-03 -4.99546443e-02j\n",
        "  -2.20485219e-04 +1.76295761e-03j  -1.48507043e-04 +9.47168188e-04j\n",
        "  -1.26139145e-04 +6.68015470e-04j  -1.15637716e-04 +5.22676514e-04j\n",
        "  -1.09710132e-04 +4.31750132e-04j  -1.05985892e-04 +3.68654803e-04j\n",
        "  -1.03473866e-04 +3.21862902e-04j  -1.01691033e-04 +2.85519146e-04j\n",
        "  -1.00376101e-04 +2.56312133e-04j  -9.93765273e-05 +2.32217367e-04j\n",
        "  -9.85979097e-05 +2.11921762e-04j  -9.79790599e-05 +1.94533236e-04j\n",
        "  -9.74787953e-05 +1.79422684e-04j  -9.70685164e-05 +1.66132628e-04j\n",
        "  -9.67278288e-05 +1.54321748e-04j  -9.64418547e-05 +1.43729767e-04j\n",
        "  -9.61995247e-05 +1.34154453e-04j  -9.59924589e-05 +1.25436083e-04j\n",
        "  -9.58142161e-05 +1.17446682e-04j  -9.56597774e-05 +1.10082399e-04j\n",
        "  -9.55251840e-05 +1.03257989e-04j  -9.54072791e-05 +9.69027542e-05j\n",
        "  -9.53035201e-05 +9.09575117e-05j  -9.52118409e-05 +8.53722880e-05j\n",
        "  -9.51305486e-05 +8.01045508e-05j  -9.50582460e-05 +7.51178319e-05j\n",
        "  -9.49937720e-05 +7.03806457e-05j  -9.49361557e-05 +6.58656300e-05j\n",
        "  -9.48845810e-05 +6.15488566e-05j  -9.48383583e-05 +5.74092754e-05j\n",
        "  -9.47969024e-05 +5.34282596e-05j  -9.47597150e-05 +4.95892334e-05j\n",
        "  -9.47263700e-05 +4.58773634e-05j  -9.46965024e-05 +4.22793007e-05j\n",
        "  -9.46697990e-05 +3.87829657e-05j  -9.46459905e-05 +3.53773653e-05j\n",
        "  -9.46248456e-05 +3.20524375e-05j  -9.46061655e-05 +2.87989181e-05j\n",
        "  -9.45897802e-05 +2.56082255e-05j  -9.45755443e-05 +2.24723607e-05j\n",
        "  -9.45633350e-05 +1.93838192e-05j  -9.45530491e-05 +1.63355129e-05j\n",
        "  -9.45446013e-05 +1.33206997e-05j  -9.45379228e-05 +1.03329212e-05j\n",
        "  -9.45329597e-05 +7.36594356e-06j  -9.45296726e-05 +4.41370407e-06j\n",
        "  -9.45280355e-05 +1.47026004e-06j]\n"
       ]
      }
     ],
     "prompt_number": 36
    },
    {
     "cell_type": "code",
     "collapsed": false,
     "input": [
      "numpy.arange(0, 10, 5)"
     ],
     "language": "python",
     "metadata": {},
     "outputs": [
      {
       "metadata": {},
       "output_type": "pyout",
       "prompt_number": 24,
       "text": [
        "array([0, 5])"
       ]
      }
     ],
     "prompt_number": 24
    },
    {
     "cell_type": "code",
     "collapsed": false,
     "input": [],
     "language": "python",
     "metadata": {},
     "outputs": []
    }
   ],
   "metadata": {}
  }
 ]
}