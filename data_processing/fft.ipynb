{
 "metadata": {
  "name": ""
 },
 "nbformat": 3,
 "nbformat_minor": 0,
 "worksheets": [
  {
   "cells": [
    {
     "cell_type": "code",
     "collapsed": false,
     "input": [
      "import numpy\n",
      "\n",
      "waveform = lambda x: numpy.sin(3*x)\n",
      "nsteps = 100\n",
      "len_steps = (2*numpy.pi) / nsteps\n",
      "\n",
      "x = numpy.arange(0, 2*numpy.pi + len_steps , len_steps)\n",
      "y = waveform(x) \n",
      "#y = (x + numpy.pi/2) % numpy.pi - numpy.pi/2\n",
      "fourier_trans = numpy.fft.rfft(y)/1000"
     ],
     "language": "python",
     "metadata": {},
     "outputs": [],
     "prompt_number": 2
    },
    {
     "cell_type": "code",
     "collapsed": false,
     "input": [
      "%matplotlib inline"
     ],
     "language": "python",
     "metadata": {},
     "outputs": [],
     "prompt_number": 3
    },
    {
     "cell_type": "code",
     "collapsed": false,
     "input": [
      "from matplotlib import pyplot"
     ],
     "language": "python",
     "metadata": {},
     "outputs": [],
     "prompt_number": 4
    },
    {
     "cell_type": "code",
     "collapsed": false,
     "input": [
      "pyplot.plot(x, y)\n",
      "pyplot.show()"
     ],
     "language": "python",
     "metadata": {},
     "outputs": [
      {
       "metadata": {},
       "output_type": "display_data",
       "png": "[encoded data removed]",
       "text": [
        "<matplotlib.figure.Figure at 0x105cf6090>"
       ]
      }
     ],
     "prompt_number": 5
    },
    {
     "cell_type": "code",
     "collapsed": false,
     "input": [
      "print fourier_trans.shape"
     ],
     "language": "python",
     "metadata": {},
     "outputs": [
      {
       "output_type": "stream",
       "stream": "stdout",
       "text": [
        "(51,)\n"
       ]
      }
     ],
     "prompt_number": 6
    },
    {
     "cell_type": "code",
     "collapsed": false,
     "input": [
      "print len(x), len(y)"
     ],
     "language": "python",
     "metadata": {},
     "outputs": [
      {
       "output_type": "stream",
       "stream": "stdout",
       "text": [
        "101 101\n"
       ]
      }
     ],
     "prompt_number": 7
    },
    {
     "cell_type": "code",
     "collapsed": false,
     "input": [
      "print fourier_trans"
     ],
     "language": "python",
     "metadata": {},
     "outputs": [
      {
       "output_type": "stream",
       "stream": "stdout",
       "text": [
        "[ -1.49880108e-18 +0.00000000e+00j   1.14863416e-05 -3.69158722e-04j\n",
        "   7.25501542e-05 -1.16471345e-03j   4.67507680e-03 -4.99546443e-02j\n",
        "  -2.20485219e-04 +1.76295761e-03j  -1.48507043e-04 +9.47168188e-04j\n",
        "  -1.26139145e-04 +6.68015470e-04j  -1.15637716e-04 +5.22676514e-04j\n",
        "  -1.09710132e-04 +4.31750132e-04j  -1.05985892e-04 +3.68654803e-04j\n",
        "  -1.03473866e-04 +3.21862902e-04j  -1.01691033e-04 +2.85519146e-04j\n",
        "  -1.00376101e-04 +2.56312133e-04j  -9.93765273e-05 +2.32217367e-04j\n",
        "  -9.85979097e-05 +2.11921762e-04j  -9.79790599e-05 +1.94533236e-04j\n",
        "  -9.74787953e-05 +1.79422684e-04j  -9.70685164e-05 +1.66132628e-04j\n",
        "  -9.67278288e-05 +1.54321748e-04j  -9.64418547e-05 +1.43729767e-04j\n",
        "  -9.61995247e-05 +1.34154453e-04j  -9.59924589e-05 +1.25436083e-04j\n",
        "  -9.58142161e-05 +1.17446682e-04j  -9.56597774e-05 +1.10082399e-04j\n",
        "  -9.55251840e-05 +1.03257989e-04j  -9.54072791e-05 +9.69027542e-05j\n",
        "  -9.53035201e-05 +9.09575117e-05j  -9.52118409e-05 +8.53722880e-05j\n",
        "  -9.51305486e-05 +8.01045508e-05j  -9.50582460e-05 +7.51178319e-05j\n",
        "  -9.49937720e-05 +7.03806457e-05j  -9.49361557e-05 +6.58656300e-05j\n",
        "  -9.48845810e-05 +6.15488566e-05j  -9.48383583e-05 +5.74092754e-05j\n",
        "  -9.47969024e-05 +5.34282596e-05j  -9.47597150e-05 +4.95892334e-05j\n",
        "  -9.47263700e-05 +4.58773634e-05j  -9.46965024e-05 +4.22793007e-05j\n",
        "  -9.46697990e-05 +3.87829657e-05j  -9.46459905e-05 +3.53773653e-05j\n",
        "  -9.46248456e-05 +3.20524375e-05j  -9.46061655e-05 +2.87989181e-05j\n",
        "  -9.45897802e-05 +2.56082255e-05j  -9.45755443e-05 +2.24723607e-05j\n",
        "  -9.45633350e-05 +1.93838192e-05j  -9.45530491e-05 +1.63355129e-05j\n",
        "  -9.45446013e-05 +1.33206997e-05j  -9.45379228e-05 +1.03329212e-05j\n",
        "  -9.45329597e-05 +7.36594356e-06j  -9.45296726e-05 +4.41370407e-06j\n",
        "  -9.45280355e-05 +1.47026004e-06j]\n"
       ]
      }
     ],
     "prompt_number": 8
    },
    {
     "cell_type": "code",
     "collapsed": false,
     "input": [
      "numpy.arange(0, 10, 5)"
     ],
     "language": "python",
     "metadata": {},
     "outputs": [
      {
       "metadata": {},
       "output_type": "pyout",
       "prompt_number": 9,
       "text": [
        "array([0, 5])"
       ]
      }
     ],
     "prompt_number": 9
    },
    {
     "cell_type": "code",
     "collapsed": false,
     "input": [
      "n = 1000 # Number of data points\n",
      "dx = 5.0 # Sampling period (in meters)\n",
      "x = dx*numpy.arange(0,n) # x coordinates\n",
      "w1 = 100.0 # wavelength (meters)\n",
      "w2 = 20.0 # wavelength (meters)\n",
      "fx = numpy.sin(2*numpy.pi*x/w1) + 2*numpy.cos(2*numpy.pi*x/w2) # signal \n",
      "Fk = numpy.fft.fft(fx)/n # Fourier coefficients (divided by n) \n",
      "nu = numpy.fft.fftfreq(n,dx) # Natural frequencies\n",
      "Fk = numpy.fft.fftshift(Fk) # Shift zero freq to center\n",
      "nu = numpy.fft.fftshift(nu) # Shift zero freq to center\n",
      "f, ax = pyplot.subplots(3, 1, sharex=True)\n",
      "ax[0].plot(nu, numpy.real(Fk))\n",
      "ax[0].set_ylabel(r'$Re[F_k]$', size='x-large')\n",
      "ax[1].plot(nu, numpy.imag(Fk))\n",
      "ax[1].set_ylabel(r'$Im[F_k]$', size='x-large')\n",
      "ax[2].plot(nu, numpy.absolute(Fk)**2)\n",
      "ax[2].set_ylabel(r'$\\vert F_k \\vert', size='x-large')\n",
      "ax[2].set_xlabel(r'$\\widetilde{\\nu}$', size='x-large') \n",
      "pyplot.show()"
     ],
     "language": "python",
     "metadata": {},
     "outputs": [
      {
       "metadata": {},
       "output_type": "display_data",
       "png": "[encoded data removed]",
       "text": [
        "<matplotlib.figure.Figure at 0x105cfce90>"
       ]
      }
     ],
     "prompt_number": 13
    },
    {
     "cell_type": "code",
     "collapsed": false,
     "input": [
      "pyplot.plot(x, fx)\n",
      "pyplot.xlim(0, 300)\n",
      "pyplot.show()"
     ],
     "language": "python",
     "metadata": {},
     "outputs": [
      {
       "metadata": {},
       "output_type": "display_data",
       "png": "[encoded data removed]",
       "text": [
        "<matplotlib.figure.Figure at 0x105dd2bd0>"
       ]
      }
     ],
     "prompt_number": 16
    },
    {
     "cell_type": "code",
     "collapsed": false,
     "input": [
      "print len(fx)"
     ],
     "language": "python",
     "metadata": {},
     "outputs": [
      {
       "output_type": "stream",
       "stream": "stdout",
       "text": [
        "1000\n"
       ]
      }
     ],
     "prompt_number": 17
    },
    {
     "cell_type": "code",
     "collapsed": false,
     "input": [
      "print nu"
     ],
     "language": "python",
     "metadata": {},
     "outputs": [
      {
       "output_type": "stream",
       "stream": "stdout",
       "text": [
        "[-0.1    -0.0998 -0.0996 -0.0994 -0.0992 -0.099  -0.0988 -0.0986 -0.0984\n",
        " -0.0982 -0.098  -0.0978 -0.0976 -0.0974 -0.0972 -0.097  -0.0968 -0.0966\n",
        " -0.0964 -0.0962 -0.096  -0.0958 -0.0956 -0.0954 -0.0952 -0.095  -0.0948\n",
        " -0.0946 -0.0944 -0.0942 -0.094  -0.0938 -0.0936 -0.0934 -0.0932 -0.093\n",
        " -0.0928 -0.0926 -0.0924 -0.0922 -0.092  -0.0918 -0.0916 -0.0914 -0.0912\n",
        " -0.091  -0.0908 -0.0906 -0.0904 -0.0902 -0.09   -0.0898 -0.0896 -0.0894\n",
        " -0.0892 -0.089  -0.0888 -0.0886 -0.0884 -0.0882 -0.088  -0.0878 -0.0876\n",
        " -0.0874 -0.0872 -0.087  -0.0868 -0.0866 -0.0864 -0.0862 -0.086  -0.0858\n",
        " -0.0856 -0.0854 -0.0852 -0.085  -0.0848 -0.0846 -0.0844 -0.0842 -0.084\n",
        " -0.0838 -0.0836 -0.0834 -0.0832 -0.083  -0.0828 -0.0826 -0.0824 -0.0822\n",
        " -0.082  -0.0818 -0.0816 -0.0814 -0.0812 -0.081  -0.0808 -0.0806 -0.0804\n",
        " -0.0802 -0.08   -0.0798 -0.0796 -0.0794 -0.0792 -0.079  -0.0788 -0.0786\n",
        " -0.0784 -0.0782 -0.078  -0.0778 -0.0776 -0.0774 -0.0772 -0.077  -0.0768\n",
        " -0.0766 -0.0764 -0.0762 -0.076  -0.0758 -0.0756 -0.0754 -0.0752 -0.075\n",
        " -0.0748 -0.0746 -0.0744 -0.0742 -0.074  -0.0738 -0.0736 -0.0734 -0.0732\n",
        " -0.073  -0.0728 -0.0726 -0.0724 -0.0722 -0.072  -0.0718 -0.0716 -0.0714\n",
        " -0.0712 -0.071  -0.0708 -0.0706 -0.0704 -0.0702 -0.07   -0.0698 -0.0696\n",
        " -0.0694 -0.0692 -0.069  -0.0688 -0.0686 -0.0684 -0.0682 -0.068  -0.0678\n",
        " -0.0676 -0.0674 -0.0672 -0.067  -0.0668 -0.0666 -0.0664 -0.0662 -0.066\n",
        " -0.0658 -0.0656 -0.0654 -0.0652 -0.065  -0.0648 -0.0646 -0.0644 -0.0642\n",
        " -0.064  -0.0638 -0.0636 -0.0634 -0.0632 -0.063  -0.0628 -0.0626 -0.0624\n",
        " -0.0622 -0.062  -0.0618 -0.0616 -0.0614 -0.0612 -0.061  -0.0608 -0.0606\n",
        " -0.0604 -0.0602 -0.06   -0.0598 -0.0596 -0.0594 -0.0592 -0.059  -0.0588\n",
        " -0.0586 -0.0584 -0.0582 -0.058  -0.0578 -0.0576 -0.0574 -0.0572 -0.057\n",
        " -0.0568 -0.0566 -0.0564 -0.0562 -0.056  -0.0558 -0.0556 -0.0554 -0.0552\n",
        " -0.055  -0.0548 -0.0546 -0.0544 -0.0542 -0.054  -0.0538 -0.0536 -0.0534\n",
        " -0.0532 -0.053  -0.0528 -0.0526 -0.0524 -0.0522 -0.052  -0.0518 -0.0516\n",
        " -0.0514 -0.0512 -0.051  -0.0508 -0.0506 -0.0504 -0.0502 -0.05   -0.0498\n",
        " -0.0496 -0.0494 -0.0492 -0.049  -0.0488 -0.0486 -0.0484 -0.0482 -0.048\n",
        " -0.0478 -0.0476 -0.0474 -0.0472 -0.047  -0.0468 -0.0466 -0.0464 -0.0462\n",
        " -0.046  -0.0458 -0.0456 -0.0454 -0.0452 -0.045  -0.0448 -0.0446 -0.0444\n",
        " -0.0442 -0.044  -0.0438 -0.0436 -0.0434 -0.0432 -0.043  -0.0428 -0.0426\n",
        " -0.0424 -0.0422 -0.042  -0.0418 -0.0416 -0.0414 -0.0412 -0.041  -0.0408\n",
        " -0.0406 -0.0404 -0.0402 -0.04   -0.0398 -0.0396 -0.0394 -0.0392 -0.039\n",
        " -0.0388 -0.0386 -0.0384 -0.0382 -0.038  -0.0378 -0.0376 -0.0374 -0.0372\n",
        " -0.037  -0.0368 -0.0366 -0.0364 -0.0362 -0.036  -0.0358 -0.0356 -0.0354\n",
        " -0.0352 -0.035  -0.0348 -0.0346 -0.0344 -0.0342 -0.034  -0.0338 -0.0336\n",
        " -0.0334 -0.0332 -0.033  -0.0328 -0.0326 -0.0324 -0.0322 -0.032  -0.0318\n",
        " -0.0316 -0.0314 -0.0312 -0.031  -0.0308 -0.0306 -0.0304 -0.0302 -0.03\n",
        " -0.0298 -0.0296 -0.0294 -0.0292 -0.029  -0.0288 -0.0286 -0.0284 -0.0282\n",
        " -0.028  -0.0278 -0.0276 -0.0274 -0.0272 -0.027  -0.0268 -0.0266 -0.0264\n",
        " -0.0262 -0.026  -0.0258 -0.0256 -0.0254 -0.0252 -0.025  -0.0248 -0.0246\n",
        " -0.0244 -0.0242 -0.024  -0.0238 -0.0236 -0.0234 -0.0232 -0.023  -0.0228\n",
        " -0.0226 -0.0224 -0.0222 -0.022  -0.0218 -0.0216 -0.0214 -0.0212 -0.021\n",
        " -0.0208 -0.0206 -0.0204 -0.0202 -0.02   -0.0198 -0.0196 -0.0194 -0.0192\n",
        " -0.019  -0.0188 -0.0186 -0.0184 -0.0182 -0.018  -0.0178 -0.0176 -0.0174\n",
        " -0.0172 -0.017  -0.0168 -0.0166 -0.0164 -0.0162 -0.016  -0.0158 -0.0156\n",
        " -0.0154 -0.0152 -0.015  -0.0148 -0.0146 -0.0144 -0.0142 -0.014  -0.0138\n",
        " -0.0136 -0.0134 -0.0132 -0.013  -0.0128 -0.0126 -0.0124 -0.0122 -0.012\n",
        " -0.0118 -0.0116 -0.0114 -0.0112 -0.011  -0.0108 -0.0106 -0.0104 -0.0102\n",
        " -0.01   -0.0098 -0.0096 -0.0094 -0.0092 -0.009  -0.0088 -0.0086 -0.0084\n",
        " -0.0082 -0.008  -0.0078 -0.0076 -0.0074 -0.0072 -0.007  -0.0068 -0.0066\n",
        " -0.0064 -0.0062 -0.006  -0.0058 -0.0056 -0.0054 -0.0052 -0.005  -0.0048\n",
        " -0.0046 -0.0044 -0.0042 -0.004  -0.0038 -0.0036 -0.0034 -0.0032 -0.003\n",
        " -0.0028 -0.0026 -0.0024 -0.0022 -0.002  -0.0018 -0.0016 -0.0014 -0.0012\n",
        " -0.001  -0.0008 -0.0006 -0.0004 -0.0002  0.      0.0002  0.0004  0.0006\n",
        "  0.0008  0.001   0.0012  0.0014  0.0016  0.0018  0.002   0.0022  0.0024\n",
        "  0.0026  0.0028  0.003   0.0032  0.0034  0.0036  0.0038  0.004   0.0042\n",
        "  0.0044  0.0046  0.0048  0.005   0.0052  0.0054  0.0056  0.0058  0.006\n",
        "  0.0062  0.0064  0.0066  0.0068  0.007   0.0072  0.0074  0.0076  0.0078\n",
        "  0.008   0.0082  0.0084  0.0086  0.0088  0.009   0.0092  0.0094  0.0096\n",
        "  0.0098  0.01    0.0102  0.0104  0.0106  0.0108  0.011   0.0112  0.0114\n",
        "  0.0116  0.0118  0.012   0.0122  0.0124  0.0126  0.0128  0.013   0.0132\n",
        "  0.0134  0.0136  0.0138  0.014   0.0142  0.0144  0.0146  0.0148  0.015\n",
        "  0.0152  0.0154  0.0156  0.0158  0.016   0.0162  0.0164  0.0166  0.0168\n",
        "  0.017   0.0172  0.0174  0.0176  0.0178  0.018   0.0182  0.0184  0.0186\n",
        "  0.0188  0.019   0.0192  0.0194  0.0196  0.0198  0.02    0.0202  0.0204\n",
        "  0.0206  0.0208  0.021   0.0212  0.0214  0.0216  0.0218  0.022   0.0222\n",
        "  0.0224  0.0226  0.0228  0.023   0.0232  0.0234  0.0236  0.0238  0.024\n",
        "  0.0242  0.0244  0.0246  0.0248  0.025   0.0252  0.0254  0.0256  0.0258\n",
        "  0.026   0.0262  0.0264  0.0266  0.0268  0.027   0.0272  0.0274  0.0276\n",
        "  0.0278  0.028   0.0282  0.0284  0.0286  0.0288  0.029   0.0292  0.0294\n",
        "  0.0296  0.0298  0.03    0.0302  0.0304  0.0306  0.0308  0.031   0.0312\n",
        "  0.0314  0.0316  0.0318  0.032   0.0322  0.0324  0.0326  0.0328  0.033\n",
        "  0.0332  0.0334  0.0336  0.0338  0.034   0.0342  0.0344  0.0346  0.0348\n",
        "  0.035   0.0352  0.0354  0.0356  0.0358  0.036   0.0362  0.0364  0.0366\n",
        "  0.0368  0.037   0.0372  0.0374  0.0376  0.0378  0.038   0.0382  0.0384\n",
        "  0.0386  0.0388  0.039   0.0392  0.0394  0.0396  0.0398  0.04    0.0402\n",
        "  0.0404  0.0406  0.0408  0.041   0.0412  0.0414  0.0416  0.0418  0.042\n",
        "  0.0422  0.0424  0.0426  0.0428  0.043   0.0432  0.0434  0.0436  0.0438\n",
        "  0.044   0.0442  0.0444  0.0446  0.0448  0.045   0.0452  0.0454  0.0456\n",
        "  0.0458  0.046   0.0462  0.0464  0.0466  0.0468  0.047   0.0472  0.0474\n",
        "  0.0476  0.0478  0.048   0.0482  0.0484  0.0486  0.0488  0.049   0.0492\n",
        "  0.0494  0.0496  0.0498  0.05    0.0502  0.0504  0.0506  0.0508  0.051\n",
        "  0.0512  0.0514  0.0516  0.0518  0.052   0.0522  0.0524  0.0526  0.0528\n",
        "  0.053   0.0532  0.0534  0.0536  0.0538  0.054   0.0542  0.0544  0.0546\n",
        "  0.0548  0.055   0.0552  0.0554  0.0556  0.0558  0.056   0.0562  0.0564\n",
        "  0.0566  0.0568  0.057   0.0572  0.0574  0.0576  0.0578  0.058   0.0582\n",
        "  0.0584  0.0586  0.0588  0.059   0.0592  0.0594  0.0596  0.0598  0.06\n",
        "  0.0602  0.0604  0.0606  0.0608  0.061   0.0612  0.0614  0.0616  0.0618\n",
        "  0.062   0.0622  0.0624  0.0626  0.0628  0.063   0.0632  0.0634  0.0636\n",
        "  0.0638  0.064   0.0642  0.0644  0.0646  0.0648  0.065   0.0652  0.0654\n",
        "  0.0656  0.0658  0.066   0.0662  0.0664  0.0666  0.0668  0.067   0.0672\n",
        "  0.0674  0.0676  0.0678  0.068   0.0682  0.0684  0.0686  0.0688  0.069\n",
        "  0.0692  0.0694  0.0696  0.0698  0.07    0.0702  0.0704  0.0706  0.0708\n",
        "  0.071   0.0712  0.0714  0.0716  0.0718  0.072   0.0722  0.0724  0.0726\n",
        "  0.0728  0.073   0.0732  0.0734  0.0736  0.0738  0.074   0.0742  0.0744\n",
        "  0.0746  0.0748  0.075   0.0752  0.0754  0.0756  0.0758  0.076   0.0762\n",
        "  0.0764  0.0766  0.0768  0.077   0.0772  0.0774  0.0776  0.0778  0.078\n",
        "  0.0782  0.0784  0.0786  0.0788  0.079   0.0792  0.0794  0.0796  0.0798\n",
        "  0.08    0.0802  0.0804  0.0806  0.0808  0.081   0.0812  0.0814  0.0816\n",
        "  0.0818  0.082   0.0822  0.0824  0.0826  0.0828  0.083   0.0832  0.0834\n",
        "  0.0836  0.0838  0.084   0.0842  0.0844  0.0846  0.0848  0.085   0.0852\n",
        "  0.0854  0.0856  0.0858  0.086   0.0862  0.0864  0.0866  0.0868  0.087\n",
        "  0.0872  0.0874  0.0876  0.0878  0.088   0.0882  0.0884  0.0886  0.0888\n",
        "  0.089   0.0892  0.0894  0.0896  0.0898  0.09    0.0902  0.0904  0.0906\n",
        "  0.0908  0.091   0.0912  0.0914  0.0916  0.0918  0.092   0.0922  0.0924\n",
        "  0.0926  0.0928  0.093   0.0932  0.0934  0.0936  0.0938  0.094   0.0942\n",
        "  0.0944  0.0946  0.0948  0.095   0.0952  0.0954  0.0956  0.0958  0.096\n",
        "  0.0962  0.0964  0.0966  0.0968  0.097   0.0972  0.0974  0.0976  0.0978\n",
        "  0.098   0.0982  0.0984  0.0986  0.0988  0.099   0.0992  0.0994  0.0996\n",
        "  0.0998]\n"
       ]
      }
     ],
     "prompt_number": 20
    },
    {
     "cell_type": "code",
     "collapsed": false,
     "input": [],
     "language": "python",
     "metadata": {},
     "outputs": []
    }
   ],
   "metadata": {}
  }
 ]
}