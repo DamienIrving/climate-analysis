{
 "metadata": {
  "name": ""
 },
 "nbformat": 3,
 "nbformat_minor": 0,
 "worksheets": [
  {
   "cells": [
    {
     "cell_type": "code",
     "collapsed": false,
     "input": [
      "import pandas"
     ],
     "language": "python",
     "metadata": {},
     "outputs": [],
     "prompt_number": 1
    },
    {
     "cell_type": "code",
     "collapsed": false,
     "input": [
      "data_dir = '/home/dbirving/Documents/Professional/Scientific_computing/git_repo/phd/data/'\n",
      "infile = data_dir+'psa-stats_Merra_250hPa_30day-runmean-anom-wrt-all_y181x360-np20N260E-lon225E335E-mermax-lat10S10N_env-w567-vrot-ampmin6.csv'\n",
      "indata = pandas.read_csv(infile, header=1)"
     ],
     "language": "python",
     "metadata": {},
     "outputs": [],
     "prompt_number": 3
    },
    {
     "cell_type": "code",
     "collapsed": false,
     "input": [
      "indata['extent'].shape"
     ],
     "language": "python",
     "metadata": {},
     "outputs": [
      {
       "metadata": {},
       "output_type": "pyout",
       "prompt_number": 6,
       "text": [
        "(12755,)"
       ]
      }
     ],
     "prompt_number": 6
    },
    {
     "cell_type": "code",
     "collapsed": false,
     "input": [
      "extent_list = indata['extent'][50:110].tolist()\n",
      "print extent_list"
     ],
     "language": "python",
     "metadata": {},
     "outputs": [
      {
       "output_type": "stream",
       "stream": "stdout",
       "text": [
        "[0.0, 0.0, 0.0, 0.0, 33.0, 60.0, 62.0, 50.0, 23.0, 19.0, 33.0, 46.0, 66.0, 80.0, 87.0, 96.0, 102.0, 107.0, 112.0, 111.0, 105.0, 103.0, 109.0, 111.0, 108.0, 104.0, 108.0, 108.0, 104.0, 101.0, 103.0, 114.0, 120.0, 124.0, 125.0, 124.0, 127.0, 127.0, 131.0, 132.0, 133.0, 138.0, 141.0, 140.0, 139.0, 133.0, 119.0, 97.0, 57.0, 0.0, 0.0, 0.0, 0.0, 0.0, 0.0, 0.0, 0.0, 0.0, 0.0, 0.0]\n"
       ]
      }
     ],
     "prompt_number": 12
    },
    {
     "cell_type": "markdown",
     "metadata": {},
     "source": [
      "This was my original grouping code:  \n",
      "```\n",
      "from itertools import groupby  \n",
      "from operator import itemgetter  \n",
      "\n",
      "date_strs = data['date'].tolist()  \n",
      "dates = [datetime.strptime(d, \"%Y-%m-%d\") for d in date_strs]  \n",
      "\n",
      "date_ints = map(lambda x: x.toordinal(), dates)  \n",
      "events = []\n",
      "for k, g in groupby(enumerate(data), lambda (i,x):i-x):  \n",
      "    events.append(map(itemgetter(1), g))  \n",
      "\n",
      "durations = numpy.array(map(len, events))  \n",
      " \n",
      "# Print key stats to screen #  \n",
      "\n",
      "print 'Number of events:', len(durations)  \n",
      "print 'Average duration:', durations.mean()  \n",
      "print 'Maximum duration:', durations.max()  \n",
      "```\n",
      "\n",
      "However it turns out that Pandas has grouping functions: http://pandas.pydata.org/pandas-docs/stable/groupby.html"
     ]
    },
    {
     "cell_type": "code",
     "collapsed": false,
     "input": [
      "type(indata)"
     ],
     "language": "python",
     "metadata": {},
     "outputs": [
      {
       "metadata": {},
       "output_type": "pyout",
       "prompt_number": 15,
       "text": [
        "pandas.core.frame.DataFrame"
       ]
      }
     ],
     "prompt_number": 15
    },
    {
     "cell_type": "code",
     "collapsed": false,
     "input": [
      "print indata"
     ],
     "language": "python",
     "metadata": {},
     "outputs": [
      {
       "output_type": "stream",
       "stream": "stdout",
       "text": [
        "<class 'pandas.core.frame.DataFrame'>\n",
        "Int64Index: 12755 entries, 0 to 12754\n",
        "Data columns (total 7 columns):\n",
        "date           12755  non-null values\n",
        "start-lon      12755  non-null values\n",
        "end-lon        12755  non-null values\n",
        "extent         12755  non-null values\n",
        "amp-mean       12755  non-null values\n",
        "amp-max        12755  non-null values\n",
        "amp-max-lon    12755  non-null values\n",
        "dtypes: float64(6), object(1)\n"
       ]
      }
     ],
     "prompt_number": 16
    },
    {
     "cell_type": "code",
     "collapsed": false,
     "input": [
      "indata['event'] = indata['extent'].map(lambda x: x > 90.0)"
     ],
     "language": "python",
     "metadata": {},
     "outputs": [],
     "prompt_number": 17
    },
    {
     "cell_type": "code",
     "collapsed": false,
     "input": [
      "print indata['event'][50:110].tolist()"
     ],
     "language": "python",
     "metadata": {},
     "outputs": [
      {
       "output_type": "stream",
       "stream": "stdout",
       "text": [
        "[False, False, False, False, False, False, False, False, False, False, False, False, False, False, False, True, True, True, True, True, True, True, True, True, True, True, True, True, True, True, True, True, True, True, True, True, True, True, True, True, True, True, True, True, True, True, True, True, False, False, False, False, False, False, False, False, False, False, False, False]\n"
       ]
      }
     ],
     "prompt_number": 19
    },
    {
     "cell_type": "code",
     "collapsed": false,
     "input": [
      "event_groupings = indata.groupby('event')"
     ],
     "language": "python",
     "metadata": {},
     "outputs": [],
     "prompt_number": 20
    },
    {
     "cell_type": "code",
     "collapsed": false,
     "input": [
      "type(event_groupings)"
     ],
     "language": "python",
     "metadata": {},
     "outputs": [
      {
       "metadata": {},
       "output_type": "pyout",
       "prompt_number": 21,
       "text": [
        "pandas.core.groupby.DataFrameGroupBy"
       ]
      }
     ],
     "prompt_number": 21
    },
    {
     "cell_type": "code",
     "collapsed": false,
     "input": [
      "event_groupings['extent'].describe()"
     ],
     "language": "python",
     "metadata": {},
     "outputs": [
      {
       "metadata": {},
       "output_type": "pyout",
       "prompt_number": 23,
       "text": [
        "event       \n",
        "False  count    10441.000000\n",
        "       mean        11.383967\n",
        "       std         25.063245\n",
        "       min          0.000000\n",
        "       25%          0.000000\n",
        "       50%          0.000000\n",
        "       75%          0.000000\n",
        "       max         90.000000\n",
        "True   count     2314.000000\n",
        "       mean       121.548401\n",
        "       std         20.226293\n",
        "       min         91.000000\n",
        "       25%        105.000000\n",
        "       50%        119.000000\n",
        "       75%        136.000000\n",
        "       max        178.000000\n",
        "dtype: float64"
       ]
      }
     ],
     "prompt_number": 23
    },
    {
     "cell_type": "code",
     "collapsed": false,
     "input": [],
     "language": "python",
     "metadata": {},
     "outputs": []
    }
   ],
   "metadata": {}
  }
 ]
}