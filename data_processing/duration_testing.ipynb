{
 "metadata": {
  "name": ""
 },
 "nbformat": 3,
 "nbformat_minor": 0,
 "worksheets": [
  {
   "cells": [
    {
     "cell_type": "code",
     "collapsed": false,
     "input": [
      "import pandas"
     ],
     "language": "python",
     "metadata": {},
     "outputs": [],
     "prompt_number": 1
    },
    {
     "cell_type": "code",
     "collapsed": false,
     "input": [
      "data_dir_vortex = '/home/dbirving/Documents/Professional/Scientific_computing/git_repo/phd/data/'\n",
      "data_dir_laptop = '/Users/damienirving/Documents/Professional/git_repo/phd/data/'\n",
      "infile = data_dir_laptop+'psa-stats_Merra_250hPa_30day-runmean-anom-wrt-all_y181x360-np20N260E-lon225E335E-mermax-lat10S10N_env-w567-vrot-ampmin6.csv'\n",
      "indata = pandas.read_csv(infile, header=1)"
     ],
     "language": "python",
     "metadata": {},
     "outputs": [],
     "prompt_number": 2
    },
    {
     "cell_type": "code",
     "collapsed": false,
     "input": [
      "indata['extent'].shape"
     ],
     "language": "python",
     "metadata": {},
     "outputs": [
      {
       "metadata": {},
       "output_type": "pyout",
       "prompt_number": 3,
       "text": [
        "(12755,)"
       ]
      }
     ],
     "prompt_number": 3
    },
    {
     "cell_type": "code",
     "collapsed": false,
     "input": [
      "extent_list = indata['extent'][50:110].tolist()\n",
      "print extent_list"
     ],
     "language": "python",
     "metadata": {},
     "outputs": [
      {
       "output_type": "stream",
       "stream": "stdout",
       "text": [
        "[0.0, 0.0, 0.0, 0.0, 33.0, 60.0, 62.0, 50.0, 23.0, 19.0, 33.0, 46.0, 66.0, 80.0, 87.0, 96.0, 102.0, 107.0, 112.0, 111.0, 105.0, 103.0, 109.0, 111.0, 108.0, 104.0, 108.0, 108.0, 104.0, 101.0, 103.0, 114.0, 120.0, 124.0, 125.0, 124.0, 127.0, 127.0, 131.0, 132.0, 133.0, 138.0, 141.0, 140.0, 139.0, 133.0, 119.0, 97.0, 57.0, 0.0, 0.0, 0.0, 0.0, 0.0, 0.0, 0.0, 0.0, 0.0, 0.0, 0.0]\n"
       ]
      }
     ],
     "prompt_number": 4
    },
    {
     "cell_type": "markdown",
     "metadata": {},
     "source": [
      "This was my original grouping code:  \n",
      "```\n",
      "from itertools import groupby  \n",
      "from operator import itemgetter  \n",
      "\n",
      "date_strs = data['date'].tolist()  \n",
      "dates = [datetime.strptime(d, \"%Y-%m-%d\") for d in date_strs]  \n",
      "\n",
      "date_ints = map(lambda x: x.toordinal(), dates)  \n",
      "events = []\n",
      "for k, g in groupby(enumerate(data), lambda (i,x):i-x):  \n",
      "    events.append(map(itemgetter(1), g))  \n",
      "\n",
      "durations = numpy.array(map(len, events))  \n",
      " \n",
      "# Print key stats to screen #  \n",
      "\n",
      "print 'Number of events:', len(durations)  \n",
      "print 'Average duration:', durations.mean()  \n",
      "print 'Maximum duration:', durations.max()  \n",
      "```\n",
      "\n",
      "However it turns out that Pandas has grouping functions: http://pandas.pydata.org/pandas-docs/stable/groupby.html"
     ]
    },
    {
     "cell_type": "code",
     "collapsed": false,
     "input": [
      "type(indata)"
     ],
     "language": "python",
     "metadata": {},
     "outputs": [
      {
       "metadata": {},
       "output_type": "pyout",
       "prompt_number": 5,
       "text": [
        "pandas.core.frame.DataFrame"
       ]
      }
     ],
     "prompt_number": 5
    },
    {
     "cell_type": "code",
     "collapsed": false,
     "input": [
      "print indata"
     ],
     "language": "python",
     "metadata": {},
     "outputs": [
      {
       "output_type": "stream",
       "stream": "stdout",
       "text": [
        "         date  start-lon  end-lon  extent  amp-mean  amp-max  amp-max-lon\n",
        "0   1979-1-16          0        0       0  0.000000  0.00000            0\n",
        "1   1979-1-17          0        0       0  0.000000  0.00000            0\n",
        "2   1979-1-18          0        0       0  0.000000  0.00000            0\n",
        "3   1979-1-19          0        0       0  0.000000  0.00000            0\n",
        "4   1979-1-20          0        0       0  0.000000  0.00000            0\n",
        "5   1979-1-21          0        0       0  0.000000  0.00000            0\n",
        "6   1979-1-22          0        0       0  0.000000  0.00000            0\n",
        "7   1979-1-23          0        0       0  0.000000  0.00000            0\n",
        "8   1979-1-24          0        0       0  0.000000  0.00000            0\n",
        "9   1979-1-25          0        0       0  0.000000  0.00000            0\n",
        "10  1979-1-26          0        0       0  0.000000  0.00000            0\n",
        "11  1979-1-27          0        0       0  0.000000  0.00000            0\n",
        "12  1979-1-28          0        0       0  0.000000  0.00000            0\n",
        "13  1979-1-29          0        0       0  0.000000  0.00000            0\n",
        "14  1979-1-30          0        0       0  0.000000  0.00000            0\n",
        "15  1979-1-31          0        0       0  0.000000  0.00000            0\n",
        "16   1979-2-1          0        0       0  0.000000  0.00000            0\n",
        "17   1979-2-2          0        0       0  0.000000  0.00000            0\n",
        "18   1979-2-3          0        0       0  0.000000  0.00000            0\n",
        "19   1979-2-4          0        0       0  0.000000  0.00000            0\n",
        "20   1979-2-5          0        0       0  0.000000  0.00000            0\n",
        "21   1979-2-6          0        0       0  0.000000  0.00000            0\n",
        "22   1979-2-7          0        0       0  0.000000  0.00000            0\n",
        "23   1979-2-8          0        0       0  0.000000  0.00000            0\n",
        "24   1979-2-9          0        0       0  0.000000  0.00000            0\n",
        "25  1979-2-10          0        0       0  0.000000  0.00000            0\n",
        "26  1979-2-11          0        0       0  0.000000  0.00000            0\n",
        "27  1979-2-12          0        0       0  0.000000  0.00000            0\n",
        "28  1979-2-13          0        0       0  0.000000  0.00000            0\n",
        "29  1979-2-14          0        0       0  0.000000  0.00000            0\n",
        "30  1979-2-15          0        0       0  0.000000  0.00000            0\n",
        "31  1979-2-16          0        0       0  0.000000  0.00000            0\n",
        "32  1979-2-17          0        0       0  0.000000  0.00000            0\n",
        "33  1979-2-18          0        0       0  0.000000  0.00000            0\n",
        "34  1979-2-19          0        0       0  0.000000  0.00000            0\n",
        "35  1979-2-20          0        0       0  0.000000  0.00000            0\n",
        "36  1979-2-21          0        0       0  0.000000  0.00000            0\n",
        "37  1979-2-22          0        0       0  0.000000  0.00000            0\n",
        "38  1979-2-23          0        0       0  0.000000  0.00000            0\n",
        "39  1979-2-24          0        0       0  0.000000  0.00000            0\n",
        "40  1979-2-25          0        0       0  0.000000  0.00000            0\n",
        "41  1979-2-26          0        0       0  0.000000  0.00000            0\n",
        "42  1979-2-27          0        0       0  0.000000  0.00000            0\n",
        "43  1979-2-28          0        0       0  0.000000  0.00000            0\n",
        "44   1979-3-1          0        0       0  0.000000  0.00000            0\n",
        "45   1979-3-2          0        0       0  0.000000  0.00000            0\n",
        "46   1979-3-3          0        0       0  0.000000  0.00000            0\n",
        "47   1979-3-4          0        0       0  0.000000  0.00000            0\n",
        "48   1979-3-5          0        0       0  0.000000  0.00000            0\n",
        "49   1979-3-6          0        0       0  0.000000  0.00000            0\n",
        "50   1979-3-7          0        0       0  0.000000  0.00000            0\n",
        "51   1979-3-8          0        0       0  0.000000  0.00000            0\n",
        "52   1979-3-9          0        0       0  0.000000  0.00000            0\n",
        "53  1979-3-10          0        0       0  0.000000  0.00000            0\n",
        "54  1979-3-11        259      291      33  6.093057  6.14129          274\n",
        "55  1979-3-12        249      308      60  6.348589  6.52354          278\n",
        "56  1979-3-13        251      312      62  6.375267  6.56503          281\n",
        "57  1979-3-14        261      310      50  6.233549  6.35143          285\n",
        "58  1979-3-15        278      300      23  6.048996  6.07362          288\n",
        "59  1979-3-16        280      298      19  6.032539  6.04946          289\n",
        "          ...        ...      ...     ...       ...      ...          ...\n",
        "\n",
        "[12755 rows x 7 columns]\n"
       ]
      }
     ],
     "prompt_number": 6
    },
    {
     "cell_type": "code",
     "collapsed": false,
     "input": [
      "indata['event'] = indata['extent'].map(lambda x: x > 90.0)"
     ],
     "language": "python",
     "metadata": {},
     "outputs": [],
     "prompt_number": 7
    },
    {
     "cell_type": "code",
     "collapsed": false,
     "input": [
      "print indata['event'][50:110].tolist()"
     ],
     "language": "python",
     "metadata": {},
     "outputs": [
      {
       "output_type": "stream",
       "stream": "stdout",
       "text": [
        "[False, False, False, False, False, False, False, False, False, False, False, False, False, False, False, True, True, True, True, True, True, True, True, True, True, True, True, True, True, True, True, True, True, True, True, True, True, True, True, True, True, True, True, True, True, True, True, True, False, False, False, False, False, False, False, False, False, False, False, False]\n"
       ]
      }
     ],
     "prompt_number": 8
    },
    {
     "cell_type": "code",
     "collapsed": false,
     "input": [
      "event_groupings = indata.groupby('event')"
     ],
     "language": "python",
     "metadata": {},
     "outputs": [],
     "prompt_number": 9
    },
    {
     "cell_type": "code",
     "collapsed": false,
     "input": [
      "type(event_groupings)"
     ],
     "language": "python",
     "metadata": {},
     "outputs": [
      {
       "metadata": {},
       "output_type": "pyout",
       "prompt_number": 10,
       "text": [
        "pandas.core.groupby.DataFrameGroupBy"
       ]
      }
     ],
     "prompt_number": 10
    },
    {
     "cell_type": "code",
     "collapsed": false,
     "input": [
      "event_groupings['extent'].describe()"
     ],
     "language": "python",
     "metadata": {},
     "outputs": [
      {
       "metadata": {},
       "output_type": "pyout",
       "prompt_number": 11,
       "text": [
        "event       \n",
        "False  count    10441.000000\n",
        "       mean        11.383967\n",
        "       std         25.063245\n",
        "       min          0.000000\n",
        "       25%          0.000000\n",
        "       50%          0.000000\n",
        "       75%          0.000000\n",
        "       max         90.000000\n",
        "True   count     2314.000000\n",
        "       mean       121.548401\n",
        "       std         20.226293\n",
        "       min         91.000000\n",
        "       25%        105.000000\n",
        "       50%        119.000000\n",
        "       75%        136.000000\n",
        "       max        178.000000\n",
        "dtype: float64"
       ]
      }
     ],
     "prompt_number": 11
    },
    {
     "cell_type": "code",
     "collapsed": false,
     "input": [
      "from itertools import groupby\n",
      "L = [0, 0, 0, 3, 3, 2, 5, 2, 6, 6]\n",
      "grouped_L = [(k, sum(1 for i in g)) for k,g in groupby(L)]\n",
      "# Or (k, len(list(g))), but that creates an intermediate list\n",
      "print grouped_L\n"
     ],
     "language": "python",
     "metadata": {},
     "outputs": [
      {
       "output_type": "stream",
       "stream": "stdout",
       "text": [
        "[(0, 3), (3, 2), (2, 1), (5, 1), (2, 1), (6, 2)]\n"
       ]
      }
     ],
     "prompt_number": 12
    },
    {
     "cell_type": "code",
     "collapsed": false,
     "input": [
      "event_list = indata['event'].tolist()\n",
      "grouped_events = [(k, sum(1 for i in g)) for k,g in groupby(event_list)]\n",
      "print grouped_events\n",
      "\n",
      "\n"
     ],
     "language": "python",
     "metadata": {},
     "outputs": [
      {
       "output_type": "stream",
       "stream": "stdout",
       "text": [
        "[(False, 65), (True, 33), (False, 18), (True, 12), (False, 70), (True, 3), (False, 30), (True, 4), (False, 180), (True, 10), (False, 5), (True, 40), (False, 76), (True, 32), (False, 206), (True, 16), (False, 52), (True, 2), (False, 32), (True, 17), (False, 71), (True, 18), (False, 32), (True, 10), (False, 109), (True, 23), (False, 13), (True, 29), (False, 48), (True, 6), (False, 104), (True, 14), (False, 12), (True, 3), (False, 1), (True, 2), (False, 60), (True, 52), (False, 43), (True, 11), (False, 33), (True, 1), (False, 50), (True, 10), (False, 7), (True, 5), (False, 17), (True, 4), (False, 47), (True, 27), (False, 11), (True, 3), (False, 108), (True, 1), (False, 49), (True, 22), (False, 85), (True, 35), (False, 72), (True, 29), (False, 79), (True, 3), (False, 171), (True, 3), (False, 239), (True, 59), (False, 15), (True, 2), (False, 99), (True, 10), (False, 2), (True, 9), (False, 3), (True, 2), (False, 170), (True, 4), (False, 41), (True, 16), (False, 59), (True, 16), (False, 40), (True, 11), (False, 53), (True, 5), (False, 6), (True, 4), (False, 31), (True, 4), (False, 48), (True, 3), (False, 11), (True, 34), (False, 67), (True, 6), (False, 9), (True, 2), (False, 225), (True, 2), (False, 27), (True, 18), (False, 22), (True, 40), (False, 8), (True, 9), (False, 37), (True, 4), (False, 70), (True, 11), (False, 113), (True, 21), (False, 46), (True, 21), (False, 307), (True, 34), (False, 176), (True, 19), (False, 37), (True, 17), (False, 1), (True, 11), (False, 1), (True, 25), (False, 42), (True, 12), (False, 17), (True, 11), (False, 7), (True, 18), (False, 55), (True, 3), (False, 75), (True, 11), (False, 225), (True, 10), (False, 287), (True, 4), (False, 7), (True, 15), (False, 37), (True, 2), (False, 59), (True, 38), (False, 132), (True, 9), (False, 44), (True, 6), (False, 52), (True, 62), (False, 284), (True, 12), (False, 22), (True, 10), (False, 69), (True, 17), (False, 38), (True, 11), (False, 139), (True, 16), (False, 57), (True, 3), (False, 25), (True, 5), (False, 50), (True, 6), (False, 7), (True, 7), (False, 15), (True, 7), (False, 7), (True, 31), (False, 10), (True, 2), (False, 9), (True, 5), (False, 32), (True, 14), (False, 88), (True, 40), (False, 4), (True, 33), (False, 219), (True, 3), (False, 74), (True, 19), (False, 145), (True, 19), (False, 12), (True, 2), (False, 20), (True, 6), (False, 183), (True, 18), (False, 28), (True, 2), (False, 13), (True, 7), (False, 173), (True, 13), (False, 80), (True, 4), (False, 45), (True, 5), (False, 22), (True, 18), (False, 21), (True, 39), (False, 25), (True, 42), (False, 59), (True, 18), (False, 37), (True, 58), (False, 102), (True, 39), (False, 139), (True, 8), (False, 115), (True, 8), (False, 13), (True, 3), (False, 86), (True, 20), (False, 32), (True, 7), (False, 24), (True, 7), (False, 86), (True, 5), (False, 3), (True, 2), (False, 61), (True, 20), (False, 283), (True, 9), (False, 91), (True, 2), (False, 53), (True, 9), (False, 35), (True, 6), (False, 46), (True, 1), (False, 65), (True, 9), (False, 8), (True, 35), (False, 63), (True, 26), (False, 13), (True, 2), (False, 93), (True, 15), (False, 52), (True, 27), (False, 100), (True, 34), (False, 95), (True, 14), (False, 299), (True, 18), (False, 56), (True, 21), (False, 146), (True, 13), (False, 44), (True, 23), (False, 80), (True, 3), (False, 6), (True, 37), (False, 71), (True, 6), (False, 96), (True, 29), (False, 13), (True, 7), (False, 29), (True, 9), (False, 57), (True, 38), (False, 85), (True, 26), (False, 68), (True, 15), (False, 50), (True, 30), (False, 63), (True, 17), (False, 37), (True, 6), (False, 36), (True, 24), (False, 73), (True, 2), (False, 27), (True, 4), (False, 15), (True, 3), (False, 58), (True, 4), (False, 55), (True, 6), (False, 38), (True, 22), (False, 68), (True, 24), (False, 4), (True, 27), (False, 239)]\n"
       ]
      }
     ],
     "prompt_number": 13
    },
    {
     "cell_type": "code",
     "collapsed": false,
     "input": [
      "test = []\n",
      "new = [65] * 12755\n",
      "indata['test'] = new\n",
      "#print indata"
     ],
     "language": "python",
     "metadata": {},
     "outputs": [],
     "prompt_number": 19
    },
    {
     "cell_type": "code",
     "collapsed": false,
     "input": [
      "import numpy\n",
      "duration = []\n",
      "for event in grouped_events:\n",
      "    if event[0]:\n",
      "        data = [event[1]] * event[1]\n",
      "    else:\n",
      "        data = [0] * event[1]\n",
      "    duration.append(data)\n",
      "\n",
      "\n",
      "import operator\n",
      "hello = reduce(operator.add, duration)  \n",
      "#print hello    \n",
      "#indata['duration'] = numpy.flatten(duration)\n",
      "#print indata['duration'].shape\n",
      "    "
     ],
     "language": "python",
     "metadata": {},
     "outputs": [],
     "prompt_number": 32
    },
    {
     "cell_type": "code",
     "collapsed": false,
     "input": [
      "len(hello)"
     ],
     "language": "python",
     "metadata": {},
     "outputs": [
      {
       "metadata": {},
       "output_type": "pyout",
       "prompt_number": 30,
       "text": [
        "12755"
       ]
      }
     ],
     "prompt_number": 30
    },
    {
     "cell_type": "code",
     "collapsed": false,
     "input": [
      "indata['extent'].mean()"
     ],
     "language": "python",
     "metadata": {},
     "outputs": [
      {
       "metadata": {},
       "output_type": "pyout",
       "prompt_number": 34,
       "text": [
        "31.369894159153272"
       ]
      }
     ],
     "prompt_number": 34
    },
    {
     "cell_type": "code",
     "collapsed": false,
     "input": [],
     "language": "python",
     "metadata": {},
     "outputs": []
    }
   ],
   "metadata": {}
  }
 ]
}